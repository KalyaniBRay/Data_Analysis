{
  "nbformat": 4,
  "nbformat_minor": 0,
  "metadata": {
    "colab": {
      "name": "Python_Colab.ipynb",
      "provenance": [],
      "collapsed_sections": []
    },
    "kernelspec": {
      "name": "python3",
      "display_name": "Python 3"
    },
    "language_info": {
      "name": "python"
    }
  },
  "cells": [
    {
      "cell_type": "markdown",
      "metadata": {
        "id": "2fhroO5AP-VM"
      },
      "source": [
        "# Python\n",
        "\n",
        "Python is an interpreted, user-friendly, object-oriented, interactive, high level, platform-independent programming language.\n",
        "\n",
        "Invented by Guido Van Rossum (Netherlands).\n",
        "Nomenclature came from his popular television show \"Monty Python's flying circus\"\n",
        "\n",
        "## Striking features of Python:\n",
        "\n",
        "1. No need to declare variables (auto type casting)\n",
        "2. No statement terminator (e.g. ;)\n",
        "3. No curly braces in condition checking or looping constructs\n",
        "4. Emphasises a lot on indentation\n",
        "5. Same functionaility can be achieved in many different ways.\n",
        "6. Condition/Looping constructs end with colon (:)\n",
        "\n",
        "## Python Learning Tools\n",
        "1. IDLE\n",
        "2. Google Colab\n",
        "3. Jupyter notebook (Mostly used for Data Science)\n",
        "4. Sublime Text \n",
        "5. PyCharm\n",
        "6. Visual Studio\n"
      ]
    },
    {
      "cell_type": "code",
      "metadata": {
        "colab": {
          "base_uri": "https://localhost:8080/"
        },
        "id": "zbYeT12bNPF5",
        "outputId": "24eb2699-b553-4cb3-ee6e-fd79331a8c5d"
      },
      "source": [
        "print(\"Hello World\")"
      ],
      "execution_count": null,
      "outputs": [
        {
          "output_type": "stream",
          "text": [
            "Hello World\n"
          ],
          "name": "stdout"
        }
      ]
    },
    {
      "cell_type": "markdown",
      "metadata": {
        "id": "JzrSv5sIa_bQ"
      },
      "source": [
        "## Python Keywords\n",
        "(Reserved words which cant be used as variable names)\n",
        "1. if\n",
        "2. else\n",
        "3. and\n",
        "4. or\n",
        "5. exec\n",
        "6. finally\n",
        "7. try\n",
        "8. catch\n",
        "9. for\n",
        "10. while\n",
        "11. continue\n",
        "12. break\n",
        "13. pass\n",
        "14. yield\n",
        "15. with\n",
        "16. import\n",
        "17. def\n",
        "18. class\n",
        "19. raise\n",
        "20. print\n",
        "21. elif\n",
        "22. assert\n",
        "23. global\n",
        "etc.\n",
        "\n",
        "\n"
      ]
    },
    {
      "cell_type": "code",
      "metadata": {
        "colab": {
          "base_uri": "https://localhost:8080/"
        },
        "id": "Xf6ablvsbqx-",
        "outputId": "db72a7fa-2580-4987-af3c-b06fd6bf8a17"
      },
      "source": [
        "if (True):\n",
        "  for j in range(1,5):\n",
        "    if 2 < 1:\n",
        "      ...\n",
        "    else:\n",
        "      ...\n",
        "else:\n",
        "  print(\"Not the right way to interpret!\")\n",
        "  print(\"1\")"
      ],
      "execution_count": null,
      "outputs": [
        {
          "output_type": "stream",
          "name": "stdout",
          "text": [
            "I am always true.\n"
          ]
        }
      ]
    },
    {
      "cell_type": "markdown",
      "metadata": {
        "id": "NgBATO39jo2t"
      },
      "source": [
        "## Accepting user input"
      ]
    },
    {
      "cell_type": "code",
      "metadata": {
        "colab": {
          "base_uri": "https://localhost:8080/"
        },
        "id": "DZhIKLZ5jq66",
        "outputId": "b5c8a2d0-071e-49fe-b6da-060e48e5bb40"
      },
      "source": [
        "n = float(input(\"Enter a number:\"))\n",
        "print(f\"Thanks! You entered : {n} & its datatype is {type(n)} and is stored in : {id(n)}\")"
      ],
      "execution_count": null,
      "outputs": [
        {
          "output_type": "stream",
          "name": "stdout",
          "text": [
            "Enter a number:100\n",
            "Thanks! You entered : 100 & its datatype is <class 'str'> and is stored in : 139767619045168\n"
          ]
        }
      ]
    },
    {
      "cell_type": "code",
      "metadata": {
        "colab": {
          "base_uri": "https://localhost:8080/"
        },
        "id": "RKQZwiI7lhBi",
        "outputId": "7c2b9f44-13cb-41f5-d510-f9b6e424959f"
      },
      "source": [
        "x = 100\n",
        "y = 12.34\n",
        "print(\"x = %d y = %f\" %(x,y))"
      ],
      "execution_count": null,
      "outputs": [
        {
          "output_type": "stream",
          "name": "stdout",
          "text": [
            "x = 100 y = 12.340000\n"
          ]
        }
      ]
    },
    {
      "cell_type": "code",
      "metadata": {
        "colab": {
          "base_uri": "https://localhost:8080/"
        },
        "id": "baVrtbbcXavF",
        "outputId": "3db146a8-fb0c-4e0a-ee53-d99b578709c8"
      },
      "source": [
        "x = 1\n",
        "y = 2\n",
        "print(\"x = \",x, \" y = \", y)"
      ],
      "execution_count": null,
      "outputs": [
        {
          "output_type": "stream",
          "name": "stdout",
          "text": [
            "x =  1  y= 2\n"
          ]
        }
      ]
    },
    {
      "cell_type": "markdown",
      "metadata": {
        "id": "qqGHztIvfs5a"
      },
      "source": [
        "## Variable Types\n",
        "\n",
        "Basic data types:\n",
        "1. Numbers\n",
        "2. String\n",
        "3. Tuple\n",
        "4. List\n",
        "5. Dictionary\n",
        "\n"
      ]
    },
    {
      "cell_type": "code",
      "metadata": {
        "colab": {
          "base_uri": "https://localhost:8080/"
        },
        "id": "Vm_WrvM4fvjG",
        "outputId": "f069202d-ecaf-47b3-b0c7-f7b82cfaaf53"
      },
      "source": [
        "n = 1001 # Integer\n",
        "p = 3.1415 #Float/Decimal\n",
        "name = 'Dipen' #String\n",
        "val = True #Boolean\n",
        "\n",
        "print(f\"n : {n} Type : {type(n)}\")\n",
        "print(f\"p : {p} Type : {type(p)}\")\n",
        "print(f\"name : {name} Type : {type(name)}\")\n",
        "print(f\"val : {val} Type : {type(val)}\")\n"
      ],
      "execution_count": null,
      "outputs": [
        {
          "output_type": "stream",
          "text": [
            "n : 1001 Type : <class 'int'>\n",
            "p : 3.1415 Type : <class 'float'>\n",
            "name : Dipen Type : <class 'str'>\n",
            "val : True Type : <class 'bool'>\n"
          ],
          "name": "stdout"
        }
      ]
    },
    {
      "cell_type": "code",
      "metadata": {
        "colab": {
          "base_uri": "https://localhost:8080/"
        },
        "id": "zahZYaNpiZw1",
        "outputId": "9b08f1bb-7c4e-49a6-a934-678e058fabe2"
      },
      "source": [
        "c1 = 2+3j\n",
        "c2 = -3-5j\n",
        "print(c1 + c2)"
      ],
      "execution_count": null,
      "outputs": [
        {
          "output_type": "stream",
          "text": [
            "(-1-2j)\n"
          ],
          "name": "stdout"
        }
      ]
    },
    {
      "cell_type": "code",
      "metadata": {
        "colab": {
          "base_uri": "https://localhost:8080/"
        },
        "id": "rifhpixKitLL",
        "outputId": "636262f6-791b-4591-e641-79e4565c6e56"
      },
      "source": [
        "light_speed = 3e8\n",
        "light_speed"
      ],
      "execution_count": null,
      "outputs": [
        {
          "output_type": "execute_result",
          "data": {
            "text/plain": [
              "300000000.0"
            ]
          },
          "metadata": {},
          "execution_count": 13
        }
      ]
    },
    {
      "cell_type": "code",
      "metadata": {
        "colab": {
          "base_uri": "https://localhost:8080/"
        },
        "id": "TRFwknzVjdIX",
        "outputId": "96b3cc81-1024-43ee-91b0-caa74d1c6c4d"
      },
      "source": [
        "x = 2**140\n",
        "type(x)"
      ],
      "execution_count": null,
      "outputs": [
        {
          "output_type": "execute_result",
          "data": {
            "text/plain": [
              "int"
            ]
          },
          "metadata": {},
          "execution_count": 9
        }
      ]
    },
    {
      "cell_type": "code",
      "metadata": {
        "colab": {
          "base_uri": "https://localhost:8080/"
        },
        "id": "aWj5vv6NjypX",
        "outputId": "5f0271e5-cab2-4af2-f809-616aa241f702"
      },
      "source": [
        "name = 'Kalyani'\n",
        "name = \"Kalyani\"\n",
        "name = '''Kalyani'''\n",
        "name = \"\"\"Kalyani\"\"\"\n",
        "\n",
        "sentence = 'India\\'s currency is INR'\n",
        "print(sentence)"
      ],
      "execution_count": null,
      "outputs": [
        {
          "output_type": "stream",
          "name": "stdout",
          "text": [
            "India's currency is INR\n"
          ]
        }
      ]
    },
    {
      "cell_type": "code",
      "metadata": {
        "colab": {
          "base_uri": "https://localhost:8080/"
        },
        "id": "LsBsN4eOZguS",
        "outputId": "7f697a11-d618-462f-8e6b-be4e4a98867e"
      },
      "source": [
        "poem = '''Miles to go before\n",
        "I sleep'''\n",
        "\n",
        "print(poem)"
      ],
      "execution_count": null,
      "outputs": [
        {
          "output_type": "stream",
          "name": "stdout",
          "text": [
            "Miles to go before\n",
            "I sleep\n"
          ]
        }
      ]
    },
    {
      "cell_type": "markdown",
      "metadata": {
        "id": "GvoIUtL8gfhm"
      },
      "source": [
        "### Multiple Assignment"
      ]
    },
    {
      "cell_type": "code",
      "metadata": {
        "colab": {
          "base_uri": "https://localhost:8080/"
        },
        "id": "INsoRhTQgV-l",
        "outputId": "bcc5e444-3ba8-416f-db84-89269b2313f8"
      },
      "source": [
        "x = y = z = 100\n",
        "print(x, y, z)"
      ],
      "execution_count": null,
      "outputs": [
        {
          "output_type": "stream",
          "text": [
            "100 100 100\n"
          ],
          "name": "stdout"
        }
      ]
    },
    {
      "cell_type": "code",
      "metadata": {
        "colab": {
          "base_uri": "https://localhost:8080/"
        },
        "id": "29KkhpOcgjhk",
        "outputId": "76defab3-80a9-4aa0-d97e-2cee460d4756"
      },
      "source": [
        "n, p, name = 'India', 2.7182818284590, 555\n",
        "print(name, p)"
      ],
      "execution_count": null,
      "outputs": [
        {
          "output_type": "stream",
          "name": "stdout",
          "text": [
            "555 2.718281828459\n"
          ]
        }
      ]
    },
    {
      "cell_type": "markdown",
      "metadata": {
        "id": "q2OGlxQXg1d7"
      },
      "source": [
        "### Tuple, List, Dictionary\n",
        "\n",
        "Identification Sign:\n",
        "\n",
        "\n",
        "* Tuple ()\n",
        "* List []\n",
        "* Dictionary {}\n",
        "\n"
      ]
    },
    {
      "cell_type": "code",
      "metadata": {
        "id": "MPWhpI-mhEI4"
      },
      "source": [
        "planets =  ('Mer', 'Ven', 'Ear', 'Mars', 'Jup', 'Sat', 'Eur', 'Nep')"
      ],
      "execution_count": null,
      "outputs": []
    },
    {
      "cell_type": "code",
      "metadata": {
        "colab": {
          "base_uri": "https://localhost:8080/"
        },
        "id": "IGeecKhthqyF",
        "outputId": "1d6cd6da-608b-427f-b42d-dcc8d95de504"
      },
      "source": [
        "planets"
      ],
      "execution_count": null,
      "outputs": [
        {
          "output_type": "execute_result",
          "data": {
            "text/plain": [
              "('Mer', 'Ven', 'Ear', 'Mars', 'Jup', 'Sat', 'Eur', 'Nep')"
            ]
          },
          "metadata": {},
          "execution_count": 8
        }
      ]
    },
    {
      "cell_type": "code",
      "metadata": {
        "colab": {
          "base_uri": "https://localhost:8080/"
        },
        "id": "SdsKwHiuhspD",
        "outputId": "8878428e-927e-4a53-f602-7cd91aa19358"
      },
      "source": [
        "cricketers = ['Virat', 'Suresh', 'Rohit', 'Rishabh']\n",
        "cricketers"
      ],
      "execution_count": null,
      "outputs": [
        {
          "output_type": "execute_result",
          "data": {
            "text/plain": [
              "['Virat', 'Suresh', 'Rohit', 'Rishabh']"
            ]
          },
          "metadata": {},
          "execution_count": 9
        }
      ]
    },
    {
      "cell_type": "code",
      "metadata": {
        "id": "qQp1E74Ah2zf"
      },
      "source": [
        "capital = {'WB' : 'Kolkata', 'Bihar' : 'Patna', 'Jharkhand' : 'Ranchi', 'Punjab' : 'Chandigarh', 'Haryana' : 'Chandigarh' }"
      ],
      "execution_count": null,
      "outputs": []
    },
    {
      "cell_type": "code",
      "metadata": {
        "colab": {
          "base_uri": "https://localhost:8080/"
        },
        "id": "1dlNyGmqiOuh",
        "outputId": "9000d04e-f7f8-4e94-fb4b-a3689f4a3070"
      },
      "source": [
        "capital"
      ],
      "execution_count": null,
      "outputs": [
        {
          "output_type": "execute_result",
          "data": {
            "text/plain": [
              "{'Bihar': 'Patna',\n",
              " 'Haryana': 'Chandigarh',\n",
              " 'Jharkhand': 'Ranchi',\n",
              " 'Punjab': 'Chandigarh',\n",
              " 'WB': 'Charnock City'}"
            ]
          },
          "metadata": {},
          "execution_count": 22
        }
      ]
    },
    {
      "cell_type": "code",
      "metadata": {
        "id": "zmLAxcDRIQGa"
      },
      "source": [
        "sentence = \"Python is an interpreted high-level general-purpose programming language. Its design philosophy emphasizes code readability with its use of significant indentation. Its language constructs as well as its object-oriented approach aim to help programmers write clear, logical code for small and large-scale projects\"\n"
      ],
      "execution_count": null,
      "outputs": []
    },
    {
      "cell_type": "code",
      "metadata": {
        "colab": {
          "base_uri": "https://localhost:8080/"
        },
        "id": "gygAYG58IdOX",
        "outputId": "088c0114-e22e-4fa8-dd32-18757790c1f9"
      },
      "source": [
        "sentence.count('o')"
      ],
      "execution_count": null,
      "outputs": [
        {
          "output_type": "execute_result",
          "data": {
            "text/plain": [
              "18"
            ]
          },
          "metadata": {},
          "execution_count": 3
        }
      ]
    },
    {
      "cell_type": "code",
      "metadata": {
        "colab": {
          "base_uri": "https://localhost:8080/"
        },
        "id": "qnONkMXXIjcP",
        "outputId": "efb34072-9690-48ce-e989-a68ea935fca0"
      },
      "source": [
        "sentence.find('o')"
      ],
      "execution_count": null,
      "outputs": [
        {
          "output_type": "execute_result",
          "data": {
            "text/plain": [
              "4"
            ]
          },
          "metadata": {},
          "execution_count": 27
        }
      ]
    },
    {
      "cell_type": "code",
      "metadata": {
        "colab": {
          "base_uri": "https://localhost:8080/",
          "height": 35
        },
        "id": "qKmzm0FnI895",
        "outputId": "dc28b368-fd49-4902-cc05-d6a5cdd7fb26"
      },
      "source": [
        "name = \"Saptarishi\"\n",
        "name[::-1]"
      ],
      "execution_count": null,
      "outputs": [
        {
          "output_type": "execute_result",
          "data": {
            "application/vnd.google.colaboratory.intrinsic+json": {
              "type": "string"
            },
            "text/plain": [
              "'ihsiratpaS'"
            ]
          },
          "metadata": {},
          "execution_count": 34
        }
      ]
    },
    {
      "cell_type": "code",
      "metadata": {
        "colab": {
          "base_uri": "https://localhost:8080/"
        },
        "id": "WAnSDuuVJUN9",
        "outputId": "3ced6401-e4b1-4f5b-ddf5-49fb134cd419"
      },
      "source": [
        "print(name[2])\n",
        "print(name[3], name[4])"
      ],
      "execution_count": null,
      "outputs": [
        {
          "output_type": "stream",
          "text": [
            "p\n",
            "t a\n"
          ],
          "name": "stdout"
        }
      ]
    },
    {
      "cell_type": "code",
      "metadata": {
        "colab": {
          "base_uri": "https://localhost:8080/",
          "height": 35
        },
        "id": "3_Ce0LJJJXe9",
        "outputId": "d405a7ff-c38e-4508-eaf6-c28832eb3b7e"
      },
      "source": [
        "name[5:7]          # a<= x < b"
      ],
      "execution_count": null,
      "outputs": [
        {
          "output_type": "execute_result",
          "data": {
            "application/vnd.google.colaboratory.intrinsic+json": {
              "type": "string"
            },
            "text/plain": [
              "'ri'"
            ]
          },
          "metadata": {},
          "execution_count": 16
        }
      ]
    },
    {
      "cell_type": "code",
      "metadata": {
        "colab": {
          "base_uri": "https://localhost:8080/",
          "height": 35
        },
        "id": "5ZG4Ix_UJjgl",
        "outputId": "1bb2459b-4bdb-478f-b619-3acc89eecce1"
      },
      "source": [
        "name[-5:-1]"
      ],
      "execution_count": null,
      "outputs": [
        {
          "output_type": "execute_result",
          "data": {
            "application/vnd.google.colaboratory.intrinsic+json": {
              "type": "string"
            },
            "text/plain": [
              "'rish'"
            ]
          },
          "metadata": {},
          "execution_count": 17
        }
      ]
    },
    {
      "cell_type": "code",
      "metadata": {
        "colab": {
          "base_uri": "https://localhost:8080/",
          "height": 35
        },
        "id": "B0fsLy8_Kt6J",
        "outputId": "74b556b7-ba12-45b2-ee8c-46f7952f610a"
      },
      "source": [
        "name * 5"
      ],
      "execution_count": null,
      "outputs": [
        {
          "output_type": "execute_result",
          "data": {
            "application/vnd.google.colaboratory.intrinsic+json": {
              "type": "string"
            },
            "text/plain": [
              "'SaptarishiSaptarishiSaptarishiSaptarishiSaptarishi'"
            ]
          },
          "metadata": {},
          "execution_count": 2
        }
      ]
    },
    {
      "cell_type": "code",
      "metadata": {
        "colab": {
          "base_uri": "https://localhost:8080/"
        },
        "id": "0d1KLztkMEBV",
        "outputId": "934a9382-57ea-427f-830b-6886e1300809"
      },
      "source": [
        "name = \"ramakanta kamar\"\n",
        "print(name.find('k'))\n",
        "print(name.rfind('k'))\n",
        "print(name[name.rfind('k')])\n",
        "\n",
        "print(name[name.rfind('k') - len(name)])"
      ],
      "execution_count": null,
      "outputs": [
        {
          "output_type": "stream",
          "name": "stdout",
          "text": [
            "4\n",
            "10\n",
            "k\n",
            "k\n"
          ]
        }
      ]
    },
    {
      "cell_type": "code",
      "metadata": {
        "colab": {
          "base_uri": "https://localhost:8080/"
        },
        "id": "sZVSHsl3NZnY",
        "outputId": "aeaf30f4-fdfe-4f53-dd99-5b72c4952840"
      },
      "source": [
        "outcome = [2,6,4,3,1,2,1,6,5,4,3,2,1]\n",
        "set(outcome)"
      ],
      "execution_count": null,
      "outputs": [
        {
          "output_type": "execute_result",
          "data": {
            "text/plain": [
              "{1, 2, 3, 4, 5, 6}"
            ]
          },
          "metadata": {},
          "execution_count": 25
        }
      ]
    },
    {
      "cell_type": "code",
      "metadata": {
        "colab": {
          "base_uri": "https://localhost:8080/"
        },
        "id": "JfYBaVHf0gKS",
        "outputId": "5389aca0-47a8-474d-88a7-0a23235b6813"
      },
      "source": [
        "a = {1 : 'val1', 2:'val2', 3:'val3', 4:'val1'}\n",
        "b = {1,2,3,'val1', 'val2','val3',2,3,1,2,2,3}\n",
        "print(a, \"==>\", type(a))\n",
        "print(b, \"==>\", type(b))"
      ],
      "execution_count": null,
      "outputs": [
        {
          "output_type": "stream",
          "name": "stdout",
          "text": [
            "{1: 'val1', 2: 'val2', 3: 'val3', 4: 'val1'} ==> <class 'dict'>\n",
            "{1, 2, 3, 'val1', 'val3', 'val2'} ==> <class 'set'>\n"
          ]
        }
      ]
    },
    {
      "cell_type": "code",
      "metadata": {
        "colab": {
          "base_uri": "https://localhost:8080/"
        },
        "id": "KM0cZe_JNoqz",
        "outputId": "2081045a-2fc1-40bf-f857-8950ebe6c1b9"
      },
      "source": [
        "vowels = {'a', 'e', 'i', 'o', 'u'}\n",
        "print(vowels)\n",
        "print(type(vowels))"
      ],
      "execution_count": null,
      "outputs": [
        {
          "output_type": "stream",
          "text": [
            "{'a', 'u', 'e', 'i', 'o'}\n",
            "<class 'set'>\n"
          ],
          "name": "stdout"
        }
      ]
    },
    {
      "cell_type": "markdown",
      "metadata": {
        "id": "w4B4MU2FN7Ce"
      },
      "source": [
        "## Datatype conversions\n",
        "\n",
        "1. int()\n",
        "2. float()\n",
        "3. complex()\n",
        "4. str()\n",
        "5. tuple()\n",
        "6. list()\n",
        "7. dict()\n",
        "8. set()\n",
        "9. ord() # Converts a character to an integer\n",
        "10. chr() # Converts an integer to a character\n",
        "11. oct()\n",
        "12. hex()\n"
      ]
    },
    {
      "cell_type": "code",
      "metadata": {
        "colab": {
          "base_uri": "https://localhost:8080/"
        },
        "id": "HpgOPbSpO4QR",
        "outputId": "7bf37fae-54ae-4db1-9355-e3c734b2875e"
      },
      "source": [
        "x = 123\n",
        "print(f\"{x} : {type(x)}\")\n",
        "x = float(x)\n",
        "print(f\"{x} : {type(x)}\")\n"
      ],
      "execution_count": null,
      "outputs": [
        {
          "output_type": "stream",
          "text": [
            "123 : <class 'int'>\n",
            "123.0 : <class 'float'>\n"
          ],
          "name": "stdout"
        }
      ]
    },
    {
      "cell_type": "code",
      "metadata": {
        "colab": {
          "base_uri": "https://localhost:8080/"
        },
        "id": "nRRCTopAPOj4",
        "outputId": "6e57f896-e963-4654-e8b5-a910bf53b5e7"
      },
      "source": [
        "x = 123.0\n",
        "print(f\"{x} : {type(x)}\")\n",
        "x = int(x)\n",
        "print(f\"{x} : {type(x)}\")\n"
      ],
      "execution_count": null,
      "outputs": [
        {
          "output_type": "stream",
          "text": [
            "123.0 : <class 'float'>\n",
            "123 : <class 'int'>\n"
          ],
          "name": "stdout"
        }
      ]
    },
    {
      "cell_type": "code",
      "metadata": {
        "colab": {
          "base_uri": "https://localhost:8080/"
        },
        "id": "kPskLSQhPRbG",
        "outputId": "5c0dffa5-8aa5-4639-ff2f-b4c8962bc7fa"
      },
      "source": [
        "x = 123.95478563464\n",
        "print(f\"{x} : {type(x)}\")\n",
        "x = int(x)\n",
        "print(f\"{x} : {type(x)}\")\n",
        "\n"
      ],
      "execution_count": null,
      "outputs": [
        {
          "output_type": "stream",
          "name": "stdout",
          "text": [
            "123.95478563464 : <class 'float'>\n",
            "123 : <class 'int'>\n"
          ]
        }
      ]
    },
    {
      "cell_type": "code",
      "metadata": {
        "colab": {
          "base_uri": "https://localhost:8080/"
        },
        "id": "HmCBqtVOQD2i",
        "outputId": "5d2f7162-99fd-4bd6-b760-c64c1ab9a092"
      },
      "source": [
        "x = 12\n",
        "complex(x)"
      ],
      "execution_count": null,
      "outputs": [
        {
          "output_type": "execute_result",
          "data": {
            "text/plain": [
              "(12+0j)"
            ]
          },
          "metadata": {},
          "execution_count": 33
        }
      ]
    },
    {
      "cell_type": "code",
      "metadata": {
        "colab": {
          "base_uri": "https://localhost:8080/"
        },
        "id": "TmY7nVGzQSzj",
        "outputId": "cdb10a1b-94dd-4bd8-fdba-79dd3c654286"
      },
      "source": [
        "x = [1,2,3]\n",
        "y = tuple(x)\n",
        "print(y, type(y))"
      ],
      "execution_count": null,
      "outputs": [
        {
          "output_type": "stream",
          "text": [
            "(1, 2, 3) <class 'tuple'>\n"
          ],
          "name": "stdout"
        }
      ]
    },
    {
      "cell_type": "code",
      "metadata": {
        "colab": {
          "base_uri": "https://localhost:8080/"
        },
        "id": "ZPgI1yU6QfWC",
        "outputId": "677034cb-2384-415e-a349-dbb65190997f"
      },
      "source": [
        "x = (2,4,6,8)\n",
        "print(x, type(x))\n",
        "x = list(x)\n",
        "x.append(10)\n",
        "x = tuple(x)\n",
        "print(x, type(x))"
      ],
      "execution_count": null,
      "outputs": [
        {
          "output_type": "stream",
          "text": [
            "(2, 4, 6, 8) <class 'tuple'>\n",
            "(2, 4, 6, 8, 10) <class 'tuple'>\n"
          ],
          "name": "stdout"
        }
      ]
    },
    {
      "cell_type": "code",
      "metadata": {
        "colab": {
          "base_uri": "https://localhost:8080/",
          "height": 35
        },
        "id": "3r7K7VDDQu3i",
        "outputId": "a589ad02-5683-4cb4-d50b-dedc600cbe92"
      },
      "source": [
        "'''\n",
        "A-Z : 65 - 90\n",
        "a-z : 97 -122\n",
        "0-9 : 48-57\n",
        "'''\n",
        "chr(2453)\n",
        "chr(50)"
      ],
      "execution_count": null,
      "outputs": [
        {
          "output_type": "execute_result",
          "data": {
            "application/vnd.google.colaboratory.intrinsic+json": {
              "type": "string"
            },
            "text/plain": [
              "'2'"
            ]
          },
          "metadata": {},
          "execution_count": 13
        }
      ]
    },
    {
      "cell_type": "code",
      "metadata": {
        "colab": {
          "base_uri": "https://localhost:8080/"
        },
        "id": "_Ekk2KZERBuS",
        "outputId": "16cdab76-731d-40d4-f324-e49631ab2069"
      },
      "source": [
        "ord('a')"
      ],
      "execution_count": null,
      "outputs": [
        {
          "output_type": "execute_result",
          "data": {
            "text/plain": [
              "97"
            ]
          },
          "metadata": {},
          "execution_count": 41
        }
      ]
    },
    {
      "cell_type": "code",
      "metadata": {
        "colab": {
          "base_uri": "https://localhost:8080/"
        },
        "id": "G1cvqQhERFDu",
        "outputId": "43358da8-60fb-4429-b73b-fb28d93f1715"
      },
      "source": [
        "ord('ভ')"
      ],
      "execution_count": null,
      "outputs": [
        {
          "output_type": "execute_result",
          "data": {
            "text/plain": [
              "2477"
            ]
          },
          "metadata": {},
          "execution_count": 14
        }
      ]
    },
    {
      "cell_type": "code",
      "metadata": {
        "colab": {
          "base_uri": "https://localhost:8080/",
          "height": 35
        },
        "id": "dNXCOc_GRIbi",
        "outputId": "607f550e-f354-419f-d6dd-f503a99b0bac"
      },
      "source": [
        "chr(2477)"
      ],
      "execution_count": null,
      "outputs": [
        {
          "output_type": "execute_result",
          "data": {
            "application/vnd.google.colaboratory.intrinsic+json": {
              "type": "string"
            },
            "text/plain": [
              "'ভ'"
            ]
          },
          "metadata": {},
          "execution_count": 36
        }
      ]
    },
    {
      "cell_type": "code",
      "metadata": {
        "colab": {
          "base_uri": "https://localhost:8080/",
          "height": 35
        },
        "id": "eDngqh_wROGi",
        "outputId": "075017df-b8dc-4f08-b2e5-c327d1de1b2c"
      },
      "source": [
        "hex(65535) #0-9,A,B,C,D,E,F"
      ],
      "execution_count": null,
      "outputs": [
        {
          "output_type": "execute_result",
          "data": {
            "application/vnd.google.colaboratory.intrinsic+json": {
              "type": "string"
            },
            "text/plain": [
              "'0xffff'"
            ]
          },
          "metadata": {},
          "execution_count": 45
        }
      ]
    },
    {
      "cell_type": "code",
      "metadata": {
        "colab": {
          "base_uri": "https://localhost:8080/"
        },
        "id": "FymZ8a8JRc-M",
        "outputId": "28112168-f9fc-4a96-b256-e75947c9d885"
      },
      "source": [
        "2**16 - 1"
      ],
      "execution_count": null,
      "outputs": [
        {
          "output_type": "execute_result",
          "data": {
            "text/plain": [
              "65535"
            ]
          },
          "metadata": {},
          "execution_count": 47
        }
      ]
    },
    {
      "cell_type": "code",
      "metadata": {
        "colab": {
          "base_uri": "https://localhost:8080/",
          "height": 35
        },
        "id": "UlZhUMFqRhzH",
        "outputId": "a7320338-42ce-47f8-94fe-d3fbc29a3463"
      },
      "source": [
        "oct(79)"
      ],
      "execution_count": null,
      "outputs": [
        {
          "output_type": "execute_result",
          "data": {
            "application/vnd.google.colaboratory.intrinsic+json": {
              "type": "string"
            },
            "text/plain": [
              "'0o117'"
            ]
          },
          "metadata": {},
          "execution_count": 48
        }
      ]
    },
    {
      "cell_type": "code",
      "metadata": {
        "colab": {
          "base_uri": "https://localhost:8080/"
        },
        "id": "4w_6mfgMSGvM",
        "outputId": "302a1b7a-8ba5-48e5-9319-c117a6d4f374"
      },
      "source": [
        "p = 300\n",
        "q = 300\n",
        "print(id(p))\n",
        "print(id(q))"
      ],
      "execution_count": null,
      "outputs": [
        {
          "output_type": "stream",
          "name": "stdout",
          "text": [
            "139767453643504\n",
            "139767453644144\n"
          ]
        }
      ]
    },
    {
      "cell_type": "code",
      "metadata": {
        "colab": {
          "base_uri": "https://localhost:8080/"
        },
        "id": "KlUxpc4ISefc",
        "outputId": "63f2a747-035c-40af-c158-6a9ee19608b4"
      },
      "source": [
        "# During boot up, Python allocates memory for [-5 , 256]. For multiple declaration of the same value, \n",
        "# Python assigns the same memory address for space optimization within this number range\n",
        "p = 20\n",
        "q = 20\n",
        "print(id(p))\n",
        "print(id(q))"
      ],
      "execution_count": null,
      "outputs": [
        {
          "output_type": "stream",
          "text": [
            "93904256633952\n",
            "93904256633952\n"
          ],
          "name": "stdout"
        }
      ]
    },
    {
      "cell_type": "code",
      "metadata": {
        "id": "8noiReppTo-m"
      },
      "source": [
        "'''Variable Declaration: \n",
        "city\n",
        "CITY\n",
        "cItY\n",
        "_city\n",
        "city_\n",
        "_city_\n",
        "\n",
        "statesoftheunion\n",
        "STATESOFTHEUNION\n",
        "statesOfTheUnion    # 1. Camel case\n",
        "StatesOfTheUnion    # 2. Pascal Case\n",
        "states_of_the_union # 3. Snake Case\n",
        "'''"
      ],
      "execution_count": null,
      "outputs": []
    },
    {
      "cell_type": "markdown",
      "metadata": {
        "id": "dNr_5nY1Vqu0"
      },
      "source": [
        "## Basic Operators\n",
        "\n",
        "1. Arithmetic\n",
        "2. Comparison\n",
        "3. Assignment\n",
        "4. Logical\n",
        "5. Bitwise\n",
        "6. Membership\n",
        "7. Identity"
      ]
    },
    {
      "cell_type": "markdown",
      "metadata": {
        "id": "tG1hWG8wV6xo"
      },
      "source": [
        "### Arithmetic Operators\n",
        "\n",
        "1. +\n",
        "2. -\n",
        "3. *\n",
        "4. /\n",
        "5. % (Modulo Remainder)\n",
        "5. // (Floor Division)\n",
        "6. ** (Exponent)"
      ]
    },
    {
      "cell_type": "code",
      "metadata": {
        "colab": {
          "base_uri": "https://localhost:8080/"
        },
        "id": "hmeNfBL0WHVP",
        "outputId": "88c0e56c-ea14-4c4a-e4f4-614803a9da4c"
      },
      "source": [
        "a = 10\n",
        "b = 3\n",
        "print(a // b, a % b)"
      ],
      "execution_count": null,
      "outputs": [
        {
          "output_type": "stream",
          "text": [
            "3 1\n"
          ],
          "name": "stdout"
        }
      ]
    },
    {
      "cell_type": "code",
      "metadata": {
        "colab": {
          "base_uri": "https://localhost:8080/"
        },
        "id": "gbCO5DILWprZ",
        "outputId": "75ba7121-eb42-4d1c-b446-05f8f357ccd1"
      },
      "source": [
        "a = 27\n",
        "b = 4\n",
        "a // b "
      ],
      "execution_count": null,
      "outputs": [
        {
          "output_type": "execute_result",
          "data": {
            "text/plain": [
              "6"
            ]
          },
          "metadata": {},
          "execution_count": 64
        }
      ]
    },
    {
      "cell_type": "code",
      "metadata": {
        "colab": {
          "base_uri": "https://localhost:8080/"
        },
        "id": "vSeCj3ngXXiv",
        "outputId": "37075f11-4a09-4204-ed5f-d24e65e4e603"
      },
      "source": [
        "a = 19\n",
        "b = 40\n",
        "a ** b"
      ],
      "execution_count": null,
      "outputs": [
        {
          "output_type": "execute_result",
          "data": {
            "text/plain": [
              "1413006104539009638843035501053457425807904438071201"
            ]
          },
          "metadata": {},
          "execution_count": 67
        }
      ]
    },
    {
      "cell_type": "code",
      "metadata": {
        "colab": {
          "base_uri": "https://localhost:8080/"
        },
        "id": "fWkPSEp3X1EH",
        "outputId": "490db4bd-9f50-4b06-e07e-870106171548"
      },
      "source": [
        "2**63 - 1"
      ],
      "execution_count": null,
      "outputs": [
        {
          "output_type": "execute_result",
          "data": {
            "text/plain": [
              "9223372036854775807"
            ]
          },
          "metadata": {},
          "execution_count": 68
        }
      ]
    },
    {
      "cell_type": "code",
      "metadata": {
        "colab": {
          "base_uri": "https://localhost:8080/"
        },
        "id": "HnwGYYvpX_rr",
        "outputId": "bd254fbc-74bd-4973-9b28-a6575ad9c5f8"
      },
      "source": [
        "a = 10\n",
        "#a = -a\n",
        "print(-a)"
      ],
      "execution_count": null,
      "outputs": [
        {
          "output_type": "stream",
          "text": [
            "-10\n"
          ],
          "name": "stdout"
        }
      ]
    },
    {
      "cell_type": "markdown",
      "metadata": {
        "id": "R0u0L90OZBlC"
      },
      "source": [
        "## Comparison operator\n",
        "\n",
        "1. ==\n",
        "2. !=\n",
        "3. >\n",
        "4. <\n",
        "5. >=\n",
        "6. <="
      ]
    },
    {
      "cell_type": "markdown",
      "metadata": {
        "id": "wQQLrAmiZRmb"
      },
      "source": [
        "## Assignment Operator\n",
        "\n",
        "1. =\n",
        "2. +=\n",
        "3. -=\n",
        "4. *=\n",
        "5. /=\n",
        "6.%=\n",
        "7. //=\n",
        "8. **="
      ]
    },
    {
      "cell_type": "code",
      "metadata": {
        "colab": {
          "base_uri": "https://localhost:8080/"
        },
        "id": "6900wZysZfUd",
        "outputId": "ad25b430-423f-4a29-ca1f-446ebed42ada"
      },
      "source": [
        "a = 15\n",
        "a /= 5    # a = a / 5\n",
        "a"
      ],
      "execution_count": null,
      "outputs": [
        {
          "output_type": "execute_result",
          "data": {
            "text/plain": [
              "3.0"
            ]
          },
          "metadata": {},
          "execution_count": 75
        }
      ]
    },
    {
      "cell_type": "markdown",
      "metadata": {
        "id": "HvXsYBR1ZqtN"
      },
      "source": [
        "## Bitwise Operator\n",
        "\n",
        "1. & Binary AND\n",
        "2. | BInary OR\n",
        "3. ^ Binary XOR\n",
        "4. ~ Ones complement\n",
        "5. << n Left Shift (Multiply by 2^n)\n",
        "6. > > n Right Shift (Divide by 2^n)"
      ]
    },
    {
      "cell_type": "code",
      "metadata": {
        "colab": {
          "base_uri": "https://localhost:8080/"
        },
        "id": "CGii3zaYZ77B",
        "outputId": "e7836c76-73fa-4bc0-f89e-5670d70173a5"
      },
      "source": [
        "a = 20\n",
        "a << 2"
      ],
      "execution_count": null,
      "outputs": [
        {
          "output_type": "execute_result",
          "data": {
            "text/plain": [
              "80"
            ]
          },
          "metadata": {},
          "execution_count": 41
        }
      ]
    },
    {
      "cell_type": "code",
      "metadata": {
        "colab": {
          "base_uri": "https://localhost:8080/"
        },
        "id": "Wy1ZLNTAbh_n",
        "outputId": "de1621e2-094f-4beb-842b-fab9ef720f35"
      },
      "source": [
        "a = 20\n",
        "a << 2"
      ],
      "execution_count": null,
      "outputs": [
        {
          "output_type": "execute_result",
          "data": {
            "text/plain": [
              "80"
            ]
          },
          "metadata": {},
          "execution_count": 78
        }
      ]
    },
    {
      "cell_type": "code",
      "metadata": {
        "colab": {
          "base_uri": "https://localhost:8080/"
        },
        "id": "NHtvxGZubk0k",
        "outputId": "f7a8f26f-4082-4e61-8003-a0690ef51440"
      },
      "source": [
        "a = 10\n",
        "b = 22\n",
        "print(a & b)\n",
        "print(a | b)\n",
        "print(a ^ b)\n"
      ],
      "execution_count": null,
      "outputs": [
        {
          "output_type": "stream",
          "text": [
            "2\n",
            "30\n",
            "28\n"
          ],
          "name": "stdout"
        }
      ]
    },
    {
      "cell_type": "markdown",
      "metadata": {
        "id": "lVuC8GY2cOPm"
      },
      "source": [
        "## Logical Operators\n",
        "\n",
        "1. and # The operator returns TRUE when both operands are TRUE\n",
        "2. or  # The operator returns TRUE when either of the operands is TRUE\n",
        "3. not # Changes the boolean status of an expression"
      ]
    },
    {
      "cell_type": "code",
      "metadata": {
        "id": "4hnYLx4xdjP0",
        "colab": {
          "base_uri": "https://localhost:8080/"
        },
        "outputId": "fb03a114-6930-4dad-9c8c-497e127933f0"
      },
      "source": [
        "x = 100\n",
        "y = 251\n",
        "\n",
        "if x >= 100 and not y < 250 :\n",
        "  print(\"Met the condition!\")\n",
        "else:\n",
        "  print(\"Missed it\")"
      ],
      "execution_count": null,
      "outputs": [
        {
          "output_type": "stream",
          "name": "stdout",
          "text": [
            "Met the condition!\n"
          ]
        }
      ]
    },
    {
      "cell_type": "markdown",
      "metadata": {
        "id": "Ir5qEqKXeF_F"
      },
      "source": [
        "## Membership Operator\n",
        "1. in\n",
        "2. not in"
      ]
    },
    {
      "cell_type": "code",
      "metadata": {
        "colab": {
          "base_uri": "https://localhost:8080/"
        },
        "id": "k_wUaJdZeFVc",
        "outputId": "929af86c-757f-43aa-ccb7-bad1ee587979"
      },
      "source": [
        "fruits = ['Apple', 'Guava', 'Grapes']\n",
        "print('Mango' not in fruits)\n",
        "print('Apple' in fruits)\n"
      ],
      "execution_count": null,
      "outputs": [
        {
          "output_type": "stream",
          "name": "stdout",
          "text": [
            "True\n",
            "True\n"
          ]
        }
      ]
    },
    {
      "cell_type": "markdown",
      "metadata": {
        "id": "lEm-cj4lepQU"
      },
      "source": [
        "## identity Operator\n",
        "(It ensures if the two operands are pointing to the same memory location i.e. it ensures if they are basically the same object or not.)\n",
        "1. is\n",
        "2. is not"
      ]
    },
    {
      "cell_type": "code",
      "metadata": {
        "colab": {
          "base_uri": "https://localhost:8080/"
        },
        "id": "MqX7lJyLess7",
        "outputId": "1c4aa5f6-f4ea-46f3-969f-9dd6681d55a4"
      },
      "source": [
        "a = 'Saurav'\n",
        "b = a\n",
        "print(a is b)\n",
        "print(id(a), id(b))"
      ],
      "execution_count": null,
      "outputs": [
        {
          "output_type": "stream",
          "name": "stdout",
          "text": [
            "True\n",
            "140239157051632 140239157051632\n"
          ]
        }
      ]
    },
    {
      "cell_type": "code",
      "metadata": {
        "colab": {
          "base_uri": "https://localhost:8080/"
        },
        "id": "q6UYVuTl8-LW",
        "outputId": "936da7ba-cfea-48e4-97c2-536ccf1d3dc0"
      },
      "source": [
        "a = \"Saurav_Bhattacharyya; d,c.dv.c\"\n",
        "b = \"Saurav_Bhattacharyya; d,c.dv.c\"\n",
        "print(a is not b)\n",
        "print(id(a), id(b))"
      ],
      "execution_count": null,
      "outputs": [
        {
          "output_type": "stream",
          "name": "stdout",
          "text": [
            "True\n",
            "139767453572832 139767453572672\n"
          ]
        }
      ]
    },
    {
      "cell_type": "code",
      "metadata": {
        "colab": {
          "base_uri": "https://localhost:8080/"
        },
        "id": "B8xzmHuw9FrH",
        "outputId": "06e0fa64-28ba-49d6-bc9f-a8c87f3abefb"
      },
      "source": [
        "a = \"Saurav B\"\n",
        "b = a\n",
        "print(a is b)\n",
        "print(id(a), id(b))"
      ],
      "execution_count": null,
      "outputs": [
        {
          "output_type": "stream",
          "name": "stdout",
          "text": [
            "True\n",
            "139767522374768 139767522374768\n"
          ]
        }
      ]
    },
    {
      "cell_type": "code",
      "metadata": {
        "colab": {
          "base_uri": "https://localhost:8080/"
        },
        "id": "4sb_nJnKe3um",
        "outputId": "51273757-9a3b-45ea-849a-75e99e9f6639"
      },
      "source": [
        "m = 2400\n",
        "n = 2400\n",
        "print(m == n)\n",
        "print(m is n)"
      ],
      "execution_count": null,
      "outputs": [
        {
          "output_type": "stream",
          "name": "stdout",
          "text": [
            "True\n",
            "False\n"
          ]
        }
      ]
    },
    {
      "cell_type": "code",
      "metadata": {
        "colab": {
          "base_uri": "https://localhost:8080/"
        },
        "id": "haKQ9JLAFZa-",
        "outputId": "df4350f6-f971-4596-ace3-f886d12a5aec"
      },
      "source": [
        "x=1200\n",
        "y=1200\n",
        "print(id(x))\n",
        "print(id(y))"
      ],
      "execution_count": null,
      "outputs": [
        {
          "output_type": "stream",
          "name": "stdout",
          "text": [
            "140238992761584\n",
            "140238992762480\n"
          ]
        }
      ]
    },
    {
      "cell_type": "code",
      "metadata": {
        "colab": {
          "base_uri": "https://localhost:8080/"
        },
        "id": "FkVFaMn0foaR",
        "outputId": "0ca97fe3-384f-4c04-ed6e-48fca3ed3b79"
      },
      "source": [
        "x = 1.1 + 2.2\n",
        "# print(abs(x - 3.3) < 0.00000001)\n",
        "print(x)\n",
        "\n",
        "round(x,1) == 3.3"
      ],
      "execution_count": null,
      "outputs": [
        {
          "output_type": "stream",
          "text": [
            "3.3000000000000003\n"
          ],
          "name": "stdout"
        },
        {
          "output_type": "execute_result",
          "data": {
            "text/plain": [
              "True"
            ]
          },
          "metadata": {},
          "execution_count": 94
        }
      ]
    },
    {
      "cell_type": "markdown",
      "metadata": {
        "id": "WRmn0xemiQHv"
      },
      "source": [
        "## Decision Making/ Condition Evaluation\n",
        "\n",
        "1. if\n",
        "2. if - else\n",
        "3. Nested if\n",
        "(if - elif - elif - else)\n",
        "\n",
        "# Ternary Operator\n",
        "not (True)\n",
        "not (1 < 10)\n",
        "a + b\n",
        "a - b\n",
        "?:\n",
        "Condition ? if True, what? : If False what?\n",
        "\n",
        "x = (1 < 10) ? 5 : 50;"
      ]
    },
    {
      "cell_type": "code",
      "metadata": {
        "colab": {
          "base_uri": "https://localhost:8080/"
        },
        "id": "BRvA2Qw1jCqu",
        "outputId": "e25f9166-e38c-400c-9a5e-656391fee5c3"
      },
      "source": [
        "x = 201\n",
        "y = 1001\n",
        "if (x == 200):\n",
        "  print (\"x is two hundreds\")\n",
        "  if y > 1000:\n",
        "    print('y>1000')\n",
        "  else:\n",
        "    print('y<=1000')\n",
        "else:\n",
        "  print(\"x is something other than 200\")\n",
        "  if y > 1000:\n",
        "    print('y>1000')\n",
        "  else:\n",
        "    print('y<=1000')"
      ],
      "execution_count": null,
      "outputs": [
        {
          "output_type": "stream",
          "name": "stdout",
          "text": [
            "x is something other than 200\n",
            "y>1000\n"
          ]
        }
      ]
    },
    {
      "cell_type": "code",
      "metadata": {
        "id": "RqS1ERfOjbj8"
      },
      "source": [
        "weather = 'rainy'\n",
        "mood = 'Happy'\n",
        "\n",
        "if weather == 'Bright':\n",
        "  if mood == 'Happy':\n",
        "    print(\"Time for a trip\")\n",
        "  else:\n",
        "    print(\"Time for introspection\")\n",
        "\n"
      ],
      "execution_count": null,
      "outputs": []
    },
    {
      "cell_type": "code",
      "metadata": {
        "colab": {
          "base_uri": "https://localhost:8080/"
        },
        "id": "T1IOOWHDjwI9",
        "outputId": "91d91fc8-441a-4d5f-d50e-e3d84e9f4a23"
      },
      "source": [
        "weather = 'Bright'\n",
        "mood = 'Happy'\n",
        "\n",
        "if weather == 'Bright' and mood == 'Happy':\n",
        "  print('trip')\n",
        "elif weather == 'Bright' and mood != 'Happy':\n",
        "  print('introspection')\n",
        "else:\n",
        "  print('Something else')"
      ],
      "execution_count": null,
      "outputs": [
        {
          "output_type": "stream",
          "name": "stdout",
          "text": [
            "trip\n"
          ]
        }
      ]
    },
    {
      "cell_type": "code",
      "metadata": {
        "colab": {
          "base_uri": "https://localhost:8080/"
        },
        "id": "myGnxf1FlT9M",
        "outputId": "3aefd94a-1893-4451-eb2b-12d0fd5755b4"
      },
      "source": [
        "weather = 'Bright'\n",
        "mood = 'Somber'\n",
        "\n",
        "if weather == 'Bright' and mood == 'Happy':\n",
        "  print('trip')\n",
        "else:\n",
        "  if weather == 'Bright' and mood != 'Happy':\n",
        "    print('introspection')\n",
        "  else:\n",
        "    print('Something else')"
      ],
      "execution_count": null,
      "outputs": [
        {
          "output_type": "stream",
          "name": "stdout",
          "text": [
            "introspection\n"
          ]
        }
      ]
    },
    {
      "cell_type": "code",
      "metadata": {
        "colab": {
          "base_uri": "https://localhost:8080/"
        },
        "id": "BiEFUGoGNnq3",
        "outputId": "a34d322a-21fb-47e8-b947-8f00ae750bac"
      },
      "source": [
        "line = 1\n",
        "while line <= 10:\n",
        "  numOfStars = 1\n",
        "  while numOfStars <= line:\n",
        "    print(\"* \", end = \"\")    \n",
        "    numOfStars += 1\n",
        "  print(\"\")\n",
        "  line += 1"
      ],
      "execution_count": null,
      "outputs": [
        {
          "output_type": "stream",
          "name": "stdout",
          "text": [
            "* \n",
            "* * \n",
            "* * * \n",
            "* * * * \n",
            "* * * * * \n",
            "* * * * * * \n",
            "* * * * * * * \n",
            "* * * * * * * * \n",
            "* * * * * * * * * \n",
            "* * * * * * * * * * \n"
          ]
        }
      ]
    },
    {
      "cell_type": "code",
      "metadata": {
        "colab": {
          "base_uri": "https://localhost:8080/"
        },
        "id": "0CAENfbGO3-e",
        "outputId": "d2fecec8-cff6-4513-d44f-93c55c7dc78a"
      },
      "source": [
        "cities = ['Goa', 'Sikkim', 'Kolkata', 'Chennai', 'Bengaluru', 'Lonavala','Chandigarh', 'Pune', 'Guwahatizz']\n",
        "max_len = -1\n",
        "\n",
        "#max_city=['Chandigarh', 'Guwahatizz']\n",
        "\n",
        "for city in cities:\n",
        "  if len(city) > max_len:\n",
        "    max_len = len(city)\n",
        "\n",
        "print(f\"Maximum length of the city = {max_len}\")\n",
        "\n",
        "for city in cities:\n",
        "  if len(city) == max_len:\n",
        "    print(city, end=\" \")\n",
        "\n",
        "\n",
        "\n"
      ],
      "execution_count": null,
      "outputs": [
        {
          "output_type": "stream",
          "name": "stdout",
          "text": [
            "Maximum length of the city = 10\n",
            "Chandigarh Guwahatizz "
          ]
        }
      ]
    },
    {
      "cell_type": "code",
      "metadata": {
        "colab": {
          "base_uri": "https://localhost:8080/"
        },
        "id": "dEOyZGGGQ-dD",
        "outputId": "a188fe40-2ee8-4a64-b49b-5a200e692153"
      },
      "source": [
        "x = 0\n",
        "y = 5\n",
        "\n",
        "if x < y:\n",
        "  print('Yes')"
      ],
      "execution_count": null,
      "outputs": [
        {
          "output_type": "stream",
          "name": "stdout",
          "text": [
            "Yes\n"
          ]
        }
      ]
    },
    {
      "cell_type": "code",
      "metadata": {
        "id": "uYXOqRodRekq"
      },
      "source": [
        "if y < x:\n",
        "  print('yes')"
      ],
      "execution_count": null,
      "outputs": []
    },
    {
      "cell_type": "code",
      "metadata": {
        "id": "UmR1hb67RQBM"
      },
      "source": [
        "if x:\n",
        "  print('yes')"
      ],
      "execution_count": null,
      "outputs": []
    },
    {
      "cell_type": "code",
      "metadata": {
        "colab": {
          "base_uri": "https://localhost:8080/"
        },
        "id": "Brjd4QYwRvLc",
        "outputId": "dd45db64-8fe9-4ff4-9168-7b47225329f6"
      },
      "source": [
        "if y:\n",
        "  print('yes')"
      ],
      "execution_count": null,
      "outputs": [
        {
          "output_type": "stream",
          "name": "stdout",
          "text": [
            "yes\n"
          ]
        }
      ]
    },
    {
      "cell_type": "code",
      "metadata": {
        "colab": {
          "base_uri": "https://localhost:8080/"
        },
        "id": "sqtSQDBZSIed",
        "outputId": "6f26c9e3-2bf0-4f4b-e56e-fbd4d32f8125"
      },
      "source": [
        "if True:\n",
        "  print(\"I am true\")"
      ],
      "execution_count": null,
      "outputs": [
        {
          "output_type": "stream",
          "name": "stdout",
          "text": [
            "I am true\n"
          ]
        }
      ]
    },
    {
      "cell_type": "code",
      "metadata": {
        "id": "NH18OuRFSLBi"
      },
      "source": [
        "if False:\n",
        "  print('Alas I am lost!')"
      ],
      "execution_count": null,
      "outputs": []
    },
    {
      "cell_type": "code",
      "metadata": {
        "colab": {
          "base_uri": "https://localhost:8080/"
        },
        "id": "e2kGc8DESd1h",
        "outputId": "6a8496ad-e3e1-4d0e-a7bb-0324848daef5"
      },
      "source": [
        "if 'vas' in 'Sunil Gavaskar':\n",
        "  print('Eureka! Found')\n",
        "else:\n",
        "  print(\"Better luck next time\")"
      ],
      "execution_count": null,
      "outputs": [
        {
          "output_type": "stream",
          "name": "stdout",
          "text": [
            "Eureka! Found\n"
          ]
        }
      ]
    },
    {
      "cell_type": "code",
      "metadata": {
        "colab": {
          "base_uri": "https://localhost:8080/"
        },
        "id": "uaeYWmqwS01x",
        "outputId": "aa89a308-eca7-433c-b32c-0f3dfbaab26b"
      },
      "source": [
        "if 'mango' in ['Apple', 'Mango', 'Guava']:\n",
        "  print(\"Found\")\n",
        "else:\n",
        "  print(\"Not present yet\")"
      ],
      "execution_count": null,
      "outputs": [
        {
          "output_type": "stream",
          "name": "stdout",
          "text": [
            "Not present yet\n"
          ]
        }
      ]
    },
    {
      "cell_type": "code",
      "metadata": {
        "colab": {
          "base_uri": "https://localhost:8080/"
        },
        "id": "U0V_3-89THo4",
        "outputId": "f151c31d-c645-4359-ae84-1aa1de16fd33"
      },
      "source": [
        "if 'Pineapple' in ['Apple', 'Mango', 'Guava']:\n",
        "  print(\"Fruits are delicious\")\n",
        "  print('One fruit a day keeps a doctor away')\n",
        "  print('Health is wealth')\n",
        "  x = 1\n",
        "  if x < 10:\n",
        "    print(\"hdgasjdgasj\")\n",
        "  else:\n",
        "    print(\"653623625362553\")\n",
        "else:\n",
        "  print(\"Some other fruits....\")\n",
        "\n",
        "print('Have a great day ahead.')"
      ],
      "execution_count": null,
      "outputs": [
        {
          "output_type": "stream",
          "name": "stdout",
          "text": [
            "Some other fruits....\n",
            "Have a great day ahead.\n"
          ]
        }
      ]
    },
    {
      "cell_type": "code",
      "metadata": {
        "colab": {
          "base_uri": "https://localhost:8080/"
        },
        "id": "kURzu9WnUa7I",
        "outputId": "dd2ca04e-a9b4-4ff3-9ae4-01602b82e642"
      },
      "source": [
        "name = \"Yujvendra\"\n",
        "if name == \"Rohit\":\n",
        "  print(\"Hi Rohit\")\n",
        "elif name == \"Rishabh\":\n",
        "  print(\"Hi Rishabh\")\n",
        "elif name == \"Virat\":\n",
        "  print(\"Hi Virat\")\n",
        "elif name == \"Bhubaneswar\":\n",
        "  print(\"Hi Bhuvi\")\n",
        "else:\n",
        "  print(\"Do I know you?\")"
      ],
      "execution_count": null,
      "outputs": [
        {
          "output_type": "stream",
          "name": "stdout",
          "text": [
            "Do I know you?\n"
          ]
        }
      ]
    },
    {
      "cell_type": "code",
      "metadata": {
        "colab": {
          "base_uri": "https://localhost:8080/"
        },
        "id": "xsgQgrUUV2GP",
        "outputId": "44dd1234-ee01-4ae1-f2c3-87fa03f727a6"
      },
      "source": [
        "names = {'Virat' : 'Hello Virat',\n",
        "         'Rishabh' : 'Hello Rishabh',\n",
        "         'Bhuvi' : 'Hola Bhuvi',\n",
        "         'Rohit' : 'Hey Rohit'}\n",
        "\n",
        "print(names.get('Rohit',\"Do I know you yet?\"))\n",
        "print(names.get('Dhoni',\"Do I know you yet?\"))"
      ],
      "execution_count": null,
      "outputs": [
        {
          "output_type": "stream",
          "name": "stdout",
          "text": [
            "Hey Rohit\n",
            "Do I know you yet?\n"
          ]
        }
      ]
    },
    {
      "cell_type": "code",
      "metadata": {
        "colab": {
          "base_uri": "https://localhost:8080/"
        },
        "id": "dqi2GQWmWeCN",
        "outputId": "e77da7d4-fca0-4a55-e3bf-1264e185a9b6"
      },
      "source": [
        "if 'vas' in 'Sunil Gavaskar':\n",
        "  print('Eureka! Found')\n",
        "elif anUndefinedVariable:\n",
        "  print(\"Wait that's undefined\")\n",
        "elif 1/0:\n",
        "  print(\"This is not right to be done\")"
      ],
      "execution_count": null,
      "outputs": [
        {
          "output_type": "stream",
          "name": "stdout",
          "text": [
            "Eureka! Found\n"
          ]
        }
      ]
    },
    {
      "cell_type": "markdown",
      "metadata": {
        "id": "_EGhCQUrX6b1"
      },
      "source": [
        "## Single line if statement"
      ]
    },
    {
      "cell_type": "code",
      "metadata": {
        "colab": {
          "base_uri": "https://localhost:8080/"
        },
        "id": "V24y5y48X-tR",
        "outputId": "6dd435d0-fa14-4d3d-b4c0-1c4fa5a849f8"
      },
      "source": [
        "if 'x' in 'Alexander': print(\"1\"); print(\"2\"); print(\"3\")"
      ],
      "execution_count": null,
      "outputs": [
        {
          "output_type": "stream",
          "name": "stdout",
          "text": [
            "1\n",
            "2\n",
            "3\n"
          ]
        }
      ]
    },
    {
      "cell_type": "code",
      "metadata": {
        "colab": {
          "base_uri": "https://localhost:8080/"
        },
        "id": "UxKxhZf8YR-D",
        "outputId": "06ce8141-6e92-4da7-bfc2-ea448bc651c7"
      },
      "source": [
        "if 'z' in 'Alexander': print(\"1\"); print(\"2\"); print(\"3\")\n",
        "else: print(\"4\"); print(\"5\")"
      ],
      "execution_count": null,
      "outputs": [
        {
          "output_type": "stream",
          "name": "stdout",
          "text": [
            "4\n",
            "5\n"
          ]
        }
      ]
    },
    {
      "cell_type": "code",
      "metadata": {
        "colab": {
          "base_uri": "https://localhost:8080/"
        },
        "id": "IxwRZageYHKJ",
        "outputId": "52db2bc0-8a81-4d13-fe1a-098e7b005cf3"
      },
      "source": [
        "if 'x' in 'Alexander': \n",
        "  print(\"1\")\n",
        "  print(\"2\") \n",
        "  print(\"3\")"
      ],
      "execution_count": null,
      "outputs": [
        {
          "output_type": "stream",
          "name": "stdout",
          "text": [
            "1\n",
            "2\n",
            "3\n"
          ]
        }
      ]
    },
    {
      "cell_type": "code",
      "metadata": {
        "colab": {
          "base_uri": "https://localhost:8080/"
        },
        "id": "03YtTSP6Yfwt",
        "outputId": "34dfd00e-8107-4e87-da7b-c3bd94b035c4"
      },
      "source": [
        "'''\n",
        "if condition:\n",
        "  True_block\n",
        "else:\n",
        "  False_block\n",
        "\n",
        "\n",
        "True_block if condition else False_block\n",
        "'''\n",
        "\n",
        "raining = True\n",
        "print(\"Lets go to the \", 'beach' if not raining else 'library')\n",
        "\n"
      ],
      "execution_count": null,
      "outputs": [
        {
          "output_type": "stream",
          "name": "stdout",
          "text": [
            "Lets go to the  library\n"
          ]
        }
      ]
    },
    {
      "cell_type": "code",
      "metadata": {
        "colab": {
          "base_uri": "https://localhost:8080/"
        },
        "id": "FUzD2dGsH7bD",
        "outputId": "ea446f1d-2c32-4c9d-a8d1-2cce2de842d0"
      },
      "source": [
        "marks = 36\n",
        "if marks >= 34:\n",
        "  print('Pass')\n",
        "else:\n",
        "  print('Fail')"
      ],
      "execution_count": null,
      "outputs": [
        {
          "output_type": "stream",
          "name": "stdout",
          "text": [
            "Pass\n"
          ]
        }
      ]
    },
    {
      "cell_type": "code",
      "metadata": {
        "colab": {
          "base_uri": "https://localhost:8080/",
          "height": 35
        },
        "id": "s76B205dIC4W",
        "outputId": "559daea0-4ecd-46b7-97bc-f3f6f200f69e"
      },
      "source": [
        "marks = 34\n",
        "'Pass' if marks >= 34 else 'Fail'"
      ],
      "execution_count": null,
      "outputs": [
        {
          "output_type": "execute_result",
          "data": {
            "application/vnd.google.colaboratory.intrinsic+json": {
              "type": "string"
            },
            "text/plain": [
              "'Pass'"
            ]
          },
          "metadata": {},
          "execution_count": 45
        }
      ]
    },
    {
      "cell_type": "code",
      "metadata": {
        "colab": {
          "base_uri": "https://localhost:8080/"
        },
        "id": "BivSQIUJY1y6",
        "outputId": "15f19574-b317-43a8-c97d-bc5aafa75fa3"
      },
      "source": [
        "raining = True\n",
        "print(\"Lets go to the \", 'beach' if not raining else 'library')"
      ],
      "execution_count": null,
      "outputs": [
        {
          "output_type": "stream",
          "name": "stdout",
          "text": [
            "Lets go to the  library\n"
          ]
        }
      ]
    },
    {
      "cell_type": "code",
      "metadata": {
        "colab": {
          "base_uri": "https://localhost:8080/"
        },
        "id": "-pByQNWPZcxL",
        "outputId": "4df940a3-00f8-4d39-86d1-06a6d9aef8bf"
      },
      "source": [
        "age = 20\n",
        "status = 'minor' if age < 18 else 'adult'\n",
        "print(status)"
      ],
      "execution_count": null,
      "outputs": [
        {
          "output_type": "stream",
          "name": "stdout",
          "text": [
            "adult\n"
          ]
        }
      ]
    },
    {
      "cell_type": "code",
      "metadata": {
        "colab": {
          "base_uri": "https://localhost:8080/",
          "height": 35
        },
        "id": "6TMptKWDZpZo",
        "outputId": "c3ab4fed-9f72-4609-bcd6-4cbbcbe4c7ce"
      },
      "source": [
        "'Yay' if 'Javelin' in ['Gymnastics', 'Javelin', 'Badminton'] else 'Nay'"
      ],
      "execution_count": null,
      "outputs": [
        {
          "output_type": "execute_result",
          "data": {
            "application/vnd.google.colaboratory.intrinsic+json": {
              "type": "string"
            },
            "text/plain": [
              "'Yay'"
            ]
          },
          "metadata": {},
          "execution_count": 49
        }
      ]
    },
    {
      "cell_type": "code",
      "metadata": {
        "colab": {
          "base_uri": "https://localhost:8080/"
        },
        "id": "cT-I2AmZZ-EB",
        "outputId": "3f134ed4-a669-47ac-f366-17e50e440c5b"
      },
      "source": [
        "a = 10\n",
        "b = 20\n",
        "\n",
        "temp = a \n",
        "a = b \n",
        "b = temp\n",
        "\n",
        "print(f\"a = {a} b = {b}\")"
      ],
      "execution_count": null,
      "outputs": [
        {
          "output_type": "stream",
          "name": "stdout",
          "text": [
            "a = 20 b = 10\n"
          ]
        }
      ]
    },
    {
      "cell_type": "code",
      "metadata": {
        "id": "wcJVICyMIfSw"
      },
      "source": [
        "a = 1\n",
        "b = 2\n",
        "a, b  = 1, 2"
      ],
      "execution_count": null,
      "outputs": []
    },
    {
      "cell_type": "code",
      "metadata": {
        "colab": {
          "base_uri": "https://localhost:8080/"
        },
        "id": "VB09F29UaPr-",
        "outputId": "7b00ba7d-a5d6-472e-f308-66e9cf84303b"
      },
      "source": [
        "a = 15\n",
        "b = 25\n",
        "a, b = b, a\n",
        "print(f\"a = {a} b = {b}\")"
      ],
      "execution_count": null,
      "outputs": [
        {
          "output_type": "stream",
          "name": "stdout",
          "text": [
            "a = 25 b = 15\n"
          ]
        }
      ]
    },
    {
      "cell_type": "code",
      "metadata": {
        "colab": {
          "base_uri": "https://localhost:8080/"
        },
        "id": "Jw1GMeLTaydE",
        "outputId": "f509e089-23a8-450c-855d-02ba4efcba0d"
      },
      "source": [
        "x = 1234\n",
        "y = 245\n",
        "\n",
        "# Greater of the two\n",
        "\n",
        "x if x > y else y"
      ],
      "execution_count": null,
      "outputs": [
        {
          "output_type": "execute_result",
          "data": {
            "text/plain": [
              "1234"
            ]
          },
          "metadata": {},
          "execution_count": 53
        }
      ]
    },
    {
      "cell_type": "markdown",
      "metadata": {
        "id": "yhp51f8LbIlH"
      },
      "source": [
        "## Looping Constructs\n",
        "1. for\n",
        "2. while"
      ]
    },
    {
      "cell_type": "code",
      "metadata": {
        "colab": {
          "base_uri": "https://localhost:8080/"
        },
        "id": "6ZzwU_sqbWyB",
        "outputId": "24ebe46a-fd32-4960-e730-681a6606d6e0"
      },
      "source": [
        "n = 5\n",
        "while n >= 0:\n",
        "  print(n)\n",
        "  n -= 1"
      ],
      "execution_count": null,
      "outputs": [
        {
          "output_type": "stream",
          "name": "stdout",
          "text": [
            "5\n",
            "4\n",
            "3\n",
            "2\n",
            "1\n",
            "0\n"
          ]
        }
      ]
    },
    {
      "cell_type": "code",
      "metadata": {
        "id": "7Lb9dd92btos"
      },
      "source": [
        "n = 0\n",
        "while n > 0:\n",
        "  n -= 1\n",
        "  print(n)"
      ],
      "execution_count": null,
      "outputs": []
    },
    {
      "cell_type": "code",
      "metadata": {
        "colab": {
          "base_uri": "https://localhost:8080/"
        },
        "id": "OQYzlz63cAaL",
        "outputId": "509950e8-cf73-4113-f45a-f9d0cdaf441b"
      },
      "source": [
        "planets = ['Mercury', 'Venus', 'Earth', 'Mars']\n",
        "\n",
        "while planets:\n",
        "  print(f\"Before pop : {planets}\")\n",
        "  print(planets.pop(-1))\n",
        "  print(f\"After pop : {planets}\")\n",
        "  print(\"\")"
      ],
      "execution_count": null,
      "outputs": [
        {
          "output_type": "stream",
          "name": "stdout",
          "text": [
            "Before pop : ['Mercury', 'Venus', 'Earth', 'Mars']\n",
            "Mars\n",
            "After pop : ['Mercury', 'Venus', 'Earth']\n",
            "\n",
            "Before pop : ['Mercury', 'Venus', 'Earth']\n",
            "Earth\n",
            "After pop : ['Mercury', 'Venus']\n",
            "\n",
            "Before pop : ['Mercury', 'Venus']\n",
            "Venus\n",
            "After pop : ['Mercury']\n",
            "\n",
            "Before pop : ['Mercury']\n",
            "Mercury\n",
            "After pop : []\n",
            "\n"
          ]
        }
      ]
    },
    {
      "cell_type": "code",
      "metadata": {
        "colab": {
          "base_uri": "https://localhost:8080/"
        },
        "id": "vh26Uwbzc3E2",
        "outputId": "6089d452-8a95-4e24-80ab-b7db550f9cc3"
      },
      "source": [
        "n = 10\n",
        "while n > 0:\n",
        "  n -= 1\n",
        "  if n == -1:\n",
        "    break       # Takes the control out of the immediate loop\n",
        "  print(n)\n",
        "else:\n",
        "  print('The loop has ended.')\n",
        "print(\"Finally I am out of the loop\")"
      ],
      "execution_count": null,
      "outputs": [
        {
          "output_type": "stream",
          "name": "stdout",
          "text": [
            "9\n",
            "8\n",
            "7\n",
            "6\n",
            "5\n",
            "4\n",
            "3\n",
            "2\n",
            "1\n",
            "0\n",
            "The loop has ended.\n",
            "Finally I am out of the loop\n"
          ]
        }
      ]
    },
    {
      "cell_type": "code",
      "metadata": {
        "colab": {
          "base_uri": "https://localhost:8080/"
        },
        "id": "Jv60hD1lfVlT",
        "outputId": "e8460804-2dad-4906-d9e0-eef5fdfae4f1"
      },
      "source": [
        "n = 10\n",
        "while n > 0:\n",
        "  n -= 1\n",
        "  if n == 8:\n",
        "    continue       # Skips the condition and goes on for the next iteration. Skips the following lines of code after continue.\n",
        "  print(n)\n",
        "print('The loop has ended.')"
      ],
      "execution_count": null,
      "outputs": [
        {
          "output_type": "stream",
          "name": "stdout",
          "text": [
            "9\n",
            "7\n",
            "6\n",
            "5\n",
            "4\n",
            "3\n",
            "2\n",
            "1\n",
            "0\n",
            "The loop has ended.\n"
          ]
        }
      ]
    },
    {
      "cell_type": "code",
      "metadata": {
        "colab": {
          "base_uri": "https://localhost:8080/"
        },
        "id": "mBELb5d3gEH6",
        "outputId": "fb174512-5b79-4643-cc21-fd58ec81acb4"
      },
      "source": [
        "n = 10\n",
        "while n > 0:\n",
        "  n -= 1\n",
        "  if n == 4:\n",
        "    pass       # NOP - No Operation . Placeholder for future implementation\n",
        "  print(n)\n",
        "print('The loop has ended.')"
      ],
      "execution_count": null,
      "outputs": [
        {
          "output_type": "stream",
          "name": "stdout",
          "text": [
            "9\n",
            "8\n",
            "7\n",
            "6\n",
            "5\n",
            "4\n",
            "3\n",
            "2\n",
            "1\n",
            "0\n",
            "The loop has ended.\n"
          ]
        }
      ]
    },
    {
      "cell_type": "code",
      "metadata": {
        "id": "kbeRTITAgTZ9"
      },
      "source": [
        "x = 10\n",
        "if x < 100:\n",
        "  pass\n",
        "else:\n",
        "  pass"
      ],
      "execution_count": null,
      "outputs": []
    },
    {
      "cell_type": "code",
      "metadata": {
        "colab": {
          "base_uri": "https://localhost:8080/"
        },
        "id": "Ju8h5gJjhIon",
        "outputId": "203e4d9f-70d3-4b20-cbd4-05bf53ef203a"
      },
      "source": [
        "n = -5\n",
        "while n > 0:\n",
        "  print(n)\n",
        "  n -= 1\n",
        "else:\n",
        "  print('The loop has ended or has not entered at all.')\n",
        "  print('Happy coding!')"
      ],
      "execution_count": null,
      "outputs": [
        {
          "output_type": "stream",
          "name": "stdout",
          "text": [
            "The loop has ended or has not entered at all.\n",
            "Happy coding!\n"
          ]
        }
      ]
    },
    {
      "cell_type": "code",
      "metadata": {
        "colab": {
          "base_uri": "https://localhost:8080/"
        },
        "id": "hNKJVe2UiHuM",
        "outputId": "e7501166-0bbf-479b-b5ce-d0931b028340"
      },
      "source": [
        "festivals = [\"Navaratri\", 'Ganesh Chaturthi', 'Onam', 'Christmas', 'Durgotsav']\n",
        "\n",
        "looking_for = \"Durgotsav\"\n",
        "\n",
        "i = 0\n",
        "while i < len(festivals):\n",
        "  if festivals[i] == looking_for:\n",
        "    print(\"Celebrated in our country\")\n",
        "    break\n",
        "  i += 1\n",
        "else:\n",
        "  print(f\"Unfortuantely {looking_for} is not celebrated in our country. Lets add that in :) \")\n"
      ],
      "execution_count": null,
      "outputs": [
        {
          "output_type": "stream",
          "name": "stdout",
          "text": [
            "Celebrated in our country\n"
          ]
        }
      ]
    },
    {
      "cell_type": "code",
      "metadata": {
        "colab": {
          "base_uri": "https://localhost:8080/"
        },
        "id": "0cVJlX0Y7g2y",
        "outputId": "8fab82fa-25f9-4dc5-cc31-6aee556743b1"
      },
      "source": [
        "start = 1500\n",
        "vend = 2700\n",
        "\n",
        "while start <= vend:\n",
        "  if start % 7 == 0 and start % 5 == 0:\n",
        "    print(start, end = \" \")\n",
        "    start = start + 34\n",
        "  start = start + 1\n"
      ],
      "execution_count": null,
      "outputs": [
        {
          "output_type": "stream",
          "name": "stdout",
          "text": [
            "1505 1540 1575 1610 1645 1680 1715 1750 1785 1820 1855 1890 1925 1960 1995 2030 2065 2100 2135 2170 2205 2240 2275 2310 2345 2380 2415 2450 2485 2520 2555 2590 2625 2660 2695 "
          ]
        }
      ]
    },
    {
      "cell_type": "markdown",
      "metadata": {
        "id": "mjKiBd3hv_YI"
      },
      "source": [
        "## The for loop (Definite loop)"
      ]
    },
    {
      "cell_type": "code",
      "metadata": {
        "colab": {
          "base_uri": "https://localhost:8080/"
        },
        "id": "ToGkm7MUwBOP",
        "outputId": "6e69aad6-d08b-4af1-c809-ef7429256771"
      },
      "source": [
        "''' Syntax of for\n",
        "for i in <collection>\n",
        "    <body of the loop>\n",
        "\n",
        "for <var> in <iterable>:\n",
        "   <statements>\n",
        "\n",
        "\n",
        "C language\n",
        "for (<init_block> ; <test_block> ; <increment_block>){\n",
        "\n",
        "  <body of the loop>\n",
        "\n",
        "}\n",
        "'''\n",
        "\n",
        "vowels = ['a','e','i','o','u']\n",
        "for i in vowels:\n",
        "  print(i)"
      ],
      "execution_count": null,
      "outputs": [
        {
          "output_type": "stream",
          "name": "stdout",
          "text": [
            "a\n",
            "e\n",
            "i\n",
            "o\n",
            "u\n"
          ]
        }
      ]
    },
    {
      "cell_type": "code",
      "metadata": {
        "colab": {
          "base_uri": "https://localhost:8080/"
        },
        "id": "rpWUWgLbwvSS",
        "outputId": "df7f1e67-b686-4716-ae57-5f500149692d"
      },
      "source": [
        "name = 'Dipen'\n",
        "\n",
        "for i in name:\n",
        "  print(i)"
      ],
      "execution_count": null,
      "outputs": [
        {
          "output_type": "stream",
          "name": "stdout",
          "text": [
            "D\n",
            "i\n",
            "p\n",
            "e\n",
            "n\n"
          ]
        }
      ]
    },
    {
      "cell_type": "code",
      "metadata": {
        "colab": {
          "base_uri": "https://localhost:8080/"
        },
        "id": "HhaDcVIyYzzJ",
        "outputId": "ab93c5e7-070d-405b-ac95-e94246b9d744"
      },
      "source": [
        "name = ['Dipen', 'Kalyani']\n",
        "\n",
        "for i in name:\n",
        "  print(i)\n",
        "  for j in i:\n",
        "    print(\"\\t\", j)"
      ],
      "execution_count": null,
      "outputs": [
        {
          "output_type": "stream",
          "name": "stdout",
          "text": [
            "Dipen\n",
            "\t D\n",
            "\t i\n",
            "\t p\n",
            "\t e\n",
            "\t n\n",
            "Kalyani\n",
            "\t K\n",
            "\t a\n",
            "\t l\n",
            "\t y\n",
            "\t a\n",
            "\t n\n",
            "\t i\n"
          ]
        }
      ]
    },
    {
      "cell_type": "markdown",
      "metadata": {
        "id": "nxsO1zNVxPVk"
      },
      "source": [
        "## Iterables"
      ]
    },
    {
      "cell_type": "code",
      "metadata": {
        "colab": {
          "base_uri": "https://localhost:8080/"
        },
        "id": "g0i8hGf_xR3_",
        "outputId": "43046cb9-46e7-4dc4-9f80-a3fea7267046"
      },
      "source": [
        "iter('virat')"
      ],
      "execution_count": null,
      "outputs": [
        {
          "output_type": "execute_result",
          "data": {
            "text/plain": [
              "<str_iterator at 0x7f5877209410>"
            ]
          },
          "metadata": {},
          "execution_count": 5
        }
      ]
    },
    {
      "cell_type": "code",
      "metadata": {
        "colab": {
          "base_uri": "https://localhost:8080/"
        },
        "id": "XD2fCyXRxV93",
        "outputId": "54cee203-44f7-4716-b653-b635f8d48732"
      },
      "source": [
        "iter(['Kanpur', 'Coonor', 'Coorg'])"
      ],
      "execution_count": null,
      "outputs": [
        {
          "output_type": "execute_result",
          "data": {
            "text/plain": [
              "<list_iterator at 0x7f5873144310>"
            ]
          },
          "metadata": {},
          "execution_count": 6
        }
      ]
    },
    {
      "cell_type": "code",
      "metadata": {
        "colab": {
          "base_uri": "https://localhost:8080/"
        },
        "id": "DEFSoO9-xb6Z",
        "outputId": "05a363b2-7755-4ab0-fe6c-40aa8057f228"
      },
      "source": [
        "iter({2,3,1,4,5,6})"
      ],
      "execution_count": null,
      "outputs": [
        {
          "output_type": "execute_result",
          "data": {
            "text/plain": [
              "<set_iterator at 0x7f58730c2dc0>"
            ]
          },
          "metadata": {},
          "execution_count": 7
        }
      ]
    },
    {
      "cell_type": "code",
      "metadata": {
        "colab": {
          "base_uri": "https://localhost:8080/"
        },
        "id": "q9_kxADnxgdz",
        "outputId": "ab62ab87-bad7-469a-c17c-0e26328005e4"
      },
      "source": [
        "iter('123')"
      ],
      "execution_count": null,
      "outputs": [
        {
          "output_type": "execute_result",
          "data": {
            "text/plain": [
              "<str_iterator at 0x7f5bae8a85d0>"
            ]
          },
          "metadata": {},
          "execution_count": 16
        }
      ]
    },
    {
      "cell_type": "code",
      "metadata": {
        "colab": {
          "base_uri": "https://localhost:8080/"
        },
        "id": "iYCuL9K3x18j",
        "outputId": "1431dc9c-3917-4950-b501-b937c9e6d516"
      },
      "source": [
        "# Lazy iteration\n",
        "cities = ['Kanpur', 'Coonor', 'Coorg']\n",
        "cityScan = iter(cities)\n",
        "\n",
        "print(cityScan)\n",
        "print(next(cityScan))\n",
        "print(next(cityScan))\n",
        "print(next(cityScan))\n"
      ],
      "execution_count": null,
      "outputs": [
        {
          "output_type": "stream",
          "name": "stdout",
          "text": [
            "<list_iterator object at 0x7f5bae8a8250>\n",
            "Kanpur\n",
            "Coonor\n",
            "Coorg\n"
          ]
        }
      ]
    },
    {
      "cell_type": "code",
      "metadata": {
        "colab": {
          "base_uri": "https://localhost:8080/"
        },
        "id": "UOj07sZuy4vU",
        "outputId": "88afac8f-813d-4833-c50b-8c3be1cb99a2"
      },
      "source": [
        "cities = ['Kanpur', 'Coonor', 'Coorg']\n",
        "for i in cities:\n",
        "  print(i)"
      ],
      "execution_count": null,
      "outputs": [
        {
          "output_type": "stream",
          "name": "stdout",
          "text": [
            "Kanpur\n",
            "Coonor\n",
            "Coorg\n"
          ]
        }
      ]
    },
    {
      "cell_type": "code",
      "metadata": {
        "colab": {
          "base_uri": "https://localhost:8080/"
        },
        "id": "1mWZLIpJzf8Q",
        "outputId": "a6b69c42-0468-4084-ba00-cdde08da27da"
      },
      "source": [
        "mydict = {'Kolkata' : 'WB', 'Chennai' : 'TN',  'Mumbai' : 'Maharashtra'}\n",
        "mydict['Chennai']\n",
        "mydict.values()"
      ],
      "execution_count": null,
      "outputs": [
        {
          "output_type": "execute_result",
          "data": {
            "text/plain": [
              "dict_values(['WB', 'TN', 'Maharashtra'])"
            ]
          },
          "metadata": {},
          "execution_count": 28
        }
      ]
    },
    {
      "cell_type": "code",
      "metadata": {
        "colab": {
          "base_uri": "https://localhost:8080/"
        },
        "id": "9Cv6I5ZZzA2B",
        "outputId": "a6d3d5a0-03a1-4bee-c6b5-405c551388f4"
      },
      "source": [
        "mydict = {'Kolkata' : 'WB', 'Chennai' : 'TN',  'Mumbai' : 'Maharashtra'}\n",
        "\n",
        "for k in mydict:\n",
        "  print(k, ' ', mydict[k])"
      ],
      "execution_count": null,
      "outputs": [
        {
          "output_type": "stream",
          "name": "stdout",
          "text": [
            "Kolkata   WB\n",
            "Chennai   TN\n",
            "Mumbai   Maharashtra\n"
          ]
        }
      ]
    },
    {
      "cell_type": "code",
      "metadata": {
        "colab": {
          "base_uri": "https://localhost:8080/"
        },
        "id": "5Cru0xntza3z",
        "outputId": "6aa41339-52a9-4ff6-a7ba-d63352774fbc"
      },
      "source": [
        "mydict = {'Kolkata' : 'WB', 'Chennai' : 'TN',  'Mumbai' : 'Maharashtra'}\n",
        "\n",
        "for v in mydict.values():\n",
        "  print(v)"
      ],
      "execution_count": null,
      "outputs": [
        {
          "output_type": "stream",
          "name": "stdout",
          "text": [
            "WB\n",
            "TN\n",
            "Maharashtra\n"
          ]
        }
      ]
    },
    {
      "cell_type": "code",
      "metadata": {
        "colab": {
          "base_uri": "https://localhost:8080/"
        },
        "id": "TU3czH_z0P7U",
        "outputId": "eb7c6e8c-6774-4734-8df8-0ff8f65c31b4"
      },
      "source": [
        "for p, q in [(1,2), (3,4),(5,6)]:\n",
        "  print(p, q)"
      ],
      "execution_count": null,
      "outputs": [
        {
          "output_type": "stream",
          "name": "stdout",
          "text": [
            "1 2\n",
            "3 4\n",
            "5 6\n"
          ]
        }
      ]
    },
    {
      "cell_type": "code",
      "metadata": {
        "colab": {
          "base_uri": "https://localhost:8080/"
        },
        "id": "z07M7YZJ0ovo",
        "outputId": "8478f984-5067-4ab4-d77f-cebf2732d053"
      },
      "source": [
        "mydict = {'Kolkata' : 'WB', 'Chennai' : 'TN',  'Mumbai' : 'Maharashtra'}\n",
        "mydict.items() # Convert a dict to a list of tuples "
      ],
      "execution_count": null,
      "outputs": [
        {
          "output_type": "execute_result",
          "data": {
            "text/plain": [
              "dict_items([('Kolkata', 'WB'), ('Chennai', 'TN'), ('Mumbai', 'Maharashtra')])"
            ]
          },
          "metadata": {},
          "execution_count": 30
        }
      ]
    },
    {
      "cell_type": "code",
      "metadata": {
        "colab": {
          "base_uri": "https://localhost:8080/"
        },
        "id": "ISt-_g5b06zK",
        "outputId": "65873408-b41e-484b-935d-aae9aecf52a2"
      },
      "source": [
        "for k, v in mydict.items():\n",
        "  print(k, \" ==> \", v)"
      ],
      "execution_count": null,
      "outputs": [
        {
          "output_type": "stream",
          "name": "stdout",
          "text": [
            "Kolkata  ==>  WB\n",
            "Chennai  ==>  TN\n",
            "Mumbai  ==>  Maharashtra\n"
          ]
        }
      ]
    },
    {
      "cell_type": "code",
      "metadata": {
        "colab": {
          "base_uri": "https://localhost:8080/"
        },
        "id": "graKvSIn1G68",
        "outputId": "976fcc72-0ab3-44e2-da21-c2757f2accd5"
      },
      "source": [
        "for i in (0,1,2,3,4):\n",
        "  print(i)\n",
        "\n"
      ],
      "execution_count": null,
      "outputs": [
        {
          "output_type": "stream",
          "name": "stdout",
          "text": [
            "0\n",
            "1\n",
            "2\n",
            "3\n",
            "4\n"
          ]
        }
      ]
    },
    {
      "cell_type": "code",
      "metadata": {
        "colab": {
          "base_uri": "https://localhost:8080/"
        },
        "id": "vlPK0w69LcHA",
        "outputId": "505ee164-9527-40e2-b8d5-82f3fcdf9729"
      },
      "source": [
        "for j in 'Kalyani':\n",
        "  print(j)"
      ],
      "execution_count": null,
      "outputs": [
        {
          "output_type": "stream",
          "name": "stdout",
          "text": [
            "K\n",
            "a\n",
            "l\n",
            "y\n",
            "a\n",
            "n\n",
            "i\n"
          ]
        }
      ]
    },
    {
      "cell_type": "code",
      "metadata": {
        "colab": {
          "base_uri": "https://localhost:8080/"
        },
        "id": "9tMer4KsLjqC",
        "outputId": "bb159cd9-affc-4f37-a9a3-4779b2cfb524"
      },
      "source": [
        "for k in ['Kalyani', 'Gaurab', 'Kalyan']:\n",
        "  print(k)"
      ],
      "execution_count": null,
      "outputs": [
        {
          "output_type": "stream",
          "name": "stdout",
          "text": [
            "Kalyani\n",
            "Gaurab\n",
            "Kalyan\n"
          ]
        }
      ]
    },
    {
      "cell_type": "code",
      "metadata": {
        "colab": {
          "base_uri": "https://localhost:8080/"
        },
        "id": "6MkzpHmz1Pqi",
        "outputId": "9d67e6a3-6f9d-4384-c905-713f76144698"
      },
      "source": [
        "for i in range(1,15,2):\n",
        "  print(i)"
      ],
      "execution_count": null,
      "outputs": [
        {
          "output_type": "stream",
          "name": "stdout",
          "text": [
            "1\n",
            "3\n",
            "5\n",
            "7\n",
            "9\n",
            "11\n",
            "13\n"
          ]
        }
      ]
    },
    {
      "cell_type": "code",
      "metadata": {
        "colab": {
          "base_uri": "https://localhost:8080/"
        },
        "id": "Q4jLMbQk1ai8",
        "outputId": "5f909575-7b8a-4f99-f567-746b4f45a7a7"
      },
      "source": [
        "for i in range(1,6):\n",
        "  print(i)"
      ],
      "execution_count": null,
      "outputs": [
        {
          "output_type": "stream",
          "name": "stdout",
          "text": [
            "1\n",
            "2\n",
            "3\n",
            "4\n",
            "5\n"
          ]
        }
      ]
    },
    {
      "cell_type": "code",
      "metadata": {
        "colab": {
          "base_uri": "https://localhost:8080/"
        },
        "id": "xmAlcT671foj",
        "outputId": "da480250-e0aa-4381-bcb5-38472cb523a4"
      },
      "source": [
        "for i in range(1,15,3):\n",
        "  print(i)"
      ],
      "execution_count": null,
      "outputs": [
        {
          "output_type": "stream",
          "name": "stdout",
          "text": [
            "1\n",
            "4\n",
            "7\n",
            "10\n",
            "13\n"
          ]
        }
      ]
    },
    {
      "cell_type": "code",
      "metadata": {
        "colab": {
          "base_uri": "https://localhost:8080/"
        },
        "id": "sF8mqswB1xO4",
        "outputId": "0638bb7f-1cfb-4a07-bdc7-2aa98bc04758"
      },
      "source": [
        "list(range(10))"
      ],
      "execution_count": null,
      "outputs": [
        {
          "output_type": "execute_result",
          "data": {
            "text/plain": [
              "[0, 1, 2, 3, 4, 5, 6, 7, 8, 9]"
            ]
          },
          "metadata": {},
          "execution_count": 39
        }
      ]
    },
    {
      "cell_type": "code",
      "metadata": {
        "colab": {
          "base_uri": "https://localhost:8080/"
        },
        "id": "qr017pRy19SI",
        "outputId": "acc270bc-fbb7-468a-d579-0a9618df9f60"
      },
      "source": [
        "list(range(-5,5))"
      ],
      "execution_count": null,
      "outputs": [
        {
          "output_type": "execute_result",
          "data": {
            "text/plain": [
              "[-5, -4, -3, -2, -1, 0, 1, 2, 3, 4]"
            ]
          },
          "metadata": {},
          "execution_count": 40
        }
      ]
    },
    {
      "cell_type": "code",
      "metadata": {
        "colab": {
          "base_uri": "https://localhost:8080/"
        },
        "id": "EABanPzD2BiP",
        "outputId": "fc89fa7a-e434-471c-e02e-f902d288677a"
      },
      "source": [
        "list(range(5,-5))"
      ],
      "execution_count": null,
      "outputs": [
        {
          "output_type": "execute_result",
          "data": {
            "text/plain": [
              "[]"
            ]
          },
          "metadata": {},
          "execution_count": 41
        }
      ]
    },
    {
      "cell_type": "code",
      "metadata": {
        "colab": {
          "base_uri": "https://localhost:8080/"
        },
        "id": "y421vmT62Jpv",
        "outputId": "8a5493be-1b09-4213-ab21-618131dfed7c"
      },
      "source": [
        "list(range(5,-5,-1))"
      ],
      "execution_count": null,
      "outputs": [
        {
          "output_type": "execute_result",
          "data": {
            "text/plain": [
              "[5, 4, 3, 2, 1, 0, -1, -2, -3, -4]"
            ]
          },
          "metadata": {},
          "execution_count": 43
        }
      ]
    },
    {
      "cell_type": "code",
      "metadata": {
        "colab": {
          "base_uri": "https://localhost:8080/"
        },
        "id": "d0j2-bZo2FQw",
        "outputId": "52a92445-14c5-472d-ebcd-24178d87f8fa"
      },
      "source": [
        "list(range(-5,5,2))"
      ],
      "execution_count": null,
      "outputs": [
        {
          "output_type": "execute_result",
          "data": {
            "text/plain": [
              "[-5, -3, -1, 1, 3]"
            ]
          },
          "metadata": {},
          "execution_count": 42
        }
      ]
    },
    {
      "cell_type": "code",
      "metadata": {
        "colab": {
          "base_uri": "https://localhost:8080/"
        },
        "id": "gpwu6jND2XpO",
        "outputId": "75d6076e-7f58-4759-db9c-f9f0a999114b"
      },
      "source": [
        "cities = ['Kanpur', 'Coonor', 'Coorg']\n",
        "for i in cities:\n",
        "  print(i)\n",
        "else:\n",
        "  print('Completed iteration!')"
      ],
      "execution_count": null,
      "outputs": [
        {
          "output_type": "stream",
          "name": "stdout",
          "text": [
            "Kanpur\n",
            "Coonor\n",
            "Coorg\n",
            "Completed iteration!\n"
          ]
        }
      ]
    },
    {
      "cell_type": "code",
      "metadata": {
        "colab": {
          "base_uri": "https://localhost:8080/"
        },
        "id": "WJSFE0lVploX",
        "outputId": "1bdc3ba1-65b5-41fa-8c0b-96e2c12136b9"
      },
      "source": [
        "for i in range(10):\n",
        "  if i == 5:\n",
        "    break\n",
        "  print(i)"
      ],
      "execution_count": null,
      "outputs": [
        {
          "output_type": "stream",
          "name": "stdout",
          "text": [
            "0\n",
            "1\n",
            "2\n",
            "3\n",
            "4\n"
          ]
        }
      ]
    },
    {
      "cell_type": "markdown",
      "metadata": {
        "id": "xf5ggjbF3GIp"
      },
      "source": [
        "# Numbers"
      ]
    },
    {
      "cell_type": "code",
      "metadata": {
        "id": "0bdu02bT3INK"
      },
      "source": [
        "x = 1\n",
        "y = 2.3\n",
        "z = 4 + 5j"
      ],
      "execution_count": null,
      "outputs": []
    },
    {
      "cell_type": "code",
      "metadata": {
        "colab": {
          "base_uri": "https://localhost:8080/"
        },
        "id": "emwrNMkP4So-",
        "outputId": "af11de72-5526-4eed-9724-f04e9a755945"
      },
      "source": [
        "2**63 - 1"
      ],
      "execution_count": null,
      "outputs": [
        {
          "output_type": "execute_result",
          "data": {
            "text/plain": [
              "9223372036854775807"
            ]
          },
          "metadata": {},
          "execution_count": 46
        }
      ]
    },
    {
      "cell_type": "code",
      "metadata": {
        "colab": {
          "base_uri": "https://localhost:8080/"
        },
        "id": "Xqr3mUsf4k7Z",
        "outputId": "c1abbd14-9298-4670-a379-04b33e107165"
      },
      "source": [
        "len('9223372036854775807')"
      ],
      "execution_count": null,
      "outputs": [
        {
          "output_type": "execute_result",
          "data": {
            "text/plain": [
              "19"
            ]
          },
          "metadata": {},
          "execution_count": 51
        }
      ]
    },
    {
      "cell_type": "code",
      "metadata": {
        "colab": {
          "base_uri": "https://localhost:8080/"
        },
        "id": "2VOaB4kL4XUQ",
        "outputId": "a98855ac-a935-48ad-9f06-fbd4c96af83b"
      },
      "source": [
        "x=2e30 # mantissa e exponent xey   x * 10^y\n",
        "y=3e10\n",
        "z = x*y\n",
        "z"
      ],
      "execution_count": null,
      "outputs": [
        {
          "output_type": "execute_result",
          "data": {
            "text/plain": [
              "6e+40"
            ]
          },
          "metadata": {},
          "execution_count": 55
        }
      ]
    },
    {
      "cell_type": "code",
      "metadata": {
        "colab": {
          "base_uri": "https://localhost:8080/"
        },
        "id": "TJPGF_IJbUvH",
        "outputId": "520dbfe5-4d96-454a-aac4-b4a2c17a057a"
      },
      "source": [
        "speedOfLight = 3e8\n",
        "speedOfLight"
      ],
      "execution_count": null,
      "outputs": [
        {
          "output_type": "execute_result",
          "data": {
            "text/plain": [
              "300000000.0"
            ]
          },
          "metadata": {},
          "execution_count": 25
        }
      ]
    },
    {
      "cell_type": "code",
      "metadata": {
        "colab": {
          "base_uri": "https://localhost:8080/"
        },
        "id": "TlHIfN1O41ih",
        "outputId": "8d00cbcc-01a4-4447-e9a9-6f8191131edc"
      },
      "source": [
        "import math\n",
        "2e400               # mantissa-e-exponent.   2 * 10^400\n",
        "print(math.exp(1))  # e^5       e = 2.7182818284590\n",
        "print(2.7182818284590**5)"
      ],
      "execution_count": null,
      "outputs": [
        {
          "output_type": "stream",
          "name": "stdout",
          "text": [
            "2.718281828459045\n",
            "148.4131591025642\n"
          ]
        }
      ]
    },
    {
      "cell_type": "code",
      "metadata": {
        "colab": {
          "base_uri": "https://localhost:8080/"
        },
        "id": "wQvcuFCe48bu",
        "outputId": "5d45eea6-d603-48e0-df88-2a431dfd2604"
      },
      "source": [
        "-2e400"
      ],
      "execution_count": null,
      "outputs": [
        {
          "output_type": "execute_result",
          "data": {
            "text/plain": [
              "-inf"
            ]
          },
          "metadata": {},
          "execution_count": 32
        }
      ]
    },
    {
      "cell_type": "code",
      "metadata": {
        "colab": {
          "base_uri": "https://localhost:8080/"
        },
        "id": "g0-f1ELG5HuD",
        "outputId": "9dff813f-f036-4a1a-b3fd-73075980ecf6"
      },
      "source": [
        "z"
      ],
      "execution_count": null,
      "outputs": [
        {
          "output_type": "execute_result",
          "data": {
            "text/plain": [
              "(4+5j)"
            ]
          },
          "metadata": {},
          "execution_count": 60
        }
      ]
    },
    {
      "cell_type": "code",
      "metadata": {
        "id": "YhZWqkUt5DUb"
      },
      "source": [
        "del x,y"
      ],
      "execution_count": null,
      "outputs": []
    },
    {
      "cell_type": "code",
      "metadata": {
        "colab": {
          "base_uri": "https://localhost:8080/"
        },
        "id": "4h4UxcAk5YlA",
        "outputId": "769654b1-ae00-4eb2-df1d-47367f9fef55"
      },
      "source": [
        "n = 0xAB2E\n",
        "print(n)\n",
        "type(n)"
      ],
      "execution_count": null,
      "outputs": [
        {
          "output_type": "stream",
          "name": "stdout",
          "text": [
            "43822\n"
          ]
        },
        {
          "output_type": "execute_result",
          "data": {
            "text/plain": [
              "int"
            ]
          },
          "metadata": {},
          "execution_count": 34
        }
      ]
    },
    {
      "cell_type": "markdown",
      "metadata": {
        "id": "Kq0r90lo5gdq"
      },
      "source": [
        "## Number conversion functions:\n",
        "1. int(x)\n",
        "2. float(x)\n",
        "3. complex(x)\n",
        "4. complex(x,y)\n",
        "\n",
        "## Functions\n",
        "### Mathematical\n",
        "1. abs()\n",
        "2. ceil()\n",
        "3. floor()\n",
        "4. exp()\n",
        "5. log(x)   # Natural log : to the base e\n",
        "6. log10(x) # Common log : to the base 10\n",
        "7. max()\n",
        "8. min()\n",
        "9. pow(x,y)\n",
        "10. sqrt(x)\n",
        "11. round(x[,n])\n",
        "\n",
        "### Trigonometric\n",
        "1. sin(x)\n",
        "2. cos(x)\n",
        "3. tan(x)\n",
        "4. asin(x) [arcsin(x)]\n",
        "5. acos(x)\n",
        "6. atan(x)\n",
        "7. atan2(x,y)\n",
        "8. hypot(x,y)\n",
        "9. radians()\n",
        "10. degrees()\n",
        "\n",
        "### Math constants\n",
        "1. pi\n",
        "2. e"
      ]
    },
    {
      "cell_type": "code",
      "metadata": {
        "colab": {
          "base_uri": "https://localhost:8080/"
        },
        "id": "gJYsaoUo6zk_",
        "outputId": "4706fbf3-4cb7-4294-9ed4-976c93ef4b7c"
      },
      "source": [
        "abs(-5)"
      ],
      "execution_count": null,
      "outputs": [
        {
          "output_type": "execute_result",
          "data": {
            "text/plain": [
              "5"
            ]
          },
          "metadata": {},
          "execution_count": 67
        }
      ]
    },
    {
      "cell_type": "code",
      "metadata": {
        "colab": {
          "base_uri": "https://localhost:8080/"
        },
        "id": "D8hOzKO363pI",
        "outputId": "e769fc8b-70c1-4694-ddb7-1f39294c308e"
      },
      "source": [
        "import math\n",
        "print(math.ceil(12.001))\n",
        "print(math.floor(12.998))"
      ],
      "execution_count": null,
      "outputs": [
        {
          "output_type": "stream",
          "name": "stdout",
          "text": [
            "13\n",
            "12\n"
          ]
        }
      ]
    },
    {
      "cell_type": "code",
      "metadata": {
        "colab": {
          "base_uri": "https://localhost:8080/"
        },
        "id": "CCiYDuQu7Jzz",
        "outputId": "b781ebaf-0bb0-4b9f-c22f-e5123090b858"
      },
      "source": [
        "x = [12, -1, 0,1,2,3.67,-4.55,5]\n",
        "print(max(x))\n",
        "print(min(x))"
      ],
      "execution_count": null,
      "outputs": [
        {
          "output_type": "stream",
          "name": "stdout",
          "text": [
            "12\n",
            "-4.55\n"
          ]
        }
      ]
    },
    {
      "cell_type": "code",
      "metadata": {
        "colab": {
          "base_uri": "https://localhost:8080/"
        },
        "id": "nu7QiFM-7UPN",
        "outputId": "19311145-0fd0-491a-8f85-abfa34240246"
      },
      "source": [
        "x = 12.374389\n",
        "round(x,1)"
      ],
      "execution_count": null,
      "outputs": [
        {
          "output_type": "execute_result",
          "data": {
            "text/plain": [
              "12.4"
            ]
          },
          "metadata": {},
          "execution_count": 78
        }
      ]
    },
    {
      "cell_type": "code",
      "metadata": {
        "colab": {
          "base_uri": "https://localhost:8080/"
        },
        "id": "fwj82-53747D",
        "outputId": "2c62a927-e509-4053-b322-7a07e42a3c4a"
      },
      "source": [
        "x = 2\n",
        "y = 1/3\n",
        "print(x**y)\n",
        "print(math.pow(x,y))"
      ],
      "execution_count": null,
      "outputs": [
        {
          "output_type": "stream",
          "name": "stdout",
          "text": [
            "1.2599210498948732\n",
            "1.2599210498948732\n"
          ]
        }
      ]
    },
    {
      "cell_type": "code",
      "metadata": {
        "id": "jDB9O-nR8BUm"
      },
      "source": [
        "x = 2\n",
        "y = 1.5\n",
        "math.pow(x, y)\n"
      ],
      "execution_count": null,
      "outputs": []
    },
    {
      "cell_type": "code",
      "metadata": {
        "colab": {
          "base_uri": "https://localhost:8080/"
        },
        "id": "13l9G22K8-gd",
        "outputId": "1037658e-37c3-435e-e4cf-ebe659750a06"
      },
      "source": [
        "math.log(math.e)"
      ],
      "execution_count": null,
      "outputs": [
        {
          "output_type": "execute_result",
          "data": {
            "text/plain": [
              "1.0"
            ]
          },
          "metadata": {},
          "execution_count": 82
        }
      ]
    },
    {
      "cell_type": "code",
      "metadata": {
        "colab": {
          "base_uri": "https://localhost:8080/"
        },
        "id": "Nfhoa32Q9QOk",
        "outputId": "dcab86e0-5b0f-47e0-93d1-a1e9e5ffe6d6"
      },
      "source": [
        "math.log10(1)"
      ],
      "execution_count": null,
      "outputs": [
        {
          "output_type": "execute_result",
          "data": {
            "text/plain": [
              "0.0"
            ]
          },
          "metadata": {},
          "execution_count": 85
        }
      ]
    },
    {
      "cell_type": "code",
      "metadata": {
        "colab": {
          "base_uri": "https://localhost:8080/"
        },
        "id": "q_P8Y2e39ecu",
        "outputId": "1fbfa89f-07bb-416f-caab-5d430221e3f1"
      },
      "source": [
        "math.sin(60 * math.pi/180) # 180 degrees = pi radians"
      ],
      "execution_count": null,
      "outputs": [
        {
          "output_type": "execute_result",
          "data": {
            "text/plain": [
              "0.8660254037844386"
            ]
          },
          "metadata": {},
          "execution_count": 88
        }
      ]
    },
    {
      "cell_type": "code",
      "metadata": {
        "colab": {
          "base_uri": "https://localhost:8080/"
        },
        "id": "0ZkbfxP0-qHf",
        "outputId": "78884ea0-4ed2-4da1-b5b6-c561eab23f96"
      },
      "source": [
        "math.sin(math.radians(60))"
      ],
      "execution_count": null,
      "outputs": [
        {
          "output_type": "execute_result",
          "data": {
            "text/plain": [
              "0.8660254037844386"
            ]
          },
          "metadata": {},
          "execution_count": 91
        }
      ]
    },
    {
      "cell_type": "code",
      "metadata": {
        "colab": {
          "base_uri": "https://localhost:8080/"
        },
        "id": "uRQwDeao_AAQ",
        "outputId": "2af34520-dd78-4f26-80f2-216290cf95c9"
      },
      "source": [
        "math.degrees(math.asin(0.866025403784))"
      ],
      "execution_count": null,
      "outputs": [
        {
          "output_type": "execute_result",
          "data": {
            "text/plain": [
              "59.99999999994973"
            ]
          },
          "metadata": {},
          "execution_count": 94
        }
      ]
    },
    {
      "cell_type": "code",
      "metadata": {
        "colab": {
          "base_uri": "https://localhost:8080/"
        },
        "id": "z-Pmt93o9vNt",
        "outputId": "c486f285-9a02-4de9-d047-f70e013bc834"
      },
      "source": [
        "math.sin(33 * math.pi/180)"
      ],
      "execution_count": null,
      "outputs": [
        {
          "output_type": "execute_result",
          "data": {
            "text/plain": [
              "0.5446390350150271"
            ]
          },
          "metadata": {},
          "execution_count": 87
        }
      ]
    },
    {
      "cell_type": "code",
      "metadata": {
        "colab": {
          "base_uri": "https://localhost:8080/"
        },
        "id": "cWYCanh2-ch5",
        "outputId": "346fcb80-62c5-49e1-d55d-ec158634b636"
      },
      "source": [
        "math.hypot(3,4)\n",
        "# math.hypot(5,12)"
      ],
      "execution_count": null,
      "outputs": [
        {
          "output_type": "execute_result",
          "data": {
            "text/plain": [
              "5.0"
            ]
          },
          "metadata": {},
          "execution_count": 37
        }
      ]
    },
    {
      "cell_type": "markdown",
      "metadata": {
        "id": "hftZzIpO_T5v"
      },
      "source": [
        "### Random Numbers\n",
        "\n",
        "1. choice()\n",
        "2. randrange([start,] stop[, step])\n",
        "3. random()\n",
        "4. shuffle()\n",
        "5. uniform()"
      ]
    },
    {
      "cell_type": "code",
      "metadata": {
        "colab": {
          "base_uri": "https://localhost:8080/"
        },
        "id": "6avvp8TI_iwr",
        "outputId": "3906a71d-7d61-4f00-e238-0bf7cb9cbb13"
      },
      "source": [
        "import random \n",
        "\n",
        "x = [1,2,3,4,5,6]\n",
        "\n",
        "print(f\"Before shuufle : x = {x}\")\n",
        "random.shuffle(x)\n",
        "print(f\"After shuufle : x = {x}\")\n",
        "random.shuffle(x)\n",
        "print(f\"After shuufle : x = {x}\")\n",
        "\n",
        "print(random.choice(x))\n",
        "print(random.choice(x))\n",
        "print(random.choice(x))\n",
        "\n"
      ],
      "execution_count": null,
      "outputs": [
        {
          "output_type": "stream",
          "name": "stdout",
          "text": [
            "Before shuufle : x = [1, 2, 3, 4, 5, 6]\n",
            "After shuufle : x = [4, 2, 6, 5, 3, 1]\n",
            "After shuufle : x = [3, 2, 6, 4, 1, 5]\n",
            "4\n",
            "6\n",
            "3\n"
          ]
        }
      ]
    },
    {
      "cell_type": "code",
      "metadata": {
        "colab": {
          "base_uri": "https://localhost:8080/"
        },
        "id": "iAgdZ494hUTu",
        "outputId": "a4ec1923-8740-4645-b50d-a2f7d821e8b4"
      },
      "source": [
        "import functools\n",
        "n = 50\n",
        "functools.reduce(lambda x,y : x*y , range(1,n+1))"
      ],
      "execution_count": null,
      "outputs": [
        {
          "output_type": "execute_result",
          "data": {
            "text/plain": [
              "30414093201713378043612608166064768844377641568960512000000000000"
            ]
          },
          "metadata": {},
          "execution_count": 44
        }
      ]
    },
    {
      "cell_type": "code",
      "metadata": {
        "colab": {
          "base_uri": "https://localhost:8080/"
        },
        "id": "wwx7HFJPAODO",
        "outputId": "6f97b9f9-55ff-42da-9a03-ac328ed5b9a6"
      },
      "source": [
        "random.choice(range(20))"
      ],
      "execution_count": null,
      "outputs": [
        {
          "output_type": "execute_result",
          "data": {
            "text/plain": [
              "3"
            ]
          },
          "metadata": {},
          "execution_count": 46
        }
      ]
    },
    {
      "cell_type": "code",
      "metadata": {
        "colab": {
          "base_uri": "https://localhost:8080/"
        },
        "id": "dNGBYA_iAfcM",
        "outputId": "dc55e230-5e11-4d2c-b359-e62daeaa70e9"
      },
      "source": [
        "random.randrange(1,100,2)"
      ],
      "execution_count": null,
      "outputs": [
        {
          "output_type": "execute_result",
          "data": {
            "text/plain": [
              "15"
            ]
          },
          "metadata": {},
          "execution_count": 48
        }
      ]
    },
    {
      "cell_type": "code",
      "metadata": {
        "colab": {
          "base_uri": "https://localhost:8080/"
        },
        "id": "5peWhUtAApbo",
        "outputId": "a539e826-2173-4791-98f1-c7f593b607c2"
      },
      "source": [
        "random.randrange(0,100,2)"
      ],
      "execution_count": null,
      "outputs": [
        {
          "output_type": "execute_result",
          "data": {
            "text/plain": [
              "50"
            ]
          },
          "metadata": {},
          "execution_count": 119
        }
      ]
    },
    {
      "cell_type": "code",
      "metadata": {
        "colab": {
          "base_uri": "https://localhost:8080/"
        },
        "id": "RNVIWwE0A6TI",
        "outputId": "e10e9a73-16a1-4a27-ca32-14ed73a86f9d"
      },
      "source": [
        "random.randrange(20)"
      ],
      "execution_count": null,
      "outputs": [
        {
          "output_type": "execute_result",
          "data": {
            "text/plain": [
              "0"
            ]
          },
          "metadata": {},
          "execution_count": 114
        }
      ]
    },
    {
      "cell_type": "code",
      "metadata": {
        "colab": {
          "base_uri": "https://localhost:8080/"
        },
        "id": "jROl_qRMBG7l",
        "outputId": "ab469c92-2f4a-4eea-aedd-eefacc6ee65d"
      },
      "source": [
        "random.random()"
      ],
      "execution_count": null,
      "outputs": [
        {
          "output_type": "execute_result",
          "data": {
            "text/plain": [
              "0.5570497394846375"
            ]
          },
          "metadata": {},
          "execution_count": 50
        }
      ]
    },
    {
      "cell_type": "code",
      "metadata": {
        "colab": {
          "base_uri": "https://localhost:8080/"
        },
        "id": "ZGBwQNyRB5Rf",
        "outputId": "7bc726f2-c8a5-46ec-fe4f-a7a178c5fbbc"
      },
      "source": [
        "round(random.uniform(15,25),2)"
      ],
      "execution_count": null,
      "outputs": [
        {
          "output_type": "execute_result",
          "data": {
            "text/plain": [
              "19.72"
            ]
          },
          "metadata": {},
          "execution_count": 55
        }
      ]
    },
    {
      "cell_type": "code",
      "metadata": {
        "colab": {
          "base_uri": "https://localhost:8080/"
        },
        "id": "mWnotGueCZjo",
        "outputId": "b2667ed0-296e-46bf-8b05-6a89fffc2194"
      },
      "source": [
        "n = 18567432.1254378543\n",
        "print(f\"Value of n : ${n:,.2f}\")"
      ],
      "execution_count": null,
      "outputs": [
        {
          "output_type": "stream",
          "name": "stdout",
          "text": [
            "Value of n : $18,567,432.13\n"
          ]
        }
      ]
    },
    {
      "cell_type": "code",
      "metadata": {
        "colab": {
          "base_uri": "https://localhost:8080/"
        },
        "id": "fWRfzE4NDLg1",
        "outputId": "cd80e751-5767-4d4a-c6e0-52e4c8ca67ac"
      },
      "source": [
        "n=0.7845\n",
        "print(f\"Value of n : {n:.2%}\")"
      ],
      "execution_count": null,
      "outputs": [
        {
          "output_type": "stream",
          "name": "stdout",
          "text": [
            "Value of n : 78.5%\n"
          ]
        }
      ]
    },
    {
      "cell_type": "code",
      "metadata": {
        "colab": {
          "base_uri": "https://localhost:8080/"
        },
        "id": "YwrfXr35C08Q",
        "outputId": "ad01847c-bfd6-4f05-c264-8a60384dc8b4"
      },
      "source": [
        "n = 1234567890\n",
        "print(f\"Value of  n : {n:,}\")"
      ],
      "execution_count": null,
      "outputs": [
        {
          "output_type": "stream",
          "name": "stdout",
          "text": [
            "Value of  n : 1,234,567,890\n"
          ]
        }
      ]
    },
    {
      "cell_type": "markdown",
      "metadata": {
        "id": "nFUd9QdhNdfT"
      },
      "source": [
        "# String\n",
        "\n",
        "## The concat operator (+)"
      ]
    },
    {
      "cell_type": "code",
      "metadata": {
        "colab": {
          "base_uri": "https://localhost:8080/",
          "height": 35
        },
        "id": "oV1lFVzuNlzA",
        "outputId": "deedd284-e9d3-4f9c-f750-520d375a27f1"
      },
      "source": [
        "s = \"foo\"\n",
        "t = \"bar\"\n",
        "u = \"qwe\"\n",
        "s + t + u"
      ],
      "execution_count": null,
      "outputs": [
        {
          "output_type": "execute_result",
          "data": {
            "application/vnd.google.colaboratory.intrinsic+json": {
              "type": "string"
            },
            "text/plain": [
              "'foobarqwe'"
            ]
          },
          "metadata": {},
          "execution_count": 3
        }
      ]
    },
    {
      "cell_type": "markdown",
      "metadata": {
        "id": "gERXqBCZODAl"
      },
      "source": [
        "## The repitition operator (*)"
      ]
    },
    {
      "cell_type": "code",
      "metadata": {
        "colab": {
          "base_uri": "https://localhost:8080/",
          "height": 35
        },
        "id": "LVjMiYy1OF1w",
        "outputId": "99e79422-2ea1-448b-c2b3-2f453a6a02d6"
      },
      "source": [
        "5 * s\n"
      ],
      "execution_count": null,
      "outputs": [
        {
          "output_type": "execute_result",
          "data": {
            "application/vnd.google.colaboratory.intrinsic+json": {
              "type": "string"
            },
            "text/plain": [
              "'foofoofoofoofoo'"
            ]
          },
          "metadata": {},
          "execution_count": 5
        }
      ]
    },
    {
      "cell_type": "code",
      "metadata": {
        "colab": {
          "base_uri": "https://localhost:8080/",
          "height": 35
        },
        "id": "v54pbz45ONlN",
        "outputId": "42be85a9-1fd3-47ef-e480-c82bec172c35"
      },
      "source": [
        "s * -5"
      ],
      "execution_count": null,
      "outputs": [
        {
          "output_type": "execute_result",
          "data": {
            "application/vnd.google.colaboratory.intrinsic+json": {
              "type": "string"
            },
            "text/plain": [
              "''"
            ]
          },
          "metadata": {},
          "execution_count": 6
        }
      ]
    },
    {
      "cell_type": "markdown",
      "metadata": {
        "id": "0A91pps2OU50"
      },
      "source": [
        "## The membership operator (in)"
      ]
    },
    {
      "cell_type": "code",
      "metadata": {
        "colab": {
          "base_uri": "https://localhost:8080/"
        },
        "id": "DtdXFPOsOY-w",
        "outputId": "f23ec162-7a9f-4bb6-ca89-8c5b9a612985"
      },
      "source": [
        "w = 'Caterpillar'\n",
        "print('r' in w)\n",
        "print('y' in w)\n",
        "print('Cat' in w)\n",
        "print('pill' in w)\n",
        "print('cat' in w)\n",
        "\n",
        "print('Dog' not in w)"
      ],
      "execution_count": null,
      "outputs": [
        {
          "output_type": "stream",
          "name": "stdout",
          "text": [
            "True\n",
            "False\n",
            "True\n",
            "True\n",
            "False\n",
            "True\n"
          ]
        }
      ]
    },
    {
      "cell_type": "markdown",
      "metadata": {
        "id": "1_C-u7Y3O3zr"
      },
      "source": [
        "## Inbuilt String functions\n",
        "\n",
        "1. chr() : Integer to char\n",
        "2. ord() : Char to int\n",
        "3. len() : Length \n",
        "4. str() : Typecast to str"
      ]
    },
    {
      "cell_type": "markdown",
      "metadata": {
        "id": "l2Y6ccrHPI8x"
      },
      "source": [
        "## String indexing"
      ]
    },
    {
      "cell_type": "code",
      "metadata": {
        "colab": {
          "base_uri": "https://localhost:8080/",
          "height": 35
        },
        "id": "T91pGON-PKxM",
        "outputId": "9a1e7192-d40d-4856-a192-ed8599f98e90"
      },
      "source": [
        "x = 'Caterpillar'\n",
        "x[2]"
      ],
      "execution_count": null,
      "outputs": [
        {
          "output_type": "execute_result",
          "data": {
            "application/vnd.google.colaboratory.intrinsic+json": {
              "type": "string"
            },
            "text/plain": [
              "'t'"
            ]
          },
          "metadata": {},
          "execution_count": 23
        }
      ]
    },
    {
      "cell_type": "code",
      "metadata": {
        "colab": {
          "base_uri": "https://localhost:8080/",
          "height": 35
        },
        "id": "95TyNWI-PSvf",
        "outputId": "a8998704-13cd-4b78-e52a-b6ba2784fd4a"
      },
      "source": [
        "x[-1]"
      ],
      "execution_count": null,
      "outputs": [
        {
          "output_type": "execute_result",
          "data": {
            "application/vnd.google.colaboratory.intrinsic+json": {
              "type": "string"
            },
            "text/plain": [
              "'r'"
            ]
          },
          "metadata": {},
          "execution_count": 14
        }
      ]
    },
    {
      "cell_type": "code",
      "metadata": {
        "colab": {
          "base_uri": "https://localhost:8080/",
          "height": 35
        },
        "id": "bOV5r9jePVBM",
        "outputId": "17cb7392-b276-4a3c-9e3f-feabe2c37e97"
      },
      "source": [
        "x[len(x) - 1]"
      ],
      "execution_count": null,
      "outputs": [
        {
          "output_type": "execute_result",
          "data": {
            "application/vnd.google.colaboratory.intrinsic+json": {
              "type": "string"
            },
            "text/plain": [
              "'r'"
            ]
          },
          "metadata": {},
          "execution_count": 15
        }
      ]
    },
    {
      "cell_type": "code",
      "metadata": {
        "colab": {
          "base_uri": "https://localhost:8080/",
          "height": 35
        },
        "id": "IK-U0M2-Pe7d",
        "outputId": "05d03d1b-2aca-49e6-af82-71a222025d8e"
      },
      "source": [
        "x[-len(x)]"
      ],
      "execution_count": null,
      "outputs": [
        {
          "output_type": "execute_result",
          "data": {
            "application/vnd.google.colaboratory.intrinsic+json": {
              "type": "string"
            },
            "text/plain": [
              "'C'"
            ]
          },
          "metadata": {},
          "execution_count": 16
        }
      ]
    },
    {
      "cell_type": "code",
      "metadata": {
        "colab": {
          "base_uri": "https://localhost:8080/",
          "height": 35
        },
        "id": "nzhArSChP1zn",
        "outputId": "2d704dea-b35f-4180-e6b1-3f2572963093"
      },
      "source": [
        "x[:4]"
      ],
      "execution_count": null,
      "outputs": [
        {
          "output_type": "execute_result",
          "data": {
            "application/vnd.google.colaboratory.intrinsic+json": {
              "type": "string"
            },
            "text/plain": [
              "'Cate'"
            ]
          },
          "metadata": {},
          "execution_count": 17
        }
      ]
    },
    {
      "cell_type": "code",
      "metadata": {
        "colab": {
          "base_uri": "https://localhost:8080/",
          "height": 35
        },
        "id": "xofFwGkTQDB3",
        "outputId": "fb8617e4-5c09-4520-e63f-5c5be946820b"
      },
      "source": [
        "x[3:len(x)]"
      ],
      "execution_count": null,
      "outputs": [
        {
          "output_type": "execute_result",
          "data": {
            "application/vnd.google.colaboratory.intrinsic+json": {
              "type": "string"
            },
            "text/plain": [
              "'erpillar'"
            ]
          },
          "metadata": {},
          "execution_count": 18
        }
      ]
    },
    {
      "cell_type": "code",
      "metadata": {
        "colab": {
          "base_uri": "https://localhost:8080/"
        },
        "id": "5Gcuj_BSQM02",
        "outputId": "cb469307-72e9-47bf-c415-73ebf60f9cb2"
      },
      "source": [
        "x[:4] + x[4:] == x"
      ],
      "execution_count": null,
      "outputs": [
        {
          "output_type": "execute_result",
          "data": {
            "text/plain": [
              "True"
            ]
          },
          "metadata": {},
          "execution_count": 20
        }
      ]
    },
    {
      "cell_type": "code",
      "metadata": {
        "colab": {
          "base_uri": "https://localhost:8080/"
        },
        "id": "pjbeo9ntQXE8",
        "outputId": "24c96478-0223-4d59-ecf5-2e7d924e7eba"
      },
      "source": [
        "y = x[:]\n",
        "x is y\n",
        "id(x), id(y)"
      ],
      "execution_count": null,
      "outputs": [
        {
          "output_type": "execute_result",
          "data": {
            "text/plain": [
              "(140520194323696, 140520194323696)"
            ]
          },
          "metadata": {},
          "execution_count": 25
        }
      ]
    },
    {
      "cell_type": "code",
      "metadata": {
        "colab": {
          "base_uri": "https://localhost:8080/"
        },
        "id": "bITpK9i1Qo82",
        "outputId": "a6aa3f00-e8d7-4d3b-9aef-bb0266694f6b"
      },
      "source": [
        "p = [1,2]\n",
        "q = p[:]\n",
        "p is q\n",
        "id(p), id(q)"
      ],
      "execution_count": null,
      "outputs": [
        {
          "output_type": "execute_result",
          "data": {
            "text/plain": [
              "(140520194304272, 140520194304272)"
            ]
          },
          "metadata": {},
          "execution_count": 28
        }
      ]
    },
    {
      "cell_type": "code",
      "metadata": {
        "colab": {
          "base_uri": "https://localhost:8080/",
          "height": 35
        },
        "id": "oWaDKuEVRh-c",
        "outputId": "1110f1c9-7086-435a-fecb-4e717f7cd281"
      },
      "source": [
        "x[2:2]"
      ],
      "execution_count": null,
      "outputs": [
        {
          "output_type": "execute_result",
          "data": {
            "application/vnd.google.colaboratory.intrinsic+json": {
              "type": "string"
            },
            "text/plain": [
              "''"
            ]
          },
          "metadata": {},
          "execution_count": 29
        }
      ]
    },
    {
      "cell_type": "code",
      "metadata": {
        "colab": {
          "base_uri": "https://localhost:8080/",
          "height": 35
        },
        "id": "YzivEDuYRsve",
        "outputId": "9b2729fc-96be-420c-c827-d8e4701888b9"
      },
      "source": [
        "x[4:2]"
      ],
      "execution_count": null,
      "outputs": [
        {
          "output_type": "execute_result",
          "data": {
            "application/vnd.google.colaboratory.intrinsic+json": {
              "type": "string"
            },
            "text/plain": [
              "''"
            ]
          },
          "metadata": {},
          "execution_count": 30
        }
      ]
    },
    {
      "cell_type": "code",
      "metadata": {
        "colab": {
          "base_uri": "https://localhost:8080/",
          "height": 35
        },
        "id": "YNwe5E6RRwG5",
        "outputId": "a21fdf8d-02c1-4297-d43a-fe32c1d0b26c"
      },
      "source": [
        "x"
      ],
      "execution_count": null,
      "outputs": [
        {
          "output_type": "execute_result",
          "data": {
            "application/vnd.google.colaboratory.intrinsic+json": {
              "type": "string"
            },
            "text/plain": [
              "'Caterpillar'"
            ]
          },
          "metadata": {},
          "execution_count": 31
        }
      ]
    },
    {
      "cell_type": "code",
      "metadata": {
        "colab": {
          "base_uri": "https://localhost:8080/"
        },
        "id": "3ROyeL6CRydg",
        "outputId": "1ffd69ae-10a2-41fa-9f33-585e36bcc60a"
      },
      "source": [
        "x[-5:-2] == x[6:9]"
      ],
      "execution_count": null,
      "outputs": [
        {
          "output_type": "execute_result",
          "data": {
            "text/plain": [
              "True"
            ]
          },
          "metadata": {},
          "execution_count": 33
        }
      ]
    },
    {
      "cell_type": "code",
      "metadata": {
        "colab": {
          "base_uri": "https://localhost:8080/",
          "height": 35
        },
        "id": "Cgx3HqCBSG2W",
        "outputId": "837ec2ba-8468-46db-f0d4-c9d86c5d38d7"
      },
      "source": [
        "x[::2]  # Step or stride"
      ],
      "execution_count": null,
      "outputs": [
        {
          "output_type": "execute_result",
          "data": {
            "application/vnd.google.colaboratory.intrinsic+json": {
              "type": "string"
            },
            "text/plain": [
              "'Ctrilr'"
            ]
          },
          "metadata": {},
          "execution_count": 34
        }
      ]
    },
    {
      "cell_type": "code",
      "metadata": {
        "colab": {
          "base_uri": "https://localhost:8080/",
          "height": 35
        },
        "id": "V3ZfxCoaSXqY",
        "outputId": "344653cf-a3e3-4af2-bb2d-96de7db2ef6d"
      },
      "source": [
        "x[4:2:-1]"
      ],
      "execution_count": null,
      "outputs": [
        {
          "output_type": "execute_result",
          "data": {
            "application/vnd.google.colaboratory.intrinsic+json": {
              "type": "string"
            },
            "text/plain": [
              "'re'"
            ]
          },
          "metadata": {},
          "execution_count": 35
        }
      ]
    },
    {
      "cell_type": "code",
      "metadata": {
        "colab": {
          "base_uri": "https://localhost:8080/",
          "height": 35
        },
        "id": "QRYTBYYPSxwQ",
        "outputId": "7e9ecb3d-9be1-40bb-9ca3-46f341e31337"
      },
      "source": [
        "x[5:0:-2]"
      ],
      "execution_count": null,
      "outputs": [
        {
          "output_type": "execute_result",
          "data": {
            "application/vnd.google.colaboratory.intrinsic+json": {
              "type": "string"
            },
            "text/plain": [
              "'pea'"
            ]
          },
          "metadata": {},
          "execution_count": 36
        }
      ]
    },
    {
      "cell_type": "markdown",
      "metadata": {
        "id": "-zn7DmGvS-Q9"
      },
      "source": [
        "## Advanced functions:\n",
        "\n",
        "1. replace()\n",
        "2. capitalize()\n",
        "3. title()\n",
        "4. lower()\n",
        "5. upper()\n",
        "6. swapcase()\n",
        "7. find()\n",
        "8. index()\n",
        "9. count()\n",
        "10. startswith()\n",
        "11. endswith()\n",
        "12. rfind()\n",
        "13. rindex()\n",
        "14. isalnum()\n",
        "15. isalpha()\n",
        "16. isdigit()\n",
        "17. islower()\n",
        "18. isupper()\n",
        "19. istitle()\n",
        "20. center()\n",
        "21. ljust()\n",
        "22. rjust()\n",
        "23. strip()\n",
        "24. lstrip()\n",
        "25. rstrip()\n",
        "26. zfill()\n",
        "27. split()\n",
        "28. join()\n",
        "29. rsplit()\n",
        "\n"
      ]
    },
    {
      "cell_type": "code",
      "metadata": {
        "id": "jo8WVi2ETCex"
      },
      "source": [
        "x = \"The quick brown fox jumps over the lazy dog\""
      ],
      "execution_count": null,
      "outputs": []
    },
    {
      "cell_type": "code",
      "metadata": {
        "colab": {
          "base_uri": "https://localhost:8080/",
          "height": 35
        },
        "id": "mtKY0BZNTHuc",
        "outputId": "5cd70392-ee55-44a2-d856-6b836579d12f"
      },
      "source": [
        "x.replace('o', '*')"
      ],
      "execution_count": null,
      "outputs": [
        {
          "output_type": "execute_result",
          "data": {
            "application/vnd.google.colaboratory.intrinsic+json": {
              "type": "string"
            },
            "text/plain": [
              "'The quick br*wn f*x jumps *ver the lazy d*g'"
            ]
          },
          "metadata": {},
          "execution_count": 40
        }
      ]
    },
    {
      "cell_type": "code",
      "metadata": {
        "colab": {
          "base_uri": "https://localhost:8080/",
          "height": 35
        },
        "id": "RP_dvYIHTUgq",
        "outputId": "bd4751a2-43a0-427a-c513-89926b50b94b"
      },
      "source": [
        "x.replace('o', '#', 2)"
      ],
      "execution_count": null,
      "outputs": [
        {
          "output_type": "execute_result",
          "data": {
            "application/vnd.google.colaboratory.intrinsic+json": {
              "type": "string"
            },
            "text/plain": [
              "'The quick br#wn f#x jumps over the lazy dog'"
            ]
          },
          "metadata": {},
          "execution_count": 41
        }
      ]
    },
    {
      "cell_type": "code",
      "metadata": {
        "colab": {
          "base_uri": "https://localhost:8080/",
          "height": 35
        },
        "id": "Mdy3AtG5TYRU",
        "outputId": "fcfcfb4e-046c-4001-b8ef-c83a346c8ac4"
      },
      "source": [
        "y = 'Ramakanata Banick panicked at the sight of the squirrel'\n",
        "y.replace('ck', '#$')"
      ],
      "execution_count": null,
      "outputs": [
        {
          "output_type": "execute_result",
          "data": {
            "application/vnd.google.colaboratory.intrinsic+json": {
              "type": "string"
            },
            "text/plain": [
              "'Ramakanata Bani#$ pani#$ed at the sight of the squirrel'"
            ]
          },
          "metadata": {},
          "execution_count": 61
        }
      ]
    },
    {
      "cell_type": "code",
      "metadata": {
        "colab": {
          "base_uri": "https://localhost:8080/",
          "height": 35
        },
        "id": "yVr9k_MlVcbG",
        "outputId": "aa6408db-978b-4221-c2aa-dc7a4eda56b1"
      },
      "source": [
        "x = 'the times of india'\n",
        "x.capitalize()"
      ],
      "execution_count": null,
      "outputs": [
        {
          "output_type": "execute_result",
          "data": {
            "application/vnd.google.colaboratory.intrinsic+json": {
              "type": "string"
            },
            "text/plain": [
              "'The times of india'"
            ]
          },
          "metadata": {},
          "execution_count": 62
        }
      ]
    },
    {
      "cell_type": "code",
      "metadata": {
        "colab": {
          "base_uri": "https://localhost:8080/",
          "height": 35
        },
        "id": "WvKwGoGqViA6",
        "outputId": "86c0d535-4255-4cc4-9c09-b025f615eed0"
      },
      "source": [
        "x.title()"
      ],
      "execution_count": null,
      "outputs": [
        {
          "output_type": "execute_result",
          "data": {
            "application/vnd.google.colaboratory.intrinsic+json": {
              "type": "string"
            },
            "text/plain": [
              "'The Times Of India'"
            ]
          },
          "metadata": {},
          "execution_count": 44
        }
      ]
    },
    {
      "cell_type": "code",
      "metadata": {
        "colab": {
          "base_uri": "https://localhost:8080/",
          "height": 35
        },
        "id": "jhBgPRKyVmAX",
        "outputId": "24ed58af-0074-4641-8a6b-dea507859137"
      },
      "source": [
        "y = 'tHe TimEs oF IndiA'\n",
        "y.capitalize()"
      ],
      "execution_count": null,
      "outputs": [
        {
          "output_type": "execute_result",
          "data": {
            "application/vnd.google.colaboratory.intrinsic+json": {
              "type": "string"
            },
            "text/plain": [
              "'The times of india'"
            ]
          },
          "metadata": {},
          "execution_count": 46
        }
      ]
    },
    {
      "cell_type": "code",
      "metadata": {
        "colab": {
          "base_uri": "https://localhost:8080/",
          "height": 35
        },
        "id": "F_fyX9xqVvwE",
        "outputId": "a2e6c460-4fe3-4aa9-863f-71dc22c3cf04"
      },
      "source": [
        "y.title()"
      ],
      "execution_count": null,
      "outputs": [
        {
          "output_type": "execute_result",
          "data": {
            "application/vnd.google.colaboratory.intrinsic+json": {
              "type": "string"
            },
            "text/plain": [
              "'The Times Of India'"
            ]
          },
          "metadata": {},
          "execution_count": 47
        }
      ]
    },
    {
      "cell_type": "code",
      "metadata": {
        "colab": {
          "base_uri": "https://localhost:8080/",
          "height": 35
        },
        "id": "d7luh8MLV5Vd",
        "outputId": "9e18cb37-bc6a-4777-8871-db4014d5b474"
      },
      "source": [
        "y.lower()"
      ],
      "execution_count": null,
      "outputs": [
        {
          "output_type": "execute_result",
          "data": {
            "application/vnd.google.colaboratory.intrinsic+json": {
              "type": "string"
            },
            "text/plain": [
              "'the times of india'"
            ]
          },
          "metadata": {},
          "execution_count": 48
        }
      ]
    },
    {
      "cell_type": "code",
      "metadata": {
        "colab": {
          "base_uri": "https://localhost:8080/",
          "height": 35
        },
        "id": "AVsgyDo9V7sH",
        "outputId": "6b51df6f-fe56-43d5-8e18-5af4e323a42d"
      },
      "source": [
        "x.upper()"
      ],
      "execution_count": null,
      "outputs": [
        {
          "output_type": "execute_result",
          "data": {
            "application/vnd.google.colaboratory.intrinsic+json": {
              "type": "string"
            },
            "text/plain": [
              "'THE TIMES OF INDIA'"
            ]
          },
          "metadata": {},
          "execution_count": 49
        }
      ]
    },
    {
      "cell_type": "code",
      "metadata": {
        "colab": {
          "base_uri": "https://localhost:8080/",
          "height": 35
        },
        "id": "yZjFu-i5WAeL",
        "outputId": "8f47668c-5276-4504-9e37-9256615d7fd0"
      },
      "source": [
        "y.swapcase()"
      ],
      "execution_count": null,
      "outputs": [
        {
          "output_type": "execute_result",
          "data": {
            "application/vnd.google.colaboratory.intrinsic+json": {
              "type": "string"
            },
            "text/plain": [
              "'ThE tIMeS Of iNDIa'"
            ]
          },
          "metadata": {},
          "execution_count": 50
        }
      ]
    },
    {
      "cell_type": "code",
      "metadata": {
        "colab": {
          "base_uri": "https://localhost:8080/",
          "height": 35
        },
        "id": "2Ns3BL40WGJi",
        "outputId": "1b549696-5bf3-4888-ff00-87b272b9f7c4"
      },
      "source": [
        "x"
      ],
      "execution_count": null,
      "outputs": [
        {
          "output_type": "execute_result",
          "data": {
            "application/vnd.google.colaboratory.intrinsic+json": {
              "type": "string"
            },
            "text/plain": [
              "'the times of india'"
            ]
          },
          "metadata": {},
          "execution_count": 53
        }
      ]
    },
    {
      "cell_type": "code",
      "metadata": {
        "colab": {
          "base_uri": "https://localhost:8080/"
        },
        "id": "QwQha0zFWPka",
        "outputId": "3fe1f744-aa05-4e9d-8ef9-c0689f5d0854"
      },
      "source": [
        "x.find('i') # x.find(substring, start, end)"
      ],
      "execution_count": null,
      "outputs": [
        {
          "output_type": "execute_result",
          "data": {
            "text/plain": [
              "5"
            ]
          },
          "metadata": {},
          "execution_count": 54
        }
      ]
    },
    {
      "cell_type": "code",
      "metadata": {
        "colab": {
          "base_uri": "https://localhost:8080/"
        },
        "id": "_N7UFM1eWVfL",
        "outputId": "52eab625-88ca-4922-c309-e4ce44f8db90"
      },
      "source": [
        "x.find('z')"
      ],
      "execution_count": null,
      "outputs": [
        {
          "output_type": "execute_result",
          "data": {
            "text/plain": [
              "-1"
            ]
          },
          "metadata": {},
          "execution_count": 55
        }
      ]
    },
    {
      "cell_type": "code",
      "metadata": {
        "colab": {
          "base_uri": "https://localhost:8080/"
        },
        "id": "Vpa2DM9wWgWj",
        "outputId": "1aca557e-ffa5-42a5-d128-87f8f93fe171"
      },
      "source": [
        "x.find('i', 6,11)"
      ],
      "execution_count": null,
      "outputs": [
        {
          "output_type": "execute_result",
          "data": {
            "text/plain": [
              "-1"
            ]
          },
          "metadata": {},
          "execution_count": 58
        }
      ]
    },
    {
      "cell_type": "code",
      "metadata": {
        "colab": {
          "base_uri": "https://localhost:8080/"
        },
        "id": "RrgPICL7XHyn",
        "outputId": "5060c35c-ee53-4e49-c2d0-2abfe3efe7a3"
      },
      "source": [
        "x.find('i', 6)"
      ],
      "execution_count": null,
      "outputs": [
        {
          "output_type": "execute_result",
          "data": {
            "text/plain": [
              "13"
            ]
          },
          "metadata": {},
          "execution_count": 59
        }
      ]
    },
    {
      "cell_type": "code",
      "metadata": {
        "colab": {
          "base_uri": "https://localhost:8080/"
        },
        "id": "LyUW5MOEX8TE",
        "outputId": "e5dab33a-d320-41eb-ee14-3735814b9d0c"
      },
      "source": [
        "x.rfind('i')"
      ],
      "execution_count": null,
      "outputs": [
        {
          "output_type": "execute_result",
          "data": {
            "text/plain": [
              "16"
            ]
          },
          "metadata": {},
          "execution_count": 69
        }
      ]
    },
    {
      "cell_type": "code",
      "metadata": {
        "colab": {
          "base_uri": "https://localhost:8080/"
        },
        "id": "7nURPTOLXLx4",
        "outputId": "f226d0b4-2d59-4222-da96-e02cd872af5e"
      },
      "source": [
        "x.index('i')"
      ],
      "execution_count": null,
      "outputs": [
        {
          "output_type": "execute_result",
          "data": {
            "text/plain": [
              "5"
            ]
          },
          "metadata": {},
          "execution_count": 60
        }
      ]
    },
    {
      "cell_type": "code",
      "metadata": {
        "colab": {
          "base_uri": "https://localhost:8080/"
        },
        "id": "KJtEpJsqYQyn",
        "outputId": "bb73ad55-77f7-4e96-9b1a-e41466d7dacd"
      },
      "source": [
        "x.rindex('i',0,14)"
      ],
      "execution_count": null,
      "outputs": [
        {
          "output_type": "execute_result",
          "data": {
            "text/plain": [
              "13"
            ]
          },
          "metadata": {},
          "execution_count": 71
        }
      ]
    },
    {
      "cell_type": "code",
      "metadata": {
        "colab": {
          "base_uri": "https://localhost:8080/",
          "height": 164
        },
        "id": "LixncTSNXQlY",
        "outputId": "b2da40fe-10ce-46d4-e8f2-2c86ea903b2b"
      },
      "source": [
        "x.index('z')"
      ],
      "execution_count": null,
      "outputs": [
        {
          "output_type": "error",
          "ename": "ValueError",
          "evalue": "ignored",
          "traceback": [
            "\u001b[0;31m---------------------------------------------------------------------------\u001b[0m",
            "\u001b[0;31mValueError\u001b[0m                                Traceback (most recent call last)",
            "\u001b[0;32m<ipython-input-61-e12658e59b0e>\u001b[0m in \u001b[0;36m<module>\u001b[0;34m()\u001b[0m\n\u001b[0;32m----> 1\u001b[0;31m \u001b[0mx\u001b[0m\u001b[0;34m.\u001b[0m\u001b[0mindex\u001b[0m\u001b[0;34m(\u001b[0m\u001b[0;34m'z'\u001b[0m\u001b[0;34m)\u001b[0m\u001b[0;34m\u001b[0m\u001b[0;34m\u001b[0m\u001b[0m\n\u001b[0m",
            "\u001b[0;31mValueError\u001b[0m: substring not found"
          ]
        }
      ]
    },
    {
      "cell_type": "code",
      "metadata": {
        "colab": {
          "base_uri": "https://localhost:8080/",
          "height": 35
        },
        "id": "HPgjCuq9Xa-u",
        "outputId": "5076f489-2920-4629-f1f6-d870203cf424"
      },
      "source": [
        "x"
      ],
      "execution_count": null,
      "outputs": [
        {
          "output_type": "execute_result",
          "data": {
            "application/vnd.google.colaboratory.intrinsic+json": {
              "type": "string"
            },
            "text/plain": [
              "'the times of india'"
            ]
          },
          "metadata": {},
          "execution_count": 62
        }
      ]
    },
    {
      "cell_type": "code",
      "metadata": {
        "colab": {
          "base_uri": "https://localhost:8080/"
        },
        "id": "kEefSmbpXc93",
        "outputId": "8c1c4792-b479-47d9-caaa-105b3c29e975"
      },
      "source": [
        "x.count('i',0,10)"
      ],
      "execution_count": null,
      "outputs": [
        {
          "output_type": "execute_result",
          "data": {
            "text/plain": [
              "1"
            ]
          },
          "metadata": {},
          "execution_count": 64
        }
      ]
    },
    {
      "cell_type": "code",
      "metadata": {
        "colab": {
          "base_uri": "https://localhost:8080/"
        },
        "id": "H58L9BSYXrWb",
        "outputId": "88160231-9b33-462e-c6b4-6854744f7efb"
      },
      "source": [
        "x.startswith('th')"
      ],
      "execution_count": null,
      "outputs": [
        {
          "output_type": "execute_result",
          "data": {
            "text/plain": [
              "True"
            ]
          },
          "metadata": {},
          "execution_count": 67
        }
      ]
    },
    {
      "cell_type": "code",
      "metadata": {
        "colab": {
          "base_uri": "https://localhost:8080/"
        },
        "id": "s18pu5ZgX0zM",
        "outputId": "4205f72b-75ec-4f41-c3b0-8c6ebfe4af15"
      },
      "source": [
        "x.endswith('india')"
      ],
      "execution_count": null,
      "outputs": [
        {
          "output_type": "execute_result",
          "data": {
            "text/plain": [
              "True"
            ]
          },
          "metadata": {},
          "execution_count": 66
        }
      ]
    },
    {
      "cell_type": "code",
      "metadata": {
        "colab": {
          "base_uri": "https://localhost:8080/"
        },
        "id": "GaWmGaD0YdB5",
        "outputId": "8c694a63-46af-47b0-bffd-76d3c139c1d2"
      },
      "source": [
        "y = 'Saptarshi Tarafdar'\n",
        "y.rindex('r',0,13)\n"
      ],
      "execution_count": null,
      "outputs": [
        {
          "output_type": "execute_result",
          "data": {
            "text/plain": [
              "12"
            ]
          },
          "metadata": {},
          "execution_count": 69
        }
      ]
    },
    {
      "cell_type": "code",
      "metadata": {
        "colab": {
          "base_uri": "https://localhost:8080/"
        },
        "id": "FYmeLhmMY9BS",
        "outputId": "33b647f5-475a-4d89-877c-53db6e69d316"
      },
      "source": [
        "'Passw0rd1!'.isalnum()"
      ],
      "execution_count": null,
      "outputs": [
        {
          "output_type": "execute_result",
          "data": {
            "text/plain": [
              "False"
            ]
          },
          "metadata": {},
          "execution_count": 70
        }
      ]
    },
    {
      "cell_type": "code",
      "metadata": {
        "colab": {
          "base_uri": "https://localhost:8080/"
        },
        "id": "qlTL4gH_ZXGG",
        "outputId": "226504ad-bf99-440a-a046-d03b1ab975ee"
      },
      "source": [
        "'Passw0rd1'.isalnum()"
      ],
      "execution_count": null,
      "outputs": [
        {
          "output_type": "execute_result",
          "data": {
            "text/plain": [
              "True"
            ]
          },
          "metadata": {},
          "execution_count": 71
        }
      ]
    },
    {
      "cell_type": "code",
      "metadata": {
        "colab": {
          "base_uri": "https://localhost:8080/"
        },
        "id": "lZqLgB4WZaS1",
        "outputId": "33e4ba0e-bed2-44a3-be25-47eedc456b5b"
      },
      "source": [
        "'Passw0rd1'.isalpha()"
      ],
      "execution_count": null,
      "outputs": [
        {
          "output_type": "execute_result",
          "data": {
            "text/plain": [
              "False"
            ]
          },
          "metadata": {},
          "execution_count": 79
        }
      ]
    },
    {
      "cell_type": "code",
      "metadata": {
        "colab": {
          "base_uri": "https://localhost:8080/"
        },
        "id": "1npZm5OLZk9a",
        "outputId": "2b03585c-4079-4dd6-b9da-424f72b9966f"
      },
      "source": [
        "'12'.isdigit()"
      ],
      "execution_count": null,
      "outputs": [
        {
          "output_type": "execute_result",
          "data": {
            "text/plain": [
              "True"
            ]
          },
          "metadata": {},
          "execution_count": 72
        }
      ]
    },
    {
      "cell_type": "code",
      "metadata": {
        "colab": {
          "base_uri": "https://localhost:8080/"
        },
        "id": "9TVyMTsbZugY",
        "outputId": "ee5e40ee-0c99-42f3-8445-5998f4079806"
      },
      "source": [
        "'the times of India'.islower()"
      ],
      "execution_count": null,
      "outputs": [
        {
          "output_type": "execute_result",
          "data": {
            "text/plain": [
              "False"
            ]
          },
          "metadata": {},
          "execution_count": 73
        }
      ]
    },
    {
      "cell_type": "code",
      "metadata": {
        "colab": {
          "base_uri": "https://localhost:8080/",
          "height": 35
        },
        "id": "m8PHBUaoln8A",
        "outputId": "38f60a34-d062-4dab-a044-1cca52a62260"
      },
      "source": [
        "x = 'Kalyani Ray'\n",
        "x.center(100,\"*\")"
      ],
      "execution_count": null,
      "outputs": [
        {
          "output_type": "execute_result",
          "data": {
            "application/vnd.google.colaboratory.intrinsic+json": {
              "type": "string"
            },
            "text/plain": [
              "'********************************************Kalyani Ray*********************************************'"
            ]
          },
          "metadata": {},
          "execution_count": 77
        }
      ]
    },
    {
      "cell_type": "code",
      "metadata": {
        "colab": {
          "base_uri": "https://localhost:8080/",
          "height": 35
        },
        "id": "w6WAxsuDZ20k",
        "outputId": "a5075ccd-6f59-411a-f2bc-2b1ffbc9a539"
      },
      "source": [
        "x.title().center(100,'*')"
      ],
      "execution_count": null,
      "outputs": [
        {
          "output_type": "execute_result",
          "data": {
            "application/vnd.google.colaboratory.intrinsic+json": {
              "type": "string"
            },
            "text/plain": [
              "'*****************************************The Times Of India*****************************************'"
            ]
          },
          "metadata": {},
          "execution_count": 88
        }
      ]
    },
    {
      "cell_type": "code",
      "metadata": {
        "colab": {
          "base_uri": "https://localhost:8080/",
          "height": 35
        },
        "id": "X-dZhXBdbCpe",
        "outputId": "2e382afa-4a45-4795-fd5d-e69af4ba8f7b"
      },
      "source": [
        "y = x.title().center(100,'*')\n",
        "y.strip('*')"
      ],
      "execution_count": null,
      "outputs": [
        {
          "output_type": "execute_result",
          "data": {
            "application/vnd.google.colaboratory.intrinsic+json": {
              "type": "string"
            },
            "text/plain": [
              "'The Times Of India'"
            ]
          },
          "metadata": {},
          "execution_count": 94
        }
      ]
    },
    {
      "cell_type": "code",
      "metadata": {
        "colab": {
          "base_uri": "https://localhost:8080/",
          "height": 35
        },
        "id": "e2f1QRs-bN2d",
        "outputId": "78d89910-342a-4cb5-cab3-52248a622671"
      },
      "source": [
        "'    91 869 773 1112    '.strip()"
      ],
      "execution_count": null,
      "outputs": [
        {
          "output_type": "execute_result",
          "data": {
            "application/vnd.google.colaboratory.intrinsic+json": {
              "type": "string"
            },
            "text/plain": [
              "'91 869 773 1112'"
            ]
          },
          "metadata": {},
          "execution_count": 91
        }
      ]
    },
    {
      "cell_type": "code",
      "metadata": {
        "colab": {
          "base_uri": "https://localhost:8080/",
          "height": 35
        },
        "id": "0x3bR9_8bZg4",
        "outputId": "f4b30533-0a7f-489e-b797-5a08129e8013"
      },
      "source": [
        "'    91 869 773 1112    '.lstrip()"
      ],
      "execution_count": null,
      "outputs": [
        {
          "output_type": "execute_result",
          "data": {
            "application/vnd.google.colaboratory.intrinsic+json": {
              "type": "string"
            },
            "text/plain": [
              "'91 869 773 1112    '"
            ]
          },
          "metadata": {},
          "execution_count": 92
        }
      ]
    },
    {
      "cell_type": "code",
      "metadata": {
        "colab": {
          "base_uri": "https://localhost:8080/",
          "height": 35
        },
        "id": "fK4cStlXbc7f",
        "outputId": "ad5e0930-1e86-4e9b-e3cb-31340559be9e"
      },
      "source": [
        "'    91 869 773 1112    '.rstrip()"
      ],
      "execution_count": null,
      "outputs": [
        {
          "output_type": "execute_result",
          "data": {
            "application/vnd.google.colaboratory.intrinsic+json": {
              "type": "string"
            },
            "text/plain": [
              "'    91 869 773 1112'"
            ]
          },
          "metadata": {},
          "execution_count": 93
        }
      ]
    },
    {
      "cell_type": "code",
      "metadata": {
        "colab": {
          "base_uri": "https://localhost:8080/",
          "height": 35
        },
        "id": "iUGRyjHEbqt4",
        "outputId": "bd407807-92d0-4173-91d4-96e7580c63cc"
      },
      "source": [
        "'123'.rjust(20,\"*\")"
      ],
      "execution_count": null,
      "outputs": [
        {
          "output_type": "execute_result",
          "data": {
            "application/vnd.google.colaboratory.intrinsic+json": {
              "type": "string"
            },
            "text/plain": [
              "'*****************123'"
            ]
          },
          "metadata": {},
          "execution_count": 82
        }
      ]
    },
    {
      "cell_type": "code",
      "metadata": {
        "colab": {
          "base_uri": "https://localhost:8080/",
          "height": 35
        },
        "id": "wlDoVUlxbyX3",
        "outputId": "d7b0f248-cc31-451c-ef8d-0d106a8fa5b0"
      },
      "source": [
        "'8697731112'.rjust(20,'*')"
      ],
      "execution_count": null,
      "outputs": [
        {
          "output_type": "execute_result",
          "data": {
            "application/vnd.google.colaboratory.intrinsic+json": {
              "type": "string"
            },
            "text/plain": [
              "'**********8697731112'"
            ]
          },
          "metadata": {},
          "execution_count": 99
        }
      ]
    },
    {
      "cell_type": "code",
      "metadata": {
        "colab": {
          "base_uri": "https://localhost:8080/",
          "height": 35
        },
        "id": "mdm56fqccQMa",
        "outputId": "570f3208-a061-4db6-e1fa-b2d317e84d8d"
      },
      "source": [
        "'12345678'.zfill(10)"
      ],
      "execution_count": null,
      "outputs": [
        {
          "output_type": "execute_result",
          "data": {
            "application/vnd.google.colaboratory.intrinsic+json": {
              "type": "string"
            },
            "text/plain": [
              "'0012345678'"
            ]
          },
          "metadata": {},
          "execution_count": 83
        }
      ]
    },
    {
      "cell_type": "code",
      "metadata": {
        "colab": {
          "base_uri": "https://localhost:8080/",
          "height": 35
        },
        "id": "x2k4UDLHcWpB",
        "outputId": "23cfe4d7-3b11-4493-9bdd-277ecaf6cf3f"
      },
      "source": [
        "'198765'.zfill(10)"
      ],
      "execution_count": null,
      "outputs": [
        {
          "output_type": "execute_result",
          "data": {
            "application/vnd.google.colaboratory.intrinsic+json": {
              "type": "string"
            },
            "text/plain": [
              "'0000198765'"
            ]
          },
          "metadata": {},
          "execution_count": 101
        }
      ]
    },
    {
      "cell_type": "code",
      "metadata": {
        "colab": {
          "base_uri": "https://localhost:8080/"
        },
        "id": "z9vc6dIPchDA",
        "outputId": "1afff904-689e-49b9-b721-e2dc9d24ec73"
      },
      "source": [
        "x = '8697731112;Kolkata;7044196833;Durgapur;2021-09-18 12:33:45 Hrs;1m 20s' # Call Details Record\n",
        "values = x.split(';')\n",
        "values"
      ],
      "execution_count": null,
      "outputs": [
        {
          "output_type": "execute_result",
          "data": {
            "text/plain": [
              "['8697731112',\n",
              " 'Kolkata',\n",
              " '7044196833',\n",
              " 'Durgapur',\n",
              " '2021-09-18 12:33:45 Hrs',\n",
              " '1m 20s']"
            ]
          },
          "metadata": {},
          "execution_count": 87
        }
      ]
    },
    {
      "cell_type": "code",
      "metadata": {
        "colab": {
          "base_uri": "https://localhost:8080/",
          "height": 35
        },
        "id": "HGWPeh-bddys",
        "outputId": "9c1a3204-b238-4964-c0ef-3b556fd153be"
      },
      "source": [
        "'|'.join(values) "
      ],
      "execution_count": null,
      "outputs": [
        {
          "output_type": "execute_result",
          "data": {
            "application/vnd.google.colaboratory.intrinsic+json": {
              "type": "string"
            },
            "text/plain": [
              "'8697731112|Kolkata|7044196833|Durgapur|2021-09-18 12:33:45 Hrs|1m 20s'"
            ]
          },
          "metadata": {},
          "execution_count": 88
        }
      ]
    },
    {
      "cell_type": "code",
      "metadata": {
        "colab": {
          "base_uri": "https://localhost:8080/"
        },
        "id": "rlU5jfKsduiz",
        "outputId": "1fc904c3-46df-4989-90be-d6e41e407055"
      },
      "source": [
        "list('dipen')"
      ],
      "execution_count": null,
      "outputs": [
        {
          "output_type": "execute_result",
          "data": {
            "text/plain": [
              "['d', 'i', 'p', 'e', 'n']"
            ]
          },
          "metadata": {},
          "execution_count": 106
        }
      ]
    },
    {
      "cell_type": "code",
      "metadata": {
        "colab": {
          "base_uri": "https://localhost:8080/",
          "height": 35
        },
        "id": "8172HEyPd2wZ",
        "outputId": "4e6995f1-a02e-40d9-88db-aacff60812fd"
      },
      "source": [
        "':'.join('dipen')"
      ],
      "execution_count": null,
      "outputs": [
        {
          "output_type": "execute_result",
          "data": {
            "application/vnd.google.colaboratory.intrinsic+json": {
              "type": "string"
            },
            "text/plain": [
              "'d:i:p:e:n'"
            ]
          },
          "metadata": {},
          "execution_count": 107
        }
      ]
    },
    {
      "cell_type": "code",
      "metadata": {
        "colab": {
          "base_uri": "https://localhost:8080/"
        },
        "id": "g-6ntZu2eic8",
        "outputId": "9984f414-8247-437f-f35a-9d60ac1e364d"
      },
      "source": [
        "s = 'foo'\n",
        "t = 'bar'\n",
        "print('barf' in 2 * ( s + t))"
      ],
      "execution_count": null,
      "outputs": [
        {
          "output_type": "stream",
          "name": "stdout",
          "text": [
            "True\n"
          ]
        }
      ]
    },
    {
      "cell_type": "code",
      "metadata": {
        "colab": {
          "base_uri": "https://localhost:8080/"
        },
        "id": "wDM9keN_gAg1",
        "outputId": "ab225b8c-bdba-451d-ed21-761c8f0c7c85"
      },
      "source": [
        "print(ord('f'))  # a-z 97-122"
      ],
      "execution_count": null,
      "outputs": [
        {
          "output_type": "stream",
          "name": "stdout",
          "text": [
            "102\n"
          ]
        }
      ]
    },
    {
      "cell_type": "code",
      "metadata": {
        "id": "OMns4STJgszJ"
      },
      "source": [
        "s='foobar'\n",
        "s[0] + s[-1].     # fr\n",
        "s[::5]            # fr\n",
        "s[::-1][::-5].    # fr   raabof\n",
        "s[::-5].          # rf.   <== Odd one out\n",
        "s[::-1][-1] + s[len(s)-1]. # fr\n"
      ],
      "execution_count": null,
      "outputs": []
    },
    {
      "cell_type": "code",
      "metadata": {
        "id": "R_3rv1-DjFNy"
      },
      "source": [
        "s[::-1][::-1] == s.    # T\n",
        "s[:] == s              # T\n",
        "s[::-1][::-1] is s     # F\n",
        "s[:] is s              # T"
      ],
      "execution_count": null,
      "outputs": []
    },
    {
      "cell_type": "code",
      "metadata": {
        "colab": {
          "base_uri": "https://localhost:8080/"
        },
        "id": "KjNcof0Fjgiw",
        "outputId": "a6b77129-639b-4bbb-f927-c4dd6c779b86"
      },
      "source": [
        "x = 100\n",
        "y = 'Physics'\n",
        "print(f\"I scored a perfect {x} score in {y}\")"
      ],
      "execution_count": null,
      "outputs": [
        {
          "output_type": "stream",
          "name": "stdout",
          "text": [
            "I scored a perfect 100 score in Physics\n"
          ]
        }
      ]
    },
    {
      "cell_type": "code",
      "metadata": {
        "colab": {
          "base_uri": "https://localhost:8080/",
          "height": 35
        },
        "id": "ASeIU23ba9Yq",
        "outputId": "85c0c627-0fbd-4389-c5be-7f4bd7982db4"
      },
      "source": [
        "'####**#123**##*'.rstrip('*').strip('#').strip('*').strip('#')"
      ],
      "execution_count": null,
      "outputs": [
        {
          "output_type": "execute_result",
          "data": {
            "application/vnd.google.colaboratory.intrinsic+json": {
              "type": "string"
            },
            "text/plain": [
              "'123'"
            ]
          },
          "metadata": {},
          "execution_count": 89
        }
      ]
    },
    {
      "cell_type": "markdown",
      "metadata": {
        "id": "llkI1dNJcSfP"
      },
      "source": [
        "# List\n",
        "\n",
        "1. Ordered\n",
        "2. Arbitrary objects\n",
        "3. Accessed by index\n",
        "4. Supports nesting upto arbitrary depth\n",
        "5. Mutable\n",
        "6. Dynamic"
      ]
    },
    {
      "cell_type": "code",
      "metadata": {
        "colab": {
          "base_uri": "https://localhost:8080/"
        },
        "id": "N1q23apTdGxH",
        "outputId": "13caf5d8-3a60-4c87-99ed-81be548963c1"
      },
      "source": [
        "a = ['Kol', 'Mum', 'Che', 'Del']\n",
        "b = ['Mum', 'Kol', 'Che', 'Del']\n",
        "a == b"
      ],
      "execution_count": null,
      "outputs": [
        {
          "output_type": "execute_result",
          "data": {
            "text/plain": [
              "False"
            ]
          },
          "metadata": {},
          "execution_count": 7
        }
      ]
    },
    {
      "cell_type": "code",
      "metadata": {
        "colab": {
          "base_uri": "https://localhost:8080/"
        },
        "id": "ipsEjqEbdeiG",
        "outputId": "2937fa85-5ccd-4fd5-eb1e-66fdfa69a3d0"
      },
      "source": [
        "a is b"
      ],
      "execution_count": null,
      "outputs": [
        {
          "output_type": "execute_result",
          "data": {
            "text/plain": [
              "False"
            ]
          },
          "metadata": {},
          "execution_count": 8
        }
      ]
    },
    {
      "cell_type": "code",
      "metadata": {
        "colab": {
          "base_uri": "https://localhost:8080/"
        },
        "id": "xt-jPcRKdjQ1",
        "outputId": "eacd6199-3e44-47fc-d9d8-d167db21aa3d"
      },
      "source": [
        "[1,2,3,4] == [4,2,3,1]"
      ],
      "execution_count": null,
      "outputs": [
        {
          "output_type": "execute_result",
          "data": {
            "text/plain": [
              "False"
            ]
          },
          "metadata": {},
          "execution_count": 10
        }
      ]
    },
    {
      "cell_type": "code",
      "metadata": {
        "id": "Pee5LkOBdrh0"
      },
      "source": [
        "x = [12, 23.45, 'India', (1,2), True]"
      ],
      "execution_count": null,
      "outputs": []
    },
    {
      "cell_type": "code",
      "metadata": {
        "colab": {
          "base_uri": "https://localhost:8080/"
        },
        "id": "fsP82rkEd3FD",
        "outputId": "47f03090-bae7-4cba-ec8a-6fa4d8c6f524"
      },
      "source": [
        "int"
      ],
      "execution_count": null,
      "outputs": [
        {
          "output_type": "execute_result",
          "data": {
            "text/plain": [
              "int"
            ]
          },
          "metadata": {},
          "execution_count": 13
        }
      ]
    },
    {
      "cell_type": "code",
      "metadata": {
        "colab": {
          "base_uri": "https://localhost:8080/"
        },
        "id": "0_1b1x0yd5Wa",
        "outputId": "5bf4c6ae-9e0e-4d05-f36b-d4e97b01cc21"
      },
      "source": [
        "len"
      ],
      "execution_count": null,
      "outputs": [
        {
          "output_type": "execute_result",
          "data": {
            "text/plain": [
              "<function len>"
            ]
          },
          "metadata": {},
          "execution_count": 14
        }
      ]
    },
    {
      "cell_type": "code",
      "metadata": {
        "id": "C88LIL-_d8LN"
      },
      "source": [
        "def foo():\n",
        "  pass"
      ],
      "execution_count": null,
      "outputs": []
    },
    {
      "cell_type": "code",
      "metadata": {
        "id": "l0LXKLzUd_EH"
      },
      "source": [
        "y = [12, 23.4, True, 3+4j, len, foo, int]"
      ],
      "execution_count": null,
      "outputs": []
    },
    {
      "cell_type": "code",
      "metadata": {
        "id": "0TZ0FuaiePcB"
      },
      "source": [
        "a=[]"
      ],
      "execution_count": null,
      "outputs": []
    },
    {
      "cell_type": "code",
      "metadata": {
        "colab": {
          "base_uri": "https://localhost:8080/"
        },
        "id": "MHoYK-rieSRR",
        "outputId": "fc816942-8107-438b-cd5a-db6bb2227911"
      },
      "source": [
        "type(a)"
      ],
      "execution_count": null,
      "outputs": [
        {
          "output_type": "execute_result",
          "data": {
            "text/plain": [
              "list"
            ]
          },
          "metadata": {},
          "execution_count": 18
        }
      ]
    },
    {
      "cell_type": "code",
      "metadata": {
        "colab": {
          "base_uri": "https://localhost:8080/"
        },
        "id": "2F--7Rpce0qf",
        "outputId": "668df5a9-6061-48e4-e6f0-c3d831d9de37"
      },
      "source": [
        "b = [100]\n",
        "b"
      ],
      "execution_count": null,
      "outputs": [
        {
          "output_type": "execute_result",
          "data": {
            "text/plain": [
              "[100]"
            ]
          },
          "metadata": {},
          "execution_count": 20
        }
      ]
    },
    {
      "cell_type": "code",
      "metadata": {
        "colab": {
          "base_uri": "https://localhost:8080/"
        },
        "id": "Juyjv8YNe-yn",
        "outputId": "c00af828-abdb-47f9-dce7-5fb89d8984f9"
      },
      "source": [
        "c = list(range(100))\n",
        "type(c)"
      ],
      "execution_count": null,
      "outputs": [
        {
          "output_type": "execute_result",
          "data": {
            "text/plain": [
              "list"
            ]
          },
          "metadata": {},
          "execution_count": 22
        }
      ]
    },
    {
      "cell_type": "code",
      "metadata": {
        "colab": {
          "base_uri": "https://localhost:8080/"
        },
        "id": "fU8xyYaYfTms",
        "outputId": "f1cb5f66-21a6-4a64-fbcd-01e4fbab358a"
      },
      "source": [
        "type(y[len(y) - 2])"
      ],
      "execution_count": null,
      "outputs": [
        {
          "output_type": "execute_result",
          "data": {
            "text/plain": [
              "function"
            ]
          },
          "metadata": {},
          "execution_count": 26
        }
      ]
    },
    {
      "cell_type": "code",
      "metadata": {
        "colab": {
          "base_uri": "https://localhost:8080/"
        },
        "id": "F0bAbdgcfsrG",
        "outputId": "74ee69bb-e03a-46fc-ab62-8e3f35be3b09"
      },
      "source": [
        "v = ['a','e','i','o','u']\n",
        "v[0:3]"
      ],
      "execution_count": null,
      "outputs": [
        {
          "output_type": "execute_result",
          "data": {
            "text/plain": [
              "['a', 'e', 'i']"
            ]
          },
          "metadata": {},
          "execution_count": 29
        }
      ]
    },
    {
      "cell_type": "code",
      "metadata": {
        "colab": {
          "base_uri": "https://localhost:8080/",
          "height": 35
        },
        "id": "d2KIW0ymf1pG",
        "outputId": "4d6ecfd9-a19e-45b6-bbb2-1eba564d9b8b"
      },
      "source": [
        "v[-1]"
      ],
      "execution_count": null,
      "outputs": [
        {
          "output_type": "execute_result",
          "data": {
            "application/vnd.google.colaboratory.intrinsic+json": {
              "type": "string"
            },
            "text/plain": [
              "'u'"
            ]
          },
          "metadata": {},
          "execution_count": 30
        }
      ]
    },
    {
      "cell_type": "code",
      "metadata": {
        "colab": {
          "base_uri": "https://localhost:8080/"
        },
        "id": "a7kKtxz_f37I",
        "outputId": "9c54f674-8613-458d-96f7-2a370031d7e7"
      },
      "source": [
        "v[-2:]"
      ],
      "execution_count": null,
      "outputs": [
        {
          "output_type": "execute_result",
          "data": {
            "text/plain": [
              "['o', 'u']"
            ]
          },
          "metadata": {},
          "execution_count": 31
        }
      ]
    },
    {
      "cell_type": "code",
      "metadata": {
        "colab": {
          "base_uri": "https://localhost:8080/"
        },
        "id": "CKRmMJXcf9rK",
        "outputId": "17617176-8642-4606-b15f-ea2ed7696591"
      },
      "source": [
        "v[::2]"
      ],
      "execution_count": null,
      "outputs": [
        {
          "output_type": "execute_result",
          "data": {
            "text/plain": [
              "['a', 'i', 'u']"
            ]
          },
          "metadata": {},
          "execution_count": 32
        }
      ]
    },
    {
      "cell_type": "code",
      "metadata": {
        "colab": {
          "base_uri": "https://localhost:8080/"
        },
        "id": "GvMk26uDgGv8",
        "outputId": "75d96904-4038-476c-c314-9e0ac83acd48"
      },
      "source": [
        "v[::-1]"
      ],
      "execution_count": null,
      "outputs": [
        {
          "output_type": "execute_result",
          "data": {
            "text/plain": [
              "['u', 'o', 'i', 'e', 'a']"
            ]
          },
          "metadata": {},
          "execution_count": 34
        }
      ]
    },
    {
      "cell_type": "code",
      "metadata": {
        "colab": {
          "base_uri": "https://localhost:8080/"
        },
        "id": "IyGjAk8-gMgG",
        "outputId": "0cfbe1aa-dd81-4ea0-af58-9990b06b0f3d"
      },
      "source": [
        "v[4:0:-2]"
      ],
      "execution_count": null,
      "outputs": [
        {
          "output_type": "execute_result",
          "data": {
            "text/plain": [
              "['u', 'i']"
            ]
          },
          "metadata": {},
          "execution_count": 35
        }
      ]
    },
    {
      "cell_type": "code",
      "metadata": {
        "colab": {
          "base_uri": "https://localhost:8080/"
        },
        "id": "rPfhKZ1HgRlp",
        "outputId": "a29cd0b8-91de-4e50-d2b6-23407ef4b73d"
      },
      "source": [
        "v[:] is v    # List Slicing"
      ],
      "execution_count": null,
      "outputs": [
        {
          "output_type": "execute_result",
          "data": {
            "text/plain": [
              "False"
            ]
          },
          "metadata": {},
          "execution_count": 36
        }
      ]
    },
    {
      "cell_type": "code",
      "metadata": {
        "colab": {
          "base_uri": "https://localhost:8080/"
        },
        "id": "NN20SmZhglA7",
        "outputId": "4666c173-5238-4fa8-deec-291e2e51e66d"
      },
      "source": [
        "'f' not in v"
      ],
      "execution_count": null,
      "outputs": [
        {
          "output_type": "execute_result",
          "data": {
            "text/plain": [
              "True"
            ]
          },
          "metadata": {},
          "execution_count": 38
        }
      ]
    },
    {
      "cell_type": "code",
      "metadata": {
        "colab": {
          "base_uri": "https://localhost:8080/"
        },
        "id": "ZIyzE6_zgpzJ",
        "outputId": "1eb6da66-7c36-4ded-fe97-7abef8aa6eb6"
      },
      "source": [
        "'e' in v"
      ],
      "execution_count": null,
      "outputs": [
        {
          "output_type": "execute_result",
          "data": {
            "text/plain": [
              "True"
            ]
          },
          "metadata": {},
          "execution_count": 39
        }
      ]
    },
    {
      "cell_type": "markdown",
      "metadata": {
        "id": "DiVX6mfjgrzd"
      },
      "source": [
        "## The concatenation (+) operator"
      ]
    },
    {
      "cell_type": "code",
      "metadata": {
        "id": "167bn7d1gvs9"
      },
      "source": [
        "x = [1,3,5]\n",
        "y = [11,33,55]\n",
        "x = x + y"
      ],
      "execution_count": null,
      "outputs": []
    },
    {
      "cell_type": "code",
      "metadata": {
        "colab": {
          "base_uri": "https://localhost:8080/"
        },
        "id": "9GSyga4shBGF",
        "outputId": "d53b15db-a649-4f0d-f61f-206103058d52"
      },
      "source": [
        "x"
      ],
      "execution_count": null,
      "outputs": [
        {
          "output_type": "execute_result",
          "data": {
            "text/plain": [
              "[1, 3, 5, 11, 33, 55]"
            ]
          },
          "metadata": {},
          "execution_count": 44
        }
      ]
    },
    {
      "cell_type": "markdown",
      "metadata": {
        "id": "rbLVkznYhGLD"
      },
      "source": [
        "## The repitition / replication (*) operator"
      ]
    },
    {
      "cell_type": "code",
      "metadata": {
        "colab": {
          "base_uri": "https://localhost:8080/"
        },
        "id": "qMRUJIhJhJqM",
        "outputId": "6e25ce52-f99d-4a59-c714-4abcc333d500"
      },
      "source": [
        "x = [2,4,6]\n",
        "x * 4"
      ],
      "execution_count": null,
      "outputs": [
        {
          "output_type": "execute_result",
          "data": {
            "text/plain": [
              "[2, 4, 6, 2, 4, 6, 2, 4, 6, 2, 4, 6]"
            ]
          },
          "metadata": {},
          "execution_count": 45
        }
      ]
    },
    {
      "cell_type": "markdown",
      "metadata": {
        "id": "Vf_XhrIhhT4R"
      },
      "source": [
        "## The len(), min(), max()"
      ]
    },
    {
      "cell_type": "code",
      "metadata": {
        "colab": {
          "base_uri": "https://localhost:8080/"
        },
        "id": "Ac1A1V0jhXFx",
        "outputId": "48ff6483-fced-4c62-d6c6-f9af5fa82b67"
      },
      "source": [
        "x = [2,6,9,-1,4,5,21,89,234,-375,99]\n",
        "print(len(x))\n",
        "print(max(x))\n",
        "print(min(x))"
      ],
      "execution_count": null,
      "outputs": [
        {
          "output_type": "stream",
          "name": "stdout",
          "text": [
            "11\n",
            "234\n",
            "-375\n"
          ]
        }
      ]
    },
    {
      "cell_type": "code",
      "metadata": {
        "colab": {
          "base_uri": "https://localhost:8080/"
        },
        "id": "sAf6rgyOhhnL",
        "outputId": "a6c87e1c-8da6-4180-84fb-667ca51e4121"
      },
      "source": [
        "'''\n",
        "A-Z 65 - 90\n",
        "a-z 97 - 122\n",
        "'''\n",
        "x = ['Ashok', 'ram', 'Ramachandran', 'Venkat', 'Divya', 'Anand', 'Jyothi', 'arun', 'sandeep', 'Manas']\n",
        "print(len(x))\n",
        "x.sort()\n",
        "print(x)\n",
        "print(max(x))\n",
        "print(min(x))\n"
      ],
      "execution_count": null,
      "outputs": [
        {
          "output_type": "stream",
          "name": "stdout",
          "text": [
            "10\n",
            "['Anand', 'Ashok', 'Divya', 'Jyothi', 'Manas', 'Ramachandran', 'Venkat', 'arun', 'ram', 'sandeep']\n",
            "sandeep\n",
            "Anand\n"
          ]
        }
      ]
    },
    {
      "cell_type": "code",
      "metadata": {
        "colab": {
          "base_uri": "https://localhost:8080/"
        },
        "id": "e4AG6CNDjJhr",
        "outputId": "355ebc17-76ec-4599-dcaa-1d769da86f96"
      },
      "source": [
        "mat = [\n",
        "      [[111,112,113], [121,122,123], [131,132,133]], \n",
        "      [[211,212,213], [221,222,223], [231,232,233]], \n",
        "      [[311,312,313], [321,322,323], [331,332,333]]\n",
        "]\n",
        "print(len(mat))\n",
        "print(mat[0])\n",
        "print(mat[0][1][2])"
      ],
      "execution_count": null,
      "outputs": [
        {
          "output_type": "stream",
          "name": "stdout",
          "text": [
            "3\n",
            "[[111, 112, 113], [121, 122, 123], [131, 132, 133]]\n",
            "123\n"
          ]
        }
      ]
    },
    {
      "cell_type": "code",
      "metadata": {
        "colab": {
          "base_uri": "https://localhost:8080/",
          "height": 35
        },
        "id": "hIQt_Y-flPxP",
        "outputId": "0600df97-7680-46b5-d994-4577d8040120"
      },
      "source": [
        "x = ['a', 'bb', ['ccc', 'dd'], ['ee','f','ggg']]\n",
        "x[3][1]"
      ],
      "execution_count": null,
      "outputs": [
        {
          "output_type": "execute_result",
          "data": {
            "application/vnd.google.colaboratory.intrinsic+json": {
              "type": "string"
            },
            "text/plain": [
              "'f'"
            ]
          },
          "metadata": {},
          "execution_count": 61
        }
      ]
    },
    {
      "cell_type": "code",
      "metadata": {
        "id": "eeFAqfUWljhk"
      },
      "source": [
        "x = ['qwe', 'asd', 'zxc', 'ert', 'sdf', 'cvb']\n",
        "x[1] = 'lkj'\n",
        "x[-1] = 'poi'"
      ],
      "execution_count": null,
      "outputs": []
    },
    {
      "cell_type": "code",
      "metadata": {
        "colab": {
          "base_uri": "https://localhost:8080/"
        },
        "id": "_ScbQ3q6lzY7",
        "outputId": "f09c06c9-2cfe-47c1-81ac-0eed771fc0d1"
      },
      "source": [
        "x"
      ],
      "execution_count": null,
      "outputs": [
        {
          "output_type": "execute_result",
          "data": {
            "text/plain": [
              "['qwe', 'lkj', 'zxc', 'ert', 'sdf', 'poi']"
            ]
          },
          "metadata": {},
          "execution_count": 68
        }
      ]
    },
    {
      "cell_type": "code",
      "metadata": {
        "colab": {
          "base_uri": "https://localhost:8080/",
          "height": 35
        },
        "id": "9VeqqsJOl-Dd",
        "outputId": "88a6db5b-8b1b-4254-b9f8-319ebde6c0b2"
      },
      "source": [
        "name = 'Saurav'\n",
        "name = name[0] + 'o' + name[2:]\n",
        "name"
      ],
      "execution_count": null,
      "outputs": [
        {
          "output_type": "execute_result",
          "data": {
            "application/vnd.google.colaboratory.intrinsic+json": {
              "type": "string"
            },
            "text/plain": [
              "'Sourav'"
            ]
          },
          "metadata": {},
          "execution_count": 69
        }
      ]
    },
    {
      "cell_type": "code",
      "metadata": {
        "colab": {
          "base_uri": "https://localhost:8080/"
        },
        "id": "19sILi35mrop",
        "outputId": "af2bc013-3e24-4468-b007-60f64a63c568"
      },
      "source": [
        "del x[2]\n",
        "x"
      ],
      "execution_count": null,
      "outputs": [
        {
          "output_type": "execute_result",
          "data": {
            "text/plain": [
              "['qwe', 'lkj', 'ert', 'sdf', 'poi']"
            ]
          },
          "metadata": {},
          "execution_count": 71
        }
      ]
    },
    {
      "cell_type": "markdown",
      "metadata": {
        "id": "5NhHM1bGm1cw"
      },
      "source": [
        "## Modifying multiple list values"
      ]
    },
    {
      "cell_type": "code",
      "metadata": {
        "colab": {
          "base_uri": "https://localhost:8080/"
        },
        "id": "v7DyWc8km6SS",
        "outputId": "eeff2ba2-0da3-4067-9c83-7a36ddbc42fe"
      },
      "source": [
        "x"
      ],
      "execution_count": null,
      "outputs": [
        {
          "output_type": "execute_result",
          "data": {
            "text/plain": [
              "['qwe', 'lkj', 'ert', 'sdf', 'poi']"
            ]
          },
          "metadata": {},
          "execution_count": 72
        }
      ]
    },
    {
      "cell_type": "code",
      "metadata": {
        "colab": {
          "base_uri": "https://localhost:8080/"
        },
        "id": "p9B9FkTgm-ZO",
        "outputId": "787631d7-8210-4ba6-f3cb-b8cb4a84775b"
      },
      "source": [
        "x[1:3] = ['hgf', 'nbv']\n",
        "x"
      ],
      "execution_count": null,
      "outputs": [
        {
          "output_type": "execute_result",
          "data": {
            "text/plain": [
              "['qwe', 'hgf', 'nbv', 'sdf', 'poi']"
            ]
          },
          "metadata": {},
          "execution_count": 73
        }
      ]
    },
    {
      "cell_type": "code",
      "metadata": {
        "colab": {
          "base_uri": "https://localhost:8080/"
        },
        "id": "gb43A55snObE",
        "outputId": "5e12839f-8852-491f-88bc-a69eac07f2db"
      },
      "source": [
        "y = ['Virat', 'Suresh', 'Rohit', 'MSD', 'Sachin', 'Saurav']\n",
        "y[1:3] = ['Sreenath', 'Sashtri', 'Kumble', 'Amarnath']\n",
        "y"
      ],
      "execution_count": null,
      "outputs": [
        {
          "output_type": "execute_result",
          "data": {
            "text/plain": [
              "['Virat',\n",
              " 'Sreenath',\n",
              " 'Sashtri',\n",
              " 'Kumble',\n",
              " 'Amarnath',\n",
              " 'MSD',\n",
              " 'Sachin',\n",
              " 'Saurav']"
            ]
          },
          "metadata": {},
          "execution_count": 74
        }
      ]
    },
    {
      "cell_type": "code",
      "metadata": {
        "colab": {
          "base_uri": "https://localhost:8080/"
        },
        "id": "T1V_e_nIn1Ws",
        "outputId": "543d1030-42bd-4098-d20a-0037ed3952d8"
      },
      "source": [
        "z = ['foo', 1.1, 2.2, 3.3, 4.4, 5.5, 'bar']\n",
        "z[1:6] = ['zajj']\n",
        "z"
      ],
      "execution_count": null,
      "outputs": [
        {
          "output_type": "execute_result",
          "data": {
            "text/plain": [
              "['foo', 'zajj', 'bar']"
            ]
          },
          "metadata": {},
          "execution_count": 75
        }
      ]
    },
    {
      "cell_type": "code",
      "metadata": {
        "colab": {
          "base_uri": "https://localhost:8080/"
        },
        "id": "kNFmeca4o5_q",
        "outputId": "1128199a-33ff-4085-e0ac-e05a094438e6"
      },
      "source": [
        "a = [1,2,3]\n",
        "a[1:2] = [2.1, 2.2, 2.3]\n",
        "a"
      ],
      "execution_count": null,
      "outputs": [
        {
          "output_type": "execute_result",
          "data": {
            "text/plain": [
              "[1, 2.1, 2.2, 2.3, 3]"
            ]
          },
          "metadata": {},
          "execution_count": 76
        }
      ]
    },
    {
      "cell_type": "code",
      "metadata": {
        "colab": {
          "base_uri": "https://localhost:8080/"
        },
        "id": "kfdPzhKkpntp",
        "outputId": "65adc1d8-2d6e-475c-ce80-dc484460a434"
      },
      "source": [
        "a = [1,2,3]\n",
        "a[1] = [2.1, 2.2, 2.3]\n",
        "a"
      ],
      "execution_count": null,
      "outputs": [
        {
          "output_type": "execute_result",
          "data": {
            "text/plain": [
              "[1, [2.1, 2.2, 2.3], 3]"
            ]
          },
          "metadata": {},
          "execution_count": 77
        }
      ]
    },
    {
      "cell_type": "code",
      "metadata": {
        "colab": {
          "base_uri": "https://localhost:8080/"
        },
        "id": "obxu-iHkp6d4",
        "outputId": "f868cac6-403e-4b1a-fed1-cdc25fb1cc30"
      },
      "source": [
        "a = [1,2,7,8]\n",
        "a[2:2] = [3,4,5,6]\n",
        "a"
      ],
      "execution_count": null,
      "outputs": [
        {
          "output_type": "execute_result",
          "data": {
            "text/plain": [
              "[1, 2, 3, 4, 5, 6, 7, 8]"
            ]
          },
          "metadata": {},
          "execution_count": 78
        }
      ]
    },
    {
      "cell_type": "code",
      "metadata": {
        "colab": {
          "base_uri": "https://localhost:8080/"
        },
        "id": "P4w2bGsuqfcu",
        "outputId": "2992ce26-f078-4171-aca6-19c9d7712e9f"
      },
      "source": [
        "a = [1,2,3,4,5,6,7]\n",
        "a[1:5] = []\n",
        "a"
      ],
      "execution_count": null,
      "outputs": [
        {
          "output_type": "execute_result",
          "data": {
            "text/plain": [
              "[1, 6, 7]"
            ]
          },
          "metadata": {},
          "execution_count": 79
        }
      ]
    },
    {
      "cell_type": "code",
      "metadata": {
        "colab": {
          "base_uri": "https://localhost:8080/"
        },
        "id": "1TbfVnwiqzW8",
        "outputId": "e7b7ad10-b948-476a-aa61-0bd200214b90"
      },
      "source": [
        "a = [1,2,3,4,5,6,7]\n",
        "del a[1:5] \n",
        "a"
      ],
      "execution_count": null,
      "outputs": [
        {
          "output_type": "execute_result",
          "data": {
            "text/plain": [
              "[1, 6, 7]"
            ]
          },
          "metadata": {},
          "execution_count": 80
        }
      ]
    },
    {
      "cell_type": "code",
      "metadata": {
        "colab": {
          "base_uri": "https://localhost:8080/"
        },
        "id": "uP5Fp3nJq7_O",
        "outputId": "ac221ef7-d488-4a9c-aade-b80c3b324b2f"
      },
      "source": [
        "a = [1,2,3]\n",
        "b = ['One', 'Two', 'Three']\n",
        "\n",
        "a += b           # a = a + b\n",
        "a"
      ],
      "execution_count": null,
      "outputs": [
        {
          "output_type": "execute_result",
          "data": {
            "text/plain": [
              "[1, 2, 3, 'One', 'Two', 'Three']"
            ]
          },
          "metadata": {},
          "execution_count": 81
        }
      ]
    },
    {
      "cell_type": "markdown",
      "metadata": {
        "id": "cdJvGiocrR1Z"
      },
      "source": [
        "## List functions:\n",
        "\n",
        "1. append()\n",
        "2. extend()\n",
        "3. insert()\n",
        "4. remove()\n",
        "5. pop(index=-1)\n"
      ]
    },
    {
      "cell_type": "code",
      "metadata": {
        "colab": {
          "base_uri": "https://localhost:8080/"
        },
        "id": "vUCDur3RsEZa",
        "outputId": "d8fbfcec-e3fb-4318-eeae-079474672e21"
      },
      "source": [
        "a = ['a', 'b']\n",
        "x = a.append('c')\n",
        "print(a)\n",
        "print(x)"
      ],
      "execution_count": null,
      "outputs": [
        {
          "output_type": "stream",
          "name": "stdout",
          "text": [
            "['a', 'b', 'c']\n",
            "None\n"
          ]
        }
      ]
    },
    {
      "cell_type": "code",
      "metadata": {
        "colab": {
          "base_uri": "https://localhost:8080/"
        },
        "id": "ehXvR59tsqTv",
        "outputId": "ea05365b-c320-48db-f89f-28eda1b025d1"
      },
      "source": [
        "a = ['a', 'b']\n",
        "a.append([1,2,3])\n",
        "a"
      ],
      "execution_count": null,
      "outputs": [
        {
          "output_type": "execute_result",
          "data": {
            "text/plain": [
              "['a', 'b', [1, 2, 3]]"
            ]
          },
          "metadata": {},
          "execution_count": 84
        }
      ]
    },
    {
      "cell_type": "code",
      "metadata": {
        "colab": {
          "base_uri": "https://localhost:8080/"
        },
        "id": "t5MUK76ss3LW",
        "outputId": "c5efd48f-2ed2-4721-e307-13102b20adb9"
      },
      "source": [
        "a = ['a', 'b']\n",
        "a.extend([1,2,3])\n",
        "a"
      ],
      "execution_count": null,
      "outputs": [
        {
          "output_type": "execute_result",
          "data": {
            "text/plain": [
              "['a', 'b', 1, 2, 3]"
            ]
          },
          "metadata": {},
          "execution_count": 85
        }
      ]
    },
    {
      "cell_type": "code",
      "metadata": {
        "colab": {
          "base_uri": "https://localhost:8080/"
        },
        "id": "fbWgd8zLtF-M",
        "outputId": "02baaf93-5df4-4aee-95fd-284ad6e2af52"
      },
      "source": [
        "a = ['a', 'b']\n",
        "a += [[1,2,3]]\n",
        "a"
      ],
      "execution_count": null,
      "outputs": [
        {
          "output_type": "execute_result",
          "data": {
            "text/plain": [
              "['a', 'b', [1, 2, 3]]"
            ]
          },
          "metadata": {},
          "execution_count": 87
        }
      ]
    },
    {
      "cell_type": "code",
      "metadata": {
        "colab": {
          "base_uri": "https://localhost:8080/"
        },
        "id": "30CZ_RB5tY5w",
        "outputId": "3c0c6d17-fb32-4ff3-eb87-a6a57d54b0a6"
      },
      "source": [
        "a = ['a', 'b']\n",
        "a += [1,2,3]\n",
        "a"
      ],
      "execution_count": null,
      "outputs": [
        {
          "output_type": "execute_result",
          "data": {
            "text/plain": [
              "['a', 'b', 1, 2, 3]"
            ]
          },
          "metadata": {},
          "execution_count": 88
        }
      ]
    },
    {
      "cell_type": "code",
      "metadata": {
        "colab": {
          "base_uri": "https://localhost:8080/"
        },
        "id": "-gUw5vgsth4M",
        "outputId": "291105e8-0cc8-4ef7-e4c3-dcf222216fd8"
      },
      "source": [
        "a = ['a', 's', 'd', 'f', 'h']\n",
        "a.insert(4, 'g')\n",
        "a"
      ],
      "execution_count": null,
      "outputs": [
        {
          "output_type": "execute_result",
          "data": {
            "text/plain": [
              "['a', 's', 'd', 'f', 'g', 'h']"
            ]
          },
          "metadata": {},
          "execution_count": 89
        }
      ]
    },
    {
      "cell_type": "code",
      "metadata": {
        "colab": {
          "base_uri": "https://localhost:8080/"
        },
        "id": "HBBLiBxKtxDD",
        "outputId": "51694e3d-164f-4ae8-9bd4-50415398f8ce"
      },
      "source": [
        "a = [1,3,8,5,7,8,9,11, 8]\n",
        "8 in a\n",
        "\n"
      ],
      "execution_count": null,
      "outputs": [
        {
          "output_type": "execute_result",
          "data": {
            "text/plain": [
              "True"
            ]
          },
          "metadata": {},
          "execution_count": 95
        }
      ]
    },
    {
      "cell_type": "code",
      "metadata": {
        "colab": {
          "base_uri": "https://localhost:8080/"
        },
        "id": "aSINwJNfa-Th",
        "outputId": "f28671a3-0484-42a3-d0bf-6fad99a4a693"
      },
      "source": [
        "a = ['India', 'Nepal', 'Bhutan', 'SL', 'Pak', 'Mayanmar']\n",
        "print(a.pop())\n",
        "print(a.pop())\n",
        "print(a)"
      ],
      "execution_count": null,
      "outputs": [
        {
          "output_type": "stream",
          "name": "stdout",
          "text": [
            "Mayanmar\n",
            "Pak\n",
            "['India', 'Nepal', 'Bhutan', 'SL']\n"
          ]
        }
      ]
    },
    {
      "cell_type": "code",
      "metadata": {
        "colab": {
          "base_uri": "https://localhost:8080/"
        },
        "id": "zwzdHdR6bXUl",
        "outputId": "dcaf9280-ff80-44c7-df36-45484ea50205"
      },
      "source": [
        "a = ['India', 'Nepal', 'Bhutan', 'SL', 'Pak', 'Mayanmar']\n",
        "x = a.pop()\n",
        "print(x)"
      ],
      "execution_count": null,
      "outputs": [
        {
          "output_type": "stream",
          "name": "stdout",
          "text": [
            "Mayanmar\n"
          ]
        }
      ]
    },
    {
      "cell_type": "code",
      "metadata": {
        "colab": {
          "base_uri": "https://localhost:8080/"
        },
        "id": "2FGzsapFbsXH",
        "outputId": "1dfdcf47-6853-40c3-8bd8-c0801273e238"
      },
      "source": [
        "a = ['India', 'Nepal', 'Bhutan', 'SL', 'Pak', 'Mayanmar']\n",
        "print(a.pop(1))\n",
        "print(a)"
      ],
      "execution_count": null,
      "outputs": [
        {
          "output_type": "stream",
          "name": "stdout",
          "text": [
            "Nepal\n",
            "['India', 'Bhutan', 'SL', 'Pak', 'Mayanmar']\n"
          ]
        }
      ]
    },
    {
      "cell_type": "markdown",
      "metadata": {
        "id": "9wWB__y0b_Oy"
      },
      "source": [
        "# Tuple\n",
        "Collection of immutable elements"
      ]
    },
    {
      "cell_type": "code",
      "metadata": {
        "colab": {
          "base_uri": "https://localhost:8080/",
          "height": 35
        },
        "id": "sQzb7qUHcFSt",
        "outputId": "35ee46f7-d5f6-45cc-85dd-967dab047a90"
      },
      "source": [
        "vowels = ('a', 'e', 'i', 'o', 'u')\n",
        "vowels[0]"
      ],
      "execution_count": null,
      "outputs": [
        {
          "output_type": "execute_result",
          "data": {
            "application/vnd.google.colaboratory.intrinsic+json": {
              "type": "string"
            },
            "text/plain": [
              "'a'"
            ]
          },
          "metadata": {},
          "execution_count": 6
        }
      ]
    },
    {
      "cell_type": "code",
      "metadata": {
        "colab": {
          "base_uri": "https://localhost:8080/",
          "height": 35
        },
        "id": "L1ZWsZStcNd5",
        "outputId": "affb9277-710d-45ce-94b4-fced4d1d7340"
      },
      "source": [
        "vowels[-1]"
      ],
      "execution_count": null,
      "outputs": [
        {
          "output_type": "execute_result",
          "data": {
            "application/vnd.google.colaboratory.intrinsic+json": {
              "type": "string"
            },
            "text/plain": [
              "'u'"
            ]
          },
          "metadata": {},
          "execution_count": 7
        }
      ]
    },
    {
      "cell_type": "code",
      "metadata": {
        "colab": {
          "base_uri": "https://localhost:8080/"
        },
        "id": "7G_lGCX3cQ4Q",
        "outputId": "52e06ed9-112a-4cb8-f48b-e3b7b45f2e0b"
      },
      "source": [
        "vowels[1:3]"
      ],
      "execution_count": null,
      "outputs": [
        {
          "output_type": "execute_result",
          "data": {
            "text/plain": [
              "('e', 'i')"
            ]
          },
          "metadata": {},
          "execution_count": 9
        }
      ]
    },
    {
      "cell_type": "code",
      "metadata": {
        "colab": {
          "base_uri": "https://localhost:8080/"
        },
        "id": "KPrTS1vRcc-S",
        "outputId": "22b66b46-dc30-4e77-d581-4b624f42e357"
      },
      "source": [
        "vowels[::2]"
      ],
      "execution_count": null,
      "outputs": [
        {
          "output_type": "execute_result",
          "data": {
            "text/plain": [
              "('a', 'i', 'u')"
            ]
          },
          "metadata": {},
          "execution_count": 10
        }
      ]
    },
    {
      "cell_type": "code",
      "metadata": {
        "colab": {
          "base_uri": "https://localhost:8080/"
        },
        "id": "BMUL-ogicgCO",
        "outputId": "e20501f6-9e7a-448e-ee12-a43a761def4e"
      },
      "source": [
        "vowels[::-1]"
      ],
      "execution_count": null,
      "outputs": [
        {
          "output_type": "execute_result",
          "data": {
            "text/plain": [
              "('u', 'o', 'i', 'e', 'a')"
            ]
          },
          "metadata": {},
          "execution_count": 11
        }
      ]
    },
    {
      "cell_type": "code",
      "metadata": {
        "colab": {
          "base_uri": "https://localhost:8080/"
        },
        "id": "QN_OR67qc185",
        "outputId": "f615d77a-eb5e-47dc-a560-7aaf6fcca4f5"
      },
      "source": [
        "a = (100,)\n",
        "type(a)\n",
        "a"
      ],
      "execution_count": null,
      "outputs": [
        {
          "output_type": "execute_result",
          "data": {
            "text/plain": [
              "(100,)"
            ]
          },
          "metadata": {},
          "execution_count": 15
        }
      ]
    },
    {
      "cell_type": "code",
      "metadata": {
        "colab": {
          "base_uri": "https://localhost:8080/"
        },
        "id": "REmHg0c_dLoW",
        "outputId": "cf3e3ae4-b2c0-4bb8-c912-c7a1764c82bf"
      },
      "source": [
        "p = 'foo'\n",
        "q = 12\n",
        "x = p, 3.1415, q\n",
        "type(x)"
      ],
      "execution_count": null,
      "outputs": [
        {
          "output_type": "execute_result",
          "data": {
            "text/plain": [
              "tuple"
            ]
          },
          "metadata": {},
          "execution_count": 18
        }
      ]
    },
    {
      "cell_type": "code",
      "metadata": {
        "id": "ixTD_B4ldvcD"
      },
      "source": [
        "(first, second, third, fourth, fifth) = vowels # Unpacking a tuple"
      ],
      "execution_count": null,
      "outputs": []
    },
    {
      "cell_type": "code",
      "metadata": {
        "colab": {
          "base_uri": "https://localhost:8080/",
          "height": 35
        },
        "id": "q0T4DOtTd6al",
        "outputId": "47b28e03-9d93-4a84-dc46-47d3a346601d"
      },
      "source": [
        "fourth"
      ],
      "execution_count": null,
      "outputs": [
        {
          "output_type": "execute_result",
          "data": {
            "application/vnd.google.colaboratory.intrinsic+json": {
              "type": "string"
            },
            "text/plain": [
              "'o'"
            ]
          },
          "metadata": {},
          "execution_count": 23
        }
      ]
    },
    {
      "cell_type": "code",
      "metadata": {
        "colab": {
          "base_uri": "https://localhost:8080/"
        },
        "id": "ncZnVrPeeA_o",
        "outputId": "1440b291-864a-4ffe-878b-174970ad1611"
      },
      "source": [
        "x = (1,2,3)\n",
        "\n",
        "(a,b, c) = x\n",
        "b"
      ],
      "execution_count": null,
      "outputs": [
        {
          "output_type": "execute_result",
          "data": {
            "text/plain": [
              "2"
            ]
          },
          "metadata": {},
          "execution_count": 26
        }
      ]
    },
    {
      "cell_type": "code",
      "metadata": {
        "colab": {
          "base_uri": "https://localhost:8080/"
        },
        "id": "UE6mbyTdeVcA",
        "outputId": "8f6bbb87-ec84-4680-dfae-0d87bc4d7253"
      },
      "source": [
        "a = b = 5\n",
        "p, q = 6,6\n",
        "r,s = 600, 600\n",
        "print(id(p), id(q))\n",
        "print(id(r), id(s))"
      ],
      "execution_count": null,
      "outputs": [
        {
          "output_type": "stream",
          "name": "stdout",
          "text": [
            "94613213805216 94613213805216\n",
            "140395702450640 140395702451760\n"
          ]
        }
      ]
    },
    {
      "cell_type": "code",
      "metadata": {
        "colab": {
          "base_uri": "https://localhost:8080/"
        },
        "id": "fsMy6lpAexV8",
        "outputId": "9f5d14d2-1cc0-4811-81b4-ea1a403be575"
      },
      "source": [
        "a, b = 1,2 \n",
        "a, b = b, a\n",
        "print(f'a = {a} b = {b}')"
      ],
      "execution_count": null,
      "outputs": [
        {
          "output_type": "stream",
          "name": "stdout",
          "text": [
            "a = 2 b = 1\n"
          ]
        }
      ]
    },
    {
      "cell_type": "code",
      "metadata": {
        "colab": {
          "base_uri": "https://localhost:8080/"
        },
        "id": "RMdDrVT9fRmr",
        "outputId": "3ee6b478-61d6-4f4c-d9a1-0ccde99978ee"
      },
      "source": [
        "(10,20) * 2"
      ],
      "execution_count": null,
      "outputs": [
        {
          "output_type": "execute_result",
          "data": {
            "text/plain": [
              "(10, 20, 10, 20)"
            ]
          },
          "metadata": {},
          "execution_count": 30
        }
      ]
    },
    {
      "cell_type": "code",
      "metadata": {
        "colab": {
          "base_uri": "https://localhost:8080/"
        },
        "id": "9rkgtkmHflx2",
        "outputId": "db17f167-3cd5-486b-a8ea-e7fd8abd5116"
      },
      "source": [
        "('a', 'b') + ('c', 'd')"
      ],
      "execution_count": null,
      "outputs": [
        {
          "output_type": "execute_result",
          "data": {
            "text/plain": [
              "('a', 'b', 'c', 'd')"
            ]
          },
          "metadata": {},
          "execution_count": 31
        }
      ]
    },
    {
      "cell_type": "code",
      "metadata": {
        "colab": {
          "base_uri": "https://localhost:8080/"
        },
        "id": "dbNy0EXefvyQ",
        "outputId": "79c96108-422a-4d52-dbba-489705b41b60"
      },
      "source": [
        "len((12,24,36,48))"
      ],
      "execution_count": null,
      "outputs": [
        {
          "output_type": "execute_result",
          "data": {
            "text/plain": [
              "4"
            ]
          },
          "metadata": {},
          "execution_count": 32
        }
      ]
    },
    {
      "cell_type": "code",
      "metadata": {
        "colab": {
          "base_uri": "https://localhost:8080/"
        },
        "id": "8BXSvahJf2cI",
        "outputId": "ef28f1c3-b1c6-4136-8a41-86e94a05ec5c"
      },
      "source": [
        "'Y' in ('Y','e', 'n')"
      ],
      "execution_count": null,
      "outputs": [
        {
          "output_type": "execute_result",
          "data": {
            "text/plain": [
              "True"
            ]
          },
          "metadata": {},
          "execution_count": 34
        }
      ]
    },
    {
      "cell_type": "code",
      "metadata": {
        "colab": {
          "base_uri": "https://localhost:8080/"
        },
        "id": "G4q6XAWgf_yJ",
        "outputId": "1bdcd916-2082-460d-977b-549ed693898f"
      },
      "source": [
        "max(12,-3,45,56,99,88,74)"
      ],
      "execution_count": null,
      "outputs": [
        {
          "output_type": "execute_result",
          "data": {
            "text/plain": [
              "99"
            ]
          },
          "metadata": {},
          "execution_count": 35
        }
      ]
    },
    {
      "cell_type": "code",
      "metadata": {
        "colab": {
          "base_uri": "https://localhost:8080/"
        },
        "id": "RXp7yj7-gG8L",
        "outputId": "3e1a476c-6fe9-4ff5-c00f-d2dfe4ba9dec"
      },
      "source": [
        "tuple([1,2,3])"
      ],
      "execution_count": null,
      "outputs": [
        {
          "output_type": "execute_result",
          "data": {
            "text/plain": [
              "(1, 2, 3)"
            ]
          },
          "metadata": {},
          "execution_count": 36
        }
      ]
    },
    {
      "cell_type": "code",
      "metadata": {
        "id": "tlAnEn7rhVYe"
      },
      "source": [
        "'''\n",
        "Search:\n",
        "Linear\n",
        "Binary\n",
        "\n",
        "Sort:\n",
        "Selection\n",
        "Bubble\n",
        "Insertion\n",
        "'''\n",
        "\n"
      ],
      "execution_count": null,
      "outputs": []
    },
    {
      "cell_type": "markdown",
      "metadata": {
        "id": "h-I6mW83eZnl"
      },
      "source": [
        "# Dictionary\n",
        "\n",
        "1. Key - Value pair\n",
        "2. Keys must be unique\n",
        "3. What if we use duplicate keys? The successive key will keep overwriting the previous ones.\n",
        "4. Dictionary key smust be hashable. In simple words, you cant use list and dictionary as the key of a dictionary."
      ]
    },
    {
      "cell_type": "code",
      "metadata": {
        "id": "neSU5q-PeqcK"
      },
      "source": [
        "agri = {'Paddy' : 'WB', 'Tea' : 'Assam', 'Wheat' : 'Punjab'}"
      ],
      "execution_count": null,
      "outputs": []
    },
    {
      "cell_type": "code",
      "metadata": {
        "colab": {
          "base_uri": "https://localhost:8080/"
        },
        "id": "8laguxGeezvZ",
        "outputId": "d471cedb-3ba9-4b36-d67e-2f7eb3052d32"
      },
      "source": [
        "type(agri)"
      ],
      "execution_count": null,
      "outputs": [
        {
          "output_type": "execute_result",
          "data": {
            "text/plain": [
              "dict"
            ]
          },
          "metadata": {},
          "execution_count": 4
        }
      ]
    },
    {
      "cell_type": "code",
      "metadata": {
        "id": "OKVnIkRae-O-"
      },
      "source": [
        "agriculture = {'Paddy' : 'WB', 'Tea' : 'Assam', 'Wheat' : 'Punjab', 'Paddy' : 'TamilNadu'}"
      ],
      "execution_count": null,
      "outputs": []
    },
    {
      "cell_type": "code",
      "metadata": {
        "colab": {
          "base_uri": "https://localhost:8080/"
        },
        "id": "MW1k_4bCfY4d",
        "outputId": "cb4c7380-6065-4afc-8a4d-296565fee0df"
      },
      "source": [
        "agriculture"
      ],
      "execution_count": null,
      "outputs": [
        {
          "output_type": "execute_result",
          "data": {
            "text/plain": [
              "{'Paddy': 'TamilNadu', 'Tea': 'Assam', 'Wheat': 'Punjab'}"
            ]
          },
          "metadata": {},
          "execution_count": 6
        }
      ]
    },
    {
      "cell_type": "code",
      "metadata": {
        "id": "p1n-xk7ffdLa"
      },
      "source": [
        "agric = dict(Paddy = 'WB', Wheat = 'Punjab', Coffee = 'Karnataka')"
      ],
      "execution_count": null,
      "outputs": []
    },
    {
      "cell_type": "code",
      "metadata": {
        "colab": {
          "base_uri": "https://localhost:8080/"
        },
        "id": "the_GxPAfndy",
        "outputId": "b7f86db8-05bc-48be-a554-0ae9d0dccfbb"
      },
      "source": [
        "agric"
      ],
      "execution_count": null,
      "outputs": [
        {
          "output_type": "execute_result",
          "data": {
            "text/plain": [
              "{'Coffee': 'Karnataka', 'Paddy': 'WB', 'Wheat': 'Punjab'}"
            ]
          },
          "metadata": {},
          "execution_count": 8
        }
      ]
    },
    {
      "cell_type": "markdown",
      "metadata": {
        "id": "uyEKjqCjft2Z"
      },
      "source": [
        "## Accessing, Updating & Deleting from a dictionary"
      ]
    },
    {
      "cell_type": "code",
      "metadata": {
        "colab": {
          "base_uri": "https://localhost:8080/",
          "height": 35
        },
        "id": "d04WkCOcfvpR",
        "outputId": "43b8d229-0b28-4d75-df12-dc4e7035fc2a"
      },
      "source": [
        "agriculture['Tea']"
      ],
      "execution_count": null,
      "outputs": [
        {
          "output_type": "execute_result",
          "data": {
            "application/vnd.google.colaboratory.intrinsic+json": {
              "type": "string"
            },
            "text/plain": [
              "'Assam'"
            ]
          },
          "metadata": {},
          "execution_count": 9
        }
      ]
    },
    {
      "cell_type": "code",
      "metadata": {
        "id": "z8bZZZJwgChB"
      },
      "source": [
        "agriculture['Tea'] = 'Sikkim'"
      ],
      "execution_count": null,
      "outputs": []
    },
    {
      "cell_type": "code",
      "metadata": {
        "colab": {
          "base_uri": "https://localhost:8080/"
        },
        "id": "gGp0uGo8gHXp",
        "outputId": "28d29b59-7003-45ba-d46f-e1481b5c1885"
      },
      "source": [
        "agriculture"
      ],
      "execution_count": null,
      "outputs": [
        {
          "output_type": "execute_result",
          "data": {
            "text/plain": [
              "{'Paddy': 'TamilNadu', 'Tea': 'Sikkim', 'Wheat': 'Punjab'}"
            ]
          },
          "metadata": {},
          "execution_count": 11
        }
      ]
    },
    {
      "cell_type": "code",
      "metadata": {
        "id": "ZXmy2mlngRiM"
      },
      "source": [
        "del agriculture['Wheat']"
      ],
      "execution_count": null,
      "outputs": []
    },
    {
      "cell_type": "code",
      "metadata": {
        "colab": {
          "base_uri": "https://localhost:8080/"
        },
        "id": "fxEYjpzlgV5e",
        "outputId": "4f772252-cabe-40d7-d914-37891f323ab7"
      },
      "source": [
        "agriculture"
      ],
      "execution_count": null,
      "outputs": [
        {
          "output_type": "execute_result",
          "data": {
            "text/plain": [
              "{'Paddy': 'TamilNadu', 'Tea': 'Sikkim'}"
            ]
          },
          "metadata": {},
          "execution_count": 13
        }
      ]
    },
    {
      "cell_type": "code",
      "metadata": {
        "id": "-mE9DnOSgX3I"
      },
      "source": [
        "del agriculture"
      ],
      "execution_count": null,
      "outputs": []
    },
    {
      "cell_type": "code",
      "metadata": {
        "colab": {
          "base_uri": "https://localhost:8080/"
        },
        "id": "avyRpwJWghdF",
        "outputId": "83a4934e-6e21-4a70-9c1d-c4871a925c12"
      },
      "source": [
        "x = {}\n",
        "x[1] = 'Uno'\n",
        "x[2] = 'Dos'\n",
        "x[3] = 'Tres'\n",
        "\n",
        "x"
      ],
      "execution_count": null,
      "outputs": [
        {
          "output_type": "execute_result",
          "data": {
            "text/plain": [
              "{1: 'Uno', 2: 'Dos', 3: 'Tres'}"
            ]
          },
          "metadata": {},
          "execution_count": 20
        }
      ]
    },
    {
      "cell_type": "code",
      "metadata": {
        "colab": {
          "base_uri": "https://localhost:8080/",
          "height": 35
        },
        "id": "ofab5wS_g6UC",
        "outputId": "f969fb1d-a17d-4d4d-f857-dd78b22714b6"
      },
      "source": [
        "x[1]"
      ],
      "execution_count": null,
      "outputs": [
        {
          "output_type": "execute_result",
          "data": {
            "application/vnd.google.colaboratory.intrinsic+json": {
              "type": "string"
            },
            "text/plain": [
              "'Uno'"
            ]
          },
          "metadata": {},
          "execution_count": 22
        }
      ]
    },
    {
      "cell_type": "code",
      "metadata": {
        "id": "NW2f5iAzhEnq"
      },
      "source": [
        "'''\n",
        "struct Address{\n",
        "  char town[30];\n",
        "  char postoffice[40];\n",
        "  char ps[20];\n",
        "  int pin[7];\n",
        "};\n",
        "\n",
        "struct Employee{\n",
        "    char fname[40];\n",
        "    char lname[40];\n",
        "    Address addr[2];\n",
        "}\n",
        "'''\n",
        "\n",
        "employee = {\n",
        "                'dipsan01' : {\n",
        "                    'fname' : 'Dipen',\n",
        "                    'lname' : 'Sanyal',\n",
        "                    'address' : [{\n",
        "                        'town' : 'Barrackpore',\n",
        "                        'po' : 'asdfg',\n",
        "                        'pin' : 700123\n",
        "                    },{\n",
        "                        'town' : 'Kolkata',\n",
        "                        'po' : 'ghghgh',\n",
        "                        'pin' : 711046\n",
        "                    } ],\n",
        "                    'salary' : 1234567\n",
        "                },\n",
        "            'narbai01' : {\n",
        "                    'fname' : 'Naren',\n",
        "                    'lname' : 'Bairagya',\n",
        "                    'address' : [{\n",
        "                        'town' : 'qwerty',\n",
        "                        'po' : 'asdfg',\n",
        "                        'pin' : 700135\n",
        "                    }],\n",
        "                    'salary' : 998765\n",
        "                }\n",
        "            }"
      ],
      "execution_count": null,
      "outputs": []
    },
    {
      "cell_type": "code",
      "metadata": {
        "colab": {
          "base_uri": "https://localhost:8080/"
        },
        "id": "U5dT3_sniqsF",
        "outputId": "4dfcc345-b442-4c32-d43b-86e3a4ab5316"
      },
      "source": [
        "employee"
      ],
      "execution_count": null,
      "outputs": [
        {
          "output_type": "execute_result",
          "data": {
            "text/plain": [
              "{'dipsan01': {'address': [{'pin': 700123,\n",
              "    'po': 'asdfg',\n",
              "    'town': 'Barrackpore'},\n",
              "   {'pin': 711046, 'po': 'ghghgh', 'town': 'Kolkaya'}],\n",
              "  'fname': 'Dipen',\n",
              "  'lname': 'Sanyal',\n",
              "  'salary': 1234567},\n",
              " 'narbai01': {'address': [{'pin': 700135, 'po': 'asdfg', 'town': 'qwerty'}],\n",
              "  'fname': 'Naren',\n",
              "  'lname': 'Bairagya',\n",
              "  'salary': 998765}}"
            ]
          },
          "metadata": {},
          "execution_count": 24
        }
      ]
    },
    {
      "cell_type": "code",
      "metadata": {
        "id": "12J0hCt8lyZP"
      },
      "source": [
        "person = {}"
      ],
      "execution_count": null,
      "outputs": []
    },
    {
      "cell_type": "code",
      "metadata": {
        "id": "7T6bvGFwm5QJ"
      },
      "source": [
        "person['fname'] = 'S'\n",
        "person['lname'] = 'B'\n",
        "person['location'] = 'Kol'\n",
        "person['pets'] = {'dogs' : ['Jimmy', 'Tommy'], 'cats' : ['Billy']}"
      ],
      "execution_count": null,
      "outputs": []
    },
    {
      "cell_type": "code",
      "metadata": {
        "colab": {
          "base_uri": "https://localhost:8080/"
        },
        "id": "PtSM_x1unJWz",
        "outputId": "b97cbfd9-c705-4127-8a9b-8611d3ddada6"
      },
      "source": [
        "person"
      ],
      "execution_count": null,
      "outputs": [
        {
          "output_type": "execute_result",
          "data": {
            "text/plain": [
              "{'fname': 'S',\n",
              " 'lname': 'B',\n",
              " 'location': 'Kol',\n",
              " 'pets': {'cats': ['Billy'], 'dogs': ['Jimmy', 'Tommy']}}"
            ]
          },
          "metadata": {},
          "execution_count": 27
        }
      ]
    },
    {
      "cell_type": "code",
      "metadata": {
        "colab": {
          "base_uri": "https://localhost:8080/",
          "height": 35
        },
        "id": "TyKJCTWrnNg4",
        "outputId": "c6fccab8-5285-481d-840d-507828c07fd8"
      },
      "source": [
        "person['pets']['dogs'][1]"
      ],
      "execution_count": null,
      "outputs": [
        {
          "output_type": "execute_result",
          "data": {
            "application/vnd.google.colaboratory.intrinsic+json": {
              "type": "string"
            },
            "text/plain": [
              "'Tommy'"
            ]
          },
          "metadata": {},
          "execution_count": 31
        }
      ]
    },
    {
      "cell_type": "code",
      "metadata": {
        "colab": {
          "base_uri": "https://localhost:8080/"
        },
        "id": "Wrf7GqIMnbqa",
        "outputId": "3c22df0f-bd2e-453a-bd84-82bb4864821d"
      },
      "source": [
        "y = {42 : 'a' , 12.34 : 'b' , 'xyz' : 'c', int : 13.45, float : 135, bool : 100}\n",
        "y"
      ],
      "execution_count": null,
      "outputs": [
        {
          "output_type": "execute_result",
          "data": {
            "text/plain": [
              "{12.34: 'b', 42: 'a', bool: 100, float: 135, int: 13.45, 'xyz': 'c'}"
            ]
          },
          "metadata": {},
          "execution_count": 33
        }
      ]
    },
    {
      "cell_type": "code",
      "metadata": {
        "colab": {
          "base_uri": "https://localhost:8080/",
          "height": 215
        },
        "id": "HU3ubmQQgJnS",
        "outputId": "ec876d24-860a-4b9d-bedd-a0ee981cf227"
      },
      "source": [
        "z = {}\n",
        "z['one'] = 1\n",
        "z[2] = 'two'\n",
        "z['three'] = 'tres'\n",
        "z[(4,5)] = 'four,five'\n",
        "z"
      ],
      "execution_count": null,
      "outputs": [
        {
          "output_type": "error",
          "ename": "TypeError",
          "evalue": "ignored",
          "traceback": [
            "\u001b[0;31m---------------------------------------------------------------------------\u001b[0m",
            "\u001b[0;31mTypeError\u001b[0m                                 Traceback (most recent call last)",
            "\u001b[0;32m<ipython-input-20-dd7dbb14b114>\u001b[0m in \u001b[0;36m<module>\u001b[0;34m()\u001b[0m\n\u001b[1;32m      4\u001b[0m \u001b[0mz\u001b[0m\u001b[0;34m[\u001b[0m\u001b[0;34m'three'\u001b[0m\u001b[0;34m]\u001b[0m \u001b[0;34m=\u001b[0m \u001b[0;34m'tres'\u001b[0m\u001b[0;34m\u001b[0m\u001b[0;34m\u001b[0m\u001b[0m\n\u001b[1;32m      5\u001b[0m \u001b[0mz\u001b[0m\u001b[0;34m[\u001b[0m\u001b[0;34m(\u001b[0m\u001b[0;36m4\u001b[0m\u001b[0;34m,\u001b[0m\u001b[0;36m5\u001b[0m\u001b[0;34m)\u001b[0m\u001b[0;34m]\u001b[0m \u001b[0;34m=\u001b[0m \u001b[0;34m'four,five'\u001b[0m\u001b[0;34m\u001b[0m\u001b[0;34m\u001b[0m\u001b[0m\n\u001b[0;32m----> 6\u001b[0;31m \u001b[0mz\u001b[0m\u001b[0;34m[\u001b[0m\u001b[0;34m[\u001b[0m\u001b[0;36m6\u001b[0m\u001b[0;34m,\u001b[0m\u001b[0;36m7\u001b[0m\u001b[0;34m]\u001b[0m\u001b[0;34m]\u001b[0m \u001b[0;34m=\u001b[0m \u001b[0;34m'six, seven'\u001b[0m\u001b[0;34m\u001b[0m\u001b[0;34m\u001b[0m\u001b[0m\n\u001b[0m\u001b[1;32m      7\u001b[0m \u001b[0mz\u001b[0m\u001b[0;34m\u001b[0m\u001b[0;34m\u001b[0m\u001b[0m\n",
            "\u001b[0;31mTypeError\u001b[0m: unhashable type: 'list'"
          ]
        }
      ]
    },
    {
      "cell_type": "code",
      "metadata": {
        "colab": {
          "base_uri": "https://localhost:8080/"
        },
        "id": "KqMWhspIn838",
        "outputId": "ae005f4a-e6b8-484e-de43-2d4ea21ed828"
      },
      "source": [
        "hash('1')"
      ],
      "execution_count": null,
      "outputs": [
        {
          "output_type": "execute_result",
          "data": {
            "text/plain": [
              "140071335197480698"
            ]
          },
          "metadata": {},
          "execution_count": 35
        }
      ]
    },
    {
      "cell_type": "code",
      "metadata": {
        "colab": {
          "base_uri": "https://localhost:8080/"
        },
        "id": "3rUJZJdWoEm9",
        "outputId": "8980bd97-a8e9-4ccb-832f-c5e0b53a0742"
      },
      "source": [
        "hash(int)"
      ],
      "execution_count": null,
      "outputs": [
        {
          "output_type": "execute_result",
          "data": {
            "text/plain": [
              "5909457093496"
            ]
          },
          "metadata": {},
          "execution_count": 37
        }
      ]
    },
    {
      "cell_type": "code",
      "metadata": {
        "colab": {
          "base_uri": "https://localhost:8080/",
          "height": 164
        },
        "id": "nNl1X_gTf4gp",
        "outputId": "5d9e3dce-b8c3-4ade-dd78-79bc29117813"
      },
      "source": [
        "hash([1,2])"
      ],
      "execution_count": null,
      "outputs": [
        {
          "output_type": "error",
          "ename": "TypeError",
          "evalue": "ignored",
          "traceback": [
            "\u001b[0;31m---------------------------------------------------------------------------\u001b[0m",
            "\u001b[0;31mTypeError\u001b[0m                                 Traceback (most recent call last)",
            "\u001b[0;32m<ipython-input-13-9ce67481a686>\u001b[0m in \u001b[0;36m<module>\u001b[0;34m()\u001b[0m\n\u001b[0;32m----> 1\u001b[0;31m \u001b[0mhash\u001b[0m\u001b[0;34m(\u001b[0m\u001b[0;34m[\u001b[0m\u001b[0;36m1\u001b[0m\u001b[0;34m,\u001b[0m\u001b[0;36m2\u001b[0m\u001b[0;34m]\u001b[0m\u001b[0;34m)\u001b[0m\u001b[0;34m\u001b[0m\u001b[0;34m\u001b[0m\u001b[0m\n\u001b[0m",
            "\u001b[0;31mTypeError\u001b[0m: unhashable type: 'list'"
          ]
        }
      ]
    },
    {
      "cell_type": "code",
      "metadata": {
        "colab": {
          "base_uri": "https://localhost:8080/"
        },
        "id": "p4rYqOoOoA2O",
        "outputId": "8f5e7d06-0fed-45a2-a088-29d38917b12d"
      },
      "source": [
        "hash(2)"
      ],
      "execution_count": null,
      "outputs": [
        {
          "output_type": "execute_result",
          "data": {
            "text/plain": [
              "2"
            ]
          },
          "metadata": {},
          "execution_count": 36
        }
      ]
    },
    {
      "cell_type": "code",
      "metadata": {
        "colab": {
          "base_uri": "https://localhost:8080/",
          "height": 166
        },
        "id": "h1uvoJjooIxy",
        "outputId": "96f7835a-5fdf-4d9f-b6af-c2a2d8662827"
      },
      "source": [
        "z = {['Dipen', 'Ramen'] : 'Bkp', ['Sathi', 'Jyothi'] : 'Hwh'}"
      ],
      "execution_count": null,
      "outputs": [
        {
          "output_type": "error",
          "ename": "TypeError",
          "evalue": "ignored",
          "traceback": [
            "\u001b[0;31m---------------------------------------------------------------------------\u001b[0m",
            "\u001b[0;31mTypeError\u001b[0m                                 Traceback (most recent call last)",
            "\u001b[0;32m<ipython-input-38-801eeb9b2882>\u001b[0m in \u001b[0;36m<module>\u001b[0;34m()\u001b[0m\n\u001b[0;32m----> 1\u001b[0;31m \u001b[0mz\u001b[0m \u001b[0;34m=\u001b[0m \u001b[0;34m{\u001b[0m\u001b[0;34m[\u001b[0m\u001b[0;34m'Dipen'\u001b[0m\u001b[0;34m,\u001b[0m \u001b[0;34m'Ramen'\u001b[0m\u001b[0;34m]\u001b[0m \u001b[0;34m:\u001b[0m \u001b[0;34m'Bkp'\u001b[0m\u001b[0;34m,\u001b[0m \u001b[0;34m[\u001b[0m\u001b[0;34m'Sathi'\u001b[0m\u001b[0;34m,\u001b[0m \u001b[0;34m'Jyothi'\u001b[0m\u001b[0;34m]\u001b[0m \u001b[0;34m:\u001b[0m \u001b[0;34m'Hwh'\u001b[0m\u001b[0;34m}\u001b[0m\u001b[0;34m\u001b[0m\u001b[0;34m\u001b[0m\u001b[0m\n\u001b[0m",
            "\u001b[0;31mTypeError\u001b[0m: unhashable type: 'list'"
          ]
        }
      ]
    },
    {
      "cell_type": "code",
      "metadata": {
        "colab": {
          "base_uri": "https://localhost:8080/"
        },
        "id": "s50V5Fo_ozs_",
        "outputId": "5fcb143c-da98-4c43-8c41-601de5fe3711"
      },
      "source": [
        "hash((1,2))"
      ],
      "execution_count": null,
      "outputs": [
        {
          "output_type": "execute_result",
          "data": {
            "text/plain": [
              "3713081631934410656"
            ]
          },
          "metadata": {},
          "execution_count": 41
        }
      ]
    },
    {
      "cell_type": "code",
      "metadata": {
        "colab": {
          "base_uri": "https://localhost:8080/",
          "height": 35
        },
        "id": "wAgbDa-Fo9oF",
        "outputId": "a36f455e-d1ef-4e9a-f724-1508c1d95637"
      },
      "source": [
        "z = {\n",
        "    (1,2) : 'One two', \n",
        "     3 : 'Three'\n",
        "     }\n",
        "\n",
        "z[(1,2)]"
      ],
      "execution_count": null,
      "outputs": [
        {
          "output_type": "execute_result",
          "data": {
            "application/vnd.google.colaboratory.intrinsic+json": {
              "type": "string"
            },
            "text/plain": [
              "'One two'"
            ]
          },
          "metadata": {},
          "execution_count": 43
        }
      ]
    },
    {
      "cell_type": "markdown",
      "metadata": {
        "id": "dOm5MjHxpZpC"
      },
      "source": [
        "## Operators & Function"
      ]
    },
    {
      "cell_type": "code",
      "metadata": {
        "colab": {
          "base_uri": "https://localhost:8080/"
        },
        "id": "66Lo8XD2pbpb",
        "outputId": "169001a2-f3f9-4cd5-a8a5-a3c14a2a136a"
      },
      "source": [
        "'Tea' in agri"
      ],
      "execution_count": null,
      "outputs": [
        {
          "output_type": "execute_result",
          "data": {
            "text/plain": [
              "True"
            ]
          },
          "metadata": {},
          "execution_count": 46
        }
      ]
    },
    {
      "cell_type": "code",
      "metadata": {
        "colab": {
          "base_uri": "https://localhost:8080/"
        },
        "id": "YBfzhhjNpjrq",
        "outputId": "9c95f20a-999c-43e4-f661-1196bb91015a"
      },
      "source": [
        "'Cotton' in agri"
      ],
      "execution_count": null,
      "outputs": [
        {
          "output_type": "execute_result",
          "data": {
            "text/plain": [
              "False"
            ]
          },
          "metadata": {},
          "execution_count": 47
        }
      ]
    },
    {
      "cell_type": "code",
      "metadata": {
        "colab": {
          "base_uri": "https://localhost:8080/"
        },
        "id": "g2nHfnqkpo-k",
        "outputId": "a863a594-7b01-417e-a391-dc33943fcc45"
      },
      "source": [
        " a = {'a' : 97, 'b' : 98, 'c' : 99, 'd' : 100}\n",
        " print(a)\n",
        " a.clear()\n",
        " print(a)"
      ],
      "execution_count": null,
      "outputs": [
        {
          "output_type": "stream",
          "name": "stdout",
          "text": [
            "{'a': 97, 'b': 98, 'c': 99, 'd': 100}\n",
            "{}\n"
          ]
        }
      ]
    },
    {
      "cell_type": "code",
      "metadata": {
        "colab": {
          "base_uri": "https://localhost:8080/"
        },
        "id": "Cdyp4TCpp3AU",
        "outputId": "537d4d3c-0e39-4aff-95f9-bd999220610f"
      },
      "source": [
        " adict = {'a' : 97, 'b' : 98, 'c' : 99, 'd' : 100}\n",
        "adict.get('c')"
      ],
      "execution_count": null,
      "outputs": [
        {
          "output_type": "execute_result",
          "data": {
            "text/plain": [
              "99"
            ]
          },
          "metadata": {},
          "execution_count": 53
        }
      ]
    },
    {
      "cell_type": "code",
      "metadata": {
        "colab": {
          "base_uri": "https://localhost:8080/",
          "height": 35
        },
        "id": "YTCpRTeIqKh8",
        "outputId": "49ef9c28-09ab-4433-9ec8-b4e0735239d3"
      },
      "source": [
        "adict.get('e' , 'Not in the dict yet')"
      ],
      "execution_count": null,
      "outputs": [
        {
          "output_type": "execute_result",
          "data": {
            "application/vnd.google.colaboratory.intrinsic+json": {
              "type": "string"
            },
            "text/plain": [
              "'Not in the dict yet'"
            ]
          },
          "metadata": {},
          "execution_count": 55
        }
      ]
    },
    {
      "cell_type": "code",
      "metadata": {
        "colab": {
          "base_uri": "https://localhost:8080/"
        },
        "id": "QOPz4VwdqcVW",
        "outputId": "67c77d4a-844a-45e4-e19a-1f459cf2ee8c"
      },
      "source": [
        "list(adict.keys())"
      ],
      "execution_count": null,
      "outputs": [
        {
          "output_type": "execute_result",
          "data": {
            "text/plain": [
              "['a', 'b', 'c', 'd']"
            ]
          },
          "metadata": {},
          "execution_count": 58
        }
      ]
    },
    {
      "cell_type": "code",
      "metadata": {
        "colab": {
          "base_uri": "https://localhost:8080/"
        },
        "id": "V9n20X6yqnHJ",
        "outputId": "a7eae40a-4afd-47f3-88dd-96271f938a77"
      },
      "source": [
        "adict.values()"
      ],
      "execution_count": null,
      "outputs": [
        {
          "output_type": "execute_result",
          "data": {
            "text/plain": [
              "dict_values([97, 98, 99, 100])"
            ]
          },
          "metadata": {},
          "execution_count": 59
        }
      ]
    },
    {
      "cell_type": "code",
      "metadata": {
        "colab": {
          "base_uri": "https://localhost:8080/"
        },
        "id": "KJCzfZ9mqqta",
        "outputId": "1a1f0562-ce02-4ed7-cc27-67e4924ae83d"
      },
      "source": [
        "adict.items() # Converts the dict to a list of tuples"
      ],
      "execution_count": null,
      "outputs": [
        {
          "output_type": "execute_result",
          "data": {
            "text/plain": [
              "dict_items([('a', 97), ('b', 98), ('c', 99), ('d', 100)])"
            ]
          },
          "metadata": {},
          "execution_count": 60
        }
      ]
    },
    {
      "cell_type": "code",
      "metadata": {
        "colab": {
          "base_uri": "https://localhost:8080/"
        },
        "id": "qcB-IokUq8Zn",
        "outputId": "c36095bc-4446-4cac-cb11-2ef087a8a702"
      },
      "source": [
        "list(adict.items())[1][1]"
      ],
      "execution_count": null,
      "outputs": [
        {
          "output_type": "execute_result",
          "data": {
            "text/plain": [
              "98"
            ]
          },
          "metadata": {},
          "execution_count": 64
        }
      ]
    },
    {
      "cell_type": "code",
      "metadata": {
        "colab": {
          "base_uri": "https://localhost:8080/"
        },
        "id": "dTOi61rirKI3",
        "outputId": "8fe27cb2-0108-443d-ddce-fe2e291e9bf5"
      },
      "source": [
        "adict.pop('b')"
      ],
      "execution_count": null,
      "outputs": [
        {
          "output_type": "execute_result",
          "data": {
            "text/plain": [
              "98"
            ]
          },
          "metadata": {},
          "execution_count": 66
        }
      ]
    },
    {
      "cell_type": "code",
      "metadata": {
        "colab": {
          "base_uri": "https://localhost:8080/"
        },
        "id": "okraTA19rVNF",
        "outputId": "c065a90f-edf3-459e-cede-3fafc3b90521"
      },
      "source": [
        "adict"
      ],
      "execution_count": null,
      "outputs": [
        {
          "output_type": "execute_result",
          "data": {
            "text/plain": [
              "{'a': 97, 'c': 99, 'd': 100}"
            ]
          },
          "metadata": {},
          "execution_count": 67
        }
      ]
    },
    {
      "cell_type": "code",
      "metadata": {
        "colab": {
          "base_uri": "https://localhost:8080/"
        },
        "id": "9m7cph_urZSC",
        "outputId": "7ce9cf0b-5ed2-42ba-b9dc-9ba3c1cbb868"
      },
      "source": [
        "adict.popitem() # Removes the last item in the dictionary "
      ],
      "execution_count": null,
      "outputs": [
        {
          "output_type": "execute_result",
          "data": {
            "text/plain": [
              "('d', 100)"
            ]
          },
          "metadata": {},
          "execution_count": 69
        }
      ]
    },
    {
      "cell_type": "code",
      "metadata": {
        "colab": {
          "base_uri": "https://localhost:8080/"
        },
        "id": "Cn0D6Sx9rkW6",
        "outputId": "a8c3c1fc-d4ad-4992-d6ce-cf77db4f82ec"
      },
      "source": [
        "adict"
      ],
      "execution_count": null,
      "outputs": [
        {
          "output_type": "execute_result",
          "data": {
            "text/plain": [
              "{'a': 97, 'c': 99}"
            ]
          },
          "metadata": {},
          "execution_count": 70
        }
      ]
    },
    {
      "cell_type": "code",
      "metadata": {
        "colab": {
          "base_uri": "https://localhost:8080/"
        },
        "id": "j20TUbrUrw4A",
        "outputId": "e923e660-4b6e-4125-acd8-3c6e7a8c5455"
      },
      "source": [
        "x = {'a' : 'alpha' , 'b' : 'beta', 'j' : 'xi', 'z' : 'zeta'}\n",
        "y = {'a' : 'Alpha', 'd' : 'Delta' , 'e' : 'Epsilon', 'z' : 'Zeta'}\n",
        "x.update(y)\n",
        "x"
      ],
      "execution_count": null,
      "outputs": [
        {
          "output_type": "execute_result",
          "data": {
            "text/plain": [
              "{'a': 'Alpha',\n",
              " 'b': 'beta',\n",
              " 'd': 'Delta',\n",
              " 'e': 'Epsilon',\n",
              " 'j': 'xi',\n",
              " 'z': 'Zeta'}"
            ]
          },
          "metadata": {},
          "execution_count": 71
        }
      ]
    },
    {
      "cell_type": "code",
      "metadata": {
        "colab": {
          "base_uri": "https://localhost:8080/"
        },
        "id": "c4_7FG18s-2l",
        "outputId": "c02ffae0-cd42-4455-fb55-152e7128cf30"
      },
      "source": [
        "x = ['India' , 'United States' , 'United Kingdom' , 'Japan']\n",
        "y = ['INR', 'USD', 'GBP', 'YEN']\n",
        "\n",
        "dict(zip(x,y))"
      ],
      "execution_count": null,
      "outputs": [
        {
          "output_type": "execute_result",
          "data": {
            "text/plain": [
              "{'India': 'INR',\n",
              " 'Japan': 'YEN',\n",
              " 'United Kingdom': 'GBP',\n",
              " 'United States': 'USD'}"
            ]
          },
          "metadata": {},
          "execution_count": 77
        }
      ]
    },
    {
      "cell_type": "code",
      "metadata": {
        "colab": {
          "base_uri": "https://localhost:8080/"
        },
        "id": "IFjeSEiIvDfk",
        "outputId": "71ecd7b6-36c3-47ff-f91f-f277a13f935c"
      },
      "source": [
        "capitals = {'India ' : 'Delhi', 'Bhutan' : 'Thimpu', 'Bangladesh' : 'Dhaka', 'Nepal' : 'Kathmandu', 'China' : 'Beijing'}\n",
        "for k in capitals.keys():\n",
        "  print(k,' ==> ', capitals[k])"
      ],
      "execution_count": null,
      "outputs": [
        {
          "output_type": "stream",
          "name": "stdout",
          "text": [
            "India   ==>  Delhi\n",
            "Bhutan  ==>  Thimpu\n",
            "Bangladesh  ==>  Dhaka\n",
            "Nepal  ==>  Kathmandu\n",
            "China  ==>  Beijing\n"
          ]
        }
      ]
    },
    {
      "cell_type": "code",
      "metadata": {
        "colab": {
          "base_uri": "https://localhost:8080/"
        },
        "id": "tVwvUMQrv3AX",
        "outputId": "740f1859-52f6-4740-e3d9-ecd659dd018b"
      },
      "source": [
        "numberOfPeople = 2\n",
        "\n",
        "person = {}\n",
        "\n",
        "for i in range(numberOfPeople):\n",
        "  temp = []\n",
        "  empid = input('EmpID: ')\n",
        "  name = input('Name: ')\n",
        "  pin = input('Pin: ')\n",
        "  temp.append(name)\n",
        "  temp.append(pin)\n",
        "\n",
        "  person[empid] = temp"
      ],
      "execution_count": null,
      "outputs": [
        {
          "name": "stdout",
          "output_type": "stream",
          "text": [
            "EmpID: 123\n",
            "Name: Abc\n",
            "Pin: 100\n",
            "EmpID: 345\n",
            "Name: Pqr\n",
            "Pin: 200\n"
          ]
        }
      ]
    },
    {
      "cell_type": "code",
      "metadata": {
        "colab": {
          "base_uri": "https://localhost:8080/"
        },
        "id": "svIXJuvdxAwQ",
        "outputId": "7c49467c-f8d0-4a3b-a876-49fab0a8cee2"
      },
      "source": [
        "person"
      ],
      "execution_count": null,
      "outputs": [
        {
          "output_type": "execute_result",
          "data": {
            "text/plain": [
              "{'123': ['Abc', '100'], '345': ['Pqr', '200']}"
            ]
          },
          "metadata": {},
          "execution_count": 84
        }
      ]
    },
    {
      "cell_type": "markdown",
      "metadata": {
        "id": "eK8GMbsXxL52"
      },
      "source": [
        "# Sets\n",
        "(Collection of well defined distinct elements)"
      ]
    },
    {
      "cell_type": "code",
      "metadata": {
        "colab": {
          "base_uri": "https://localhost:8080/"
        },
        "id": "Oi_CdqgixUC5",
        "outputId": "b7d38e31-7ac3-4ef6-f3fb-928fe981a6a6"
      },
      "source": [
        "x = {1,2,3,4,5,6,3,2,4,1}\n",
        "x"
      ],
      "execution_count": null,
      "outputs": [
        {
          "output_type": "execute_result",
          "data": {
            "text/plain": [
              "{1, 2, 3, 4, 5, 6}"
            ]
          },
          "metadata": {},
          "execution_count": 85
        }
      ]
    },
    {
      "cell_type": "code",
      "metadata": {
        "colab": {
          "base_uri": "https://localhost:8080/"
        },
        "id": "YDhUx_UtyhE1",
        "outputId": "c6de6b87-b09d-45b7-f940-82f7d4affb31"
      },
      "source": [
        "s = 'kanitkar'\n",
        "set(s)"
      ],
      "execution_count": null,
      "outputs": [
        {
          "output_type": "execute_result",
          "data": {
            "text/plain": [
              "{'a', 'i', 'k', 'n', 'r', 't'}"
            ]
          },
          "metadata": {},
          "execution_count": 87
        }
      ]
    },
    {
      "cell_type": "code",
      "metadata": {
        "id": "8xBI-2D9zScD"
      },
      "source": [
        "mango = {'sweet' , 'fleshy' , 'yellow', 'fruit', 'VitC'}\n",
        "tomato = {'red', 'pulpy', 'sour', 'fruit', 'VitC'}"
      ],
      "execution_count": null,
      "outputs": []
    },
    {
      "cell_type": "code",
      "metadata": {
        "colab": {
          "base_uri": "https://localhost:8080/"
        },
        "id": "KK4T8r-jzyJb",
        "outputId": "8110ff69-50f3-4c8b-ae54-77dbb3686123"
      },
      "source": [
        "mango | tomato"
      ],
      "execution_count": null,
      "outputs": [
        {
          "output_type": "execute_result",
          "data": {
            "text/plain": [
              "{'VitC', 'fleshy', 'fruit', 'pulpy', 'red', 'sour', 'sweet', 'yellow'}"
            ]
          },
          "metadata": {},
          "execution_count": 97
        }
      ]
    },
    {
      "cell_type": "code",
      "metadata": {
        "colab": {
          "base_uri": "https://localhost:8080/"
        },
        "id": "p2u0GvW00Lux",
        "outputId": "34db5ee2-09f7-4dc8-bdbb-75d7d3083d0b"
      },
      "source": [
        "mango.union(tomato)"
      ],
      "execution_count": null,
      "outputs": [
        {
          "output_type": "execute_result",
          "data": {
            "text/plain": [
              "{'VitC', 'fleshy', 'fruit', 'pulpy', 'red', 'sour', 'sweet', 'yellow'}"
            ]
          },
          "metadata": {},
          "execution_count": 98
        }
      ]
    },
    {
      "cell_type": "code",
      "metadata": {
        "colab": {
          "base_uri": "https://localhost:8080/"
        },
        "id": "OmPwdrvq0RFC",
        "outputId": "4404d44f-5edd-43fe-87a0-bf2e66b65865"
      },
      "source": [
        "mango & tomato"
      ],
      "execution_count": null,
      "outputs": [
        {
          "output_type": "execute_result",
          "data": {
            "text/plain": [
              "{'VitC', 'fruit'}"
            ]
          },
          "metadata": {},
          "execution_count": 99
        }
      ]
    },
    {
      "cell_type": "code",
      "metadata": {
        "colab": {
          "base_uri": "https://localhost:8080/"
        },
        "id": "IsFkDa0e0uxE",
        "outputId": "f33c18ad-b50a-4ffd-d067-0fdd1aeb04ff"
      },
      "source": [
        "mango.intersection(tomato)"
      ],
      "execution_count": null,
      "outputs": [
        {
          "output_type": "execute_result",
          "data": {
            "text/plain": [
              "{'VitC', 'fruit'}"
            ]
          },
          "metadata": {},
          "execution_count": 100
        }
      ]
    },
    {
      "cell_type": "code",
      "metadata": {
        "colab": {
          "base_uri": "https://localhost:8080/"
        },
        "id": "SFcBFG3g08u8",
        "outputId": "ef8bbd4c-346a-4e28-9035-3094030f75ae"
      },
      "source": [
        "mango - tomato"
      ],
      "execution_count": null,
      "outputs": [
        {
          "output_type": "execute_result",
          "data": {
            "text/plain": [
              "{'fleshy', 'sweet', 'yellow'}"
            ]
          },
          "metadata": {},
          "execution_count": 103
        }
      ]
    },
    {
      "cell_type": "code",
      "metadata": {
        "colab": {
          "base_uri": "https://localhost:8080/"
        },
        "id": "_A-ljKo901Ar",
        "outputId": "60971cb0-81bc-46ba-be0c-eb76f1a09d86"
      },
      "source": [
        "mango.difference(tomato)"
      ],
      "execution_count": null,
      "outputs": [
        {
          "output_type": "execute_result",
          "data": {
            "text/plain": [
              "{'fleshy', 'sweet', 'yellow'}"
            ]
          },
          "metadata": {},
          "execution_count": 101
        }
      ]
    },
    {
      "cell_type": "code",
      "metadata": {
        "colab": {
          "base_uri": "https://localhost:8080/"
        },
        "id": "vuD4u8GK05B_",
        "outputId": "57d33d4b-05fa-4e8a-b5ac-e35b9116a2a6"
      },
      "source": [
        "tomato.difference(mango)"
      ],
      "execution_count": null,
      "outputs": [
        {
          "output_type": "execute_result",
          "data": {
            "text/plain": [
              "{'pulpy', 'red', 'sour'}"
            ]
          },
          "metadata": {},
          "execution_count": 102
        }
      ]
    },
    {
      "cell_type": "code",
      "metadata": {
        "colab": {
          "base_uri": "https://localhost:8080/"
        },
        "id": "AUjyhuKW1Onq",
        "outputId": "295318f6-abc4-492e-cda2-899f791284af"
      },
      "source": [
        "tomato ^ mango"
      ],
      "execution_count": null,
      "outputs": [
        {
          "output_type": "execute_result",
          "data": {
            "text/plain": [
              "{'fleshy', 'pulpy', 'red', 'sour', 'sweet', 'yellow'}"
            ]
          },
          "metadata": {},
          "execution_count": 105
        }
      ]
    },
    {
      "cell_type": "code",
      "metadata": {
        "colab": {
          "base_uri": "https://localhost:8080/"
        },
        "id": "7XwuorAG1HyS",
        "outputId": "f7794512-6ae7-45b0-e128-ce36ca453e22"
      },
      "source": [
        "tomato.symmetric_difference(mango)"
      ],
      "execution_count": null,
      "outputs": [
        {
          "output_type": "execute_result",
          "data": {
            "text/plain": [
              "{'fleshy', 'pulpy', 'red', 'sour', 'sweet', 'yellow'}"
            ]
          },
          "metadata": {},
          "execution_count": 104
        }
      ]
    },
    {
      "cell_type": "code",
      "metadata": {
        "colab": {
          "base_uri": "https://localhost:8080/"
        },
        "id": "gcdBs6Nm1Osb",
        "outputId": "cf59812f-ed4e-4973-af01-eebf79b945d2"
      },
      "source": [
        "mango.isdisjoint(tomato)"
      ],
      "execution_count": null,
      "outputs": [
        {
          "output_type": "execute_result",
          "data": {
            "text/plain": [
              "False"
            ]
          },
          "metadata": {},
          "execution_count": 106
        }
      ]
    },
    {
      "cell_type": "code",
      "metadata": {
        "colab": {
          "base_uri": "https://localhost:8080/"
        },
        "id": "FhqMjvEJ1gSM",
        "outputId": "c742c7f5-2ae7-4b4e-844b-2dbee7bb7b5a"
      },
      "source": [
        "a = {1,2,3,7}\n",
        "b = {8,9}\n",
        "a.isdisjoint(b)"
      ],
      "execution_count": null,
      "outputs": [
        {
          "output_type": "execute_result",
          "data": {
            "text/plain": [
              "True"
            ]
          },
          "metadata": {},
          "execution_count": 22
        }
      ]
    },
    {
      "cell_type": "markdown",
      "metadata": {
        "id": "3bDrf6VcesSG"
      },
      "source": [
        "# Functions\n",
        "\n",
        "## Defining a function & calling a function"
      ]
    },
    {
      "cell_type": "code",
      "metadata": {
        "colab": {
          "base_uri": "https://localhost:8080/"
        },
        "id": "m1LIH-hveujb",
        "outputId": "aa5e64e5-772f-4b50-8687-592ad8ee58d8"
      },
      "source": [
        "# Classic : <returnType> <functionName> (<argList>){}\n",
        "# Python : def <functionName> (argList):\n",
        "def printMyMsg(message, width):\n",
        "  print(\"*\" * width)\n",
        "  print(message.center(width))\n",
        "  print(\"*\" * width)\n",
        "  return 100,200\n",
        "  \n",
        "x, y = printMyMsg(\"Good morning everyone!\",100)\n",
        "print(x, y)\n",
        "\n",
        "print()\n",
        "\n",
        "printMyMsg(\"Como esta usted?\", 80 )"
      ],
      "execution_count": null,
      "outputs": [
        {
          "output_type": "stream",
          "name": "stdout",
          "text": [
            "****************************************************************************************************\n",
            "                                       Good morning everyone!                                       \n",
            "****************************************************************************************************\n",
            "100 200\n",
            "\n",
            "********************************************************************************\n",
            "                                Como esta usted?                                \n",
            "********************************************************************************\n"
          ]
        },
        {
          "output_type": "execute_result",
          "data": {
            "text/plain": [
              "(100, 200)"
            ]
          },
          "metadata": {},
          "execution_count": 13
        }
      ]
    },
    {
      "cell_type": "markdown",
      "metadata": {
        "id": "VbrOdo1Mh9JO"
      },
      "source": [
        "## Call/Pass by value or Call/Pass by reference"
      ]
    },
    {
      "cell_type": "code",
      "metadata": {
        "colab": {
          "base_uri": "https://localhost:8080/"
        },
        "id": "zxnppzVliBPZ",
        "outputId": "582b9e25-4fc6-4f99-e569-3c7e9d42be43"
      },
      "source": [
        "def cbrDemoFunction(l):\n",
        "  print(\"Within the function before change : \" , l, \" Address:\" , id(l))\n",
        "  l[1] = 100\n",
        "  print(\"Within the function after change : \" , l, \" Address:\" , id(l))\n",
        "  return\n",
        "\n",
        "mylist = [11, 22, 33, 44]\n",
        "print(f\"OTF : Before the function call : mylist : {mylist} and it was stored at {id(mylist)}\")\n",
        "demoFunction(mylist)\n",
        "print(f\"OTF : After the function call : mylist : {mylist} and it was stored at {id(mylist)}\")\n"
      ],
      "execution_count": null,
      "outputs": [
        {
          "output_type": "stream",
          "name": "stdout",
          "text": [
            "OTF : Before the function call : mylist : [11, 22, 33, 44] and it was stored at 140425517062016\n",
            "Within the function before change :  [11, 22, 33, 44]  Address: 140425517062016\n",
            "Within the function after change :  [11, 100, 33, 44]  Address: 140425517062016\n",
            "OTF : After the function call : mylist : [11, 100, 33, 44] and it was stored at 140425517062016\n"
          ]
        }
      ]
    },
    {
      "cell_type": "code",
      "metadata": {
        "colab": {
          "base_uri": "https://localhost:8080/"
        },
        "id": "x_i5dNt9lFWM",
        "outputId": "5db17456-0df5-4232-97a8-1a960683ee1d"
      },
      "source": [
        "def cbrDemoFunction2(l):\n",
        "  print(\"Inside the function before change : \", l, \"Address : \", id(l))\n",
        "  l = [1,2,3,4]\n",
        "  print(\"Inside the function after change : \", l, \"Address : \", id(l))\n",
        "  return \n",
        "\n",
        "mylist = [11, 22, 33, 44]\n",
        "print(\"Outside the function before call : \", mylist, \"Address : \", id(mylist))\n",
        "cbrDemoFunction2(mylist)\n",
        "print(\"Outside the function after call : \", mylist, \"Address : \", id(mylist))"
      ],
      "execution_count": null,
      "outputs": [
        {
          "output_type": "stream",
          "name": "stdout",
          "text": [
            "Outside the function before call :  [11, 22, 33, 44] Address :  140425517064352\n",
            "Inside the function before change :  [11, 22, 33, 44] Address :  140425517064352\n",
            "Inside the function after change :  [1, 2, 3, 4] Address :  140425517049568\n",
            "Outside the function after call :  [11, 22, 33, 44] Address :  140425517064352\n"
          ]
        }
      ]
    },
    {
      "cell_type": "code",
      "metadata": {
        "colab": {
          "base_uri": "https://localhost:8080/"
        },
        "id": "uv5LJ46QneWX",
        "outputId": "5f8afe84-edf3-40ea-d867-18833c259545"
      },
      "source": [
        "def changeMe(l):\n",
        "  l[1] = 101\n",
        "  print(\"Inside the func : \", l)\n",
        "  return\n",
        "\n",
        "myList = [2,4,6,8]\n",
        "changeMe(myList[:])\n",
        "print(\"Outside the func : \", myList)"
      ],
      "execution_count": null,
      "outputs": [
        {
          "output_type": "stream",
          "name": "stdout",
          "text": [
            "Inside the func :  [2, 101, 6, 8]\n",
            "Outside the func :  [2, 4, 6, 8]\n"
          ]
        }
      ]
    },
    {
      "cell_type": "code",
      "metadata": {
        "colab": {
          "base_uri": "https://localhost:8080/"
        },
        "id": "eIFKWvran2L4",
        "outputId": "69c2b718-a669-4779-9554-a93f92f6137e"
      },
      "source": [
        "x = [18,36,54,72,90]\n",
        "print(id(x))\n",
        "print(id(x[:]))"
      ],
      "execution_count": null,
      "outputs": [
        {
          "output_type": "stream",
          "name": "stdout",
          "text": [
            "140425517004912\n",
            "140425517139040\n"
          ]
        }
      ]
    },
    {
      "cell_type": "markdown",
      "metadata": {
        "id": "r3VRMx8rovud"
      },
      "source": [
        "## Arguments \n",
        "1. Required\n",
        "2. Keyword\n",
        "3. Default\n",
        "4. Variable length\n",
        "\n",
        "\n",
        "## 1. Required arguments"
      ]
    },
    {
      "cell_type": "code",
      "metadata": {
        "colab": {
          "base_uri": "https://localhost:8080/"
        },
        "id": "-9N54l56o6Ld",
        "outputId": "b54faf8b-bc3b-4a7d-fd52-b730cc76d171"
      },
      "source": [
        "def printMe(msg):\n",
        "  print(msg)\n",
        "\n",
        "printMe(\"Buenos dias!\")\n"
      ],
      "execution_count": null,
      "outputs": [
        {
          "output_type": "stream",
          "name": "stdout",
          "text": [
            "Buenos dias!\n"
          ]
        }
      ]
    },
    {
      "cell_type": "markdown",
      "metadata": {
        "id": "TeN04520pUGv"
      },
      "source": [
        "## 2. Keyword arguments"
      ]
    },
    {
      "cell_type": "code",
      "metadata": {
        "colab": {
          "base_uri": "https://localhost:8080/"
        },
        "id": "hnpPX9-kpYCd",
        "outputId": "eb9a91b8-6b67-4bfd-c3b4-6fc1caec60f6"
      },
      "source": [
        "def printMe(msg,width,fillcharr):\n",
        "  print(msg.center(width, fillcharr))\n",
        "\n",
        "printMe(width = 100, msg = \"Buenos dias!\", fillcharr = \"*\")\n",
        "printMe(fillcharr = \".\", width = 50, msg = \"Hola!\")"
      ],
      "execution_count": null,
      "outputs": [
        {
          "output_type": "stream",
          "name": "stdout",
          "text": [
            "********************************************Buenos dias!********************************************\n",
            "......................Hola!.......................\n"
          ]
        }
      ]
    },
    {
      "cell_type": "markdown",
      "metadata": {
        "id": "Ra-yXYjgqOMf"
      },
      "source": [
        "## 3. Default arguments"
      ]
    },
    {
      "cell_type": "code",
      "metadata": {
        "colab": {
          "base_uri": "https://localhost:8080/"
        },
        "id": "MIYx1k2IqSOa",
        "outputId": "ad054d25-3bcf-4a36-99eb-febb4ac69eca"
      },
      "source": [
        "def printMe(msg,width = 40,fillcharr = \"~\"):\n",
        "  print(msg.center(width, fillcharr))\n",
        "\n",
        "printMe(\"Buenos Noches! \")\n",
        "printMe(\"Buenos Tardes\", 60,\"*\")"
      ],
      "execution_count": null,
      "outputs": [
        {
          "output_type": "stream",
          "name": "stdout",
          "text": [
            "Buenos Noches! \n",
            "Buenos Tardes\n"
          ]
        }
      ]
    },
    {
      "cell_type": "markdown",
      "metadata": {
        "id": "W8Rqk9cxrOml"
      },
      "source": [
        "## 4. Variable length Arguments"
      ]
    },
    {
      "cell_type": "code",
      "metadata": {
        "colab": {
          "base_uri": "https://localhost:8080/"
        },
        "id": "6IGCgPU5rSAU",
        "outputId": "8eb4606a-9ea9-46a8-eaf0-1e9cc92dd1e5"
      },
      "source": [
        "def mySum(a, b, *c):\n",
        "  # print(\"Inside mySum additional numbers apart from the basic two : \", c)\n",
        "  d = a + b\n",
        "  for i in c:\n",
        "    d = d + i\n",
        "  return d \n",
        "\n",
        "s = mySum(100,200)\n",
        "print(f\"Sum = {s}\")\n",
        "\n",
        "s = mySum(100,200,300)\n",
        "print(f\"Sum = {s}\")\n",
        "\n",
        "\n",
        "s = mySum(100,200,300,400,500)\n",
        "print(f\"Sum = {s}\")"
      ],
      "execution_count": null,
      "outputs": [
        {
          "output_type": "stream",
          "name": "stdout",
          "text": [
            "Sum = 300\n",
            "Sum = 600\n",
            "Sum = 1500\n"
          ]
        }
      ]
    },
    {
      "cell_type": "markdown",
      "metadata": {
        "id": "zeruW8TUs_dU"
      },
      "source": [
        "## Anonymous Function"
      ]
    },
    {
      "cell_type": "code",
      "metadata": {
        "colab": {
          "base_uri": "https://localhost:8080/"
        },
        "id": "ldZcyT5JtMN3",
        "outputId": "b61dd861-ecf1-43fb-d0a2-006ca1d3c183"
      },
      "source": [
        "summation = lambda x , y : x + y\n",
        "print(summation(1,2))\n",
        "print(summation(10,20))"
      ],
      "execution_count": null,
      "outputs": [
        {
          "output_type": "stream",
          "name": "stdout",
          "text": [
            "3\n",
            "30\n"
          ]
        }
      ]
    },
    {
      "cell_type": "code",
      "metadata": {
        "colab": {
          "base_uri": "https://localhost:8080/"
        },
        "id": "Njw9pXxjtrjC",
        "outputId": "adb9ccab-bbc3-48e5-d8a0-0874cc330c13"
      },
      "source": [
        "substring = lambda x,y : x in y\n",
        "print(substring('V', 'Virat'))\n",
        "print(substring('T', 'Virat'))"
      ],
      "execution_count": null,
      "outputs": [
        {
          "output_type": "stream",
          "name": "stdout",
          "text": [
            "True\n",
            "False\n"
          ]
        }
      ]
    },
    {
      "cell_type": "code",
      "metadata": {
        "colab": {
          "base_uri": "https://localhost:8080/"
        },
        "id": "xdfYHDlhu-6B",
        "outputId": "0ee90259-f58b-4a9e-ff62-e1bf357d5034"
      },
      "source": [
        "'Aura' in 'Saurav'"
      ],
      "execution_count": null,
      "outputs": [
        {
          "output_type": "execute_result",
          "data": {
            "text/plain": [
              "False"
            ]
          },
          "metadata": {},
          "execution_count": 47
        }
      ]
    },
    {
      "cell_type": "markdown",
      "metadata": {
        "id": "gicb8evYvP6w"
      },
      "source": [
        "## The return statement"
      ]
    },
    {
      "cell_type": "code",
      "metadata": {
        "colab": {
          "base_uri": "https://localhost:8080/"
        },
        "id": "fpbMOQZJxenw",
        "outputId": "e54a2f35-71d0-4b1a-affb-01fab5598733"
      },
      "source": [
        "def mySumDiff(arg1, arg2):\n",
        "  total = arg1 + arg2\n",
        "  difference = arg1 - arg2\n",
        "  return total , difference\n",
        "\n",
        "total, difference = mySumDiff(11, 22)\n",
        "print(total, difference)"
      ],
      "execution_count": null,
      "outputs": [
        {
          "output_type": "stream",
          "name": "stdout",
          "text": [
            "33 -11\n"
          ]
        }
      ]
    },
    {
      "cell_type": "markdown",
      "metadata": {
        "id": "-cA5u2HxyQuR"
      },
      "source": [
        "## Scope of a variable\n",
        "1. local\n",
        "2. global\n",
        "3. nonlocal"
      ]
    },
    {
      "cell_type": "code",
      "metadata": {
        "colab": {
          "base_uri": "https://localhost:8080/"
        },
        "id": "zn2-M7tkx2jP",
        "outputId": "7197bea2-08a1-43d0-dbdf-b538ca8e7b46"
      },
      "source": [
        "total = 0\n",
        "\n",
        "def mySum(arg1, arg2):\n",
        "  total = arg1 + arg2 # total : Local variable\n",
        "  return total\n",
        "\n",
        "mySum(11, 22)\n",
        "print(total) # references the global total variable"
      ],
      "execution_count": null,
      "outputs": [
        {
          "output_type": "stream",
          "name": "stdout",
          "text": [
            "0\n"
          ]
        }
      ]
    },
    {
      "cell_type": "code",
      "metadata": {
        "colab": {
          "base_uri": "https://localhost:8080/"
        },
        "id": "p-pgcCnfyxhU",
        "outputId": "8077e674-7be9-493e-aa2f-253598d167b6"
      },
      "source": [
        "total = 0\n",
        "\n",
        "def mySum(arg1, arg2):\n",
        "  global total # Forcing the function to refer to the global total variable\n",
        "  total = arg1 + arg2\n",
        "\n",
        "mySum(11, 22)\n",
        "print(total)"
      ],
      "execution_count": null,
      "outputs": [
        {
          "output_type": "stream",
          "name": "stdout",
          "text": [
            "33\n"
          ]
        }
      ]
    },
    {
      "cell_type": "code",
      "metadata": {
        "colab": {
          "base_uri": "https://localhost:8080/"
        },
        "id": "X9eUL6jpzL8Z",
        "outputId": "f0ed7657-94d8-4ed8-ee58-e2bc20af103a"
      },
      "source": [
        "x = \"global\"\n",
        "\n",
        "def outer():\n",
        "  x = \"local\"\n",
        "  def inner():\n",
        "    nonlocal x # Used only in nested functions\n",
        "    x = \"nonlocal\"\n",
        "    print(\"inner : \", x)\n",
        "\n",
        "  inner()\n",
        "  print(\"outer : \", x)\n",
        "\n",
        "outer()\n",
        "print(\"External : \", x)"
      ],
      "execution_count": null,
      "outputs": [
        {
          "output_type": "stream",
          "name": "stdout",
          "text": [
            "inner :  nonlocal\n",
            "outer :  nonlocal\n",
            "External :  global\n"
          ]
        }
      ]
    },
    {
      "cell_type": "code",
      "metadata": {
        "colab": {
          "base_uri": "https://localhost:8080/"
        },
        "id": "ik6hSu51ZF2g",
        "outputId": "cfcee27e-834f-46bd-b809-57fa66a7c415"
      },
      "source": [
        "def Convert(string):\n",
        "    li = list(string.split(\" \"))\n",
        "    return li\n",
        "\n",
        "x = Convert(input(\"Enter the numbers you want separated by space:\"))\n",
        "print(x)"
      ],
      "execution_count": null,
      "outputs": [
        {
          "output_type": "stream",
          "name": "stdout",
          "text": [
            "Enter the numbers you want separated by space:12 23 45 67 44 33 19 101\n",
            "['12', '23', '45', '67', '44', '33', '19', '101']\n"
          ]
        }
      ]
    },
    {
      "cell_type": "code",
      "metadata": {
        "colab": {
          "base_uri": "https://localhost:8080/"
        },
        "id": "WcFgexWsZ7O6",
        "outputId": "8e380bf0-52ba-43f9-eb1d-2cea04c9d447"
      },
      "source": [
        "x = \"Kalyani|Ray|Bhattacharyya\"\n",
        "y = x.split(\"|\")\n",
        "print(y, type(y))"
      ],
      "execution_count": null,
      "outputs": [
        {
          "output_type": "stream",
          "name": "stdout",
          "text": [
            "['Kalyani', 'Ray', 'Bhattacharyya'] <class 'list'>\n"
          ]
        }
      ]
    },
    {
      "cell_type": "markdown",
      "metadata": {
        "id": "XijJ26AlqRXB"
      },
      "source": [
        "# Modules & Packages\n",
        "\n",
        "1. Functions\n",
        "2. Modules  (A collection of constants, functions , classes)\n",
        "3. Package\n",
        "math\n",
        "  1. math.pi\n",
        "  2. math.e\n",
        "  3. math.sin()\n",
        "  4. math.asin()\n",
        "  5. math.sinh() (e^x + e^-x)/2\n",
        "  ....\n",
        "date\n",
        "  1. Date\n",
        "  2. DateTime\n",
        "  3. Time\n",
        "  4. TimeDelta"
      ]
    },
    {
      "cell_type": "markdown",
      "metadata": {
        "id": "6M-SQX7OshqH"
      },
      "source": [
        "## Advantages\n",
        "1. Simplicity\n",
        "2. Maintainability\n",
        "3. Reusability\n",
        "4. Scoping"
      ]
    },
    {
      "cell_type": "code",
      "metadata": {
        "id": "CfrNEzVzsgd7"
      },
      "source": [
        "'''\n",
        "mod.py\n",
        "'''\n",
        "country = \"India\"\n",
        "sentenceAZ = \"The quick brown fox jumps over the lazy dog\"\n",
        "aRandomList = [1,1,2,3,5,8]\n",
        "\n",
        "def foo(arg):\n",
        "\tprint(f\"argument = {arg}\")\n",
        "\t"
      ],
      "execution_count": null,
      "outputs": []
    },
    {
      "cell_type": "code",
      "metadata": {
        "id": "u6IRVMNKuvJZ"
      },
      "source": [
        "'''\n",
        "myappln.py\n",
        "'''\n",
        "import mod\n",
        "print(mod.country)\n",
        "print(mod.sentenceAZ)\n",
        "mod.foo(\"Friday\")\n",
        "mod.foo(\"Saturday\")"
      ],
      "execution_count": null,
      "outputs": []
    },
    {
      "cell_type": "markdown",
      "metadata": {
        "id": "TdG5YcHUu-4V"
      },
      "source": [
        "## The module search path\n",
        "\n",
        "1. Current directory\n",
        "2. PYTHONPATH environment variable\n",
        "3. Installation dependent list of directories\n"
      ]
    },
    {
      "cell_type": "code",
      "metadata": {
        "id": "G7a3xce5x3S7"
      },
      "source": [
        "import sys\n",
        "sys.path.append(r'/Users/sauravbhattacharyya/Desktop/moduleDemo/')\n",
        "\n",
        "import mod\n",
        "print(mod.country)\n",
        "print(mod.sentenceAZ)\n",
        "mod.foo(\"Friday\")\n",
        "mod.foo(\"Saturday\")\n"
      ],
      "execution_count": null,
      "outputs": []
    },
    {
      "cell_type": "code",
      "metadata": {
        "id": "hcDXUNPk1mT_"
      },
      "source": [
        "import sys\n",
        "sys.path.append(r'/Users/sauravbhattacharyya/Desktop/moduleDemo/mymodules/')\n",
        "\n",
        "\n",
        "from mod1 import sentenceAZ as allchars,country as dreamdestination\n",
        "print(dreamdestination)\n",
        "print(allchars)\n",
        "\n",
        "import mod1 as mydemomodule\n",
        "print(mydemomodule.aRandomList)"
      ],
      "execution_count": null,
      "outputs": []
    },
    {
      "cell_type": "code",
      "metadata": {
        "colab": {
          "base_uri": "https://localhost:8080/"
        },
        "id": "DZRhlQrl2D4V",
        "outputId": "7fa6eca4-eaf9-4932-b513-7f7a31dbff85"
      },
      "source": [
        "dir()"
      ],
      "execution_count": null,
      "outputs": [
        {
          "output_type": "execute_result",
          "data": {
            "text/plain": [
              "['In',\n",
              " 'Out',\n",
              " '_',\n",
              " '__',\n",
              " '___',\n",
              " '__builtin__',\n",
              " '__builtins__',\n",
              " '__doc__',\n",
              " '__loader__',\n",
              " '__name__',\n",
              " '__package__',\n",
              " '__spec__',\n",
              " '_dh',\n",
              " '_i',\n",
              " '_i1',\n",
              " '_i2',\n",
              " '_i3',\n",
              " '_i4',\n",
              " '_ih',\n",
              " '_ii',\n",
              " '_iii',\n",
              " '_oh',\n",
              " '_sh',\n",
              " 'aRandomList',\n",
              " 'country',\n",
              " 'exit',\n",
              " 'foo',\n",
              " 'get_ipython',\n",
              " 'quit',\n",
              " 'sentenceAZ']"
            ]
          },
          "metadata": {},
          "execution_count": 4
        }
      ]
    },
    {
      "cell_type": "code",
      "metadata": {
        "id": "lx9aj2Or2NMa"
      },
      "source": [
        "citiesOfUSA = ['Irvine', 'San Diego', 'St Louis', 'Chicago']"
      ],
      "execution_count": null,
      "outputs": []
    },
    {
      "cell_type": "code",
      "metadata": {
        "colab": {
          "base_uri": "https://localhost:8080/"
        },
        "id": "HGDACYPM2UpT",
        "outputId": "a4cb2600-10af-4ea5-df1e-52c7b5d9f019"
      },
      "source": [
        "dir()"
      ],
      "execution_count": null,
      "outputs": [
        {
          "output_type": "execute_result",
          "data": {
            "text/plain": [
              "['In',\n",
              " 'Out',\n",
              " '_',\n",
              " '_4',\n",
              " '_6',\n",
              " '__',\n",
              " '___',\n",
              " '__builtin__',\n",
              " '__builtins__',\n",
              " '__doc__',\n",
              " '__loader__',\n",
              " '__name__',\n",
              " '__package__',\n",
              " '__spec__',\n",
              " '_dh',\n",
              " '_i',\n",
              " '_i1',\n",
              " '_i2',\n",
              " '_i3',\n",
              " '_i4',\n",
              " '_i5',\n",
              " '_i6',\n",
              " '_i7',\n",
              " '_i8',\n",
              " '_ih',\n",
              " '_ii',\n",
              " '_iii',\n",
              " '_oh',\n",
              " '_sh',\n",
              " 'aRandomList',\n",
              " 'country',\n",
              " 'exit',\n",
              " 'foo',\n",
              " 'get_ipython',\n",
              " 'quit',\n",
              " 'sentenceAZ']"
            ]
          },
          "metadata": {},
          "execution_count": 8
        }
      ]
    },
    {
      "cell_type": "code",
      "metadata": {
        "id": "P5V8t-SQ2bXo"
      },
      "source": [
        "del citiesOfUSA"
      ],
      "execution_count": null,
      "outputs": []
    },
    {
      "cell_type": "code",
      "metadata": {
        "id": "FvYgCctP32Om"
      },
      "source": [
        "import mod\n",
        "print(dir())\n",
        "\n",
        "print(mod.country)"
      ],
      "execution_count": null,
      "outputs": []
    },
    {
      "cell_type": "code",
      "metadata": {
        "id": "3hNRNITf4QFD"
      },
      "source": [
        "from mod import *\n",
        "print(dir())\n",
        "\n",
        "print(country)\n"
      ],
      "execution_count": null,
      "outputs": []
    },
    {
      "cell_type": "code",
      "metadata": {
        "id": "XyYMSUaO-i7S"
      },
      "source": [
        "country = \"India\"\n",
        "sentenceAZ = \"The quick brown fox jumps over the lazy dog\"\n",
        "aRandomList = [1,1,2,3,5,8]\n",
        "\n",
        "def foo(arg):\n",
        "\tprint(f\"argument = {arg}\")\n",
        "\n",
        "def bar(arg1, arg2):\n",
        "\tprint(f\"arg1 = {arg1} arg2 = {arg2}\")\n",
        "\n",
        "def fibo(n):\n",
        "\ta, b = 0, 1\n",
        "\tfor i in range(n):\n",
        "\t\tc = a+b \n",
        "\t\tprint(c)\n",
        "\t\ta,b = b,c\n",
        "\n",
        "\n",
        "if __name__ == '__main__':\n",
        "\tbar(\"M S\", \"Dhoni\")\n",
        "\tfibo(3)\n"
      ],
      "execution_count": null,
      "outputs": []
    },
    {
      "cell_type": "markdown",
      "metadata": {
        "id": "lBxUkmnpAg6j"
      },
      "source": [
        "# Package\n",
        "Collection of modules"
      ]
    },
    {
      "cell_type": "code",
      "metadata": {
        "id": "4r6sJeEWAjLF"
      },
      "source": [
        "'''\n",
        "pkgdemo.mod1\n",
        "'''\n",
        "def foo1():\n",
        "\tprint('[mod1] foo1')\n",
        "\n",
        "def foo2():\n",
        "\tprint('[mod1] foo2')\n",
        "\n",
        "\n",
        "\n",
        "'''\n",
        "pkgdemo.mod2\n",
        "'''\n",
        "def bar1():\n",
        "\tprint('[mod2] bar_1')\n",
        "\n",
        "\n",
        "def bar2():\n",
        "\tprint('[mod2] bar_2')\n"
      ],
      "execution_count": null,
      "outputs": []
    },
    {
      "cell_type": "code",
      "metadata": {
        "id": "bGkyd0bEBSeX"
      },
      "source": [
        "import packagedemo.mod1, packagedemo.mod2\n",
        "\n",
        "packagedemo.mod1.foo()\n",
        "packagedemo.mod2.bar()"
      ],
      "execution_count": null,
      "outputs": []
    },
    {
      "cell_type": "code",
      "metadata": {
        "id": "dvIKoSsrBoSc"
      },
      "source": [
        "from packagedemo.mod1 import foo1, foo2\n",
        "\n",
        "foo1()\n",
        "foo2()"
      ],
      "execution_count": null,
      "outputs": []
    },
    {
      "cell_type": "markdown",
      "metadata": {
        "id": "Zqf7FaUFMmPo"
      },
      "source": [
        "# Date & Time"
      ]
    },
    {
      "cell_type": "code",
      "metadata": {
        "colab": {
          "base_uri": "https://localhost:8080/"
        },
        "id": "rsTY9ZeRMoPx",
        "outputId": "6dcbf1d7-29c2-4173-b412-7b021bdc436b"
      },
      "source": [
        "import datetime\n",
        "time_now = datetime.datetime.now()\n",
        "print(time_now)"
      ],
      "execution_count": null,
      "outputs": [
        {
          "output_type": "stream",
          "name": "stdout",
          "text": [
            "2021-10-23 12:50:36.628711\n"
          ]
        }
      ]
    },
    {
      "cell_type": "code",
      "metadata": {
        "colab": {
          "base_uri": "https://localhost:8080/"
        },
        "id": "Jmq1G2QPNKU0",
        "outputId": "02d474e5-e967-48c7-ff64-cc3174278bab"
      },
      "source": [
        "import datetime\n",
        "date_today = datetime.date.today()\n",
        "print(date_today)"
      ],
      "execution_count": null,
      "outputs": [
        {
          "output_type": "stream",
          "name": "stdout",
          "text": [
            "2021-10-23\n"
          ]
        }
      ]
    },
    {
      "cell_type": "code",
      "metadata": {
        "colab": {
          "base_uri": "https://localhost:8080/"
        },
        "id": "vHKi5IO0NY8N",
        "outputId": "2ecc0b95-25f2-4519-a0d7-3375cd1ef3da"
      },
      "source": [
        "import datetime\n",
        "print(dir(datetime))"
      ],
      "execution_count": null,
      "outputs": [
        {
          "output_type": "stream",
          "name": "stdout",
          "text": [
            "['MAXYEAR', 'MINYEAR', '__builtins__', '__cached__', '__doc__', '__file__', '__loader__', '__name__', '__package__', '__spec__', 'date', 'datetime', 'datetime_CAPI', 'sys', 'time', 'timedelta', 'timezone', 'tzinfo']\n"
          ]
        }
      ]
    },
    {
      "cell_type": "markdown",
      "metadata": {
        "id": "CZUwbka9Nkl1"
      },
      "source": [
        "Commonly used classes in the datetime module:\n",
        "1. date\n",
        "2. time\n",
        "3. datetime\n",
        "4. timedelta"
      ]
    },
    {
      "cell_type": "markdown",
      "metadata": {
        "id": "1hvhJeTRNvmA"
      },
      "source": [
        "## datetime.date"
      ]
    },
    {
      "cell_type": "code",
      "metadata": {
        "colab": {
          "base_uri": "https://localhost:8080/"
        },
        "id": "21mSOat3NuoW",
        "outputId": "ca537af5-4071-44cd-9828-fdda715a783a"
      },
      "source": [
        "import datetime\n",
        "d = datetime.date(2021,10,23)\n",
        "print(d, type(d))"
      ],
      "execution_count": null,
      "outputs": [
        {
          "output_type": "stream",
          "name": "stdout",
          "text": [
            "2021-10-23 <class 'datetime.date'>\n"
          ]
        }
      ]
    },
    {
      "cell_type": "code",
      "metadata": {
        "colab": {
          "base_uri": "https://localhost:8080/"
        },
        "id": "hUUaLaNJODGT",
        "outputId": "0e6ae493-6b1e-4b9c-a5dc-1f7d10f0aa2e"
      },
      "source": [
        "from datetime import date\n",
        "today = date.today()\n",
        "print(\"Today\\'s date : \",today)"
      ],
      "execution_count": null,
      "outputs": [
        {
          "output_type": "stream",
          "name": "stdout",
          "text": [
            "Today's date :  2021-10-23\n"
          ]
        }
      ]
    },
    {
      "cell_type": "code",
      "metadata": {
        "colab": {
          "base_uri": "https://localhost:8080/"
        },
        "id": "_ikaYAlnOiD5",
        "outputId": "a722da43-08d7-4922-f666-0453bb600c18"
      },
      "source": [
        "from datetime import date\n",
        "the_date = date.fromtimestamp(565016189)\n",
        "print(\"Date = \", the_date)"
      ],
      "execution_count": null,
      "outputs": [
        {
          "output_type": "stream",
          "name": "stdout",
          "text": [
            "Date =  1987-11-27\n"
          ]
        }
      ]
    },
    {
      "cell_type": "code",
      "metadata": {
        "colab": {
          "base_uri": "https://localhost:8080/"
        },
        "id": "jyttVv5xO5p7",
        "outputId": "29f7fc96-8d9b-40b9-ce44-c20986d2aa3d"
      },
      "source": [
        "from datetime import date\n",
        "today = date.today()\n",
        "print(\"Today\\'s date : \",today)\n",
        "print(f\"Year : {today.year}\")\n",
        "print(f\"Day : {today.day}\")\n",
        "print(f\"Month : {today.month}\")\n"
      ],
      "execution_count": null,
      "outputs": [
        {
          "output_type": "stream",
          "name": "stdout",
          "text": [
            "Today's date :  2021-10-23\n",
            "Year : 2021\n",
            "Day : 23\n",
            "Month : 10\n"
          ]
        }
      ]
    },
    {
      "cell_type": "code",
      "metadata": {
        "id": "2goyY2bcPUus"
      },
      "source": [
        "# 23rd Sept 2021 12:34:47\n",
        "# 23rd SeptEMBER 2021 12:34:47\n",
        "# 23rd Sept, 2021 12:34:47\n",
        "# 23rd Sept 2021 , 12:34:47"
      ],
      "execution_count": null,
      "outputs": []
    },
    {
      "cell_type": "markdown",
      "metadata": {
        "id": "wD1MuOhDRRYS"
      },
      "source": [
        "## datetime.time"
      ]
    },
    {
      "cell_type": "code",
      "metadata": {
        "colab": {
          "base_uri": "https://localhost:8080/"
        },
        "id": "T0dXrDbGRS5X",
        "outputId": "caa2d4a8-af92-4a03-ab82-3859e8ae6efe"
      },
      "source": [
        "from datetime import time\n",
        "a = time()\n",
        "print(f\"a = {a}\")\n",
        "\n",
        "b = time(8,10,15)\n",
        "print(f\"b = {b}\")\n",
        "\n",
        "c = time(hour=11, second = 25, minute = 37)\n",
        "print(c)\n",
        "\n",
        "d = time(2,3,4,123457)\n",
        "print(d)"
      ],
      "execution_count": null,
      "outputs": [
        {
          "output_type": "stream",
          "name": "stdout",
          "text": [
            "a = 00:00:00\n",
            "b = 08:10:15\n",
            "11:37:25\n",
            "02:03:04.123457\n"
          ]
        }
      ]
    },
    {
      "cell_type": "code",
      "metadata": {
        "colab": {
          "base_uri": "https://localhost:8080/"
        },
        "id": "TBGgCn7bR17Z",
        "outputId": "a3d9c02d-e877-4188-9d96-109b1c8c03d8"
      },
      "source": [
        "a = time(8,10,15,123)\n",
        "print(a.hour, a.minute, a.second, a.microsecond)\n",
        "print(a)"
      ],
      "execution_count": null,
      "outputs": [
        {
          "output_type": "stream",
          "name": "stdout",
          "text": [
            "8 10 15 123\n",
            "08:10:15.000123\n"
          ]
        }
      ]
    },
    {
      "cell_type": "markdown",
      "metadata": {
        "id": "mj_STtM-SIWx"
      },
      "source": [
        "## datetime.datetime"
      ]
    },
    {
      "cell_type": "code",
      "metadata": {
        "colab": {
          "base_uri": "https://localhost:8080/"
        },
        "id": "bw8LrAt8SKQl",
        "outputId": "abb5374c-76f6-473b-ca76-3335e56bdf3c"
      },
      "source": [
        "from datetime import datetime \n",
        "a = datetime(2021,2,15,5,6,7)\n",
        "print(a)\n",
        "print(a.minute,a.month)"
      ],
      "execution_count": null,
      "outputs": [
        {
          "output_type": "stream",
          "name": "stdout",
          "text": [
            "2021-02-15 05:06:07\n",
            "6 2\n"
          ]
        }
      ]
    },
    {
      "cell_type": "markdown",
      "metadata": {
        "id": "zZH3xcqISwxa"
      },
      "source": [
        "## datetime.timedelta"
      ]
    },
    {
      "cell_type": "code",
      "metadata": {
        "colab": {
          "base_uri": "https://localhost:8080/"
        },
        "id": "cBKSP8SuSzOL",
        "outputId": "0b841c9b-f477-4a4f-f308-3e24025196c3"
      },
      "source": [
        "from datetime import date, datetime\n",
        "t1 = date(2021,1,26)\n",
        "t2 = date(2021,8,15)\n",
        "print(\"Difference of days between Republic & Independence day = \", t2 - t1, type(t2-t1))\n",
        "\n",
        "dt1 = datetime(2021,2,14,1,2,3)\n",
        "dt2 = datetime.now()\n",
        "print(f\"It has been {dt2 - dt1} since Valentines day\")"
      ],
      "execution_count": null,
      "outputs": [
        {
          "output_type": "stream",
          "name": "stdout",
          "text": [
            "Difference of days between Republic & Independence day =  201 days, 0:00:00 <class 'datetime.timedelta'>\n",
            "It has been 251 days, 12:18:00.768232 since Valentines day\n"
          ]
        }
      ]
    },
    {
      "cell_type": "code",
      "metadata": {
        "colab": {
          "base_uri": "https://localhost:8080/"
        },
        "id": "tLe_i2ozT0s_",
        "outputId": "67665761-9c66-4480-f747-cd0b071cc5b6"
      },
      "source": [
        "from datetime import timedelta\n",
        "\n",
        "t1 = timedelta(weeks=2, days = 5, hours = 1, minutes= 2)\n",
        "t2 = timedelta(weeks = 1, days = 6, hours = 15, seconds = 12)\n",
        "t3 = (t2 - t1)\n",
        "\n",
        "print(abs(t3))\n",
        "\n",
        "print(t1.total_seconds())"
      ],
      "execution_count": null,
      "outputs": [
        {
          "output_type": "stream",
          "name": "stdout",
          "text": [
            "-6 days, 13:58:12\n",
            "1645320.0\n"
          ]
        }
      ]
    },
    {
      "cell_type": "markdown",
      "metadata": {
        "id": "oZq9yi99U3oo"
      },
      "source": [
        "## strftime() : Converts datetime to string\n",
        "\n",
        "1. %Y 2021\n",
        "2. %m 01,02,..,12\n",
        "3. %d 01,02,..,31\n",
        "4. %H 00,01,..,23\n",
        "5. %M 00,01,..,59\n",
        "6. %S 00,01,..,59\n",
        "7. %B September\n",
        "8. %b Sept"
      ]
    },
    {
      "cell_type": "code",
      "metadata": {
        "colab": {
          "base_uri": "https://localhost:8080/"
        },
        "id": "ZXR-B43uVAfx",
        "outputId": "25a05326-372c-4d8a-8c64-3ed85bc76ba8"
      },
      "source": [
        "from datetime import datetime\n",
        "\n",
        "now = datetime.now()\n",
        "print(now)\n",
        "\n",
        "# mm/dd/yyyy, h:m:s\n",
        "us_format = now.strftime(\"%m/%d/%Y, %H:%M:%S\")\n",
        "print(us_format)"
      ],
      "execution_count": null,
      "outputs": [
        {
          "output_type": "stream",
          "name": "stdout",
          "text": [
            "2021-10-23 13:30:01.954669\n",
            "10/23/2021, 13:30:01 October Oct\n"
          ]
        }
      ]
    },
    {
      "cell_type": "markdown",
      "metadata": {
        "id": "pri5wjsOWVYB"
      },
      "source": [
        "## strptime : Converts a date string to a datetime object"
      ]
    },
    {
      "cell_type": "code",
      "metadata": {
        "colab": {
          "base_uri": "https://localhost:8080/"
        },
        "id": "zCKo3t1ZWUi8",
        "outputId": "1b37b0cd-0d07-4f59-ae2e-01ad89632de5"
      },
      "source": [
        "from datetime import datetime\n",
        "datetime_string = \"26 Jan, 2021\"\n",
        "date_object = datetime.strptime(datetime_string, \"%d %b, %Y\")\n",
        "print(date_object, type(date_object))\n",
        "\n",
        "print(date_object.strftime(\"%Y-%m-%d\"))\n"
      ],
      "execution_count": null,
      "outputs": [
        {
          "output_type": "stream",
          "name": "stdout",
          "text": [
            "2021-01-26 00:00:00 <class 'datetime.datetime'>\n",
            "2021-01-26\n"
          ]
        }
      ]
    },
    {
      "cell_type": "markdown",
      "metadata": {
        "id": "6aUMfHKl6fyC"
      },
      "source": [
        "## Regular Expression\n",
        "\n",
        "**Examples:**\n",
        "\n",
        "1. Soumik Roy\n",
        "Gourab Ray\n",
        "Saumik Ray\n",
        "Gaurav Roy\n",
        "Gaurabh Ray\n",
        "  => <space>R[o|a]y\n",
        "2. A Agarwal\n",
        "B Agrawal\n",
        "C Agarwala\n",
        "D Aggarwal\n",
        "  => Agg*[ar][ar]wala*\n",
        "WB 12 AW 9601 \n",
        "WB 15 B 9567\n",
        "BH\n",
        "OD\n",
        "AS\n",
        "JH\n",
        "  => [ABJOW][BDHSW] [0-9][0-9] [A-Z][A-Z]* [0-9][0-9][0-9][0-9]\n"
      ]
    },
    {
      "cell_type": "code",
      "metadata": {
        "colab": {
          "base_uri": "https://localhost:8080/"
        },
        "id": "CSuIToJN6lLD",
        "outputId": "e4fe74ab-e70b-4f89-baf9-e33775f038be"
      },
      "source": [
        "s = \"Caterpillar\"\n",
        "s.find('Cat')"
      ],
      "execution_count": null,
      "outputs": [
        {
          "output_type": "execute_result",
          "data": {
            "text/plain": [
              "0"
            ]
          },
          "metadata": {},
          "execution_count": 7
        }
      ]
    },
    {
      "cell_type": "code",
      "metadata": {
        "colab": {
          "base_uri": "https://localhost:8080/"
        },
        "id": "s8yerALi8VPt",
        "outputId": "e355c128-f991-4279-c557-e6880ba68c8f"
      },
      "source": [
        "s.index('Cat')"
      ],
      "execution_count": null,
      "outputs": [
        {
          "output_type": "execute_result",
          "data": {
            "text/plain": [
              "0"
            ]
          },
          "metadata": {},
          "execution_count": 8
        }
      ]
    },
    {
      "cell_type": "code",
      "metadata": {
        "colab": {
          "base_uri": "https://localhost:8080/"
        },
        "id": "lavASkGz8QAS",
        "outputId": "a7e1b9ec-754b-4851-bb8f-07f192dba8b2"
      },
      "source": [
        "'Pill' in s"
      ],
      "execution_count": null,
      "outputs": [
        {
          "output_type": "execute_result",
          "data": {
            "text/plain": [
              "False"
            ]
          },
          "metadata": {},
          "execution_count": 3
        }
      ]
    },
    {
      "cell_type": "markdown",
      "metadata": {
        "id": "bQtH-O3arpEW"
      },
      "source": [
        "# List Comprehension\n",
        "\n",
        "1. For loop\n",
        "2. Filter\n",
        "3. Map\n",
        "4. Nested loops\n",
        "5. Nested list "
      ]
    },
    {
      "cell_type": "markdown",
      "metadata": {
        "id": "o7bC3hz-sWUG"
      },
      "source": [
        "## Find square of all nos from 1 to 10"
      ]
    },
    {
      "cell_type": "code",
      "metadata": {
        "colab": {
          "base_uri": "https://localhost:8080/"
        },
        "id": "AKEnPrRArr8S",
        "outputId": "1a102217-de4c-4e44-90b4-aaf8c1f0db81"
      },
      "source": [
        "squares = []\n",
        "\n",
        "for i in range(1,11):\n",
        "  squares.append(i**2)\n",
        "\n",
        "print(squares)\n"
      ],
      "execution_count": null,
      "outputs": [
        {
          "output_type": "stream",
          "name": "stdout",
          "text": [
            "[1, 4, 9, 16, 25, 36, 49, 64, 81, 100]\n"
          ]
        }
      ]
    },
    {
      "cell_type": "code",
      "metadata": {
        "colab": {
          "base_uri": "https://localhost:8080/"
        },
        "id": "yyaKrjGesAku",
        "outputId": "188b127b-87eb-4ffc-9fa4-e93854d7cd00"
      },
      "source": [
        "[i**2 for i in range(1,11)]"
      ],
      "execution_count": null,
      "outputs": [
        {
          "output_type": "execute_result",
          "data": {
            "text/plain": [
              "[1, 4, 9, 16, 25, 36, 49, 64, 81, 100]"
            ]
          },
          "metadata": {},
          "execution_count": 2
        }
      ]
    },
    {
      "cell_type": "markdown",
      "metadata": {
        "id": "ObZPT8SVsZpd"
      },
      "source": [
        "## Find all odd numbers from 1 to 10"
      ]
    },
    {
      "cell_type": "code",
      "metadata": {
        "colab": {
          "base_uri": "https://localhost:8080/"
        },
        "id": "30Av5zaqsIdr",
        "outputId": "75c2d639-fccd-4125-e34c-79bebaf0d878"
      },
      "source": [
        "odds = []\n",
        "\n",
        "for i in range(1,11):\n",
        "  if i % 2 != 0:\n",
        "    odds.append(i)\n",
        "\n",
        "print(odds)\n"
      ],
      "execution_count": null,
      "outputs": [
        {
          "output_type": "stream",
          "name": "stdout",
          "text": [
            "[1, 3, 5, 7, 9]\n"
          ]
        }
      ]
    },
    {
      "cell_type": "code",
      "metadata": {
        "colab": {
          "base_uri": "https://localhost:8080/"
        },
        "id": "wacJcsYjswNM",
        "outputId": "eb0e291f-5bc4-4f26-a584-2cc0e7ca671a"
      },
      "source": [
        "max_number = int(input('Enter the last number'))\n",
        "odds = [i for i in range(1,max_number + 1) if i%2 != 0]\n",
        "print(odds)"
      ],
      "execution_count": null,
      "outputs": [
        {
          "output_type": "stream",
          "name": "stdout",
          "text": [
            "Enter the last number30\n",
            "[1, 3, 5, 7, 9, 11, 13, 15, 17, 19, 21, 23, 25, 27, 29]\n"
          ]
        }
      ]
    },
    {
      "cell_type": "markdown",
      "metadata": {
        "id": "2-d9BbNQvYW1"
      },
      "source": [
        "## Finding the people who are more han 25 years "
      ]
    },
    {
      "cell_type": "code",
      "metadata": {
        "colab": {
          "base_uri": "https://localhost:8080/"
        },
        "id": "bWxIWY5DuEsS",
        "outputId": "346af5ce-eb4a-4886-9691-ecf3e5dff95b"
      },
      "source": [
        "users = [\n",
        "         {'name' : 'Dipen', 'age' : 20},\n",
        "         {'name' : 'Saptarshi', 'age' : 26},\n",
        "         {'name' : 'Naren', 'age' : 25}\n",
        "]\n",
        "\n",
        "names = []\n",
        "for user in users:\n",
        "  if user['age'] >= 25:\n",
        "    names.append(user['name'])\n",
        "\n",
        "print(names)"
      ],
      "execution_count": null,
      "outputs": [
        {
          "output_type": "stream",
          "name": "stdout",
          "text": [
            "['Saptarshi', 'Naren']\n"
          ]
        }
      ]
    },
    {
      "cell_type": "code",
      "metadata": {
        "colab": {
          "base_uri": "https://localhost:8080/"
        },
        "id": "0kEbaWnUu0j-",
        "outputId": "ee375098-aefd-4524-9d16-f992d7da2c1f"
      },
      "source": [
        "[user['name'] for user in users if user['age']>=25]"
      ],
      "execution_count": null,
      "outputs": [
        {
          "output_type": "execute_result",
          "data": {
            "text/plain": [
              "['Saptarshi', 'Naren']"
            ]
          },
          "metadata": {},
          "execution_count": 8
        }
      ]
    },
    {
      "cell_type": "markdown",
      "metadata": {
        "id": "EnBJeiQRve-F"
      },
      "source": [
        "## Identity Matrix"
      ]
    },
    {
      "cell_type": "code",
      "metadata": {
        "colab": {
          "base_uri": "https://localhost:8080/"
        },
        "id": "aFr_kojOvsAE",
        "outputId": "7838f5f0-f436-4983-e3cf-c41b517ae1a8"
      },
      "source": [
        "matrix = []\n",
        "\n",
        "rows = cols = 3\n",
        "\n",
        "for r_index in range(0, rows):\n",
        "  row = []\n",
        "  for c_index in range(0, cols):\n",
        "    if r_index == c_index:\n",
        "      row.append(1)\n",
        "    else:\n",
        "      row.append(0)\n",
        "  matrix.append(row)\n",
        "\n",
        "print(matrix)\n",
        "\n",
        "\n"
      ],
      "execution_count": null,
      "outputs": [
        {
          "output_type": "stream",
          "name": "stdout",
          "text": [
            "[[1, 0, 0], [0, 1, 0], [0, 0, 1]]\n"
          ]
        }
      ]
    },
    {
      "cell_type": "code",
      "metadata": {
        "colab": {
          "base_uri": "https://localhost:8080/"
        },
        "id": "Mq2rPNfZwtdc",
        "outputId": "420c7475-e01f-4e54-fbfd-7c9975ff5f52"
      },
      "source": [
        "[[1 if r_index == c_index else 0 for c_index in range(0, cols)] for r_index in range(0, rows)]"
      ],
      "execution_count": null,
      "outputs": [
        {
          "output_type": "execute_result",
          "data": {
            "text/plain": [
              "[[1, 0, 0], [0, 1, 0], [0, 0, 1]]"
            ]
          },
          "metadata": {},
          "execution_count": 12
        }
      ]
    },
    {
      "cell_type": "markdown",
      "metadata": {
        "id": "DS6udULFyFdS"
      },
      "source": [
        "# Dictionary Comprehension"
      ]
    },
    {
      "cell_type": "code",
      "metadata": {
        "colab": {
          "base_uri": "https://localhost:8080/",
          "height": 35
        },
        "id": "A0fYABJbyO94",
        "outputId": "8c799613-77bd-48b8-ca63-3667b2aa22b5"
      },
      "source": [
        "x = {i : i**2 for i in range(1,11)}\n",
        "#x[30] \n",
        "\n",
        "#x.get(30)\n",
        "\n",
        "x.get(30,\"Better luck next time\")"
      ],
      "execution_count": null,
      "outputs": [
        {
          "output_type": "execute_result",
          "data": {
            "application/vnd.google.colaboratory.intrinsic+json": {
              "type": "string"
            },
            "text/plain": [
              "'Better luck next time'"
            ]
          },
          "metadata": {},
          "execution_count": 30
        }
      ]
    },
    {
      "cell_type": "markdown",
      "metadata": {
        "id": "PvENYo3sybks"
      },
      "source": [
        "## Frequency of words"
      ]
    },
    {
      "cell_type": "code",
      "metadata": {
        "colab": {
          "base_uri": "https://localhost:8080/"
        },
        "id": "Rv1l-1hLyhKU",
        "outputId": "ea9363ed-40c0-474f-d502-c67190c7150b"
      },
      "source": [
        "sentence = \"Ram is a good boy. Sita is a good girl.\"\n",
        "word_count = {}\n",
        "\n",
        "for word in sentence.split(\" \"):\n",
        "  word_count[word] = word_count.get(word, 0) + 1\n",
        "\n",
        "print(word_count)"
      ],
      "execution_count": null,
      "outputs": [
        {
          "output_type": "stream",
          "name": "stdout",
          "text": [
            "{'Ram': 1, 'is': 2, 'a': 2, 'good': 2, 'boy.': 1, 'Sita': 1, 'girl.': 1}\n"
          ]
        }
      ]
    },
    {
      "cell_type": "code",
      "metadata": {
        "colab": {
          "base_uri": "https://localhost:8080/"
        },
        "id": "QfV86vAZ0gC-",
        "outputId": "90cac659-4681-4a63-a2b2-439caa435074"
      },
      "source": [
        "{word : sentence.split().count(word) for word in set(sentence.split())}"
      ],
      "execution_count": null,
      "outputs": [
        {
          "output_type": "execute_result",
          "data": {
            "text/plain": [
              "{'Ram': 1, 'Sita': 1, 'a': 2, 'boy.': 1, 'girl.': 1, 'good': 2, 'is': 2}"
            ]
          },
          "metadata": {},
          "execution_count": 21
        }
      ]
    },
    {
      "cell_type": "code",
      "metadata": {
        "colab": {
          "base_uri": "https://localhost:8080/"
        },
        "id": "dPm7DBTg1O1X",
        "outputId": "2cf49029-c946-4492-bc93-88b9a753d461"
      },
      "source": [
        "sentence.split().count('is')"
      ],
      "execution_count": null,
      "outputs": [
        {
          "output_type": "execute_result",
          "data": {
            "text/plain": [
              "2"
            ]
          },
          "metadata": {},
          "execution_count": 24
        }
      ]
    },
    {
      "cell_type": "markdown",
      "metadata": {
        "id": "469UZ-CB3rpS"
      },
      "source": [
        "## Map, Filter & Reduce\n",
        "\n",
        "1. map(function, sequence)\n",
        "2. filter(function, sequence)"
      ]
    },
    {
      "cell_type": "code",
      "metadata": {
        "colab": {
          "base_uri": "https://localhost:8080/"
        },
        "id": "H-5s39FM3xCT",
        "outputId": "064450e3-2ccc-4ac9-fa03-fce56caa6a47"
      },
      "source": [
        "def calculateSquare(num):\n",
        "  return num**2\n",
        "\n",
        "\n",
        "print(calculateSquare(10))"
      ],
      "execution_count": null,
      "outputs": [
        {
          "output_type": "stream",
          "name": "stdout",
          "text": [
            "100\n"
          ]
        }
      ]
    },
    {
      "cell_type": "code",
      "metadata": {
        "colab": {
          "base_uri": "https://localhost:8080/"
        },
        "id": "xWG0Nqd24o-2",
        "outputId": "a6596e08-dec2-457c-f16b-31907b7bc63d"
      },
      "source": [
        "list(map(calculateSquare, range(1,11)))"
      ],
      "execution_count": null,
      "outputs": [
        {
          "output_type": "execute_result",
          "data": {
            "text/plain": [
              "[1, 4, 9, 16, 25, 36, 49, 64, 81, 100]"
            ]
          },
          "metadata": {},
          "execution_count": 36
        }
      ]
    },
    {
      "cell_type": "code",
      "metadata": {
        "colab": {
          "base_uri": "https://localhost:8080/"
        },
        "id": "nGUZugNp3_f8",
        "outputId": "8d727318-310d-494d-b76b-439dbb830764"
      },
      "source": [
        "cs = lambda num : num**2 \n",
        "cs(10)"
      ],
      "execution_count": null,
      "outputs": [
        {
          "output_type": "execute_result",
          "data": {
            "text/plain": [
              "100"
            ]
          },
          "metadata": {},
          "execution_count": 33
        }
      ]
    },
    {
      "cell_type": "code",
      "metadata": {
        "colab": {
          "base_uri": "https://localhost:8080/"
        },
        "id": "mkLE_p2o4SwA",
        "outputId": "14b0f792-c860-41f0-cc56-1dab4b8588b0"
      },
      "source": [
        "prod = lambda x, y : x*y \n",
        "prod(4,5)"
      ],
      "execution_count": null,
      "outputs": [
        {
          "output_type": "execute_result",
          "data": {
            "text/plain": [
              "20"
            ]
          },
          "metadata": {},
          "execution_count": 34
        }
      ]
    },
    {
      "cell_type": "code",
      "metadata": {
        "colab": {
          "base_uri": "https://localhost:8080/"
        },
        "id": "BhurSd_k5Mff",
        "outputId": "2a5b32f7-85ba-4adf-96f9-a152f8c9f1a7"
      },
      "source": [
        "list(map(lambda x : x**3,range(1,11)))"
      ],
      "execution_count": null,
      "outputs": [
        {
          "output_type": "execute_result",
          "data": {
            "text/plain": [
              "[1, 8, 27, 64, 125, 216, 343, 512, 729, 1000]"
            ]
          },
          "metadata": {},
          "execution_count": 37
        }
      ]
    },
    {
      "cell_type": "code",
      "metadata": {
        "colab": {
          "base_uri": "https://localhost:8080/"
        },
        "id": "yFNyoQP46_Z1",
        "outputId": "772f7ce2-b82e-4cf7-ffaa-60820ce31334"
      },
      "source": [
        "# C/5 = (F-32)/9\n",
        "celciusTemps = [24, -10, 33, 40, 28, -40]\n",
        "\n",
        "fahrenheitTemps = list(map(lambda c : 9.0 * c/5 + 32 ,celciusTemps))\n",
        "print(fahrenheitTemps)"
      ],
      "execution_count": null,
      "outputs": [
        {
          "output_type": "stream",
          "name": "stdout",
          "text": [
            "[75.2, 14.0, 91.4, 104.0, 82.4, -40.0]\n"
          ]
        }
      ]
    },
    {
      "cell_type": "code",
      "metadata": {
        "colab": {
          "base_uri": "https://localhost:8080/"
        },
        "id": "dGoqQUbN74yz",
        "outputId": "cb9b4c72-94e9-4bfe-dfcc-974ec5e8fb3f"
      },
      "source": [
        "a = [1,2,3,4]\n",
        "b = [17, 10, 8, 15]\n",
        "c = [-1, -3, 0, 8]\n",
        "\n",
        "list(map(lambda x,y,z : x + y + z,a,b,c))"
      ],
      "execution_count": null,
      "outputs": [
        {
          "output_type": "execute_result",
          "data": {
            "text/plain": [
              "[17, 9, 11, 27]"
            ]
          },
          "metadata": {},
          "execution_count": 41
        }
      ]
    },
    {
      "cell_type": "code",
      "metadata": {
        "colab": {
          "base_uri": "https://localhost:8080/"
        },
        "id": "9S3FEiDA9OSf",
        "outputId": "d529ff03-4a9a-4bd4-9377-4d076eb3b0f4"
      },
      "source": [
        "list(map(lambda x : x+5,[1,10,100]))"
      ],
      "execution_count": null,
      "outputs": [
        {
          "output_type": "execute_result",
          "data": {
            "text/plain": [
              "[6, 15, 105]"
            ]
          },
          "metadata": {},
          "execution_count": 42
        }
      ]
    },
    {
      "cell_type": "markdown",
      "metadata": {
        "id": "m9w_e_FS-Z7j"
      },
      "source": [
        "### Finding all the even numbers"
      ]
    },
    {
      "cell_type": "code",
      "metadata": {
        "colab": {
          "base_uri": "https://localhost:8080/"
        },
        "id": "Pg1Lq81G9xds",
        "outputId": "a1dcf2bc-3d15-4c14-b73f-ad9e7f0bca8c"
      },
      "source": [
        "list(filter(lambda x : x % 2 == 0 ,range(1,11)))"
      ],
      "execution_count": null,
      "outputs": [
        {
          "output_type": "execute_result",
          "data": {
            "text/plain": [
              "[2, 4, 6, 8, 10]"
            ]
          },
          "metadata": {},
          "execution_count": 45
        }
      ]
    },
    {
      "cell_type": "markdown",
      "metadata": {
        "id": "Qjym0bW6-e7R"
      },
      "source": [
        "### Find all numbers greater than 100"
      ]
    },
    {
      "cell_type": "code",
      "metadata": {
        "colab": {
          "base_uri": "https://localhost:8080/"
        },
        "id": "vTC0afrT-eRV",
        "outputId": "87b2307b-3dca-489c-fa49-a6323f9edce6"
      },
      "source": [
        "def numbersGt100(x):\n",
        "  return x > 100\n",
        "\n",
        "list(filter(numbersGt100 ,[12, 23, -55, 380, 98, 27, 123, 12]))"
      ],
      "execution_count": null,
      "outputs": [
        {
          "output_type": "execute_result",
          "data": {
            "text/plain": [
              "[380, 123]"
            ]
          },
          "metadata": {},
          "execution_count": 49
        }
      ]
    },
    {
      "cell_type": "code",
      "metadata": {
        "colab": {
          "base_uri": "https://localhost:8080/"
        },
        "id": "NX7JN_Y5-co-",
        "outputId": "9f49d84e-dd2b-4e8e-8b9a-6c1c729f9007"
      },
      "source": [
        "from functools import reduce\n",
        "fact = reduce(lambda x,y : x*y ,range(1,6))"
      ],
      "execution_count": null,
      "outputs": [
        {
          "output_type": "execute_result",
          "data": {
            "text/plain": [
              "120"
            ]
          },
          "metadata": {},
          "execution_count": 51
        }
      ]
    },
    {
      "cell_type": "code",
      "metadata": {
        "colab": {
          "base_uri": "https://localhost:8080/"
        },
        "id": "W8Ly8kaB__YJ",
        "outputId": "ada12c01-5fa8-4f40-cc9d-6d636179465d"
      },
      "source": [
        "list(range(5,0,-1))"
      ],
      "execution_count": null,
      "outputs": [
        {
          "output_type": "execute_result",
          "data": {
            "text/plain": [
              "[5, 4, 3, 2, 1]"
            ]
          },
          "metadata": {},
          "execution_count": 55
        }
      ]
    },
    {
      "cell_type": "markdown",
      "metadata": {
        "id": "ebTgTBx--qNA"
      },
      "source": [
        "# File Handling\n",
        "\n",
        "1. Opening a file : open(filename[,accessMode][,buffering])\n",
        "2. Closing a file : close()\n",
        "\n",
        "## Access modes\n",
        "1. r (Read) [default]\n",
        "2. w (Write)\n",
        "3. a (Append)\n",
        "4. rb (Read in binary)\n",
        "5. wb\n",
        "6. ab\n",
        "7. r+ (Opens a file for both reading & writing. Fp will be at the begining)\n",
        "8. w+ (Opens a file for both reading & writing. If file exists will be overwritten, otherwise open will create a new file and fp will be at the beginning)\n",
        "9. a+ (...Do... end)\n",
        "10. rb+\n",
        "11. wb+\n",
        "12. ab+\n",
        "\n",
        "## buffering\n",
        "0 (Default)  - No buffering\n",
        "1 - Line buffering\n"
      ]
    },
    {
      "cell_type": "code",
      "metadata": {
        "id": "vsJ1EQ7x-tM0"
      },
      "source": [
        "import os\n",
        "#os.chdir(r\"/Users/sauravbhattacharyya/Desktop/FileHandling/barackobama\")\n",
        "\n",
        "fp = open('./barackobama/obama.txt', 'r+')\n",
        "\n",
        "x = 1\n",
        "\n",
        "print(f\"Closed? {fp.closed}\")\n",
        "print(f\"Mode: {fp.mode}\")\n",
        "print(f\"Name: {fp.name}\")\n",
        "\n",
        "print(fp.read())\n",
        "\n",
        "\n",
        "fp.close()\n",
        "print(f\"Closed? {fp.closed}\")\n",
        "\n"
      ],
      "execution_count": null,
      "outputs": []
    },
    {
      "cell_type": "code",
      "metadata": {
        "id": "ULRckuufL577"
      },
      "source": [
        "with open('./barackobama/obama.txt') as fp:\n",
        "\tprint(fp.read(15))\n",
        "\n",
        "print(fp.closed)"
      ],
      "execution_count": null,
      "outputs": []
    },
    {
      "cell_type": "markdown",
      "metadata": {
        "id": "uyvTC0F6O4PM"
      },
      "source": [
        "1. read(characters)\n",
        "2. write(characters)\n",
        "3. tell()\n",
        "4. seek(offset, from) : Seeks to the location specified in the offset.\n",
        "from \n",
        "0 - Beginning of the file (OK)\n",
        "1 - From the current position (?)\n",
        "2 - From the end of the file (?)"
      ]
    },
    {
      "cell_type": "code",
      "metadata": {
        "id": "ybfpd5wtQJU4"
      },
      "source": [
        "import os\n",
        "#os.chdir(r\"/Users/sauravbhattacharyya/Desktop/FileHandling/barackobama\")\n",
        "\n",
        "'''\n",
        "# Method 1\n",
        "fp = open('fn.txt')\n",
        "fp.read()\n",
        "fp.close()\n",
        "'''\n",
        "\n",
        "#Method2\n",
        "with open('./barackobama/obama.txt') as fp:\n",
        "\tcnt = 1\n",
        "\tfor line in fp.readlines():\n",
        "\t\tprint(f\"{cnt} : {line}\")\n",
        "\t\tcnt = cnt + 1"
      ],
      "execution_count": null,
      "outputs": []
    },
    {
      "cell_type": "code",
      "metadata": {
        "colab": {
          "base_uri": "https://localhost:8080/"
        },
        "id": "aCaWzX9DQYzx",
        "outputId": "95340584-24bb-43a6-e5a2-ced0dc2fa5e0"
      },
      "source": [
        "with open('/content/file.txt') as fp:\n",
        "  print(fp.read(1))\n",
        "\n",
        "# fp.read(1)"
      ],
      "execution_count": null,
      "outputs": [
        {
          "output_type": "stream",
          "name": "stdout",
          "text": [
            "T\n"
          ]
        }
      ]
    },
    {
      "cell_type": "code",
      "metadata": {
        "id": "M7dwTdJWQ_bz"
      },
      "source": [
        "with open('./FileHandling/morningwish.txt', 'w') as fp:\n",
        "  fp.write(\"Good morning friends!\")"
      ],
      "execution_count": null,
      "outputs": []
    },
    {
      "cell_type": "code",
      "metadata": {
        "colab": {
          "base_uri": "https://localhost:8080/"
        },
        "id": "zkprC5G-QKZz",
        "outputId": "630de7bf-ae73-4e1a-aa43-ab7526a7dab8"
      },
      "source": [
        "import os\n",
        "os.chdir(\"/content\")\n",
        "print(f\"Know current directory : {os.getcwd()}\")\n",
        "print(f\"List of all contents in current directory : {os.listdir('.')}\")\n",
        "print(f\"Know current directory : {os.getcwd()}\")\n",
        "os.chdir(\"./sample_data\")\n",
        "print(f\"Know current directory : {os.getcwd()}\")\n",
        "# os.mkdir(\"subdir\")\n",
        "\n",
        "\n",
        "\n",
        "\n"
      ],
      "execution_count": null,
      "outputs": [
        {
          "output_type": "stream",
          "name": "stdout",
          "text": [
            "Know current directory : /content\n",
            "List of all contents in current directory : ['.config', '.ipynb_checkpoints', 'sample_data', 'FileHandling', 'file.txt', 'dummy']\n",
            "Know current directory : /content\n",
            "Know current directory : /content/sample_data\n"
          ]
        }
      ]
    },
    {
      "cell_type": "code",
      "metadata": {
        "colab": {
          "base_uri": "https://localhost:8080/"
        },
        "id": "yNrp0EkwVEU6",
        "outputId": "c29480b9-3962-49bb-86f3-a75a14914352"
      },
      "source": [
        "import os\n",
        "with os.scandir('/content') as item:\n",
        "  for i in item:\n",
        "    print(i.name)"
      ],
      "execution_count": null,
      "outputs": [
        {
          "output_type": "stream",
          "name": "stdout",
          "text": [
            ".config\n",
            ".ipynb_checkpoints\n",
            "sample_data\n",
            "FileHandling\n",
            "file.txt\n"
          ]
        }
      ]
    },
    {
      "cell_type": "code",
      "metadata": {
        "colab": {
          "base_uri": "https://localhost:8080/"
        },
        "id": "rK2IXc8pVhle",
        "outputId": "746f1850-2180-4153-dc89-1f39626c0ec0"
      },
      "source": [
        "for item in os.listdir('/content'):\n",
        "  if os.path.isdir(os.path.join('/content',item)):\n",
        "    print(item)"
      ],
      "execution_count": null,
      "outputs": [
        {
          "output_type": "stream",
          "name": "stdout",
          "text": [
            ".config\n",
            ".ipynb_checkpoints\n",
            "sample_data\n",
            "FileHandling\n"
          ]
        }
      ]
    },
    {
      "cell_type": "code",
      "metadata": {
        "colab": {
          "base_uri": "https://localhost:8080/",
          "height": 162
        },
        "id": "3JOyJBlYWZuW",
        "outputId": "4207fdfe-c6e1-4827-e46a-8b02e360e2fc"
      },
      "source": [
        "os.rmdir(\"/content/FileHandling\")"
      ],
      "execution_count": null,
      "outputs": [
        {
          "output_type": "error",
          "ename": "OSError",
          "evalue": "ignored",
          "traceback": [
            "\u001b[0;31m---------------------------------------------------------------------------\u001b[0m",
            "\u001b[0;31mOSError\u001b[0m                                   Traceback (most recent call last)",
            "\u001b[0;32m<ipython-input-30-bd8db1f99338>\u001b[0m in \u001b[0;36m<module>\u001b[0;34m()\u001b[0m\n\u001b[0;32m----> 1\u001b[0;31m \u001b[0mos\u001b[0m\u001b[0;34m.\u001b[0m\u001b[0mrmdir\u001b[0m\u001b[0;34m(\u001b[0m\u001b[0;34m\"/content/FileHandling\"\u001b[0m\u001b[0;34m)\u001b[0m\u001b[0;34m\u001b[0m\u001b[0;34m\u001b[0m\u001b[0m\n\u001b[0m",
            "\u001b[0;31mOSError\u001b[0m: [Errno 39] Directory not empty: '/content/FileHandling'"
          ]
        }
      ]
    },
    {
      "cell_type": "code",
      "metadata": {
        "colab": {
          "base_uri": "https://localhost:8080/",
          "height": 179
        },
        "id": "heOFuZwAXfqt",
        "outputId": "c068218c-4aa5-4b13-8612-347e0c0d6a30"
      },
      "source": [
        "l = [1,2,3]\n",
        "l[3]"
      ],
      "execution_count": null,
      "outputs": [
        {
          "output_type": "error",
          "ename": "IndexError",
          "evalue": "ignored",
          "traceback": [
            "\u001b[0;31m---------------------------------------------------------------------------\u001b[0m",
            "\u001b[0;31mIndexError\u001b[0m                                Traceback (most recent call last)",
            "\u001b[0;32m<ipython-input-34-55db724fda68>\u001b[0m in \u001b[0;36m<module>\u001b[0;34m()\u001b[0m\n\u001b[1;32m      1\u001b[0m \u001b[0ml\u001b[0m \u001b[0;34m=\u001b[0m \u001b[0;34m[\u001b[0m\u001b[0;36m1\u001b[0m\u001b[0;34m,\u001b[0m\u001b[0;36m2\u001b[0m\u001b[0;34m,\u001b[0m\u001b[0;36m3\u001b[0m\u001b[0;34m]\u001b[0m\u001b[0;34m\u001b[0m\u001b[0;34m\u001b[0m\u001b[0m\n\u001b[0;32m----> 2\u001b[0;31m \u001b[0ml\u001b[0m\u001b[0;34m[\u001b[0m\u001b[0;36m3\u001b[0m\u001b[0;34m]\u001b[0m\u001b[0;34m\u001b[0m\u001b[0;34m\u001b[0m\u001b[0m\n\u001b[0m",
            "\u001b[0;31mIndexError\u001b[0m: list index out of range"
          ]
        }
      ]
    },
    {
      "cell_type": "markdown",
      "metadata": {
        "id": "kCKeVakk3d4G"
      },
      "source": [
        "# Exception Handling"
      ]
    },
    {
      "cell_type": "code",
      "metadata": {
        "colab": {
          "base_uri": "https://localhost:8080/",
          "height": 201
        },
        "id": "FppHDDov3okd",
        "outputId": "40f7ac78-f3e3-49f2-9d40-7b9e050923ba"
      },
      "source": [
        "a = 1\n",
        "b = 0\n",
        "a/b"
      ],
      "execution_count": null,
      "outputs": [
        {
          "output_type": "error",
          "ename": "ZeroDivisionError",
          "evalue": "ignored",
          "traceback": [
            "\u001b[0;31m---------------------------------------------------------------------------\u001b[0m",
            "\u001b[0;31mZeroDivisionError\u001b[0m                         Traceback (most recent call last)",
            "\u001b[0;32m<ipython-input-4-b6249a4a2b4f>\u001b[0m in \u001b[0;36m<module>\u001b[0;34m()\u001b[0m\n\u001b[1;32m      1\u001b[0m \u001b[0ma\u001b[0m \u001b[0;34m=\u001b[0m \u001b[0;36m1\u001b[0m\u001b[0;34m\u001b[0m\u001b[0;34m\u001b[0m\u001b[0m\n\u001b[1;32m      2\u001b[0m \u001b[0mb\u001b[0m \u001b[0;34m=\u001b[0m \u001b[0;36m0\u001b[0m\u001b[0;34m\u001b[0m\u001b[0;34m\u001b[0m\u001b[0m\n\u001b[0;32m----> 3\u001b[0;31m \u001b[0ma\u001b[0m\u001b[0;34m/\u001b[0m\u001b[0mb\u001b[0m\u001b[0;34m\u001b[0m\u001b[0;34m\u001b[0m\u001b[0m\n\u001b[0m",
            "\u001b[0;31mZeroDivisionError\u001b[0m: division by zero"
          ]
        }
      ]
    },
    {
      "cell_type": "code",
      "metadata": {
        "colab": {
          "base_uri": "https://localhost:8080/",
          "height": 184
        },
        "id": "SwB-PeO04MUy",
        "outputId": "9f67614c-5caa-4669-cb59-f9b6239535dc"
      },
      "source": [
        "l = [1,2,3]\n",
        "l[3]"
      ],
      "execution_count": null,
      "outputs": [
        {
          "output_type": "error",
          "ename": "IndexError",
          "evalue": "ignored",
          "traceback": [
            "\u001b[0;31m---------------------------------------------------------------------------\u001b[0m",
            "\u001b[0;31mIndexError\u001b[0m                                Traceback (most recent call last)",
            "\u001b[0;32m<ipython-input-7-55db724fda68>\u001b[0m in \u001b[0;36m<module>\u001b[0;34m()\u001b[0m\n\u001b[1;32m      1\u001b[0m \u001b[0ml\u001b[0m \u001b[0;34m=\u001b[0m \u001b[0;34m[\u001b[0m\u001b[0;36m1\u001b[0m\u001b[0;34m,\u001b[0m\u001b[0;36m2\u001b[0m\u001b[0;34m,\u001b[0m\u001b[0;36m3\u001b[0m\u001b[0;34m]\u001b[0m\u001b[0;34m\u001b[0m\u001b[0;34m\u001b[0m\u001b[0m\n\u001b[0;32m----> 2\u001b[0;31m \u001b[0ml\u001b[0m\u001b[0;34m[\u001b[0m\u001b[0;36m3\u001b[0m\u001b[0;34m]\u001b[0m\u001b[0;34m\u001b[0m\u001b[0;34m\u001b[0m\u001b[0m\n\u001b[0m",
            "\u001b[0;31mIndexError\u001b[0m: list index out of range"
          ]
        }
      ]
    },
    {
      "cell_type": "code",
      "metadata": {
        "colab": {
          "base_uri": "https://localhost:8080/",
          "height": 201
        },
        "id": "HLcPcgTB4X-d",
        "outputId": "67575ef1-4ac6-4693-87a4-06868fcf480e"
      },
      "source": [
        "x = input(\"Enter a number:\")\n",
        "print(int(x))"
      ],
      "execution_count": null,
      "outputs": [
        {
          "name": "stdout",
          "output_type": "stream",
          "text": [
            "Enter a number:1o1\n"
          ]
        },
        {
          "output_type": "error",
          "ename": "ValueError",
          "evalue": "ignored",
          "traceback": [
            "\u001b[0;31m---------------------------------------------------------------------------\u001b[0m",
            "\u001b[0;31mValueError\u001b[0m                                Traceback (most recent call last)",
            "\u001b[0;32m<ipython-input-10-7a3efe4d5df8>\u001b[0m in \u001b[0;36m<module>\u001b[0;34m()\u001b[0m\n\u001b[1;32m      1\u001b[0m \u001b[0mx\u001b[0m \u001b[0;34m=\u001b[0m \u001b[0minput\u001b[0m\u001b[0;34m(\u001b[0m\u001b[0;34m\"Enter a number:\"\u001b[0m\u001b[0;34m)\u001b[0m\u001b[0;34m\u001b[0m\u001b[0;34m\u001b[0m\u001b[0m\n\u001b[0;32m----> 2\u001b[0;31m \u001b[0mprint\u001b[0m\u001b[0;34m(\u001b[0m\u001b[0mint\u001b[0m\u001b[0;34m(\u001b[0m\u001b[0mx\u001b[0m\u001b[0;34m)\u001b[0m\u001b[0;34m)\u001b[0m\u001b[0;34m\u001b[0m\u001b[0;34m\u001b[0m\u001b[0m\n\u001b[0m",
            "\u001b[0;31mValueError\u001b[0m: invalid literal for int() with base 10: '1o1'"
          ]
        }
      ]
    },
    {
      "cell_type": "code",
      "metadata": {
        "colab": {
          "base_uri": "https://localhost:8080/"
        },
        "id": "QUxOjS785KEo",
        "outputId": "e11b84b3-51bd-4242-af9e-7a417689a261"
      },
      "source": [
        "import sys\n",
        "\n",
        "l = ['e', 0, 2, 'apple', True, 0.25]\n",
        "\n",
        "for item in l:\n",
        "  try:\n",
        "    r = 1/item\n",
        "    print(f\"Reciprocal of {item} is {r}\")\n",
        "    print(l[6])\n",
        "  except ZeroDivisionError:\n",
        "    print(f\"Attempt to divide by 0 \")\n",
        "  except TypeError:\n",
        "    print(f\"Ran into type error\")\n",
        "  except Exception as e:\n",
        "    print(f\"Ran into some kind of exception : {e.__class__}\")\n",
        "  else:\n",
        "    print(\"Enjoy the correct execution & move on\")\n",
        "  finally:\n",
        "    print(\"Keep up the spirit\")\n",
        "    print()\n",
        " "
      ],
      "execution_count": null,
      "outputs": [
        {
          "output_type": "stream",
          "name": "stdout",
          "text": [
            "Ran into type error\n",
            "Keep up the spirit\n",
            "\n",
            "Attempt to divide by 0 \n",
            "Keep up the spirit\n",
            "\n",
            "Reciprocal of 2 is 0.5\n",
            "Ran into some kind of exception : <class 'IndexError'>\n",
            "Keep up the spirit\n",
            "\n",
            "Ran into type error\n",
            "Keep up the spirit\n",
            "\n",
            "Reciprocal of True is 1.0\n",
            "Ran into some kind of exception : <class 'IndexError'>\n",
            "Keep up the spirit\n",
            "\n",
            "Reciprocal of 0.25 is 4.0\n",
            "Ran into some kind of exception : <class 'IndexError'>\n",
            "Keep up the spirit\n",
            "\n"
          ]
        }
      ]
    },
    {
      "cell_type": "code",
      "metadata": {
        "colab": {
          "base_uri": "https://localhost:8080/"
        },
        "id": "A9Arvtb1-iyp",
        "outputId": "21686fe7-b683-401a-f1f8-2dfb0d55d22f"
      },
      "source": [
        "try:\n",
        "  a = int(input(\"Enter a positive number:\"))\n",
        "  if a<= 0:\n",
        "    raise ValueError(\"The code only expects positive numbers.\")\n",
        "except ValueError as e:\n",
        "  print(e)\n",
        "else:\n",
        "  b = a + 1\n",
        "  print(f\"{b}\")"
      ],
      "execution_count": null,
      "outputs": [
        {
          "output_type": "stream",
          "name": "stdout",
          "text": [
            "Enter a positive number:0\n",
            "The code only expects positive numbers.\n"
          ]
        }
      ]
    },
    {
      "cell_type": "code",
      "metadata": {
        "colab": {
          "base_uri": "https://localhost:8080/"
        },
        "id": "J8gbWtHo_p2y",
        "outputId": "a7600489-81b6-4e30-9faa-1dccbc09c69f"
      },
      "source": [
        "try:\n",
        "  n = int(input(\"Enter a number : \"))\n",
        "  assert n%2 == 0, \"This is a odd number, hence raising exception\"\n",
        "except Exception as e:\n",
        "  print(f\"Pls enter only an even number. {e.__class__}\")\n",
        "else:\n",
        "  print(f\"Reciprocal is {1/n}\")"
      ],
      "execution_count": null,
      "outputs": [
        {
          "output_type": "stream",
          "name": "stdout",
          "text": [
            "Enter a number : 8\n",
            "Reciprocal is 0.125\n"
          ]
        }
      ]
    },
    {
      "cell_type": "code",
      "metadata": {
        "colab": {
          "base_uri": "https://localhost:8080/"
        },
        "id": "4xSUgCEwAk8v",
        "outputId": "edab5137-4ff7-4b0b-f35b-624133b9f470"
      },
      "source": [
        "try:\n",
        "  n = int(input(\"Enter a number : \"))\n",
        "  assert n%2 == 0, \"This is a odd number, hence raising exception\"\n",
        "except Exception as e:\n",
        "  print(f\"Pls enter only an even number. \\n {e.__class__} : {e}\")\n",
        "else:\n",
        "  print(f\"Reciprocal is {1/n}\")"
      ],
      "execution_count": null,
      "outputs": [
        {
          "output_type": "stream",
          "name": "stdout",
          "text": [
            "Enter a number : 3\n",
            "Pls enter only an even number. \n",
            " <class 'AssertionError'> : This is a odd number, hence raising exception\n"
          ]
        }
      ]
    },
    {
      "cell_type": "code",
      "metadata": {
        "colab": {
          "base_uri": "https://localhost:8080/",
          "height": 184
        },
        "id": "WUpZmci1B8a8",
        "outputId": "141e6135-505c-4887-e922-234daf4d068b"
      },
      "source": [
        "n = 40\n",
        "assert n < 40, \"The number should be less than 40\""
      ],
      "execution_count": null,
      "outputs": [
        {
          "output_type": "error",
          "ename": "AssertionError",
          "evalue": "ignored",
          "traceback": [
            "\u001b[0;31m---------------------------------------------------------------------------\u001b[0m",
            "\u001b[0;31mAssertionError\u001b[0m                            Traceback (most recent call last)",
            "\u001b[0;32m<ipython-input-41-980f414e2e39>\u001b[0m in \u001b[0;36m<module>\u001b[0;34m()\u001b[0m\n\u001b[1;32m      1\u001b[0m \u001b[0mn\u001b[0m \u001b[0;34m=\u001b[0m \u001b[0;36m40\u001b[0m\u001b[0;34m\u001b[0m\u001b[0;34m\u001b[0m\u001b[0m\n\u001b[0;32m----> 2\u001b[0;31m \u001b[0;32massert\u001b[0m \u001b[0mn\u001b[0m \u001b[0;34m<\u001b[0m \u001b[0;36m40\u001b[0m\u001b[0;34m,\u001b[0m \u001b[0;34m\"The number should be less than 40\"\u001b[0m\u001b[0;34m\u001b[0m\u001b[0;34m\u001b[0m\u001b[0m\n\u001b[0m",
            "\u001b[0;31mAssertionError\u001b[0m: The number should be less than 40"
          ]
        }
      ]
    },
    {
      "cell_type": "code",
      "metadata": {
        "id": "BgRpgZ2vCj2P"
      },
      "source": [
        "def aFunction(a):\n",
        "\ttry:\n",
        "\t\ttry:\n",
        "\t\t\tif a < 4:\n",
        "\t\t\t\tb = a/(a-3)\n",
        "\t\texcept ZeroDivisionError as e:\n",
        "\t\t\tprint(f\"Ran into an inner exception {e.__class__} Msg : {e}\")\n",
        "\t\telse:\n",
        "\t\t\tprint(b)\n",
        "\t\t\tif b >0:\n",
        "\t\t\t\traise ValueError(\"b should not be more than 0\")\n",
        "\texcept UnboundLocalError as e:\n",
        "\t\tprint(f\"Ran into an outer exception {e.__class__} Msg : {e}\")\n",
        "\n",
        "\n",
        "\n",
        "try:\n",
        "\taFunction(2)\n",
        "\taFunction(3)\n",
        "\taFunction(5)\n",
        "\taFunction(6)\n",
        "except Exception as e:\n",
        "\tprint(f\"Exception rcvd in main block : {e.__class__} Msg : {e}\")"
      ],
      "execution_count": null,
      "outputs": []
    },
    {
      "cell_type": "markdown",
      "metadata": {
        "id": "bl7CPyHoMV1E"
      },
      "source": [
        "## Popular Exception Classes#\n",
        "\n",
        "1. ZeroDivisionError\n",
        "2. IndexError\n",
        "3. ValueError\n",
        "4. OverflowError\n",
        "5. AssertionError\n",
        "6. EOFError\n",
        "7. ImportError\n",
        "8. NameError\n",
        "9. UnboundLocalError\n",
        "10. IOError\n",
        "11. OSError\n",
        "12. ValueError\n",
        "13. OutOfMemoryError (?)\n",
        "14. RuntimeError"
      ]
    },
    {
      "cell_type": "markdown",
      "metadata": {
        "id": "i2BDhOKzQI1v"
      },
      "source": [
        "# Object Oriented Programming"
      ]
    },
    {
      "cell_type": "code",
      "metadata": {
        "colab": {
          "base_uri": "https://localhost:8080/"
        },
        "id": "XcxECVi4QOjk",
        "outputId": "d7c6f858-da71-4238-da10-6645be4e94a5"
      },
      "source": [
        "x = 100\n",
        "type(x)"
      ],
      "execution_count": null,
      "outputs": [
        {
          "output_type": "execute_result",
          "data": {
            "text/plain": [
              "int"
            ]
          },
          "metadata": {},
          "execution_count": 1
        }
      ]
    },
    {
      "cell_type": "code",
      "metadata": {
        "colab": {
          "base_uri": "https://localhost:8080/"
        },
        "id": "fXx3g3gERSyM",
        "outputId": "97d2dac0-007b-40e7-8d37-85b7a717d358"
      },
      "source": [
        "y = 1.2\n",
        "type(y)"
      ],
      "execution_count": null,
      "outputs": [
        {
          "output_type": "execute_result",
          "data": {
            "text/plain": [
              "float"
            ]
          },
          "metadata": {},
          "execution_count": 2
        }
      ]
    },
    {
      "cell_type": "code",
      "metadata": {
        "colab": {
          "base_uri": "https://localhost:8080/"
        },
        "id": "7yGIkYt8RV8h",
        "outputId": "d1277f66-29d6-4335-8457-4d471063fd11"
      },
      "source": [
        "def f(x):\n",
        "  return x + 1\n",
        "\n",
        "type(f)"
      ],
      "execution_count": null,
      "outputs": [
        {
          "output_type": "execute_result",
          "data": {
            "text/plain": [
              "function"
            ]
          },
          "metadata": {},
          "execution_count": 3
        }
      ]
    },
    {
      "cell_type": "code",
      "metadata": {
        "colab": {
          "base_uri": "https://localhost:8080/"
        },
        "id": "s9jEv2zIRcAg",
        "outputId": "2b24ba2a-90fd-4aca-bcde-87efbc6e57c0"
      },
      "source": [
        "import math\n",
        "type(math)"
      ],
      "execution_count": null,
      "outputs": [
        {
          "output_type": "execute_result",
          "data": {
            "text/plain": [
              "module"
            ]
          },
          "metadata": {},
          "execution_count": 4
        }
      ]
    },
    {
      "cell_type": "code",
      "metadata": {
        "colab": {
          "base_uri": "https://localhost:8080/"
        },
        "id": "gQAa_FfxRfIf",
        "outputId": "f3dccf71-9fef-4409-ba33-6f43740b9bf3"
      },
      "source": [
        "e = [4, 8, 16, \"thirty two\"]\n",
        "type(e[3])"
      ],
      "execution_count": null,
      "outputs": [
        {
          "output_type": "execute_result",
          "data": {
            "text/plain": [
              "str"
            ]
          },
          "metadata": {},
          "execution_count": 8
        }
      ]
    },
    {
      "cell_type": "code",
      "metadata": {
        "colab": {
          "base_uri": "https://localhost:8080/"
        },
        "id": "J28o04MIRwV0",
        "outputId": "ee27fb70-e07c-4ec9-9648-003350a85d5e"
      },
      "source": [
        "class Robot:\n",
        "  pass\n",
        "\n",
        "if __name__ == '__main__':\n",
        "  x = Robot()\n",
        "  y = Robot()\n",
        "  y2 = y\n",
        "\n",
        "  print(x==y)\n",
        "  print(y==y2)"
      ],
      "execution_count": null,
      "outputs": [
        {
          "output_type": "stream",
          "name": "stdout",
          "text": [
            "False\n",
            "True\n"
          ]
        }
      ]
    },
    {
      "cell_type": "code",
      "metadata": {
        "colab": {
          "base_uri": "https://localhost:8080/"
        },
        "id": "e5KT24A2SF0l",
        "outputId": "4a1e05b3-9376-4d94-a5a9-2c852fdcbaac"
      },
      "source": [
        "class Robot:\n",
        "  pass\n",
        "\n",
        "if __name__ == '__main__':\n",
        "  x = Robot()\n",
        "  y = Robot()\n",
        "  y2 = y\n",
        "  \n",
        "  x.name = \"Marvin\"\n",
        "  x.build_year = 1979\n",
        "  \n",
        "  y.name = \"Caliban\"\n",
        "  y.build_year = 1993\n",
        "  y.developed_in = \"USA\"\n",
        "\n",
        "  print(x.name)\n",
        "  print(y.name)\n",
        "  print(y2.name)\n"
      ],
      "execution_count": null,
      "outputs": [
        {
          "output_type": "stream",
          "name": "stdout",
          "text": [
            "Marvin\n",
            "Caliban\n",
            "Caliban\n"
          ]
        }
      ]
    },
    {
      "cell_type": "code",
      "metadata": {
        "colab": {
          "base_uri": "https://localhost:8080/"
        },
        "id": "xVfRVIshUHbm",
        "outputId": "4485341b-4a21-427d-d92d-d448b74fde1a"
      },
      "source": [
        "x.__dict__"
      ],
      "execution_count": null,
      "outputs": [
        {
          "output_type": "execute_result",
          "data": {
            "text/plain": [
              "{'build_year': 1979, 'name': 'Marvin'}"
            ]
          },
          "metadata": {},
          "execution_count": 14
        }
      ]
    },
    {
      "cell_type": "code",
      "metadata": {
        "colab": {
          "base_uri": "https://localhost:8080/"
        },
        "id": "mCMY7Ki0UMYw",
        "outputId": "481d0c2e-8695-4bb4-8b52-5211b9b0fd4d"
      },
      "source": [
        "y.__dict__"
      ],
      "execution_count": null,
      "outputs": [
        {
          "output_type": "execute_result",
          "data": {
            "text/plain": [
              "{'build_year': 1993, 'developed_in': 'USA', 'name': 'Caliban'}"
            ]
          },
          "metadata": {},
          "execution_count": 15
        }
      ]
    },
    {
      "cell_type": "code",
      "metadata": {
        "colab": {
          "base_uri": "https://localhost:8080/"
        },
        "id": "jWlUGwqbURKM",
        "outputId": "dd3f9bf2-093b-4bf6-eb20-253e9c579f51"
      },
      "source": [
        "y2.__dict__"
      ],
      "execution_count": null,
      "outputs": [
        {
          "output_type": "execute_result",
          "data": {
            "text/plain": [
              "{'build_year': 1993, 'developed_in': 'USA', 'name': 'Caliban'}"
            ]
          },
          "metadata": {},
          "execution_count": 16
        }
      ]
    },
    {
      "cell_type": "code",
      "metadata": {
        "id": "tAiFd_cvUVsp"
      },
      "source": [
        "class Robot(object):\n",
        "  pass"
      ],
      "execution_count": null,
      "outputs": []
    },
    {
      "cell_type": "code",
      "metadata": {
        "colab": {
          "base_uri": "https://localhost:8080/"
        },
        "id": "7kyYwvZ7Uq4-",
        "outputId": "06a4c7bf-5150-4b83-865d-10a5464b7af6"
      },
      "source": [
        "x = Robot()\n",
        "Robot.brand = \"Kuka\"\n",
        "\n",
        "print(x.brand)"
      ],
      "execution_count": null,
      "outputs": [
        {
          "output_type": "stream",
          "name": "stdout",
          "text": [
            "Kuka\n"
          ]
        }
      ]
    },
    {
      "cell_type": "code",
      "metadata": {
        "colab": {
          "base_uri": "https://localhost:8080/"
        },
        "id": "KJjOUFZ1VY0f",
        "outputId": "369d8e4c-21c2-4682-b7ff-3452a11cae85"
      },
      "source": [
        "class Robot(object):\n",
        "  pass\n",
        "\n",
        "x = Robot()\n",
        "Robot.brand = \"Kuka\"\n",
        "x.brand = 'Thales'\n",
        "\n",
        "print(Robot.brand)\n",
        "print(x.brand)\n",
        "\n",
        "y = Robot()\n",
        "print(y.brand)\n",
        "\n",
        "Robot.brand = \"Thales\"\n",
        "print(y.brand)"
      ],
      "execution_count": null,
      "outputs": [
        {
          "output_type": "stream",
          "name": "stdout",
          "text": [
            "Kuka\n",
            "Thales\n",
            "Kuka\n",
            "Thales\n"
          ]
        }
      ]
    },
    {
      "cell_type": "code",
      "metadata": {
        "colab": {
          "base_uri": "https://localhost:8080/"
        },
        "id": "Ktip6gMYWQjr",
        "outputId": "5ff39d66-3b94-4c78-e33e-13d9b281fbfd"
      },
      "source": [
        "x.__dict__"
      ],
      "execution_count": null,
      "outputs": [
        {
          "output_type": "execute_result",
          "data": {
            "text/plain": [
              "{'brand': 'Thales'}"
            ]
          },
          "metadata": {},
          "execution_count": 22
        }
      ]
    },
    {
      "cell_type": "code",
      "metadata": {
        "colab": {
          "base_uri": "https://localhost:8080/"
        },
        "id": "zHleYDtjWT-H",
        "outputId": "d51e03dc-5cbd-4bda-da24-a88f45cdebca"
      },
      "source": [
        "y.__dict__"
      ],
      "execution_count": null,
      "outputs": [
        {
          "output_type": "execute_result",
          "data": {
            "text/plain": [
              "{}"
            ]
          },
          "metadata": {},
          "execution_count": 23
        }
      ]
    },
    {
      "cell_type": "code",
      "metadata": {
        "colab": {
          "base_uri": "https://localhost:8080/"
        },
        "id": "neST_vehWdJC",
        "outputId": "2e6bfc6c-ad35-4f28-b47c-ad39caf26069"
      },
      "source": [
        "Robot.__dict__"
      ],
      "execution_count": null,
      "outputs": [
        {
          "output_type": "execute_result",
          "data": {
            "text/plain": [
              "mappingproxy({'__dict__': <attribute '__dict__' of 'Robot' objects>,\n",
              "              '__doc__': None,\n",
              "              '__module__': '__main__',\n",
              "              '__weakref__': <attribute '__weakref__' of 'Robot' objects>,\n",
              "              'brand': 'Thales'})"
            ]
          },
          "metadata": {},
          "execution_count": 24
        }
      ]
    },
    {
      "cell_type": "code",
      "metadata": {
        "colab": {
          "base_uri": "https://localhost:8080/",
          "height": 166
        },
        "id": "MLUccF0qWm8p",
        "outputId": "e7b3e003-95eb-4eb4-afdc-15db6c14f517"
      },
      "source": [
        "x.energy"
      ],
      "execution_count": null,
      "outputs": [
        {
          "output_type": "error",
          "ename": "AttributeError",
          "evalue": "ignored",
          "traceback": [
            "\u001b[0;31m---------------------------------------------------------------------------\u001b[0m",
            "\u001b[0;31mAttributeError\u001b[0m                            Traceback (most recent call last)",
            "\u001b[0;32m<ipython-input-25-82fa0f11497d>\u001b[0m in \u001b[0;36m<module>\u001b[0;34m()\u001b[0m\n\u001b[0;32m----> 1\u001b[0;31m \u001b[0mx\u001b[0m\u001b[0;34m.\u001b[0m\u001b[0menergy\u001b[0m\u001b[0;34m\u001b[0m\u001b[0;34m\u001b[0m\u001b[0m\n\u001b[0m",
            "\u001b[0;31mAttributeError\u001b[0m: 'Robot' object has no attribute 'energy'"
          ]
        }
      ]
    },
    {
      "cell_type": "code",
      "metadata": {
        "colab": {
          "base_uri": "https://localhost:8080/",
          "height": 35
        },
        "id": "Wq2WWNsBWtk5",
        "outputId": "1b87dc60-f541-4167-b52a-141cf494ea5b"
      },
      "source": [
        "getattr(x,'brand','This attr is not defined yet')"
      ],
      "execution_count": null,
      "outputs": [
        {
          "output_type": "execute_result",
          "data": {
            "application/vnd.google.colaboratory.intrinsic+json": {
              "type": "string"
            },
            "text/plain": [
              "'Thales'"
            ]
          },
          "metadata": {},
          "execution_count": 29
        }
      ]
    },
    {
      "cell_type": "code",
      "metadata": {
        "colab": {
          "base_uri": "https://localhost:8080/",
          "height": 35
        },
        "id": "qi8RfZ-LW8rp",
        "outputId": "00c52c47-7996-4765-f661-75c50abde510"
      },
      "source": [
        "getattr(x,'energy','This attr is not defined yet')"
      ],
      "execution_count": null,
      "outputs": [
        {
          "output_type": "execute_result",
          "data": {
            "application/vnd.google.colaboratory.intrinsic+json": {
              "type": "string"
            },
            "text/plain": [
              "'This attr is not defined yet'"
            ]
          },
          "metadata": {},
          "execution_count": 30
        }
      ]
    },
    {
      "cell_type": "code",
      "metadata": {
        "colab": {
          "base_uri": "https://localhost:8080/"
        },
        "id": "PsrV8KkAXEmp",
        "outputId": "c3fb2ec0-0ee5-4ebb-ccec-c56e74ddb861"
      },
      "source": [
        "def f(x):\n",
        "  return 45\n",
        "\n",
        "f.x = 100\n",
        "print(f.x)"
      ],
      "execution_count": null,
      "outputs": [
        {
          "output_type": "stream",
          "name": "stdout",
          "text": [
            "100\n"
          ]
        }
      ]
    },
    {
      "cell_type": "code",
      "metadata": {
        "colab": {
          "base_uri": "https://localhost:8080/"
        },
        "id": "_7OeDrOYXwNF",
        "outputId": "44040a8b-63e1-4e2d-b050-2572effae52c"
      },
      "source": [
        "def f(x):\n",
        "  f.counter = getattr(f,\"counter\",0) + 1\n",
        "\n",
        "for i in range(10):\n",
        "  f(i)\n",
        "\n",
        "print(f.counter)"
      ],
      "execution_count": null,
      "outputs": [
        {
          "output_type": "stream",
          "name": "stdout",
          "text": [
            "3\n"
          ]
        }
      ]
    },
    {
      "cell_type": "code",
      "metadata": {
        "colab": {
          "base_uri": "https://localhost:8080/"
        },
        "id": "RLIbxtjZaFMj",
        "outputId": "cd5a2504-d138-464b-c727-f462b850b81c"
      },
      "source": [
        "def hi(p):\n",
        "  print(f\"Hi, I am {p.name} !\")\n",
        "\n",
        "class Robot:\n",
        "  pass\n",
        "\n",
        "x = Robot()\n",
        "x.name = \"Marvin\"\n",
        "hi(x)"
      ],
      "execution_count": null,
      "outputs": [
        {
          "output_type": "stream",
          "name": "stdout",
          "text": [
            "Hi, I am Marvin !\n"
          ]
        }
      ]
    },
    {
      "cell_type": "code",
      "metadata": {
        "colab": {
          "base_uri": "https://localhost:8080/"
        },
        "id": "0TRdK90Ea0dl",
        "outputId": "7bd5b7db-19b4-42fe-dde1-c350baa55c63"
      },
      "source": [
        "def hi(p):\n",
        "  print(f\"Hi, I am {p.name} !\")\n",
        "\n",
        "class Robot:\n",
        "  say_hi = hi\n",
        "\n",
        "x = Robot()\n",
        "x.name = \"Marvin\"\n",
        "Robot.say_hi(x) # => Robot.hi(x) "
      ],
      "execution_count": null,
      "outputs": [
        {
          "output_type": "stream",
          "name": "stdout",
          "text": [
            "Hi, I am Marvin !\n"
          ]
        }
      ]
    },
    {
      "cell_type": "code",
      "metadata": {
        "colab": {
          "base_uri": "https://localhost:8080/"
        },
        "id": "CNMf6pYfby-c",
        "outputId": "dd4e0b00-4a55-4d1a-a7bc-67399ecce438"
      },
      "source": [
        "b = 1000\n",
        "a = b # b is being assigned to a \n",
        "a"
      ],
      "execution_count": null,
      "outputs": [
        {
          "output_type": "execute_result",
          "data": {
            "text/plain": [
              "1000"
            ]
          },
          "metadata": {},
          "execution_count": 41
        }
      ]
    },
    {
      "cell_type": "code",
      "metadata": {
        "colab": {
          "base_uri": "https://localhost:8080/"
        },
        "id": "pytdj8Ktcd4D",
        "outputId": "8f38b40a-1cf8-4c2a-dda8-d11cf7a15ed8"
      },
      "source": [
        "class A:\n",
        "  def __init__(self):\n",
        "    print(\"__init__ has been executed\")\n",
        "\n",
        "x = A()\n"
      ],
      "execution_count": null,
      "outputs": [
        {
          "output_type": "stream",
          "name": "stdout",
          "text": [
            "__init__ has been executed\n"
          ]
        }
      ]
    },
    {
      "cell_type": "code",
      "metadata": {
        "colab": {
          "base_uri": "https://localhost:8080/"
        },
        "id": "VE-SnWDEc-54",
        "outputId": "c7b839c9-cb4d-4cc3-c4e7-00ccb26af2c5"
      },
      "source": [
        "class Robot:\n",
        "  def __init__(self, beautifulName = None):   # Constructor\n",
        "    self.name = beautifulName\n",
        "  \n",
        "  def say_hi(self):\n",
        "    if self.name:\n",
        "      print(f\"Hi, I am {self.name}\")\n",
        "    else:\n",
        "      print(\"I am anonymous\")\n",
        "\n",
        "\n",
        "x = Robot()\n",
        "x.say_hi()\n",
        "\n",
        "y = Robot(\"Galvin\")\n",
        "y.say_hi()\n"
      ],
      "execution_count": null,
      "outputs": [
        {
          "output_type": "stream",
          "name": "stdout",
          "text": [
            "I am anonymous\n",
            "Hi, I am Galvin\n"
          ]
        }
      ]
    },
    {
      "cell_type": "code",
      "metadata": {
        "colab": {
          "base_uri": "https://localhost:8080/"
        },
        "id": "5I8tcLcId-uU",
        "outputId": "a45af3db-d79e-45bb-ccbf-0902b14df90d"
      },
      "source": [
        "x.__dict__"
      ],
      "execution_count": null,
      "outputs": [
        {
          "output_type": "execute_result",
          "data": {
            "text/plain": [
              "{'name': None}"
            ]
          },
          "metadata": {},
          "execution_count": 44
        }
      ]
    },
    {
      "cell_type": "code",
      "metadata": {
        "colab": {
          "base_uri": "https://localhost:8080/"
        },
        "id": "nL1_NyuHeA0l",
        "outputId": "3ab4c9ec-5e1f-4c5c-a080-6b6c83b192a7"
      },
      "source": [
        "y.__dict__"
      ],
      "execution_count": null,
      "outputs": [
        {
          "output_type": "execute_result",
          "data": {
            "text/plain": [
              "{'name': 'Galvin'}"
            ]
          },
          "metadata": {},
          "execution_count": 45
        }
      ]
    },
    {
      "cell_type": "markdown",
      "metadata": {
        "id": "dA2_F6Q6e15T"
      },
      "source": [
        "## Data Abstraction, Data Encapsulation & Information Hiding \n",
        "1. Encapsulation\n",
        "2. Polymorphism\n",
        "3. Abstraction"
      ]
    },
    {
      "cell_type": "code",
      "metadata": {
        "colab": {
          "base_uri": "https://localhost:8080/"
        },
        "id": "yjoAJCf3e-te",
        "outputId": "0f827e83-e8f4-4d98-f759-e67d18844b7f"
      },
      "source": [
        "class Robot:\n",
        "  def __init__(self, nomre = None):   # Constructor\n",
        "    self.nomre = nomre\n",
        "  \n",
        "  def say_hi(self):\n",
        "    if self.nomre:\n",
        "      print(f\"Hi, I am {self.nomre}\")\n",
        "    else:\n",
        "      print(\"I am anonymous\")\n",
        "\n",
        "  def set_name(self, name):    # Accessor & Mutator : Setter & Getter\n",
        "    self.nomre = name\n",
        "\n",
        "  def get_name(self):\n",
        "    return self.nomre\n",
        "\n",
        "\n",
        "x = Robot()\n",
        "print(x.__dict__)\n",
        "x.set_name(\"Henry\")\n",
        "print(x.__dict__)\n",
        "x.say_hi()\n",
        "\n",
        "\n",
        "y = Robot()\n",
        "y.set_name(x.get_name())\n",
        "print(f\"y : {y.get_name()}\")\n"
      ],
      "execution_count": null,
      "outputs": [
        {
          "output_type": "stream",
          "name": "stdout",
          "text": [
            "{'nomre': None}\n",
            "{'nomre': 'Henry'}\n",
            "Hi, I am Henry\n",
            "y : Henry\n"
          ]
        }
      ]
    },
    {
      "cell_type": "code",
      "metadata": {
        "colab": {
          "base_uri": "https://localhost:8080/"
        },
        "id": "afT3kXLzj_2J",
        "outputId": "93305f29-f31f-4366-8e8d-12cd3595f466"
      },
      "source": [
        "class Robot:\n",
        "\tdef __init__(self, name, build_year):\n",
        "\t\tself.__name = name\n",
        "\t\tself.__build_year = build_year\n",
        "\n",
        "\tdef setName(self, name):\n",
        "\t\tself.__name = name\n",
        "\n",
        "\tdef getName(self):\n",
        "\t\treturn self.__name\n",
        "\n",
        "x = Robot(\"Isaac\", 2001)\n",
        "#x.__name  # Error\n",
        "x.setName(\"Newton\")\n",
        "print(x.getName())\n",
        "print(x.__dict__)\n"
      ],
      "execution_count": null,
      "outputs": [
        {
          "output_type": "stream",
          "name": "stdout",
          "text": [
            "Newton\n",
            "{'_Robot__name': 'Newton', '_Robot__build_year': 2001}\n"
          ]
        }
      ]
    },
    {
      "cell_type": "code",
      "metadata": {
        "id": "ng9Ur286n3kW"
      },
      "source": [
        "class Robot:\n",
        "  def __init__(self, nomre = None, build_year = None):   # Constructor\n",
        "    self.nomre = nomre\n",
        "    self.build_year = build_year\n",
        "  \n",
        "  def say_hi(self):\n",
        "    if self.nomre:\n",
        "      print(f\"Hi, I am {self.nomre}\")\n",
        "    else:\n",
        "      print(\"I am anonymous\")\n",
        "\n",
        "    if self.build_year:\n",
        "    \tprint(f\"Hey I was manufactured in {self.build_year}\")\n",
        "    else:\n",
        "    \tprint(\"My mfg date is unknown\")\n",
        "\n",
        "  def set_name(self, name):    # Accessor & Mutator : Setter & Getter\n",
        "    self.nomre = name\n",
        "  def get_name(self):\n",
        "    return self.nomre\n",
        "\n",
        "  def setYear(self, year):\n",
        "  \tself.build_year = year \n",
        "  def getYear(self):\n",
        "  \treturn self.build_year\n",
        "\n",
        "\n",
        "x = Robot(\"Henry\", 2008)\n",
        "x.say_hi()\n",
        "\n",
        "y = Robot()\n",
        "y.set_name(\"Asimov\")\n",
        "y.setYear(2014)\n",
        "y.say_hi()\n",
        "\n"
      ],
      "execution_count": null,
      "outputs": []
    },
    {
      "cell_type": "markdown",
      "metadata": {
        "id": "fycfm7j6n7R2"
      },
      "source": [
        "## __str__ vs __repr__"
      ]
    },
    {
      "cell_type": "code",
      "metadata": {
        "colab": {
          "base_uri": "https://localhost:8080/"
        },
        "id": "_xJ9ZB3nn_zJ",
        "outputId": "dd89c48c-17c7-455b-bc91-b34604524bf3"
      },
      "source": [
        "l = [\"C\", \"C++\", \"Java\", \"PERL\"]\n",
        "print(l)"
      ],
      "execution_count": null,
      "outputs": [
        {
          "output_type": "stream",
          "name": "stdout",
          "text": [
            "['C', 'C++', 'Java', 'PERL']\n"
          ]
        }
      ]
    },
    {
      "cell_type": "code",
      "metadata": {
        "colab": {
          "base_uri": "https://localhost:8080/",
          "height": 35
        },
        "id": "ByzBYutmoGYC",
        "outputId": "d8eda31c-0189-4b90-a6c4-2529dbff313a"
      },
      "source": [
        "str(l)"
      ],
      "execution_count": null,
      "outputs": [
        {
          "output_type": "execute_result",
          "data": {
            "application/vnd.google.colaboratory.intrinsic+json": {
              "type": "string"
            },
            "text/plain": [
              "\"['C', 'C++', 'Java', 'PERL']\""
            ]
          },
          "metadata": {},
          "execution_count": 55
        }
      ]
    },
    {
      "cell_type": "code",
      "metadata": {
        "colab": {
          "base_uri": "https://localhost:8080/",
          "height": 35
        },
        "id": "aoVtx6fjoMc7",
        "outputId": "4faf4c78-1b77-40f0-f3a6-98aab98b6248"
      },
      "source": [
        "repr(l)"
      ],
      "execution_count": null,
      "outputs": [
        {
          "output_type": "execute_result",
          "data": {
            "application/vnd.google.colaboratory.intrinsic+json": {
              "type": "string"
            },
            "text/plain": [
              "\"['C', 'C++', 'Java', 'PERL']\""
            ]
          },
          "metadata": {},
          "execution_count": 56
        }
      ]
    },
    {
      "cell_type": "code",
      "metadata": {
        "colab": {
          "base_uri": "https://localhost:8080/"
        },
        "id": "EXajDVSVoiHQ",
        "outputId": "4dbc268d-b842-44cd-b729-3e243b517b4b"
      },
      "source": [
        "class A:\n",
        "  pass\n",
        "\n",
        "a = A()\n",
        "print(a)"
      ],
      "execution_count": null,
      "outputs": [
        {
          "output_type": "stream",
          "name": "stdout",
          "text": [
            "<__main__.A object at 0x7f84f0272050>\n"
          ]
        }
      ]
    },
    {
      "cell_type": "code",
      "metadata": {
        "colab": {
          "base_uri": "https://localhost:8080/"
        },
        "id": "GektK9doo0fQ",
        "outputId": "145a40a7-9d33-4b80-f04c-428a8e61fc19"
      },
      "source": [
        "print(repr(a))"
      ],
      "execution_count": null,
      "outputs": [
        {
          "output_type": "stream",
          "name": "stdout",
          "text": [
            "<__main__.A object at 0x7f84f0272050>\n"
          ]
        }
      ]
    },
    {
      "cell_type": "code",
      "metadata": {
        "colab": {
          "base_uri": "https://localhost:8080/"
        },
        "id": "s63K_dmHo3Ml",
        "outputId": "cdd4b532-89a0-4f33-e202-57ed2289c4f7"
      },
      "source": [
        "print(str(a))"
      ],
      "execution_count": null,
      "outputs": [
        {
          "output_type": "stream",
          "name": "stdout",
          "text": [
            "<__main__.A object at 0x7f84f0272050>\n"
          ]
        }
      ]
    },
    {
      "cell_type": "code",
      "metadata": {
        "colab": {
          "base_uri": "https://localhost:8080/"
        },
        "id": "2fWoqXm2o6Hh",
        "outputId": "6854a2f1-a553-4b12-ce08-204ddd172ca3"
      },
      "source": [
        "a"
      ],
      "execution_count": null,
      "outputs": [
        {
          "output_type": "execute_result",
          "data": {
            "text/plain": [
              "<__main__.A at 0x7f84f0272050>"
            ]
          },
          "metadata": {},
          "execution_count": 62
        }
      ]
    },
    {
      "cell_type": "code",
      "metadata": {
        "colab": {
          "base_uri": "https://localhost:8080/"
        },
        "id": "9yJNuYTVo-3q",
        "outputId": "c8dcc07f-e8e3-4923-838f-3623aabedb28"
      },
      "source": [
        "class A:\n",
        "  def __str__(self):\n",
        "    return \"7\"\n",
        "\n",
        "a = A()\n",
        "print(repr(a))"
      ],
      "execution_count": null,
      "outputs": [
        {
          "output_type": "stream",
          "name": "stdout",
          "text": [
            "<__main__.A object at 0x7f84f0272fd0>\n"
          ]
        }
      ]
    },
    {
      "cell_type": "code",
      "metadata": {
        "colab": {
          "base_uri": "https://localhost:8080/"
        },
        "id": "AKTv71QApJRe",
        "outputId": "8867492c-ad86-42fb-981b-8a7e356485e8"
      },
      "source": [
        "print(str(a))"
      ],
      "execution_count": null,
      "outputs": [
        {
          "output_type": "stream",
          "name": "stdout",
          "text": [
            "7\n"
          ]
        }
      ]
    },
    {
      "cell_type": "code",
      "metadata": {
        "colab": {
          "base_uri": "https://localhost:8080/"
        },
        "id": "74-JQj5cqRqf",
        "outputId": "daa6cd48-f057-4bc7-815e-deb2a8d7e9ec"
      },
      "source": [
        "class Rectangle:\n",
        "\tdef __init__(self, length = 1, breadth = 1):\n",
        "\t\tself.len = length\n",
        "\t\tself.bre = breadth \n",
        "\n",
        "\tdef area(self):\n",
        "\t\treturn self.len * self.bre\n",
        "\n",
        "\tdef perimeter(self):\n",
        "\t\treturn 2 * (self.len + self.bre)\n",
        "\n",
        "\tdef __str__(self):\n",
        "\t\treturn f\"Rectangle of dimension {self.len} * {self.bre}\"\n",
        "\n",
        "r1 = Rectangle(12,5)\n",
        "print(r1.area())\n",
        "print(r1.perimeter())\n",
        "\n",
        "print(repr(r1))\n",
        "print(str(r1))\n",
        "print(r1)"
      ],
      "execution_count": null,
      "outputs": [
        {
          "output_type": "stream",
          "name": "stdout",
          "text": [
            "60\n",
            "34\n",
            "<__main__.Rectangle object at 0x7f84f02f2b50>\n",
            "Rectangle of dimension 12 * 5\n",
            "Rectangle of dimension 12 * 5\n"
          ]
        }
      ]
    },
    {
      "cell_type": "markdown",
      "metadata": {
        "id": "GXZ2aol0rNAB"
      },
      "source": [
        "### Public vs Protected vs Private\n",
        "\n",
        "1. Public (name) : These attributes can be freely used inside or outside a class definition\n",
        "2. Protected (_name) : These variables should not be used outside the class definition unless used inside a subclass.\n",
        "3. Private (__name) : These kind of attributes is inaccessible outside the class and is invisible (i.e. we cant read or write to these variables)"
      ]
    },
    {
      "cell_type": "code",
      "metadata": {
        "id": "e6Lrt-j9sWyV"
      },
      "source": [
        "class A():\n",
        "  def __init__(self):\n",
        "    self.__priv = \"This is a pvt variable\"\n",
        "    self._prot = \"This is a protected variable\"\n",
        "    self.pub = \"This is a public variable\""
      ],
      "execution_count": null,
      "outputs": []
    },
    {
      "cell_type": "code",
      "metadata": {
        "id": "Dr6u5Dcatv4j"
      },
      "source": [
        "# attributes.py\n",
        "class A():\n",
        "  def __init__(self):\n",
        "    self.__priv = \"This is a pvt variable\"\n",
        "    self._prot = \"This is a protected variable\"\n",
        "    self.pub = \"This is a public variable\""
      ],
      "execution_count": null,
      "outputs": []
    },
    {
      "cell_type": "code",
      "metadata": {
        "id": "US1ozW1ztwDj"
      },
      "source": [
        "from attributes import A\n",
        "x = A()\n",
        "print(x.pub)\n",
        "print(x._prot)\n",
        "x.pub = x.pub + \" and the value can be changes as well\"\n",
        "print(x.pub)\n",
        "x._prot = x._prot + \"!\"\n",
        "print(x._prot)\n",
        "# print(x.__priv)"
      ],
      "execution_count": null,
      "outputs": []
    },
    {
      "cell_type": "markdown",
      "source": [
        "# DATA ANALYTICS"
      ],
      "metadata": {
        "id": "0eexUbW1Dri_"
      }
    },
    {
      "cell_type": "markdown",
      "source": [
        "## Pandas"
      ],
      "metadata": {
        "id": "UUtYFo-JDueL"
      }
    },
    {
      "cell_type": "code",
      "source": [
        "# Loading the pandas library\n",
        "import pandas as pd # pip3 install pandas\n",
        "\n",
        "# Changing display options\n",
        "pd.set_option('display.max_rows',10)\n",
        "pd.set_option('display.max_columns', 500)\n",
        "pd.set_option('display.width',1000)\n",
        "\n",
        "# Read the csv file and load into a dataframe | Detect character set : ccharset\n",
        "df = pd.read_csv(\"nba.csv\",chunksize=1000000)\n",
        "\n",
        "df\n"
      ],
      "metadata": {
        "colab": {
          "base_uri": "https://localhost:8080/",
          "height": 423
        },
        "id": "E8a8-hsTDttB",
        "outputId": "a7d08435-6c9d-4172-f364-282e2da23eb7"
      },
      "execution_count": null,
      "outputs": [
        {
          "output_type": "execute_result",
          "data": {
            "text/html": [
              "<div>\n",
              "<style scoped>\n",
              "    .dataframe tbody tr th:only-of-type {\n",
              "        vertical-align: middle;\n",
              "    }\n",
              "\n",
              "    .dataframe tbody tr th {\n",
              "        vertical-align: top;\n",
              "    }\n",
              "\n",
              "    .dataframe thead th {\n",
              "        text-align: right;\n",
              "    }\n",
              "</style>\n",
              "<table border=\"1\" class=\"dataframe\">\n",
              "  <thead>\n",
              "    <tr style=\"text-align: right;\">\n",
              "      <th></th>\n",
              "      <th>Name</th>\n",
              "      <th>Team</th>\n",
              "      <th>Number</th>\n",
              "      <th>Position</th>\n",
              "      <th>Age</th>\n",
              "      <th>Height</th>\n",
              "      <th>Weight</th>\n",
              "      <th>College</th>\n",
              "      <th>Salary</th>\n",
              "    </tr>\n",
              "  </thead>\n",
              "  <tbody>\n",
              "    <tr>\n",
              "      <th>0</th>\n",
              "      <td>Avery Bradley</td>\n",
              "      <td>Boston Celtics</td>\n",
              "      <td>0.0</td>\n",
              "      <td>PG</td>\n",
              "      <td>25.0</td>\n",
              "      <td>6-2</td>\n",
              "      <td>180.0</td>\n",
              "      <td>Texas</td>\n",
              "      <td>7730337.0</td>\n",
              "    </tr>\n",
              "    <tr>\n",
              "      <th>1</th>\n",
              "      <td>Jae Crowder</td>\n",
              "      <td>Boston Celtics</td>\n",
              "      <td>99.0</td>\n",
              "      <td>SF</td>\n",
              "      <td>25.0</td>\n",
              "      <td>6-6</td>\n",
              "      <td>235.0</td>\n",
              "      <td>Marquette</td>\n",
              "      <td>6796117.0</td>\n",
              "    </tr>\n",
              "    <tr>\n",
              "      <th>2</th>\n",
              "      <td>John Holland</td>\n",
              "      <td>Boston Celtics</td>\n",
              "      <td>30.0</td>\n",
              "      <td>SG</td>\n",
              "      <td>27.0</td>\n",
              "      <td>6-5</td>\n",
              "      <td>205.0</td>\n",
              "      <td>Boston University</td>\n",
              "      <td>NaN</td>\n",
              "    </tr>\n",
              "    <tr>\n",
              "      <th>3</th>\n",
              "      <td>R.J. Hunter</td>\n",
              "      <td>Boston Celtics</td>\n",
              "      <td>28.0</td>\n",
              "      <td>SG</td>\n",
              "      <td>22.0</td>\n",
              "      <td>6-5</td>\n",
              "      <td>185.0</td>\n",
              "      <td>Georgia State</td>\n",
              "      <td>1148640.0</td>\n",
              "    </tr>\n",
              "    <tr>\n",
              "      <th>4</th>\n",
              "      <td>Jonas Jerebko</td>\n",
              "      <td>Boston Celtics</td>\n",
              "      <td>8.0</td>\n",
              "      <td>PF</td>\n",
              "      <td>29.0</td>\n",
              "      <td>6-10</td>\n",
              "      <td>231.0</td>\n",
              "      <td>NaN</td>\n",
              "      <td>5000000.0</td>\n",
              "    </tr>\n",
              "    <tr>\n",
              "      <th>...</th>\n",
              "      <td>...</td>\n",
              "      <td>...</td>\n",
              "      <td>...</td>\n",
              "      <td>...</td>\n",
              "      <td>...</td>\n",
              "      <td>...</td>\n",
              "      <td>...</td>\n",
              "      <td>...</td>\n",
              "      <td>...</td>\n",
              "    </tr>\n",
              "    <tr>\n",
              "      <th>453</th>\n",
              "      <td>Shelvin Mack</td>\n",
              "      <td>Utah Jazz</td>\n",
              "      <td>8.0</td>\n",
              "      <td>PG</td>\n",
              "      <td>26.0</td>\n",
              "      <td>6-3</td>\n",
              "      <td>203.0</td>\n",
              "      <td>Butler</td>\n",
              "      <td>2433333.0</td>\n",
              "    </tr>\n",
              "    <tr>\n",
              "      <th>454</th>\n",
              "      <td>Raul Neto</td>\n",
              "      <td>Utah Jazz</td>\n",
              "      <td>25.0</td>\n",
              "      <td>PG</td>\n",
              "      <td>24.0</td>\n",
              "      <td>6-1</td>\n",
              "      <td>179.0</td>\n",
              "      <td>NaN</td>\n",
              "      <td>900000.0</td>\n",
              "    </tr>\n",
              "    <tr>\n",
              "      <th>455</th>\n",
              "      <td>Tibor Pleiss</td>\n",
              "      <td>Utah Jazz</td>\n",
              "      <td>21.0</td>\n",
              "      <td>C</td>\n",
              "      <td>26.0</td>\n",
              "      <td>7-3</td>\n",
              "      <td>256.0</td>\n",
              "      <td>NaN</td>\n",
              "      <td>2900000.0</td>\n",
              "    </tr>\n",
              "    <tr>\n",
              "      <th>456</th>\n",
              "      <td>Jeff Withey</td>\n",
              "      <td>Utah Jazz</td>\n",
              "      <td>24.0</td>\n",
              "      <td>C</td>\n",
              "      <td>26.0</td>\n",
              "      <td>7-0</td>\n",
              "      <td>231.0</td>\n",
              "      <td>Kansas</td>\n",
              "      <td>947276.0</td>\n",
              "    </tr>\n",
              "    <tr>\n",
              "      <th>457</th>\n",
              "      <td>NaN</td>\n",
              "      <td>NaN</td>\n",
              "      <td>NaN</td>\n",
              "      <td>NaN</td>\n",
              "      <td>NaN</td>\n",
              "      <td>NaN</td>\n",
              "      <td>NaN</td>\n",
              "      <td>NaN</td>\n",
              "      <td>NaN</td>\n",
              "    </tr>\n",
              "  </tbody>\n",
              "</table>\n",
              "<p>458 rows × 9 columns</p>\n",
              "</div>"
            ],
            "text/plain": [
              "              Name            Team  Number Position   Age Height  Weight  \\\n",
              "0    Avery Bradley  Boston Celtics     0.0       PG  25.0    6-2   180.0   \n",
              "1      Jae Crowder  Boston Celtics    99.0       SF  25.0    6-6   235.0   \n",
              "2     John Holland  Boston Celtics    30.0       SG  27.0    6-5   205.0   \n",
              "3      R.J. Hunter  Boston Celtics    28.0       SG  22.0    6-5   185.0   \n",
              "4    Jonas Jerebko  Boston Celtics     8.0       PF  29.0   6-10   231.0   \n",
              "..             ...             ...     ...      ...   ...    ...     ...   \n",
              "453   Shelvin Mack       Utah Jazz     8.0       PG  26.0    6-3   203.0   \n",
              "454      Raul Neto       Utah Jazz    25.0       PG  24.0    6-1   179.0   \n",
              "455   Tibor Pleiss       Utah Jazz    21.0        C  26.0    7-3   256.0   \n",
              "456    Jeff Withey       Utah Jazz    24.0        C  26.0    7-0   231.0   \n",
              "457            NaN             NaN     NaN      NaN   NaN    NaN     NaN   \n",
              "\n",
              "               College     Salary  \n",
              "0                Texas  7730337.0  \n",
              "1            Marquette  6796117.0  \n",
              "2    Boston University        NaN  \n",
              "3        Georgia State  1148640.0  \n",
              "4                  NaN  5000000.0  \n",
              "..                 ...        ...  \n",
              "453             Butler  2433333.0  \n",
              "454                NaN   900000.0  \n",
              "455                NaN  2900000.0  \n",
              "456             Kansas   947276.0  \n",
              "457                NaN        NaN  \n",
              "\n",
              "[458 rows x 9 columns]"
            ]
          },
          "metadata": {},
          "execution_count": 9
        }
      ]
    },
    {
      "cell_type": "markdown",
      "source": [
        "## Visualise the top n & bottom n"
      ],
      "metadata": {
        "id": "OsJfQzOIF-7d"
      }
    },
    {
      "cell_type": "code",
      "source": [
        "df.head()"
      ],
      "metadata": {
        "colab": {
          "base_uri": "https://localhost:8080/",
          "height": 206
        },
        "id": "qNn3t2g5GBoX",
        "outputId": "794c377f-ff12-417a-dd3b-16623e5b3495"
      },
      "execution_count": null,
      "outputs": [
        {
          "output_type": "execute_result",
          "data": {
            "text/html": [
              "<div>\n",
              "<style scoped>\n",
              "    .dataframe tbody tr th:only-of-type {\n",
              "        vertical-align: middle;\n",
              "    }\n",
              "\n",
              "    .dataframe tbody tr th {\n",
              "        vertical-align: top;\n",
              "    }\n",
              "\n",
              "    .dataframe thead th {\n",
              "        text-align: right;\n",
              "    }\n",
              "</style>\n",
              "<table border=\"1\" class=\"dataframe\">\n",
              "  <thead>\n",
              "    <tr style=\"text-align: right;\">\n",
              "      <th></th>\n",
              "      <th>Name</th>\n",
              "      <th>Team</th>\n",
              "      <th>Number</th>\n",
              "      <th>Position</th>\n",
              "      <th>Age</th>\n",
              "      <th>Height</th>\n",
              "      <th>Weight</th>\n",
              "      <th>College</th>\n",
              "      <th>Salary</th>\n",
              "    </tr>\n",
              "  </thead>\n",
              "  <tbody>\n",
              "    <tr>\n",
              "      <th>0</th>\n",
              "      <td>Avery Bradley</td>\n",
              "      <td>Boston Celtics</td>\n",
              "      <td>0.0</td>\n",
              "      <td>PG</td>\n",
              "      <td>25.0</td>\n",
              "      <td>6-2</td>\n",
              "      <td>180.0</td>\n",
              "      <td>Texas</td>\n",
              "      <td>7730337.0</td>\n",
              "    </tr>\n",
              "    <tr>\n",
              "      <th>1</th>\n",
              "      <td>Jae Crowder</td>\n",
              "      <td>Boston Celtics</td>\n",
              "      <td>99.0</td>\n",
              "      <td>SF</td>\n",
              "      <td>25.0</td>\n",
              "      <td>6-6</td>\n",
              "      <td>235.0</td>\n",
              "      <td>Marquette</td>\n",
              "      <td>6796117.0</td>\n",
              "    </tr>\n",
              "    <tr>\n",
              "      <th>2</th>\n",
              "      <td>John Holland</td>\n",
              "      <td>Boston Celtics</td>\n",
              "      <td>30.0</td>\n",
              "      <td>SG</td>\n",
              "      <td>27.0</td>\n",
              "      <td>6-5</td>\n",
              "      <td>205.0</td>\n",
              "      <td>Boston University</td>\n",
              "      <td>NaN</td>\n",
              "    </tr>\n",
              "    <tr>\n",
              "      <th>3</th>\n",
              "      <td>R.J. Hunter</td>\n",
              "      <td>Boston Celtics</td>\n",
              "      <td>28.0</td>\n",
              "      <td>SG</td>\n",
              "      <td>22.0</td>\n",
              "      <td>6-5</td>\n",
              "      <td>185.0</td>\n",
              "      <td>Georgia State</td>\n",
              "      <td>1148640.0</td>\n",
              "    </tr>\n",
              "    <tr>\n",
              "      <th>4</th>\n",
              "      <td>Jonas Jerebko</td>\n",
              "      <td>Boston Celtics</td>\n",
              "      <td>8.0</td>\n",
              "      <td>PF</td>\n",
              "      <td>29.0</td>\n",
              "      <td>6-10</td>\n",
              "      <td>231.0</td>\n",
              "      <td>NaN</td>\n",
              "      <td>5000000.0</td>\n",
              "    </tr>\n",
              "  </tbody>\n",
              "</table>\n",
              "</div>"
            ],
            "text/plain": [
              "            Name            Team  Number Position   Age Height  Weight  \\\n",
              "0  Avery Bradley  Boston Celtics     0.0       PG  25.0    6-2   180.0   \n",
              "1    Jae Crowder  Boston Celtics    99.0       SF  25.0    6-6   235.0   \n",
              "2   John Holland  Boston Celtics    30.0       SG  27.0    6-5   205.0   \n",
              "3    R.J. Hunter  Boston Celtics    28.0       SG  22.0    6-5   185.0   \n",
              "4  Jonas Jerebko  Boston Celtics     8.0       PF  29.0   6-10   231.0   \n",
              "\n",
              "             College     Salary  \n",
              "0              Texas  7730337.0  \n",
              "1          Marquette  6796117.0  \n",
              "2  Boston University        NaN  \n",
              "3      Georgia State  1148640.0  \n",
              "4                NaN  5000000.0  "
            ]
          },
          "metadata": {},
          "execution_count": 10
        }
      ]
    },
    {
      "cell_type": "code",
      "source": [
        "df.head(8)"
      ],
      "metadata": {
        "colab": {
          "base_uri": "https://localhost:8080/",
          "height": 300
        },
        "id": "wp_LNf-sGFFT",
        "outputId": "be6205d5-d2c7-41da-f2cd-71f832f473a0"
      },
      "execution_count": null,
      "outputs": [
        {
          "output_type": "execute_result",
          "data": {
            "text/html": [
              "<div>\n",
              "<style scoped>\n",
              "    .dataframe tbody tr th:only-of-type {\n",
              "        vertical-align: middle;\n",
              "    }\n",
              "\n",
              "    .dataframe tbody tr th {\n",
              "        vertical-align: top;\n",
              "    }\n",
              "\n",
              "    .dataframe thead th {\n",
              "        text-align: right;\n",
              "    }\n",
              "</style>\n",
              "<table border=\"1\" class=\"dataframe\">\n",
              "  <thead>\n",
              "    <tr style=\"text-align: right;\">\n",
              "      <th></th>\n",
              "      <th>Name</th>\n",
              "      <th>Team</th>\n",
              "      <th>Number</th>\n",
              "      <th>Position</th>\n",
              "      <th>Age</th>\n",
              "      <th>Height</th>\n",
              "      <th>Weight</th>\n",
              "      <th>College</th>\n",
              "      <th>Salary</th>\n",
              "    </tr>\n",
              "  </thead>\n",
              "  <tbody>\n",
              "    <tr>\n",
              "      <th>0</th>\n",
              "      <td>Avery Bradley</td>\n",
              "      <td>Boston Celtics</td>\n",
              "      <td>0.0</td>\n",
              "      <td>PG</td>\n",
              "      <td>25.0</td>\n",
              "      <td>6-2</td>\n",
              "      <td>180.0</td>\n",
              "      <td>Texas</td>\n",
              "      <td>7730337.0</td>\n",
              "    </tr>\n",
              "    <tr>\n",
              "      <th>1</th>\n",
              "      <td>Jae Crowder</td>\n",
              "      <td>Boston Celtics</td>\n",
              "      <td>99.0</td>\n",
              "      <td>SF</td>\n",
              "      <td>25.0</td>\n",
              "      <td>6-6</td>\n",
              "      <td>235.0</td>\n",
              "      <td>Marquette</td>\n",
              "      <td>6796117.0</td>\n",
              "    </tr>\n",
              "    <tr>\n",
              "      <th>2</th>\n",
              "      <td>John Holland</td>\n",
              "      <td>Boston Celtics</td>\n",
              "      <td>30.0</td>\n",
              "      <td>SG</td>\n",
              "      <td>27.0</td>\n",
              "      <td>6-5</td>\n",
              "      <td>205.0</td>\n",
              "      <td>Boston University</td>\n",
              "      <td>NaN</td>\n",
              "    </tr>\n",
              "    <tr>\n",
              "      <th>3</th>\n",
              "      <td>R.J. Hunter</td>\n",
              "      <td>Boston Celtics</td>\n",
              "      <td>28.0</td>\n",
              "      <td>SG</td>\n",
              "      <td>22.0</td>\n",
              "      <td>6-5</td>\n",
              "      <td>185.0</td>\n",
              "      <td>Georgia State</td>\n",
              "      <td>1148640.0</td>\n",
              "    </tr>\n",
              "    <tr>\n",
              "      <th>4</th>\n",
              "      <td>Jonas Jerebko</td>\n",
              "      <td>Boston Celtics</td>\n",
              "      <td>8.0</td>\n",
              "      <td>PF</td>\n",
              "      <td>29.0</td>\n",
              "      <td>6-10</td>\n",
              "      <td>231.0</td>\n",
              "      <td>NaN</td>\n",
              "      <td>5000000.0</td>\n",
              "    </tr>\n",
              "    <tr>\n",
              "      <th>5</th>\n",
              "      <td>Amir Johnson</td>\n",
              "      <td>Boston Celtics</td>\n",
              "      <td>90.0</td>\n",
              "      <td>PF</td>\n",
              "      <td>29.0</td>\n",
              "      <td>6-9</td>\n",
              "      <td>240.0</td>\n",
              "      <td>NaN</td>\n",
              "      <td>12000000.0</td>\n",
              "    </tr>\n",
              "    <tr>\n",
              "      <th>6</th>\n",
              "      <td>Jordan Mickey</td>\n",
              "      <td>Boston Celtics</td>\n",
              "      <td>55.0</td>\n",
              "      <td>PF</td>\n",
              "      <td>21.0</td>\n",
              "      <td>6-8</td>\n",
              "      <td>235.0</td>\n",
              "      <td>LSU</td>\n",
              "      <td>1170960.0</td>\n",
              "    </tr>\n",
              "    <tr>\n",
              "      <th>7</th>\n",
              "      <td>Kelly Olynyk</td>\n",
              "      <td>Boston Celtics</td>\n",
              "      <td>41.0</td>\n",
              "      <td>C</td>\n",
              "      <td>25.0</td>\n",
              "      <td>7-0</td>\n",
              "      <td>238.0</td>\n",
              "      <td>Gonzaga</td>\n",
              "      <td>2165160.0</td>\n",
              "    </tr>\n",
              "  </tbody>\n",
              "</table>\n",
              "</div>"
            ],
            "text/plain": [
              "            Name            Team  Number Position   Age Height  Weight  \\\n",
              "0  Avery Bradley  Boston Celtics     0.0       PG  25.0    6-2   180.0   \n",
              "1    Jae Crowder  Boston Celtics    99.0       SF  25.0    6-6   235.0   \n",
              "2   John Holland  Boston Celtics    30.0       SG  27.0    6-5   205.0   \n",
              "3    R.J. Hunter  Boston Celtics    28.0       SG  22.0    6-5   185.0   \n",
              "4  Jonas Jerebko  Boston Celtics     8.0       PF  29.0   6-10   231.0   \n",
              "5   Amir Johnson  Boston Celtics    90.0       PF  29.0    6-9   240.0   \n",
              "6  Jordan Mickey  Boston Celtics    55.0       PF  21.0    6-8   235.0   \n",
              "7   Kelly Olynyk  Boston Celtics    41.0        C  25.0    7-0   238.0   \n",
              "\n",
              "             College      Salary  \n",
              "0              Texas   7730337.0  \n",
              "1          Marquette   6796117.0  \n",
              "2  Boston University         NaN  \n",
              "3      Georgia State   1148640.0  \n",
              "4                NaN   5000000.0  \n",
              "5                NaN  12000000.0  \n",
              "6                LSU   1170960.0  \n",
              "7            Gonzaga   2165160.0  "
            ]
          },
          "metadata": {},
          "execution_count": 11
        }
      ]
    },
    {
      "cell_type": "code",
      "source": [
        "df_bottom = df.tail()\n",
        "type(df_bottom)\n",
        "df_bottom"
      ],
      "metadata": {
        "colab": {
          "base_uri": "https://localhost:8080/",
          "height": 206
        },
        "id": "ju-MgIlkGJl-",
        "outputId": "760125ae-61cf-444d-d372-bf33add0d7a9"
      },
      "execution_count": null,
      "outputs": [
        {
          "output_type": "execute_result",
          "data": {
            "text/html": [
              "<div>\n",
              "<style scoped>\n",
              "    .dataframe tbody tr th:only-of-type {\n",
              "        vertical-align: middle;\n",
              "    }\n",
              "\n",
              "    .dataframe tbody tr th {\n",
              "        vertical-align: top;\n",
              "    }\n",
              "\n",
              "    .dataframe thead th {\n",
              "        text-align: right;\n",
              "    }\n",
              "</style>\n",
              "<table border=\"1\" class=\"dataframe\">\n",
              "  <thead>\n",
              "    <tr style=\"text-align: right;\">\n",
              "      <th></th>\n",
              "      <th>Name</th>\n",
              "      <th>Team</th>\n",
              "      <th>Number</th>\n",
              "      <th>Position</th>\n",
              "      <th>Age</th>\n",
              "      <th>Height</th>\n",
              "      <th>Weight</th>\n",
              "      <th>College</th>\n",
              "      <th>Salary</th>\n",
              "    </tr>\n",
              "  </thead>\n",
              "  <tbody>\n",
              "    <tr>\n",
              "      <th>453</th>\n",
              "      <td>Shelvin Mack</td>\n",
              "      <td>Utah Jazz</td>\n",
              "      <td>8.0</td>\n",
              "      <td>PG</td>\n",
              "      <td>26.0</td>\n",
              "      <td>6-3</td>\n",
              "      <td>203.0</td>\n",
              "      <td>Butler</td>\n",
              "      <td>2433333.0</td>\n",
              "    </tr>\n",
              "    <tr>\n",
              "      <th>454</th>\n",
              "      <td>Raul Neto</td>\n",
              "      <td>Utah Jazz</td>\n",
              "      <td>25.0</td>\n",
              "      <td>PG</td>\n",
              "      <td>24.0</td>\n",
              "      <td>6-1</td>\n",
              "      <td>179.0</td>\n",
              "      <td>NaN</td>\n",
              "      <td>900000.0</td>\n",
              "    </tr>\n",
              "    <tr>\n",
              "      <th>455</th>\n",
              "      <td>Tibor Pleiss</td>\n",
              "      <td>Utah Jazz</td>\n",
              "      <td>21.0</td>\n",
              "      <td>C</td>\n",
              "      <td>26.0</td>\n",
              "      <td>7-3</td>\n",
              "      <td>256.0</td>\n",
              "      <td>NaN</td>\n",
              "      <td>2900000.0</td>\n",
              "    </tr>\n",
              "    <tr>\n",
              "      <th>456</th>\n",
              "      <td>Jeff Withey</td>\n",
              "      <td>Utah Jazz</td>\n",
              "      <td>24.0</td>\n",
              "      <td>C</td>\n",
              "      <td>26.0</td>\n",
              "      <td>7-0</td>\n",
              "      <td>231.0</td>\n",
              "      <td>Kansas</td>\n",
              "      <td>947276.0</td>\n",
              "    </tr>\n",
              "    <tr>\n",
              "      <th>457</th>\n",
              "      <td>NaN</td>\n",
              "      <td>NaN</td>\n",
              "      <td>NaN</td>\n",
              "      <td>NaN</td>\n",
              "      <td>NaN</td>\n",
              "      <td>NaN</td>\n",
              "      <td>NaN</td>\n",
              "      <td>NaN</td>\n",
              "      <td>NaN</td>\n",
              "    </tr>\n",
              "  </tbody>\n",
              "</table>\n",
              "</div>"
            ],
            "text/plain": [
              "             Name       Team  Number Position   Age Height  Weight College  \\\n",
              "453  Shelvin Mack  Utah Jazz     8.0       PG  26.0    6-3   203.0  Butler   \n",
              "454     Raul Neto  Utah Jazz    25.0       PG  24.0    6-1   179.0     NaN   \n",
              "455  Tibor Pleiss  Utah Jazz    21.0        C  26.0    7-3   256.0     NaN   \n",
              "456   Jeff Withey  Utah Jazz    24.0        C  26.0    7-0   231.0  Kansas   \n",
              "457           NaN        NaN     NaN      NaN   NaN    NaN     NaN     NaN   \n",
              "\n",
              "        Salary  \n",
              "453  2433333.0  \n",
              "454   900000.0  \n",
              "455  2900000.0  \n",
              "456   947276.0  \n",
              "457        NaN  "
            ]
          },
          "metadata": {},
          "execution_count": 14
        }
      ]
    },
    {
      "cell_type": "markdown",
      "source": [
        "## Basic info about the dataframe"
      ],
      "metadata": {
        "id": "a1d5PL2FGZK_"
      }
    },
    {
      "cell_type": "code",
      "source": [
        "df.columns"
      ],
      "metadata": {
        "colab": {
          "base_uri": "https://localhost:8080/"
        },
        "id": "cBOZeA0oLi9T",
        "outputId": "d11dc2ac-0c73-4d43-8963-d93f79b4acee"
      },
      "execution_count": null,
      "outputs": [
        {
          "output_type": "execute_result",
          "data": {
            "text/plain": [
              "Index(['Name', 'Team', 'Number', 'Position', 'Age', 'Height', 'Weight',\n",
              "       'College', 'Salary'],\n",
              "      dtype='object')"
            ]
          },
          "metadata": {},
          "execution_count": 28
        }
      ]
    },
    {
      "cell_type": "code",
      "source": [
        "df.index"
      ],
      "metadata": {
        "colab": {
          "base_uri": "https://localhost:8080/"
        },
        "id": "bHkMDNBYLooO",
        "outputId": "87e2d07a-31a4-4ec1-c090-ec90d96e14ad"
      },
      "execution_count": null,
      "outputs": [
        {
          "output_type": "execute_result",
          "data": {
            "text/plain": [
              "RangeIndex(start=0, stop=458, step=1)"
            ]
          },
          "metadata": {},
          "execution_count": 29
        }
      ]
    },
    {
      "cell_type": "code",
      "source": [
        "df.size"
      ],
      "metadata": {
        "colab": {
          "base_uri": "https://localhost:8080/"
        },
        "id": "GNxui3r-Gbl9",
        "outputId": "009fdf9d-1a87-4797-ffd8-7832787cf357"
      },
      "execution_count": null,
      "outputs": [
        {
          "output_type": "execute_result",
          "data": {
            "text/plain": [
              "4122"
            ]
          },
          "metadata": {},
          "execution_count": 15
        }
      ]
    },
    {
      "cell_type": "code",
      "source": [
        "df.shape"
      ],
      "metadata": {
        "colab": {
          "base_uri": "https://localhost:8080/"
        },
        "id": "AKD-OdcXGgI3",
        "outputId": "b257e857-cdd9-4a38-a8a3-5ba3553b02c4"
      },
      "execution_count": null,
      "outputs": [
        {
          "output_type": "execute_result",
          "data": {
            "text/plain": [
              "(458, 9)"
            ]
          },
          "metadata": {},
          "execution_count": 16
        }
      ]
    },
    {
      "cell_type": "code",
      "source": [
        "df.info()"
      ],
      "metadata": {
        "colab": {
          "base_uri": "https://localhost:8080/"
        },
        "id": "lyxmWkSjLRjS",
        "outputId": "1dc1f5d6-af1f-4e2a-8f42-5e7abcb9c342"
      },
      "execution_count": null,
      "outputs": [
        {
          "output_type": "stream",
          "name": "stdout",
          "text": [
            "<class 'pandas.core.frame.DataFrame'>\n",
            "RangeIndex: 458 entries, 0 to 457\n",
            "Data columns (total 9 columns):\n",
            " #   Column    Non-Null Count  Dtype  \n",
            "---  ------    --------------  -----  \n",
            " 0   Name      457 non-null    object \n",
            " 1   Team      457 non-null    object \n",
            " 2   Number    457 non-null    float64\n",
            " 3   Position  457 non-null    object \n",
            " 4   Age       457 non-null    float64\n",
            " 5   Height    457 non-null    object \n",
            " 6   Weight    457 non-null    float64\n",
            " 7   College   373 non-null    object \n",
            " 8   Salary    446 non-null    float64\n",
            "dtypes: float64(4), object(5)\n",
            "memory usage: 32.3+ KB\n"
          ]
        }
      ]
    },
    {
      "cell_type": "code",
      "source": [
        "df.describe()"
      ],
      "metadata": {
        "colab": {
          "base_uri": "https://localhost:8080/",
          "height": 300
        },
        "id": "WhnrGMTMHQ1B",
        "outputId": "2ac2b464-b916-49f6-8a4d-9477ce306b4f"
      },
      "execution_count": null,
      "outputs": [
        {
          "output_type": "execute_result",
          "data": {
            "text/html": [
              "<div>\n",
              "<style scoped>\n",
              "    .dataframe tbody tr th:only-of-type {\n",
              "        vertical-align: middle;\n",
              "    }\n",
              "\n",
              "    .dataframe tbody tr th {\n",
              "        vertical-align: top;\n",
              "    }\n",
              "\n",
              "    .dataframe thead th {\n",
              "        text-align: right;\n",
              "    }\n",
              "</style>\n",
              "<table border=\"1\" class=\"dataframe\">\n",
              "  <thead>\n",
              "    <tr style=\"text-align: right;\">\n",
              "      <th></th>\n",
              "      <th>Number</th>\n",
              "      <th>Age</th>\n",
              "      <th>Weight</th>\n",
              "      <th>Salary</th>\n",
              "    </tr>\n",
              "  </thead>\n",
              "  <tbody>\n",
              "    <tr>\n",
              "      <th>count</th>\n",
              "      <td>457.000000</td>\n",
              "      <td>457.000000</td>\n",
              "      <td>457.000000</td>\n",
              "      <td>4.460000e+02</td>\n",
              "    </tr>\n",
              "    <tr>\n",
              "      <th>mean</th>\n",
              "      <td>17.678337</td>\n",
              "      <td>26.938731</td>\n",
              "      <td>221.522976</td>\n",
              "      <td>4.842684e+06</td>\n",
              "    </tr>\n",
              "    <tr>\n",
              "      <th>std</th>\n",
              "      <td>15.966090</td>\n",
              "      <td>4.404016</td>\n",
              "      <td>26.368343</td>\n",
              "      <td>5.229238e+06</td>\n",
              "    </tr>\n",
              "    <tr>\n",
              "      <th>min</th>\n",
              "      <td>0.000000</td>\n",
              "      <td>19.000000</td>\n",
              "      <td>161.000000</td>\n",
              "      <td>3.088800e+04</td>\n",
              "    </tr>\n",
              "    <tr>\n",
              "      <th>25%</th>\n",
              "      <td>5.000000</td>\n",
              "      <td>24.000000</td>\n",
              "      <td>200.000000</td>\n",
              "      <td>1.044792e+06</td>\n",
              "    </tr>\n",
              "    <tr>\n",
              "      <th>50%</th>\n",
              "      <td>13.000000</td>\n",
              "      <td>26.000000</td>\n",
              "      <td>220.000000</td>\n",
              "      <td>2.839073e+06</td>\n",
              "    </tr>\n",
              "    <tr>\n",
              "      <th>75%</th>\n",
              "      <td>25.000000</td>\n",
              "      <td>30.000000</td>\n",
              "      <td>240.000000</td>\n",
              "      <td>6.500000e+06</td>\n",
              "    </tr>\n",
              "    <tr>\n",
              "      <th>max</th>\n",
              "      <td>99.000000</td>\n",
              "      <td>40.000000</td>\n",
              "      <td>307.000000</td>\n",
              "      <td>2.500000e+07</td>\n",
              "    </tr>\n",
              "  </tbody>\n",
              "</table>\n",
              "</div>"
            ],
            "text/plain": [
              "           Number         Age      Weight        Salary\n",
              "count  457.000000  457.000000  457.000000  4.460000e+02\n",
              "mean    17.678337   26.938731  221.522976  4.842684e+06\n",
              "std     15.966090    4.404016   26.368343  5.229238e+06\n",
              "min      0.000000   19.000000  161.000000  3.088800e+04\n",
              "25%      5.000000   24.000000  200.000000  1.044792e+06\n",
              "50%     13.000000   26.000000  220.000000  2.839073e+06\n",
              "75%     25.000000   30.000000  240.000000  6.500000e+06\n",
              "max     99.000000   40.000000  307.000000  2.500000e+07"
            ]
          },
          "metadata": {},
          "execution_count": 22
        }
      ]
    },
    {
      "cell_type": "code",
      "source": [
        "pd.set_option('display.max_rows',40)\n",
        "df.describe(percentiles=[0.2,0.4,0.6,0.8], include=['int','float','object'])"
      ],
      "metadata": {
        "colab": {
          "base_uri": "https://localhost:8080/",
          "height": 457
        },
        "id": "K1TNh8HRIgCa",
        "outputId": "fd78cba2-7d0b-4eb4-9f2f-e3ce8271eac8"
      },
      "execution_count": null,
      "outputs": [
        {
          "output_type": "execute_result",
          "data": {
            "text/html": [
              "<div>\n",
              "<style scoped>\n",
              "    .dataframe tbody tr th:only-of-type {\n",
              "        vertical-align: middle;\n",
              "    }\n",
              "\n",
              "    .dataframe tbody tr th {\n",
              "        vertical-align: top;\n",
              "    }\n",
              "\n",
              "    .dataframe thead th {\n",
              "        text-align: right;\n",
              "    }\n",
              "</style>\n",
              "<table border=\"1\" class=\"dataframe\">\n",
              "  <thead>\n",
              "    <tr style=\"text-align: right;\">\n",
              "      <th></th>\n",
              "      <th>Name</th>\n",
              "      <th>Team</th>\n",
              "      <th>Number</th>\n",
              "      <th>Position</th>\n",
              "      <th>Age</th>\n",
              "      <th>Height</th>\n",
              "      <th>Weight</th>\n",
              "      <th>College</th>\n",
              "      <th>Salary</th>\n",
              "    </tr>\n",
              "  </thead>\n",
              "  <tbody>\n",
              "    <tr>\n",
              "      <th>count</th>\n",
              "      <td>457</td>\n",
              "      <td>457</td>\n",
              "      <td>457.000000</td>\n",
              "      <td>457</td>\n",
              "      <td>457.000000</td>\n",
              "      <td>457</td>\n",
              "      <td>457.000000</td>\n",
              "      <td>373</td>\n",
              "      <td>4.460000e+02</td>\n",
              "    </tr>\n",
              "    <tr>\n",
              "      <th>unique</th>\n",
              "      <td>457</td>\n",
              "      <td>30</td>\n",
              "      <td>NaN</td>\n",
              "      <td>5</td>\n",
              "      <td>NaN</td>\n",
              "      <td>18</td>\n",
              "      <td>NaN</td>\n",
              "      <td>118</td>\n",
              "      <td>NaN</td>\n",
              "    </tr>\n",
              "    <tr>\n",
              "      <th>top</th>\n",
              "      <td>Kirk Hinrich</td>\n",
              "      <td>New Orleans Pelicans</td>\n",
              "      <td>NaN</td>\n",
              "      <td>SG</td>\n",
              "      <td>NaN</td>\n",
              "      <td>6-9</td>\n",
              "      <td>NaN</td>\n",
              "      <td>Kentucky</td>\n",
              "      <td>NaN</td>\n",
              "    </tr>\n",
              "    <tr>\n",
              "      <th>freq</th>\n",
              "      <td>1</td>\n",
              "      <td>19</td>\n",
              "      <td>NaN</td>\n",
              "      <td>102</td>\n",
              "      <td>NaN</td>\n",
              "      <td>59</td>\n",
              "      <td>NaN</td>\n",
              "      <td>22</td>\n",
              "      <td>NaN</td>\n",
              "    </tr>\n",
              "    <tr>\n",
              "      <th>mean</th>\n",
              "      <td>NaN</td>\n",
              "      <td>NaN</td>\n",
              "      <td>17.678337</td>\n",
              "      <td>NaN</td>\n",
              "      <td>26.938731</td>\n",
              "      <td>NaN</td>\n",
              "      <td>221.522976</td>\n",
              "      <td>NaN</td>\n",
              "      <td>4.842684e+06</td>\n",
              "    </tr>\n",
              "    <tr>\n",
              "      <th>std</th>\n",
              "      <td>NaN</td>\n",
              "      <td>NaN</td>\n",
              "      <td>15.966090</td>\n",
              "      <td>NaN</td>\n",
              "      <td>4.404016</td>\n",
              "      <td>NaN</td>\n",
              "      <td>26.368343</td>\n",
              "      <td>NaN</td>\n",
              "      <td>5.229238e+06</td>\n",
              "    </tr>\n",
              "    <tr>\n",
              "      <th>min</th>\n",
              "      <td>NaN</td>\n",
              "      <td>NaN</td>\n",
              "      <td>0.000000</td>\n",
              "      <td>NaN</td>\n",
              "      <td>19.000000</td>\n",
              "      <td>NaN</td>\n",
              "      <td>161.000000</td>\n",
              "      <td>NaN</td>\n",
              "      <td>3.088800e+04</td>\n",
              "    </tr>\n",
              "    <tr>\n",
              "      <th>20%</th>\n",
              "      <td>NaN</td>\n",
              "      <td>NaN</td>\n",
              "      <td>4.000000</td>\n",
              "      <td>NaN</td>\n",
              "      <td>23.000000</td>\n",
              "      <td>NaN</td>\n",
              "      <td>195.600000</td>\n",
              "      <td>NaN</td>\n",
              "      <td>9.472760e+05</td>\n",
              "    </tr>\n",
              "    <tr>\n",
              "      <th>40%</th>\n",
              "      <td>NaN</td>\n",
              "      <td>NaN</td>\n",
              "      <td>10.000000</td>\n",
              "      <td>NaN</td>\n",
              "      <td>25.000000</td>\n",
              "      <td>NaN</td>\n",
              "      <td>213.400000</td>\n",
              "      <td>NaN</td>\n",
              "      <td>1.938840e+06</td>\n",
              "    </tr>\n",
              "    <tr>\n",
              "      <th>50%</th>\n",
              "      <td>NaN</td>\n",
              "      <td>NaN</td>\n",
              "      <td>13.000000</td>\n",
              "      <td>NaN</td>\n",
              "      <td>26.000000</td>\n",
              "      <td>NaN</td>\n",
              "      <td>220.000000</td>\n",
              "      <td>NaN</td>\n",
              "      <td>2.839073e+06</td>\n",
              "    </tr>\n",
              "    <tr>\n",
              "      <th>60%</th>\n",
              "      <td>NaN</td>\n",
              "      <td>NaN</td>\n",
              "      <td>18.600000</td>\n",
              "      <td>NaN</td>\n",
              "      <td>27.000000</td>\n",
              "      <td>NaN</td>\n",
              "      <td>230.000000</td>\n",
              "      <td>NaN</td>\n",
              "      <td>3.815000e+06</td>\n",
              "    </tr>\n",
              "    <tr>\n",
              "      <th>80%</th>\n",
              "      <td>NaN</td>\n",
              "      <td>NaN</td>\n",
              "      <td>30.000000</td>\n",
              "      <td>NaN</td>\n",
              "      <td>30.000000</td>\n",
              "      <td>NaN</td>\n",
              "      <td>245.000000</td>\n",
              "      <td>NaN</td>\n",
              "      <td>8.042895e+06</td>\n",
              "    </tr>\n",
              "    <tr>\n",
              "      <th>max</th>\n",
              "      <td>NaN</td>\n",
              "      <td>NaN</td>\n",
              "      <td>99.000000</td>\n",
              "      <td>NaN</td>\n",
              "      <td>40.000000</td>\n",
              "      <td>NaN</td>\n",
              "      <td>307.000000</td>\n",
              "      <td>NaN</td>\n",
              "      <td>2.500000e+07</td>\n",
              "    </tr>\n",
              "  </tbody>\n",
              "</table>\n",
              "</div>"
            ],
            "text/plain": [
              "                Name                  Team      Number Position         Age  \\\n",
              "count            457                   457  457.000000      457  457.000000   \n",
              "unique           457                    30         NaN        5         NaN   \n",
              "top     Kirk Hinrich  New Orleans Pelicans         NaN       SG         NaN   \n",
              "freq               1                    19         NaN      102         NaN   \n",
              "mean             NaN                   NaN   17.678337      NaN   26.938731   \n",
              "std              NaN                   NaN   15.966090      NaN    4.404016   \n",
              "min              NaN                   NaN    0.000000      NaN   19.000000   \n",
              "20%              NaN                   NaN    4.000000      NaN   23.000000   \n",
              "40%              NaN                   NaN   10.000000      NaN   25.000000   \n",
              "50%              NaN                   NaN   13.000000      NaN   26.000000   \n",
              "60%              NaN                   NaN   18.600000      NaN   27.000000   \n",
              "80%              NaN                   NaN   30.000000      NaN   30.000000   \n",
              "max              NaN                   NaN   99.000000      NaN   40.000000   \n",
              "\n",
              "       Height      Weight   College        Salary  \n",
              "count     457  457.000000       373  4.460000e+02  \n",
              "unique     18         NaN       118           NaN  \n",
              "top       6-9         NaN  Kentucky           NaN  \n",
              "freq       59         NaN        22           NaN  \n",
              "mean      NaN  221.522976       NaN  4.842684e+06  \n",
              "std       NaN   26.368343       NaN  5.229238e+06  \n",
              "min       NaN  161.000000       NaN  3.088800e+04  \n",
              "20%       NaN  195.600000       NaN  9.472760e+05  \n",
              "40%       NaN  213.400000       NaN  1.938840e+06  \n",
              "50%       NaN  220.000000       NaN  2.839073e+06  \n",
              "60%       NaN  230.000000       NaN  3.815000e+06  \n",
              "80%       NaN  245.000000       NaN  8.042895e+06  \n",
              "max       NaN  307.000000       NaN  2.500000e+07  "
            ]
          },
          "metadata": {},
          "execution_count": 25
        }
      ]
    },
    {
      "cell_type": "code",
      "source": [
        "df['College'].describe()"
      ],
      "metadata": {
        "colab": {
          "base_uri": "https://localhost:8080/"
        },
        "id": "CvK5KezYQAHQ",
        "outputId": "d5bab989-46a6-4390-aafa-98612d14b50e"
      },
      "execution_count": null,
      "outputs": [
        {
          "output_type": "execute_result",
          "data": {
            "text/plain": [
              "count          364\n",
              "unique         115\n",
              "top       Kentucky\n",
              "freq            22\n",
              "Name: College, dtype: object"
            ]
          },
          "metadata": {},
          "execution_count": 38
        }
      ]
    },
    {
      "cell_type": "markdown",
      "source": [
        "## Data cleansing"
      ],
      "metadata": {
        "id": "-3mTXtWLJv14"
      }
    },
    {
      "cell_type": "code",
      "source": [
        "df.shape"
      ],
      "metadata": {
        "colab": {
          "base_uri": "https://localhost:8080/"
        },
        "id": "PE1gWoiyNBkt",
        "outputId": "e2d6c722-6981-4eb1-a1c7-9d3f3c90203d"
      },
      "execution_count": null,
      "outputs": [
        {
          "output_type": "execute_result",
          "data": {
            "text/plain": [
              "(458, 9)"
            ]
          },
          "metadata": {},
          "execution_count": 31
        }
      ]
    },
    {
      "cell_type": "code",
      "source": [
        "df.dropna(inplace=True)"
      ],
      "metadata": {
        "id": "wPj1v75bL3Gh"
      },
      "execution_count": null,
      "outputs": []
    },
    {
      "cell_type": "code",
      "source": [
        "df.drop_duplicates(inplace=True)"
      ],
      "metadata": {
        "id": "gHjo8QwGNbj5"
      },
      "execution_count": null,
      "outputs": []
    },
    {
      "cell_type": "code",
      "source": [
        "df.shape"
      ],
      "metadata": {
        "colab": {
          "base_uri": "https://localhost:8080/"
        },
        "id": "XCfc-ZcVNGzU",
        "outputId": "d4852ff3-7fee-474c-a2c4-22463ffe6469"
      },
      "execution_count": null,
      "outputs": [
        {
          "output_type": "execute_result",
          "data": {
            "text/plain": [
              "(364, 9)"
            ]
          },
          "metadata": {},
          "execution_count": 35
        }
      ]
    },
    {
      "cell_type": "code",
      "source": [
        "pd.set_option('display.max_rows',40)\n",
        "df.describe(percentiles=[0.2,0.4,0.6,0.8], include=['int','float','object'])"
      ],
      "metadata": {
        "colab": {
          "base_uri": "https://localhost:8080/",
          "height": 457
        },
        "id": "HSWBOfy0NmGV",
        "outputId": "69f57ca1-6229-47ad-a231-63b8b6c5e5bc"
      },
      "execution_count": null,
      "outputs": [
        {
          "output_type": "execute_result",
          "data": {
            "text/html": [
              "<div>\n",
              "<style scoped>\n",
              "    .dataframe tbody tr th:only-of-type {\n",
              "        vertical-align: middle;\n",
              "    }\n",
              "\n",
              "    .dataframe tbody tr th {\n",
              "        vertical-align: top;\n",
              "    }\n",
              "\n",
              "    .dataframe thead th {\n",
              "        text-align: right;\n",
              "    }\n",
              "</style>\n",
              "<table border=\"1\" class=\"dataframe\">\n",
              "  <thead>\n",
              "    <tr style=\"text-align: right;\">\n",
              "      <th></th>\n",
              "      <th>Name</th>\n",
              "      <th>Team</th>\n",
              "      <th>Number</th>\n",
              "      <th>Position</th>\n",
              "      <th>Age</th>\n",
              "      <th>Height</th>\n",
              "      <th>Weight</th>\n",
              "      <th>College</th>\n",
              "      <th>Salary</th>\n",
              "    </tr>\n",
              "  </thead>\n",
              "  <tbody>\n",
              "    <tr>\n",
              "      <th>count</th>\n",
              "      <td>364</td>\n",
              "      <td>364</td>\n",
              "      <td>364.000000</td>\n",
              "      <td>364</td>\n",
              "      <td>364.000000</td>\n",
              "      <td>364</td>\n",
              "      <td>364.000000</td>\n",
              "      <td>364</td>\n",
              "      <td>3.640000e+02</td>\n",
              "    </tr>\n",
              "    <tr>\n",
              "      <th>unique</th>\n",
              "      <td>364</td>\n",
              "      <td>30</td>\n",
              "      <td>NaN</td>\n",
              "      <td>5</td>\n",
              "      <td>NaN</td>\n",
              "      <td>17</td>\n",
              "      <td>NaN</td>\n",
              "      <td>115</td>\n",
              "      <td>NaN</td>\n",
              "    </tr>\n",
              "    <tr>\n",
              "      <th>top</th>\n",
              "      <td>Jordan Hill</td>\n",
              "      <td>New Orleans Pelicans</td>\n",
              "      <td>NaN</td>\n",
              "      <td>SG</td>\n",
              "      <td>NaN</td>\n",
              "      <td>6-9</td>\n",
              "      <td>NaN</td>\n",
              "      <td>Kentucky</td>\n",
              "      <td>NaN</td>\n",
              "    </tr>\n",
              "    <tr>\n",
              "      <th>freq</th>\n",
              "      <td>1</td>\n",
              "      <td>16</td>\n",
              "      <td>NaN</td>\n",
              "      <td>87</td>\n",
              "      <td>NaN</td>\n",
              "      <td>49</td>\n",
              "      <td>NaN</td>\n",
              "      <td>22</td>\n",
              "      <td>NaN</td>\n",
              "    </tr>\n",
              "    <tr>\n",
              "      <th>mean</th>\n",
              "      <td>NaN</td>\n",
              "      <td>NaN</td>\n",
              "      <td>16.829670</td>\n",
              "      <td>NaN</td>\n",
              "      <td>26.615385</td>\n",
              "      <td>NaN</td>\n",
              "      <td>219.785714</td>\n",
              "      <td>NaN</td>\n",
              "      <td>4.620311e+06</td>\n",
              "    </tr>\n",
              "    <tr>\n",
              "      <th>std</th>\n",
              "      <td>NaN</td>\n",
              "      <td>NaN</td>\n",
              "      <td>14.994162</td>\n",
              "      <td>NaN</td>\n",
              "      <td>4.233591</td>\n",
              "      <td>NaN</td>\n",
              "      <td>24.793099</td>\n",
              "      <td>NaN</td>\n",
              "      <td>5.119716e+06</td>\n",
              "    </tr>\n",
              "    <tr>\n",
              "      <th>min</th>\n",
              "      <td>NaN</td>\n",
              "      <td>NaN</td>\n",
              "      <td>0.000000</td>\n",
              "      <td>NaN</td>\n",
              "      <td>19.000000</td>\n",
              "      <td>NaN</td>\n",
              "      <td>161.000000</td>\n",
              "      <td>NaN</td>\n",
              "      <td>5.572200e+04</td>\n",
              "    </tr>\n",
              "    <tr>\n",
              "      <th>20%</th>\n",
              "      <td>NaN</td>\n",
              "      <td>NaN</td>\n",
              "      <td>4.000000</td>\n",
              "      <td>NaN</td>\n",
              "      <td>23.000000</td>\n",
              "      <td>NaN</td>\n",
              "      <td>195.000000</td>\n",
              "      <td>NaN</td>\n",
              "      <td>9.472760e+05</td>\n",
              "    </tr>\n",
              "    <tr>\n",
              "      <th>40%</th>\n",
              "      <td>NaN</td>\n",
              "      <td>NaN</td>\n",
              "      <td>9.000000</td>\n",
              "      <td>NaN</td>\n",
              "      <td>25.000000</td>\n",
              "      <td>NaN</td>\n",
              "      <td>212.000000</td>\n",
              "      <td>NaN</td>\n",
              "      <td>1.638754e+06</td>\n",
              "    </tr>\n",
              "    <tr>\n",
              "      <th>50%</th>\n",
              "      <td>NaN</td>\n",
              "      <td>NaN</td>\n",
              "      <td>12.000000</td>\n",
              "      <td>NaN</td>\n",
              "      <td>26.000000</td>\n",
              "      <td>NaN</td>\n",
              "      <td>220.000000</td>\n",
              "      <td>NaN</td>\n",
              "      <td>2.515440e+06</td>\n",
              "    </tr>\n",
              "    <tr>\n",
              "      <th>60%</th>\n",
              "      <td>NaN</td>\n",
              "      <td>NaN</td>\n",
              "      <td>17.000000</td>\n",
              "      <td>NaN</td>\n",
              "      <td>27.000000</td>\n",
              "      <td>NaN</td>\n",
              "      <td>228.000000</td>\n",
              "      <td>NaN</td>\n",
              "      <td>3.429934e+06</td>\n",
              "    </tr>\n",
              "    <tr>\n",
              "      <th>80%</th>\n",
              "      <td>NaN</td>\n",
              "      <td>NaN</td>\n",
              "      <td>30.000000</td>\n",
              "      <td>NaN</td>\n",
              "      <td>30.000000</td>\n",
              "      <td>NaN</td>\n",
              "      <td>242.400000</td>\n",
              "      <td>NaN</td>\n",
              "      <td>7.838202e+06</td>\n",
              "    </tr>\n",
              "    <tr>\n",
              "      <th>max</th>\n",
              "      <td>NaN</td>\n",
              "      <td>NaN</td>\n",
              "      <td>99.000000</td>\n",
              "      <td>NaN</td>\n",
              "      <td>40.000000</td>\n",
              "      <td>NaN</td>\n",
              "      <td>279.000000</td>\n",
              "      <td>NaN</td>\n",
              "      <td>2.287500e+07</td>\n",
              "    </tr>\n",
              "  </tbody>\n",
              "</table>\n",
              "</div>"
            ],
            "text/plain": [
              "               Name                  Team      Number Position         Age  \\\n",
              "count           364                   364  364.000000      364  364.000000   \n",
              "unique          364                    30         NaN        5         NaN   \n",
              "top     Jordan Hill  New Orleans Pelicans         NaN       SG         NaN   \n",
              "freq              1                    16         NaN       87         NaN   \n",
              "mean            NaN                   NaN   16.829670      NaN   26.615385   \n",
              "std             NaN                   NaN   14.994162      NaN    4.233591   \n",
              "min             NaN                   NaN    0.000000      NaN   19.000000   \n",
              "20%             NaN                   NaN    4.000000      NaN   23.000000   \n",
              "40%             NaN                   NaN    9.000000      NaN   25.000000   \n",
              "50%             NaN                   NaN   12.000000      NaN   26.000000   \n",
              "60%             NaN                   NaN   17.000000      NaN   27.000000   \n",
              "80%             NaN                   NaN   30.000000      NaN   30.000000   \n",
              "max             NaN                   NaN   99.000000      NaN   40.000000   \n",
              "\n",
              "       Height      Weight   College        Salary  \n",
              "count     364  364.000000       364  3.640000e+02  \n",
              "unique     17         NaN       115           NaN  \n",
              "top       6-9         NaN  Kentucky           NaN  \n",
              "freq       49         NaN        22           NaN  \n",
              "mean      NaN  219.785714       NaN  4.620311e+06  \n",
              "std       NaN   24.793099       NaN  5.119716e+06  \n",
              "min       NaN  161.000000       NaN  5.572200e+04  \n",
              "20%       NaN  195.000000       NaN  9.472760e+05  \n",
              "40%       NaN  212.000000       NaN  1.638754e+06  \n",
              "50%       NaN  220.000000       NaN  2.515440e+06  \n",
              "60%       NaN  228.000000       NaN  3.429934e+06  \n",
              "80%       NaN  242.400000       NaN  7.838202e+06  \n",
              "max       NaN  279.000000       NaN  2.287500e+07  "
            ]
          },
          "metadata": {},
          "execution_count": 36
        }
      ]
    },
    {
      "cell_type": "markdown",
      "source": [
        "## Extracting a Series from a dataframe"
      ],
      "metadata": {
        "id": "CXJtNvX5G3EL"
      }
    },
    {
      "cell_type": "code",
      "source": [
        "name = df['Name']\n",
        "name.head(n=3)"
      ],
      "metadata": {
        "colab": {
          "base_uri": "https://localhost:8080/"
        },
        "id": "jJjLuv_kG7uh",
        "outputId": "69e7f863-84ff-4425-a6ba-5c1a94e356c0"
      },
      "execution_count": null,
      "outputs": [
        {
          "output_type": "execute_result",
          "data": {
            "text/plain": [
              "0    Avery Bradley\n",
              "1      Jae Crowder\n",
              "2     John Holland\n",
              "Name: Name, dtype: object"
            ]
          },
          "metadata": {},
          "execution_count": 21
        }
      ]
    },
    {
      "cell_type": "markdown",
      "source": [
        "## Row & Column selection"
      ],
      "metadata": {
        "id": "-tQtYYXYQPWk"
      }
    },
    {
      "cell_type": "code",
      "source": [
        "data = {\n",
        "    'Name' : ['Saurav', 'Gaurav', 'Sanchayan', 'Sudipta', 'Ankan'],\n",
        "    'Age' : [25, 26, 31, 28, 39],\n",
        "    'Address' : ['Kolkata', 'Goa', 'Pune', 'Pune', 'Kolkata'],\n",
        "    'Qualification' : ['BE', 'ME', 'BStat', 'BE','MSc']\n",
        "}\n",
        "\n",
        "df = pd.DataFrame(data)\n",
        "df"
      ],
      "metadata": {
        "colab": {
          "base_uri": "https://localhost:8080/",
          "height": 206
        },
        "id": "MkWuvGxZQSVI",
        "outputId": "b25a8d26-90b4-4d27-e11f-98d2c139163a"
      },
      "execution_count": null,
      "outputs": [
        {
          "output_type": "execute_result",
          "data": {
            "text/html": [
              "<div>\n",
              "<style scoped>\n",
              "    .dataframe tbody tr th:only-of-type {\n",
              "        vertical-align: middle;\n",
              "    }\n",
              "\n",
              "    .dataframe tbody tr th {\n",
              "        vertical-align: top;\n",
              "    }\n",
              "\n",
              "    .dataframe thead th {\n",
              "        text-align: right;\n",
              "    }\n",
              "</style>\n",
              "<table border=\"1\" class=\"dataframe\">\n",
              "  <thead>\n",
              "    <tr style=\"text-align: right;\">\n",
              "      <th></th>\n",
              "      <th>Name</th>\n",
              "      <th>Age</th>\n",
              "      <th>Address</th>\n",
              "      <th>Qualification</th>\n",
              "    </tr>\n",
              "  </thead>\n",
              "  <tbody>\n",
              "    <tr>\n",
              "      <th>0</th>\n",
              "      <td>Saurav</td>\n",
              "      <td>25</td>\n",
              "      <td>Kolkata</td>\n",
              "      <td>BE</td>\n",
              "    </tr>\n",
              "    <tr>\n",
              "      <th>1</th>\n",
              "      <td>Gaurav</td>\n",
              "      <td>26</td>\n",
              "      <td>Goa</td>\n",
              "      <td>ME</td>\n",
              "    </tr>\n",
              "    <tr>\n",
              "      <th>2</th>\n",
              "      <td>Sanchayan</td>\n",
              "      <td>31</td>\n",
              "      <td>Pune</td>\n",
              "      <td>BStat</td>\n",
              "    </tr>\n",
              "    <tr>\n",
              "      <th>3</th>\n",
              "      <td>Sudipta</td>\n",
              "      <td>28</td>\n",
              "      <td>Pune</td>\n",
              "      <td>BE</td>\n",
              "    </tr>\n",
              "    <tr>\n",
              "      <th>4</th>\n",
              "      <td>Ankan</td>\n",
              "      <td>39</td>\n",
              "      <td>Kolkata</td>\n",
              "      <td>MSc</td>\n",
              "    </tr>\n",
              "  </tbody>\n",
              "</table>\n",
              "</div>"
            ],
            "text/plain": [
              "        Name  Age  Address Qualification\n",
              "0     Saurav   25  Kolkata            BE\n",
              "1     Gaurav   26      Goa            ME\n",
              "2  Sanchayan   31     Pune         BStat\n",
              "3    Sudipta   28     Pune            BE\n",
              "4      Ankan   39  Kolkata           MSc"
            ]
          },
          "metadata": {},
          "execution_count": 54
        }
      ]
    },
    {
      "cell_type": "code",
      "source": [
        "df['Name']"
      ],
      "metadata": {
        "colab": {
          "base_uri": "https://localhost:8080/"
        },
        "id": "gKDmgnIxQ_XC",
        "outputId": "17c11fb2-9354-46f6-c86f-0c2e4646b170"
      },
      "execution_count": null,
      "outputs": [
        {
          "output_type": "execute_result",
          "data": {
            "text/plain": [
              "0       Saurav\n",
              "1       Gaurav\n",
              "2    Sanchayan\n",
              "3      Sudipta\n",
              "4        Ankan\n",
              "Name: Name, dtype: object"
            ]
          },
          "metadata": {},
          "execution_count": 41
        }
      ]
    },
    {
      "cell_type": "code",
      "source": [
        "df[['Name', 'Age']]"
      ],
      "metadata": {
        "colab": {
          "base_uri": "https://localhost:8080/",
          "height": 206
        },
        "id": "0HUMw80nRCOY",
        "outputId": "468df68a-2f88-48c8-98f9-620641b644da"
      },
      "execution_count": null,
      "outputs": [
        {
          "output_type": "execute_result",
          "data": {
            "text/html": [
              "<div>\n",
              "<style scoped>\n",
              "    .dataframe tbody tr th:only-of-type {\n",
              "        vertical-align: middle;\n",
              "    }\n",
              "\n",
              "    .dataframe tbody tr th {\n",
              "        vertical-align: top;\n",
              "    }\n",
              "\n",
              "    .dataframe thead th {\n",
              "        text-align: right;\n",
              "    }\n",
              "</style>\n",
              "<table border=\"1\" class=\"dataframe\">\n",
              "  <thead>\n",
              "    <tr style=\"text-align: right;\">\n",
              "      <th></th>\n",
              "      <th>Name</th>\n",
              "      <th>Age</th>\n",
              "    </tr>\n",
              "  </thead>\n",
              "  <tbody>\n",
              "    <tr>\n",
              "      <th>0</th>\n",
              "      <td>Saurav</td>\n",
              "      <td>25</td>\n",
              "    </tr>\n",
              "    <tr>\n",
              "      <th>1</th>\n",
              "      <td>Gaurav</td>\n",
              "      <td>26</td>\n",
              "    </tr>\n",
              "    <tr>\n",
              "      <th>2</th>\n",
              "      <td>Sanchayan</td>\n",
              "      <td>31</td>\n",
              "    </tr>\n",
              "    <tr>\n",
              "      <th>3</th>\n",
              "      <td>Sudipta</td>\n",
              "      <td>28</td>\n",
              "    </tr>\n",
              "    <tr>\n",
              "      <th>4</th>\n",
              "      <td>Ankan</td>\n",
              "      <td>39</td>\n",
              "    </tr>\n",
              "  </tbody>\n",
              "</table>\n",
              "</div>"
            ],
            "text/plain": [
              "        Name  Age\n",
              "0     Saurav   25\n",
              "1     Gaurav   26\n",
              "2  Sanchayan   31\n",
              "3    Sudipta   28\n",
              "4      Ankan   39"
            ]
          },
          "metadata": {},
          "execution_count": 42
        }
      ]
    },
    {
      "cell_type": "code",
      "source": [
        "df.loc[1]"
      ],
      "metadata": {
        "colab": {
          "base_uri": "https://localhost:8080/"
        },
        "id": "B7izds1rSnlp",
        "outputId": "4be4da9d-0e59-4bd6-ffe3-04c3a5546b63"
      },
      "execution_count": null,
      "outputs": [
        {
          "output_type": "execute_result",
          "data": {
            "text/plain": [
              "Name             Gaurav\n",
              "Age                  26\n",
              "Address             Goa\n",
              "Qualification        ME\n",
              "Name: 1, dtype: object"
            ]
          },
          "metadata": {},
          "execution_count": 56
        }
      ]
    },
    {
      "cell_type": "code",
      "source": [
        "df2"
      ],
      "metadata": {
        "colab": {
          "base_uri": "https://localhost:8080/",
          "height": 455
        },
        "id": "XUvn2_4yVKqU",
        "outputId": "52555287-242f-4268-bbb9-b8d8200f2392"
      },
      "execution_count": null,
      "outputs": [
        {
          "output_type": "execute_result",
          "data": {
            "text/html": [
              "<div>\n",
              "<style scoped>\n",
              "    .dataframe tbody tr th:only-of-type {\n",
              "        vertical-align: middle;\n",
              "    }\n",
              "\n",
              "    .dataframe tbody tr th {\n",
              "        vertical-align: top;\n",
              "    }\n",
              "\n",
              "    .dataframe thead th {\n",
              "        text-align: right;\n",
              "    }\n",
              "</style>\n",
              "<table border=\"1\" class=\"dataframe\">\n",
              "  <thead>\n",
              "    <tr style=\"text-align: right;\">\n",
              "      <th></th>\n",
              "      <th>Team</th>\n",
              "      <th>Number</th>\n",
              "      <th>Position</th>\n",
              "      <th>Age</th>\n",
              "      <th>Height</th>\n",
              "      <th>Weight</th>\n",
              "      <th>College</th>\n",
              "      <th>Salary</th>\n",
              "    </tr>\n",
              "    <tr>\n",
              "      <th>Name</th>\n",
              "      <th></th>\n",
              "      <th></th>\n",
              "      <th></th>\n",
              "      <th></th>\n",
              "      <th></th>\n",
              "      <th></th>\n",
              "      <th></th>\n",
              "      <th></th>\n",
              "    </tr>\n",
              "  </thead>\n",
              "  <tbody>\n",
              "    <tr>\n",
              "      <th>Avery Bradley</th>\n",
              "      <td>Boston Celtics</td>\n",
              "      <td>0.0</td>\n",
              "      <td>PG</td>\n",
              "      <td>25.0</td>\n",
              "      <td>6-2</td>\n",
              "      <td>180.0</td>\n",
              "      <td>Texas</td>\n",
              "      <td>7730337.0</td>\n",
              "    </tr>\n",
              "    <tr>\n",
              "      <th>John Holland</th>\n",
              "      <td>Boston Celtics</td>\n",
              "      <td>30.0</td>\n",
              "      <td>SG</td>\n",
              "      <td>27.0</td>\n",
              "      <td>6-5</td>\n",
              "      <td>205.0</td>\n",
              "      <td>Boston University</td>\n",
              "      <td>NaN</td>\n",
              "    </tr>\n",
              "    <tr>\n",
              "      <th>R.J. Hunter</th>\n",
              "      <td>Boston Celtics</td>\n",
              "      <td>28.0</td>\n",
              "      <td>SG</td>\n",
              "      <td>22.0</td>\n",
              "      <td>6-5</td>\n",
              "      <td>185.0</td>\n",
              "      <td>Georgia State</td>\n",
              "      <td>1148640.0</td>\n",
              "    </tr>\n",
              "    <tr>\n",
              "      <th>Jonas Jerebko</th>\n",
              "      <td>Boston Celtics</td>\n",
              "      <td>8.0</td>\n",
              "      <td>PF</td>\n",
              "      <td>29.0</td>\n",
              "      <td>6-10</td>\n",
              "      <td>231.0</td>\n",
              "      <td>NaN</td>\n",
              "      <td>5000000.0</td>\n",
              "    </tr>\n",
              "    <tr>\n",
              "      <th>Amir Johnson</th>\n",
              "      <td>Boston Celtics</td>\n",
              "      <td>90.0</td>\n",
              "      <td>PF</td>\n",
              "      <td>29.0</td>\n",
              "      <td>6-9</td>\n",
              "      <td>240.0</td>\n",
              "      <td>NaN</td>\n",
              "      <td>12000000.0</td>\n",
              "    </tr>\n",
              "    <tr>\n",
              "      <th>...</th>\n",
              "      <td>...</td>\n",
              "      <td>...</td>\n",
              "      <td>...</td>\n",
              "      <td>...</td>\n",
              "      <td>...</td>\n",
              "      <td>...</td>\n",
              "      <td>...</td>\n",
              "      <td>...</td>\n",
              "    </tr>\n",
              "    <tr>\n",
              "      <th>Shelvin Mack</th>\n",
              "      <td>Utah Jazz</td>\n",
              "      <td>8.0</td>\n",
              "      <td>PG</td>\n",
              "      <td>26.0</td>\n",
              "      <td>6-3</td>\n",
              "      <td>203.0</td>\n",
              "      <td>Butler</td>\n",
              "      <td>2433333.0</td>\n",
              "    </tr>\n",
              "    <tr>\n",
              "      <th>Raul Neto</th>\n",
              "      <td>Utah Jazz</td>\n",
              "      <td>25.0</td>\n",
              "      <td>PG</td>\n",
              "      <td>24.0</td>\n",
              "      <td>6-1</td>\n",
              "      <td>179.0</td>\n",
              "      <td>NaN</td>\n",
              "      <td>900000.0</td>\n",
              "    </tr>\n",
              "    <tr>\n",
              "      <th>Tibor Pleiss</th>\n",
              "      <td>Utah Jazz</td>\n",
              "      <td>21.0</td>\n",
              "      <td>C</td>\n",
              "      <td>26.0</td>\n",
              "      <td>7-3</td>\n",
              "      <td>256.0</td>\n",
              "      <td>NaN</td>\n",
              "      <td>2900000.0</td>\n",
              "    </tr>\n",
              "    <tr>\n",
              "      <th>Jeff Withey</th>\n",
              "      <td>Utah Jazz</td>\n",
              "      <td>24.0</td>\n",
              "      <td>C</td>\n",
              "      <td>26.0</td>\n",
              "      <td>7-0</td>\n",
              "      <td>231.0</td>\n",
              "      <td>Kansas</td>\n",
              "      <td>947276.0</td>\n",
              "    </tr>\n",
              "    <tr>\n",
              "      <th>NaN</th>\n",
              "      <td>NaN</td>\n",
              "      <td>NaN</td>\n",
              "      <td>NaN</td>\n",
              "      <td>NaN</td>\n",
              "      <td>NaN</td>\n",
              "      <td>NaN</td>\n",
              "      <td>NaN</td>\n",
              "      <td>NaN</td>\n",
              "    </tr>\n",
              "  </tbody>\n",
              "</table>\n",
              "<p>457 rows × 8 columns</p>\n",
              "</div>"
            ],
            "text/plain": [
              "                         Team  Number Position   Age Height  Weight  \\\n",
              "Name                                                                  \n",
              "Avery Bradley  Boston Celtics     0.0       PG  25.0    6-2   180.0   \n",
              "John Holland   Boston Celtics    30.0       SG  27.0    6-5   205.0   \n",
              "R.J. Hunter    Boston Celtics    28.0       SG  22.0    6-5   185.0   \n",
              "Jonas Jerebko  Boston Celtics     8.0       PF  29.0   6-10   231.0   \n",
              "Amir Johnson   Boston Celtics    90.0       PF  29.0    6-9   240.0   \n",
              "...                       ...     ...      ...   ...    ...     ...   \n",
              "Shelvin Mack        Utah Jazz     8.0       PG  26.0    6-3   203.0   \n",
              "Raul Neto           Utah Jazz    25.0       PG  24.0    6-1   179.0   \n",
              "Tibor Pleiss        Utah Jazz    21.0        C  26.0    7-3   256.0   \n",
              "Jeff Withey         Utah Jazz    24.0        C  26.0    7-0   231.0   \n",
              "NaN                       NaN     NaN      NaN   NaN    NaN     NaN   \n",
              "\n",
              "                         College      Salary  \n",
              "Name                                          \n",
              "Avery Bradley              Texas   7730337.0  \n",
              "John Holland   Boston University         NaN  \n",
              "R.J. Hunter        Georgia State   1148640.0  \n",
              "Jonas Jerebko                NaN   5000000.0  \n",
              "Amir Johnson                 NaN  12000000.0  \n",
              "...                          ...         ...  \n",
              "Shelvin Mack              Butler   2433333.0  \n",
              "Raul Neto                    NaN    900000.0  \n",
              "Tibor Pleiss                 NaN   2900000.0  \n",
              "Jeff Withey               Kansas    947276.0  \n",
              "NaN                          NaN         NaN  \n",
              "\n",
              "[457 rows x 8 columns]"
            ]
          },
          "metadata": {},
          "execution_count": 72
        }
      ]
    },
    {
      "cell_type": "code",
      "source": [
        "df2 = pd.read_csv(\"nba.csv\", index_col = \"Name\")\n",
        "df2.loc[['John Holland','Avery Bradley']]"
      ],
      "metadata": {
        "colab": {
          "base_uri": "https://localhost:8080/",
          "height": 143
        },
        "id": "WDFSJc-GSzxM",
        "outputId": "f1195eaf-38a6-49d7-e3f7-6a585560b67c"
      },
      "execution_count": null,
      "outputs": [
        {
          "output_type": "execute_result",
          "data": {
            "text/html": [
              "<div>\n",
              "<style scoped>\n",
              "    .dataframe tbody tr th:only-of-type {\n",
              "        vertical-align: middle;\n",
              "    }\n",
              "\n",
              "    .dataframe tbody tr th {\n",
              "        vertical-align: top;\n",
              "    }\n",
              "\n",
              "    .dataframe thead th {\n",
              "        text-align: right;\n",
              "    }\n",
              "</style>\n",
              "<table border=\"1\" class=\"dataframe\">\n",
              "  <thead>\n",
              "    <tr style=\"text-align: right;\">\n",
              "      <th></th>\n",
              "      <th>Team</th>\n",
              "      <th>Number</th>\n",
              "      <th>Position</th>\n",
              "      <th>Age</th>\n",
              "      <th>Height</th>\n",
              "      <th>Weight</th>\n",
              "      <th>College</th>\n",
              "      <th>Salary</th>\n",
              "    </tr>\n",
              "    <tr>\n",
              "      <th>Name</th>\n",
              "      <th></th>\n",
              "      <th></th>\n",
              "      <th></th>\n",
              "      <th></th>\n",
              "      <th></th>\n",
              "      <th></th>\n",
              "      <th></th>\n",
              "      <th></th>\n",
              "    </tr>\n",
              "  </thead>\n",
              "  <tbody>\n",
              "    <tr>\n",
              "      <th>John Holland</th>\n",
              "      <td>Boston Celtics</td>\n",
              "      <td>30.0</td>\n",
              "      <td>SG</td>\n",
              "      <td>27.0</td>\n",
              "      <td>6-5</td>\n",
              "      <td>205.0</td>\n",
              "      <td>Boston University</td>\n",
              "      <td>NaN</td>\n",
              "    </tr>\n",
              "    <tr>\n",
              "      <th>Avery Bradley</th>\n",
              "      <td>Boston Celtics</td>\n",
              "      <td>0.0</td>\n",
              "      <td>PG</td>\n",
              "      <td>25.0</td>\n",
              "      <td>6-2</td>\n",
              "      <td>180.0</td>\n",
              "      <td>Texas</td>\n",
              "      <td>7730337.0</td>\n",
              "    </tr>\n",
              "  </tbody>\n",
              "</table>\n",
              "</div>"
            ],
            "text/plain": [
              "                         Team  Number Position   Age Height  Weight  \\\n",
              "Name                                                                  \n",
              "John Holland   Boston Celtics    30.0       SG  27.0    6-5   205.0   \n",
              "Avery Bradley  Boston Celtics     0.0       PG  25.0    6-2   180.0   \n",
              "\n",
              "                         College     Salary  \n",
              "Name                                         \n",
              "John Holland   Boston University        NaN  \n",
              "Avery Bradley              Texas  7730337.0  "
            ]
          },
          "metadata": {},
          "execution_count": 73
        }
      ]
    },
    {
      "cell_type": "code",
      "source": [
        "df2.head(10)\n",
        "df2.loc[\"Jae Crowder\" : \"R.J. Hunter\"]"
      ],
      "metadata": {
        "colab": {
          "base_uri": "https://localhost:8080/",
          "height": 174
        },
        "id": "C_Er-uoVWKV-",
        "outputId": "2af1ff69-eb77-433e-d8e0-cc5fba93d8d4"
      },
      "execution_count": null,
      "outputs": [
        {
          "output_type": "execute_result",
          "data": {
            "text/html": [
              "<div>\n",
              "<style scoped>\n",
              "    .dataframe tbody tr th:only-of-type {\n",
              "        vertical-align: middle;\n",
              "    }\n",
              "\n",
              "    .dataframe tbody tr th {\n",
              "        vertical-align: top;\n",
              "    }\n",
              "\n",
              "    .dataframe thead th {\n",
              "        text-align: right;\n",
              "    }\n",
              "</style>\n",
              "<table border=\"1\" class=\"dataframe\">\n",
              "  <thead>\n",
              "    <tr style=\"text-align: right;\">\n",
              "      <th></th>\n",
              "      <th>Team</th>\n",
              "      <th>Number</th>\n",
              "      <th>Position</th>\n",
              "      <th>Age</th>\n",
              "      <th>Height</th>\n",
              "      <th>Weight</th>\n",
              "      <th>College</th>\n",
              "      <th>Salary</th>\n",
              "    </tr>\n",
              "    <tr>\n",
              "      <th>Name</th>\n",
              "      <th></th>\n",
              "      <th></th>\n",
              "      <th></th>\n",
              "      <th></th>\n",
              "      <th></th>\n",
              "      <th></th>\n",
              "      <th></th>\n",
              "      <th></th>\n",
              "    </tr>\n",
              "  </thead>\n",
              "  <tbody>\n",
              "    <tr>\n",
              "      <th>Jae Crowder</th>\n",
              "      <td>Boston Celtics</td>\n",
              "      <td>99.0</td>\n",
              "      <td>SF</td>\n",
              "      <td>25.0</td>\n",
              "      <td>6-6</td>\n",
              "      <td>235.0</td>\n",
              "      <td>Marquette</td>\n",
              "      <td>6796117.0</td>\n",
              "    </tr>\n",
              "    <tr>\n",
              "      <th>John Holland</th>\n",
              "      <td>Boston Celtics</td>\n",
              "      <td>30.0</td>\n",
              "      <td>SG</td>\n",
              "      <td>27.0</td>\n",
              "      <td>6-5</td>\n",
              "      <td>205.0</td>\n",
              "      <td>Boston University</td>\n",
              "      <td>NaN</td>\n",
              "    </tr>\n",
              "    <tr>\n",
              "      <th>R.J. Hunter</th>\n",
              "      <td>Boston Celtics</td>\n",
              "      <td>28.0</td>\n",
              "      <td>SG</td>\n",
              "      <td>22.0</td>\n",
              "      <td>6-5</td>\n",
              "      <td>185.0</td>\n",
              "      <td>Georgia State</td>\n",
              "      <td>1148640.0</td>\n",
              "    </tr>\n",
              "  </tbody>\n",
              "</table>\n",
              "</div>"
            ],
            "text/plain": [
              "                        Team  Number Position   Age Height  Weight  \\\n",
              "Name                                                                 \n",
              "Jae Crowder   Boston Celtics    99.0       SF  25.0    6-6   235.0   \n",
              "John Holland  Boston Celtics    30.0       SG  27.0    6-5   205.0   \n",
              "R.J. Hunter   Boston Celtics    28.0       SG  22.0    6-5   185.0   \n",
              "\n",
              "                        College     Salary  \n",
              "Name                                        \n",
              "Jae Crowder           Marquette  6796117.0  \n",
              "John Holland  Boston University        NaN  \n",
              "R.J. Hunter       Georgia State  1148640.0  "
            ]
          },
          "metadata": {},
          "execution_count": 78
        }
      ]
    },
    {
      "cell_type": "code",
      "source": [
        "df2.head()"
      ],
      "metadata": {
        "colab": {
          "base_uri": "https://localhost:8080/",
          "height": 238
        },
        "id": "G8Btgr-uW9Kn",
        "outputId": "79c0518f-5f63-4aa9-d6c4-d54e7c846c42"
      },
      "execution_count": null,
      "outputs": [
        {
          "output_type": "execute_result",
          "data": {
            "text/html": [
              "<div>\n",
              "<style scoped>\n",
              "    .dataframe tbody tr th:only-of-type {\n",
              "        vertical-align: middle;\n",
              "    }\n",
              "\n",
              "    .dataframe tbody tr th {\n",
              "        vertical-align: top;\n",
              "    }\n",
              "\n",
              "    .dataframe thead th {\n",
              "        text-align: right;\n",
              "    }\n",
              "</style>\n",
              "<table border=\"1\" class=\"dataframe\">\n",
              "  <thead>\n",
              "    <tr style=\"text-align: right;\">\n",
              "      <th></th>\n",
              "      <th>Team</th>\n",
              "      <th>Number</th>\n",
              "      <th>Position</th>\n",
              "      <th>Age</th>\n",
              "      <th>Height</th>\n",
              "      <th>Weight</th>\n",
              "      <th>College</th>\n",
              "      <th>Salary</th>\n",
              "    </tr>\n",
              "    <tr>\n",
              "      <th>Name</th>\n",
              "      <th></th>\n",
              "      <th></th>\n",
              "      <th></th>\n",
              "      <th></th>\n",
              "      <th></th>\n",
              "      <th></th>\n",
              "      <th></th>\n",
              "      <th></th>\n",
              "    </tr>\n",
              "  </thead>\n",
              "  <tbody>\n",
              "    <tr>\n",
              "      <th>Avery Bradley</th>\n",
              "      <td>Boston Celtics</td>\n",
              "      <td>0.0</td>\n",
              "      <td>PG</td>\n",
              "      <td>25.0</td>\n",
              "      <td>6-2</td>\n",
              "      <td>180.0</td>\n",
              "      <td>Texas</td>\n",
              "      <td>7730337.0</td>\n",
              "    </tr>\n",
              "    <tr>\n",
              "      <th>Jae Crowder</th>\n",
              "      <td>Boston Celtics</td>\n",
              "      <td>99.0</td>\n",
              "      <td>SF</td>\n",
              "      <td>25.0</td>\n",
              "      <td>6-6</td>\n",
              "      <td>235.0</td>\n",
              "      <td>Marquette</td>\n",
              "      <td>6796117.0</td>\n",
              "    </tr>\n",
              "    <tr>\n",
              "      <th>John Holland</th>\n",
              "      <td>Boston Celtics</td>\n",
              "      <td>30.0</td>\n",
              "      <td>SG</td>\n",
              "      <td>27.0</td>\n",
              "      <td>6-5</td>\n",
              "      <td>205.0</td>\n",
              "      <td>Boston University</td>\n",
              "      <td>NaN</td>\n",
              "    </tr>\n",
              "    <tr>\n",
              "      <th>R.J. Hunter</th>\n",
              "      <td>Boston Celtics</td>\n",
              "      <td>28.0</td>\n",
              "      <td>SG</td>\n",
              "      <td>22.0</td>\n",
              "      <td>6-5</td>\n",
              "      <td>185.0</td>\n",
              "      <td>Georgia State</td>\n",
              "      <td>1148640.0</td>\n",
              "    </tr>\n",
              "    <tr>\n",
              "      <th>Jonas Jerebko</th>\n",
              "      <td>Boston Celtics</td>\n",
              "      <td>8.0</td>\n",
              "      <td>PF</td>\n",
              "      <td>29.0</td>\n",
              "      <td>6-10</td>\n",
              "      <td>231.0</td>\n",
              "      <td>NaN</td>\n",
              "      <td>5000000.0</td>\n",
              "    </tr>\n",
              "  </tbody>\n",
              "</table>\n",
              "</div>"
            ],
            "text/plain": [
              "                         Team  Number Position   Age Height  Weight  \\\n",
              "Name                                                                  \n",
              "Avery Bradley  Boston Celtics     0.0       PG  25.0    6-2   180.0   \n",
              "Jae Crowder    Boston Celtics    99.0       SF  25.0    6-6   235.0   \n",
              "John Holland   Boston Celtics    30.0       SG  27.0    6-5   205.0   \n",
              "R.J. Hunter    Boston Celtics    28.0       SG  22.0    6-5   185.0   \n",
              "Jonas Jerebko  Boston Celtics     8.0       PF  29.0   6-10   231.0   \n",
              "\n",
              "                         College     Salary  \n",
              "Name                                         \n",
              "Avery Bradley              Texas  7730337.0  \n",
              "Jae Crowder            Marquette  6796117.0  \n",
              "John Holland   Boston University        NaN  \n",
              "R.J. Hunter        Georgia State  1148640.0  \n",
              "Jonas Jerebko                NaN  5000000.0  "
            ]
          },
          "metadata": {},
          "execution_count": 85
        }
      ]
    },
    {
      "cell_type": "code",
      "source": [
        "df2.iloc[2]"
      ],
      "metadata": {
        "colab": {
          "base_uri": "https://localhost:8080/"
        },
        "id": "OaEZsXjUW5D2",
        "outputId": "a96a8501-2d1f-4d72-fd5e-ce3074129c88"
      },
      "execution_count": null,
      "outputs": [
        {
          "output_type": "execute_result",
          "data": {
            "text/plain": [
              "Team           Boston Celtics\n",
              "Number                     30\n",
              "Position                   SG\n",
              "Age                        27\n",
              "Height                    6-5\n",
              "Weight                    205\n",
              "College     Boston University\n",
              "Salary                    NaN\n",
              "Name: John Holland, dtype: object"
            ]
          },
          "metadata": {},
          "execution_count": 83
        }
      ]
    },
    {
      "cell_type": "code",
      "source": [
        "df"
      ],
      "metadata": {
        "colab": {
          "base_uri": "https://localhost:8080/",
          "height": 206
        },
        "id": "3L-XzghRWiPz",
        "outputId": "fa36f32a-704d-40c6-bff2-ea1c8e104cb0"
      },
      "execution_count": null,
      "outputs": [
        {
          "output_type": "execute_result",
          "data": {
            "text/html": [
              "<div>\n",
              "<style scoped>\n",
              "    .dataframe tbody tr th:only-of-type {\n",
              "        vertical-align: middle;\n",
              "    }\n",
              "\n",
              "    .dataframe tbody tr th {\n",
              "        vertical-align: top;\n",
              "    }\n",
              "\n",
              "    .dataframe thead th {\n",
              "        text-align: right;\n",
              "    }\n",
              "</style>\n",
              "<table border=\"1\" class=\"dataframe\">\n",
              "  <thead>\n",
              "    <tr style=\"text-align: right;\">\n",
              "      <th></th>\n",
              "      <th>Name</th>\n",
              "      <th>Age</th>\n",
              "      <th>Address</th>\n",
              "      <th>Qualification</th>\n",
              "    </tr>\n",
              "  </thead>\n",
              "  <tbody>\n",
              "    <tr>\n",
              "      <th>0</th>\n",
              "      <td>Saurav</td>\n",
              "      <td>25</td>\n",
              "      <td>Kolkata</td>\n",
              "      <td>BE</td>\n",
              "    </tr>\n",
              "    <tr>\n",
              "      <th>1</th>\n",
              "      <td>Gaurav</td>\n",
              "      <td>26</td>\n",
              "      <td>Goa</td>\n",
              "      <td>ME</td>\n",
              "    </tr>\n",
              "    <tr>\n",
              "      <th>2</th>\n",
              "      <td>Sanchayan</td>\n",
              "      <td>31</td>\n",
              "      <td>Pune</td>\n",
              "      <td>BStat</td>\n",
              "    </tr>\n",
              "    <tr>\n",
              "      <th>3</th>\n",
              "      <td>Sudipta</td>\n",
              "      <td>28</td>\n",
              "      <td>Pune</td>\n",
              "      <td>BE</td>\n",
              "    </tr>\n",
              "    <tr>\n",
              "      <th>4</th>\n",
              "      <td>Ankan</td>\n",
              "      <td>39</td>\n",
              "      <td>Kolkata</td>\n",
              "      <td>MSc</td>\n",
              "    </tr>\n",
              "  </tbody>\n",
              "</table>\n",
              "</div>"
            ],
            "text/plain": [
              "        Name  Age  Address Qualification\n",
              "0     Saurav   25  Kolkata            BE\n",
              "1     Gaurav   26      Goa            ME\n",
              "2  Sanchayan   31     Pune         BStat\n",
              "3    Sudipta   28     Pune            BE\n",
              "4      Ankan   39  Kolkata           MSc"
            ]
          },
          "metadata": {},
          "execution_count": 79
        }
      ]
    },
    {
      "cell_type": "code",
      "source": [
        "data1 = df.iloc[2]\n",
        "data2 = df.loc[2]\n",
        "data1 == data2"
      ],
      "metadata": {
        "colab": {
          "base_uri": "https://localhost:8080/"
        },
        "id": "GvGwXYlcWlLQ",
        "outputId": "e68c1e4e-2e51-4def-83a1-f70d5d5ccc7e"
      },
      "execution_count": null,
      "outputs": [
        {
          "output_type": "execute_result",
          "data": {
            "text/plain": [
              "Name             True\n",
              "Age              True\n",
              "Address          True\n",
              "Qualification    True\n",
              "Name: 2, dtype: bool"
            ]
          },
          "metadata": {},
          "execution_count": 81
        }
      ]
    },
    {
      "cell_type": "code",
      "source": [
        "pd.set_option('display.width',1000)\n",
        "newdf = pd.read_csv('nba.csv')\n",
        "print(newdf.head())\n",
        "print()\n",
        "newdf.dropna(inplace=True)\n",
        "print(newdf.head())\n"
      ],
      "metadata": {
        "colab": {
          "base_uri": "https://localhost:8080/"
        },
        "id": "rYSBKWjtXWAv",
        "outputId": "3417101c-d3eb-4fc6-ee25-fd65b3a9dfc0"
      },
      "execution_count": null,
      "outputs": [
        {
          "output_type": "stream",
          "name": "stdout",
          "text": [
            "            Name            Team  Number Position   Age Height  Weight            College     Salary\n",
            "0  Avery Bradley  Boston Celtics     0.0       PG  25.0    6-2   180.0              Texas  7730337.0\n",
            "1    Jae Crowder  Boston Celtics    99.0       SF  25.0    6-6   235.0          Marquette  6796117.0\n",
            "2   John Holland  Boston Celtics    30.0       SG  27.0    6-5   205.0  Boston University        NaN\n",
            "3    R.J. Hunter  Boston Celtics    28.0       SG  22.0    6-5   185.0      Georgia State  1148640.0\n",
            "4  Jonas Jerebko  Boston Celtics     8.0       PF  29.0   6-10   231.0                NaN  5000000.0\n",
            "\n",
            "            Name            Team  Number Position   Age Height  Weight        College     Salary\n",
            "0  Avery Bradley  Boston Celtics     0.0       PG  25.0    6-2   180.0          Texas  7730337.0\n",
            "1    Jae Crowder  Boston Celtics    99.0       SF  25.0    6-6   235.0      Marquette  6796117.0\n",
            "3    R.J. Hunter  Boston Celtics    28.0       SG  22.0    6-5   185.0  Georgia State  1148640.0\n",
            "6  Jordan Mickey  Boston Celtics    55.0       PF  21.0    6-8   235.0            LSU  1170960.0\n",
            "7   Kelly Olynyk  Boston Celtics    41.0        C  25.0    7-0   238.0        Gonzaga  2165160.0\n"
          ]
        }
      ]
    },
    {
      "cell_type": "code",
      "source": [
        "newdf.loc[3]"
      ],
      "metadata": {
        "colab": {
          "base_uri": "https://localhost:8080/"
        },
        "id": "laX5YxmLX6FZ",
        "outputId": "badfea9b-15f1-4376-8934-79062f9a4b2e"
      },
      "execution_count": null,
      "outputs": [
        {
          "output_type": "execute_result",
          "data": {
            "text/plain": [
              "Name           R.J. Hunter\n",
              "Team        Boston Celtics\n",
              "Number                  28\n",
              "Position                SG\n",
              "Age                     22\n",
              "Height                 6-5\n",
              "Weight                 185\n",
              "College      Georgia State\n",
              "Salary         1.14864e+06\n",
              "Name: 3, dtype: object"
            ]
          },
          "metadata": {},
          "execution_count": 92
        }
      ]
    },
    {
      "cell_type": "code",
      "source": [
        "newdf.iloc[1:3]"
      ],
      "metadata": {
        "colab": {
          "base_uri": "https://localhost:8080/",
          "height": 112
        },
        "id": "dGu75-jAYQJ2",
        "outputId": "01690123-a8dd-4dff-d3c6-6768e20b8a48"
      },
      "execution_count": null,
      "outputs": [
        {
          "output_type": "execute_result",
          "data": {
            "text/html": [
              "<div>\n",
              "<style scoped>\n",
              "    .dataframe tbody tr th:only-of-type {\n",
              "        vertical-align: middle;\n",
              "    }\n",
              "\n",
              "    .dataframe tbody tr th {\n",
              "        vertical-align: top;\n",
              "    }\n",
              "\n",
              "    .dataframe thead th {\n",
              "        text-align: right;\n",
              "    }\n",
              "</style>\n",
              "<table border=\"1\" class=\"dataframe\">\n",
              "  <thead>\n",
              "    <tr style=\"text-align: right;\">\n",
              "      <th></th>\n",
              "      <th>Name</th>\n",
              "      <th>Team</th>\n",
              "      <th>Number</th>\n",
              "      <th>Position</th>\n",
              "      <th>Age</th>\n",
              "      <th>Height</th>\n",
              "      <th>Weight</th>\n",
              "      <th>College</th>\n",
              "      <th>Salary</th>\n",
              "    </tr>\n",
              "  </thead>\n",
              "  <tbody>\n",
              "    <tr>\n",
              "      <th>1</th>\n",
              "      <td>Jae Crowder</td>\n",
              "      <td>Boston Celtics</td>\n",
              "      <td>99.0</td>\n",
              "      <td>SF</td>\n",
              "      <td>25.0</td>\n",
              "      <td>6-6</td>\n",
              "      <td>235.0</td>\n",
              "      <td>Marquette</td>\n",
              "      <td>6796117.0</td>\n",
              "    </tr>\n",
              "    <tr>\n",
              "      <th>3</th>\n",
              "      <td>R.J. Hunter</td>\n",
              "      <td>Boston Celtics</td>\n",
              "      <td>28.0</td>\n",
              "      <td>SG</td>\n",
              "      <td>22.0</td>\n",
              "      <td>6-5</td>\n",
              "      <td>185.0</td>\n",
              "      <td>Georgia State</td>\n",
              "      <td>1148640.0</td>\n",
              "    </tr>\n",
              "  </tbody>\n",
              "</table>\n",
              "</div>"
            ],
            "text/plain": [
              "          Name            Team  Number Position   Age Height  Weight        College     Salary\n",
              "1  Jae Crowder  Boston Celtics    99.0       SF  25.0    6-6   235.0      Marquette  6796117.0\n",
              "3  R.J. Hunter  Boston Celtics    28.0       SG  22.0    6-5   185.0  Georgia State  1148640.0"
            ]
          },
          "metadata": {},
          "execution_count": 94
        }
      ]
    },
    {
      "cell_type": "code",
      "source": [
        "newdf.iloc[[1,2,4]]"
      ],
      "metadata": {
        "colab": {
          "base_uri": "https://localhost:8080/",
          "height": 143
        },
        "id": "uta6--ihY7WE",
        "outputId": "790ab882-7422-4d4a-c9a1-eb3239b9044d"
      },
      "execution_count": null,
      "outputs": [
        {
          "output_type": "execute_result",
          "data": {
            "text/html": [
              "<div>\n",
              "<style scoped>\n",
              "    .dataframe tbody tr th:only-of-type {\n",
              "        vertical-align: middle;\n",
              "    }\n",
              "\n",
              "    .dataframe tbody tr th {\n",
              "        vertical-align: top;\n",
              "    }\n",
              "\n",
              "    .dataframe thead th {\n",
              "        text-align: right;\n",
              "    }\n",
              "</style>\n",
              "<table border=\"1\" class=\"dataframe\">\n",
              "  <thead>\n",
              "    <tr style=\"text-align: right;\">\n",
              "      <th></th>\n",
              "      <th>Name</th>\n",
              "      <th>Team</th>\n",
              "      <th>Number</th>\n",
              "      <th>Position</th>\n",
              "      <th>Age</th>\n",
              "      <th>Height</th>\n",
              "      <th>Weight</th>\n",
              "      <th>College</th>\n",
              "      <th>Salary</th>\n",
              "    </tr>\n",
              "  </thead>\n",
              "  <tbody>\n",
              "    <tr>\n",
              "      <th>1</th>\n",
              "      <td>Jae Crowder</td>\n",
              "      <td>Boston Celtics</td>\n",
              "      <td>99.0</td>\n",
              "      <td>SF</td>\n",
              "      <td>25.0</td>\n",
              "      <td>6-6</td>\n",
              "      <td>235.0</td>\n",
              "      <td>Marquette</td>\n",
              "      <td>6796117.0</td>\n",
              "    </tr>\n",
              "    <tr>\n",
              "      <th>3</th>\n",
              "      <td>R.J. Hunter</td>\n",
              "      <td>Boston Celtics</td>\n",
              "      <td>28.0</td>\n",
              "      <td>SG</td>\n",
              "      <td>22.0</td>\n",
              "      <td>6-5</td>\n",
              "      <td>185.0</td>\n",
              "      <td>Georgia State</td>\n",
              "      <td>1148640.0</td>\n",
              "    </tr>\n",
              "    <tr>\n",
              "      <th>7</th>\n",
              "      <td>Kelly Olynyk</td>\n",
              "      <td>Boston Celtics</td>\n",
              "      <td>41.0</td>\n",
              "      <td>C</td>\n",
              "      <td>25.0</td>\n",
              "      <td>7-0</td>\n",
              "      <td>238.0</td>\n",
              "      <td>Gonzaga</td>\n",
              "      <td>2165160.0</td>\n",
              "    </tr>\n",
              "  </tbody>\n",
              "</table>\n",
              "</div>"
            ],
            "text/plain": [
              "           Name            Team  Number Position   Age Height  Weight        College     Salary\n",
              "1   Jae Crowder  Boston Celtics    99.0       SF  25.0    6-6   235.0      Marquette  6796117.0\n",
              "3   R.J. Hunter  Boston Celtics    28.0       SG  22.0    6-5   185.0  Georgia State  1148640.0\n",
              "7  Kelly Olynyk  Boston Celtics    41.0        C  25.0    7-0   238.0        Gonzaga  2165160.0"
            ]
          },
          "metadata": {},
          "execution_count": 95
        }
      ]
    },
    {
      "cell_type": "code",
      "source": [
        "newdf\n",
        "newdf.loc[[3,452],[\"Name\", \"Team\", \"Age\", \"College\"]]"
      ],
      "metadata": {
        "colab": {
          "base_uri": "https://localhost:8080/",
          "height": 112
        },
        "id": "9sWpwo74ZKxX",
        "outputId": "b03cfc7f-1963-4d0c-c783-7173746fe6bf"
      },
      "execution_count": null,
      "outputs": [
        {
          "output_type": "execute_result",
          "data": {
            "text/html": [
              "<div>\n",
              "<style scoped>\n",
              "    .dataframe tbody tr th:only-of-type {\n",
              "        vertical-align: middle;\n",
              "    }\n",
              "\n",
              "    .dataframe tbody tr th {\n",
              "        vertical-align: top;\n",
              "    }\n",
              "\n",
              "    .dataframe thead th {\n",
              "        text-align: right;\n",
              "    }\n",
              "</style>\n",
              "<table border=\"1\" class=\"dataframe\">\n",
              "  <thead>\n",
              "    <tr style=\"text-align: right;\">\n",
              "      <th></th>\n",
              "      <th>Name</th>\n",
              "      <th>Team</th>\n",
              "      <th>Age</th>\n",
              "      <th>College</th>\n",
              "    </tr>\n",
              "  </thead>\n",
              "  <tbody>\n",
              "    <tr>\n",
              "      <th>3</th>\n",
              "      <td>R.J. Hunter</td>\n",
              "      <td>Boston Celtics</td>\n",
              "      <td>22.0</td>\n",
              "      <td>Georgia State</td>\n",
              "    </tr>\n",
              "    <tr>\n",
              "      <th>452</th>\n",
              "      <td>Trey Lyles</td>\n",
              "      <td>Utah Jazz</td>\n",
              "      <td>20.0</td>\n",
              "      <td>Kentucky</td>\n",
              "    </tr>\n",
              "  </tbody>\n",
              "</table>\n",
              "</div>"
            ],
            "text/plain": [
              "            Name            Team   Age        College\n",
              "3    R.J. Hunter  Boston Celtics  22.0  Georgia State\n",
              "452   Trey Lyles       Utah Jazz  20.0       Kentucky"
            ]
          },
          "metadata": {},
          "execution_count": 99
        }
      ]
    },
    {
      "cell_type": "code",
      "source": [
        "df2\n",
        "df2.loc[[\"R.J. Hunter\", \"Raul Neto\"],[ \"Team\", \"Age\", \"College\"]]"
      ],
      "metadata": {
        "colab": {
          "base_uri": "https://localhost:8080/",
          "height": 143
        },
        "id": "1A4NAKMxZxrc",
        "outputId": "ee087c3b-1d94-452a-f803-712471f9dd11"
      },
      "execution_count": null,
      "outputs": [
        {
          "output_type": "execute_result",
          "data": {
            "text/html": [
              "<div>\n",
              "<style scoped>\n",
              "    .dataframe tbody tr th:only-of-type {\n",
              "        vertical-align: middle;\n",
              "    }\n",
              "\n",
              "    .dataframe tbody tr th {\n",
              "        vertical-align: top;\n",
              "    }\n",
              "\n",
              "    .dataframe thead th {\n",
              "        text-align: right;\n",
              "    }\n",
              "</style>\n",
              "<table border=\"1\" class=\"dataframe\">\n",
              "  <thead>\n",
              "    <tr style=\"text-align: right;\">\n",
              "      <th></th>\n",
              "      <th>Team</th>\n",
              "      <th>Age</th>\n",
              "      <th>College</th>\n",
              "    </tr>\n",
              "    <tr>\n",
              "      <th>Name</th>\n",
              "      <th></th>\n",
              "      <th></th>\n",
              "      <th></th>\n",
              "    </tr>\n",
              "  </thead>\n",
              "  <tbody>\n",
              "    <tr>\n",
              "      <th>R.J. Hunter</th>\n",
              "      <td>Boston Celtics</td>\n",
              "      <td>22.0</td>\n",
              "      <td>Georgia State</td>\n",
              "    </tr>\n",
              "    <tr>\n",
              "      <th>Raul Neto</th>\n",
              "      <td>Utah Jazz</td>\n",
              "      <td>24.0</td>\n",
              "      <td>NaN</td>\n",
              "    </tr>\n",
              "  </tbody>\n",
              "</table>\n",
              "</div>"
            ],
            "text/plain": [
              "                       Team   Age        College\n",
              "Name                                            \n",
              "R.J. Hunter  Boston Celtics  22.0  Georgia State\n",
              "Raul Neto         Utah Jazz  24.0            NaN"
            ]
          },
          "metadata": {},
          "execution_count": 104
        }
      ]
    },
    {
      "cell_type": "code",
      "source": [
        "df2.loc[:,[ \"Team\", \"Age\", \"College\"]]"
      ],
      "metadata": {
        "colab": {
          "base_uri": "https://localhost:8080/",
          "height": 455
        },
        "id": "6KU7t_bUaZpW",
        "outputId": "dc3a990b-f62c-448c-c742-b5e80a41d69f"
      },
      "execution_count": null,
      "outputs": [
        {
          "output_type": "execute_result",
          "data": {
            "text/html": [
              "<div>\n",
              "<style scoped>\n",
              "    .dataframe tbody tr th:only-of-type {\n",
              "        vertical-align: middle;\n",
              "    }\n",
              "\n",
              "    .dataframe tbody tr th {\n",
              "        vertical-align: top;\n",
              "    }\n",
              "\n",
              "    .dataframe thead th {\n",
              "        text-align: right;\n",
              "    }\n",
              "</style>\n",
              "<table border=\"1\" class=\"dataframe\">\n",
              "  <thead>\n",
              "    <tr style=\"text-align: right;\">\n",
              "      <th></th>\n",
              "      <th>Team</th>\n",
              "      <th>Age</th>\n",
              "      <th>College</th>\n",
              "    </tr>\n",
              "    <tr>\n",
              "      <th>Name</th>\n",
              "      <th></th>\n",
              "      <th></th>\n",
              "      <th></th>\n",
              "    </tr>\n",
              "  </thead>\n",
              "  <tbody>\n",
              "    <tr>\n",
              "      <th>Avery Bradley</th>\n",
              "      <td>Boston Celtics</td>\n",
              "      <td>25.0</td>\n",
              "      <td>Texas</td>\n",
              "    </tr>\n",
              "    <tr>\n",
              "      <th>Jae Crowder</th>\n",
              "      <td>Boston Celtics</td>\n",
              "      <td>25.0</td>\n",
              "      <td>Marquette</td>\n",
              "    </tr>\n",
              "    <tr>\n",
              "      <th>John Holland</th>\n",
              "      <td>Boston Celtics</td>\n",
              "      <td>27.0</td>\n",
              "      <td>Boston University</td>\n",
              "    </tr>\n",
              "    <tr>\n",
              "      <th>R.J. Hunter</th>\n",
              "      <td>Boston Celtics</td>\n",
              "      <td>22.0</td>\n",
              "      <td>Georgia State</td>\n",
              "    </tr>\n",
              "    <tr>\n",
              "      <th>Jonas Jerebko</th>\n",
              "      <td>Boston Celtics</td>\n",
              "      <td>29.0</td>\n",
              "      <td>NaN</td>\n",
              "    </tr>\n",
              "    <tr>\n",
              "      <th>...</th>\n",
              "      <td>...</td>\n",
              "      <td>...</td>\n",
              "      <td>...</td>\n",
              "    </tr>\n",
              "    <tr>\n",
              "      <th>Shelvin Mack</th>\n",
              "      <td>Utah Jazz</td>\n",
              "      <td>26.0</td>\n",
              "      <td>Butler</td>\n",
              "    </tr>\n",
              "    <tr>\n",
              "      <th>Raul Neto</th>\n",
              "      <td>Utah Jazz</td>\n",
              "      <td>24.0</td>\n",
              "      <td>NaN</td>\n",
              "    </tr>\n",
              "    <tr>\n",
              "      <th>Tibor Pleiss</th>\n",
              "      <td>Utah Jazz</td>\n",
              "      <td>26.0</td>\n",
              "      <td>NaN</td>\n",
              "    </tr>\n",
              "    <tr>\n",
              "      <th>Jeff Withey</th>\n",
              "      <td>Utah Jazz</td>\n",
              "      <td>26.0</td>\n",
              "      <td>Kansas</td>\n",
              "    </tr>\n",
              "    <tr>\n",
              "      <th>NaN</th>\n",
              "      <td>NaN</td>\n",
              "      <td>NaN</td>\n",
              "      <td>NaN</td>\n",
              "    </tr>\n",
              "  </tbody>\n",
              "</table>\n",
              "<p>458 rows × 3 columns</p>\n",
              "</div>"
            ],
            "text/plain": [
              "                         Team   Age            College\n",
              "Name                                                  \n",
              "Avery Bradley  Boston Celtics  25.0              Texas\n",
              "Jae Crowder    Boston Celtics  25.0          Marquette\n",
              "John Holland   Boston Celtics  27.0  Boston University\n",
              "R.J. Hunter    Boston Celtics  22.0      Georgia State\n",
              "Jonas Jerebko  Boston Celtics  29.0                NaN\n",
              "...                       ...   ...                ...\n",
              "Shelvin Mack        Utah Jazz  26.0             Butler\n",
              "Raul Neto           Utah Jazz  24.0                NaN\n",
              "Tibor Pleiss        Utah Jazz  26.0                NaN\n",
              "Jeff Withey         Utah Jazz  26.0             Kansas\n",
              "NaN                       NaN   NaN                NaN\n",
              "\n",
              "[458 rows x 3 columns]"
            ]
          },
          "metadata": {},
          "execution_count": 105
        }
      ]
    },
    {
      "cell_type": "code",
      "source": [
        "newdf.iloc[[1,3],[0,1,2]]"
      ],
      "metadata": {
        "colab": {
          "base_uri": "https://localhost:8080/",
          "height": 112
        },
        "id": "K-3prqXVauNB",
        "outputId": "bed37b3c-68e9-42d3-a93d-d5fc0e30ba79"
      },
      "execution_count": null,
      "outputs": [
        {
          "output_type": "execute_result",
          "data": {
            "text/html": [
              "<div>\n",
              "<style scoped>\n",
              "    .dataframe tbody tr th:only-of-type {\n",
              "        vertical-align: middle;\n",
              "    }\n",
              "\n",
              "    .dataframe tbody tr th {\n",
              "        vertical-align: top;\n",
              "    }\n",
              "\n",
              "    .dataframe thead th {\n",
              "        text-align: right;\n",
              "    }\n",
              "</style>\n",
              "<table border=\"1\" class=\"dataframe\">\n",
              "  <thead>\n",
              "    <tr style=\"text-align: right;\">\n",
              "      <th></th>\n",
              "      <th>Name</th>\n",
              "      <th>Team</th>\n",
              "      <th>Number</th>\n",
              "    </tr>\n",
              "  </thead>\n",
              "  <tbody>\n",
              "    <tr>\n",
              "      <th>1</th>\n",
              "      <td>Jae Crowder</td>\n",
              "      <td>Boston Celtics</td>\n",
              "      <td>99.0</td>\n",
              "    </tr>\n",
              "    <tr>\n",
              "      <th>6</th>\n",
              "      <td>Jordan Mickey</td>\n",
              "      <td>Boston Celtics</td>\n",
              "      <td>55.0</td>\n",
              "    </tr>\n",
              "  </tbody>\n",
              "</table>\n",
              "</div>"
            ],
            "text/plain": [
              "            Name            Team  Number\n",
              "1    Jae Crowder  Boston Celtics    99.0\n",
              "6  Jordan Mickey  Boston Celtics    55.0"
            ]
          },
          "metadata": {},
          "execution_count": 115
        }
      ]
    },
    {
      "cell_type": "code",
      "source": [
        "newdf.iloc[:,0:2]"
      ],
      "metadata": {
        "colab": {
          "base_uri": "https://localhost:8080/",
          "height": 423
        },
        "id": "vI6nm31BbhEs",
        "outputId": "ecd7dd11-25c5-4017-c307-965134ef87c3"
      },
      "execution_count": null,
      "outputs": [
        {
          "output_type": "execute_result",
          "data": {
            "text/html": [
              "<div>\n",
              "<style scoped>\n",
              "    .dataframe tbody tr th:only-of-type {\n",
              "        vertical-align: middle;\n",
              "    }\n",
              "\n",
              "    .dataframe tbody tr th {\n",
              "        vertical-align: top;\n",
              "    }\n",
              "\n",
              "    .dataframe thead th {\n",
              "        text-align: right;\n",
              "    }\n",
              "</style>\n",
              "<table border=\"1\" class=\"dataframe\">\n",
              "  <thead>\n",
              "    <tr style=\"text-align: right;\">\n",
              "      <th></th>\n",
              "      <th>Name</th>\n",
              "      <th>Team</th>\n",
              "    </tr>\n",
              "  </thead>\n",
              "  <tbody>\n",
              "    <tr>\n",
              "      <th>0</th>\n",
              "      <td>Avery Bradley</td>\n",
              "      <td>Boston Celtics</td>\n",
              "    </tr>\n",
              "    <tr>\n",
              "      <th>1</th>\n",
              "      <td>Jae Crowder</td>\n",
              "      <td>Boston Celtics</td>\n",
              "    </tr>\n",
              "    <tr>\n",
              "      <th>3</th>\n",
              "      <td>R.J. Hunter</td>\n",
              "      <td>Boston Celtics</td>\n",
              "    </tr>\n",
              "    <tr>\n",
              "      <th>6</th>\n",
              "      <td>Jordan Mickey</td>\n",
              "      <td>Boston Celtics</td>\n",
              "    </tr>\n",
              "    <tr>\n",
              "      <th>7</th>\n",
              "      <td>Kelly Olynyk</td>\n",
              "      <td>Boston Celtics</td>\n",
              "    </tr>\n",
              "    <tr>\n",
              "      <th>...</th>\n",
              "      <td>...</td>\n",
              "      <td>...</td>\n",
              "    </tr>\n",
              "    <tr>\n",
              "      <th>449</th>\n",
              "      <td>Rodney Hood</td>\n",
              "      <td>Utah Jazz</td>\n",
              "    </tr>\n",
              "    <tr>\n",
              "      <th>451</th>\n",
              "      <td>Chris Johnson</td>\n",
              "      <td>Utah Jazz</td>\n",
              "    </tr>\n",
              "    <tr>\n",
              "      <th>452</th>\n",
              "      <td>Trey Lyles</td>\n",
              "      <td>Utah Jazz</td>\n",
              "    </tr>\n",
              "    <tr>\n",
              "      <th>453</th>\n",
              "      <td>Shelvin Mack</td>\n",
              "      <td>Utah Jazz</td>\n",
              "    </tr>\n",
              "    <tr>\n",
              "      <th>456</th>\n",
              "      <td>Jeff Withey</td>\n",
              "      <td>Utah Jazz</td>\n",
              "    </tr>\n",
              "  </tbody>\n",
              "</table>\n",
              "<p>364 rows × 2 columns</p>\n",
              "</div>"
            ],
            "text/plain": [
              "              Name            Team\n",
              "0    Avery Bradley  Boston Celtics\n",
              "1      Jae Crowder  Boston Celtics\n",
              "3      R.J. Hunter  Boston Celtics\n",
              "6    Jordan Mickey  Boston Celtics\n",
              "7     Kelly Olynyk  Boston Celtics\n",
              "..             ...             ...\n",
              "449    Rodney Hood       Utah Jazz\n",
              "451  Chris Johnson       Utah Jazz\n",
              "452     Trey Lyles       Utah Jazz\n",
              "453   Shelvin Mack       Utah Jazz\n",
              "456    Jeff Withey       Utah Jazz\n",
              "\n",
              "[364 rows x 2 columns]"
            ]
          },
          "metadata": {},
          "execution_count": 117
        }
      ]
    },
    {
      "cell_type": "markdown",
      "source": [
        "### Row selection with non-primary key"
      ],
      "metadata": {
        "id": "k7iEGRwcVYRD"
      }
    },
    {
      "cell_type": "code",
      "source": [
        "df3 = pd.read_csv('nba.csv',index_col = 'Team')\n",
        "df3.loc['Utah Jazz']"
      ],
      "metadata": {
        "colab": {
          "base_uri": "https://localhost:8080/",
          "height": 551
        },
        "id": "KOwlAZ4FVbmS",
        "outputId": "fd4878d6-bb56-4fed-e35f-d9a5e5fb4afe"
      },
      "execution_count": null,
      "outputs": [
        {
          "output_type": "execute_result",
          "data": {
            "text/html": [
              "<div>\n",
              "<style scoped>\n",
              "    .dataframe tbody tr th:only-of-type {\n",
              "        vertical-align: middle;\n",
              "    }\n",
              "\n",
              "    .dataframe tbody tr th {\n",
              "        vertical-align: top;\n",
              "    }\n",
              "\n",
              "    .dataframe thead th {\n",
              "        text-align: right;\n",
              "    }\n",
              "</style>\n",
              "<table border=\"1\" class=\"dataframe\">\n",
              "  <thead>\n",
              "    <tr style=\"text-align: right;\">\n",
              "      <th></th>\n",
              "      <th>Name</th>\n",
              "      <th>Number</th>\n",
              "      <th>Position</th>\n",
              "      <th>Age</th>\n",
              "      <th>Height</th>\n",
              "      <th>Weight</th>\n",
              "      <th>College</th>\n",
              "      <th>Salary</th>\n",
              "    </tr>\n",
              "    <tr>\n",
              "      <th>Team</th>\n",
              "      <th></th>\n",
              "      <th></th>\n",
              "      <th></th>\n",
              "      <th></th>\n",
              "      <th></th>\n",
              "      <th></th>\n",
              "      <th></th>\n",
              "      <th></th>\n",
              "    </tr>\n",
              "  </thead>\n",
              "  <tbody>\n",
              "    <tr>\n",
              "      <th>Utah Jazz</th>\n",
              "      <td>Trevor Booker</td>\n",
              "      <td>33.0</td>\n",
              "      <td>PF</td>\n",
              "      <td>28.0</td>\n",
              "      <td>6-8</td>\n",
              "      <td>228.0</td>\n",
              "      <td>Clemson</td>\n",
              "      <td>4775000.0</td>\n",
              "    </tr>\n",
              "    <tr>\n",
              "      <th>Utah Jazz</th>\n",
              "      <td>Trey Burke</td>\n",
              "      <td>3.0</td>\n",
              "      <td>PG</td>\n",
              "      <td>23.0</td>\n",
              "      <td>6-1</td>\n",
              "      <td>191.0</td>\n",
              "      <td>Michigan</td>\n",
              "      <td>2658240.0</td>\n",
              "    </tr>\n",
              "    <tr>\n",
              "      <th>Utah Jazz</th>\n",
              "      <td>Alec Burks</td>\n",
              "      <td>10.0</td>\n",
              "      <td>SG</td>\n",
              "      <td>24.0</td>\n",
              "      <td>6-6</td>\n",
              "      <td>214.0</td>\n",
              "      <td>Colorado</td>\n",
              "      <td>9463484.0</td>\n",
              "    </tr>\n",
              "    <tr>\n",
              "      <th>Utah Jazz</th>\n",
              "      <td>Dante Exum</td>\n",
              "      <td>11.0</td>\n",
              "      <td>PG</td>\n",
              "      <td>20.0</td>\n",
              "      <td>6-6</td>\n",
              "      <td>190.0</td>\n",
              "      <td>NaN</td>\n",
              "      <td>3777720.0</td>\n",
              "    </tr>\n",
              "    <tr>\n",
              "      <th>Utah Jazz</th>\n",
              "      <td>Derrick Favors</td>\n",
              "      <td>15.0</td>\n",
              "      <td>PF</td>\n",
              "      <td>24.0</td>\n",
              "      <td>6-10</td>\n",
              "      <td>265.0</td>\n",
              "      <td>Georgia Tech</td>\n",
              "      <td>12000000.0</td>\n",
              "    </tr>\n",
              "    <tr>\n",
              "      <th>Utah Jazz</th>\n",
              "      <td>Rudy Gobert</td>\n",
              "      <td>27.0</td>\n",
              "      <td>C</td>\n",
              "      <td>23.0</td>\n",
              "      <td>7-1</td>\n",
              "      <td>245.0</td>\n",
              "      <td>NaN</td>\n",
              "      <td>1175880.0</td>\n",
              "    </tr>\n",
              "    <tr>\n",
              "      <th>Utah Jazz</th>\n",
              "      <td>Gordon Hayward</td>\n",
              "      <td>20.0</td>\n",
              "      <td>SF</td>\n",
              "      <td>26.0</td>\n",
              "      <td>6-8</td>\n",
              "      <td>226.0</td>\n",
              "      <td>Butler</td>\n",
              "      <td>15409570.0</td>\n",
              "    </tr>\n",
              "    <tr>\n",
              "      <th>Utah Jazz</th>\n",
              "      <td>Rodney Hood</td>\n",
              "      <td>5.0</td>\n",
              "      <td>SG</td>\n",
              "      <td>23.0</td>\n",
              "      <td>6-8</td>\n",
              "      <td>206.0</td>\n",
              "      <td>Duke</td>\n",
              "      <td>1348440.0</td>\n",
              "    </tr>\n",
              "    <tr>\n",
              "      <th>Utah Jazz</th>\n",
              "      <td>Joe Ingles</td>\n",
              "      <td>2.0</td>\n",
              "      <td>SF</td>\n",
              "      <td>28.0</td>\n",
              "      <td>6-8</td>\n",
              "      <td>226.0</td>\n",
              "      <td>NaN</td>\n",
              "      <td>2050000.0</td>\n",
              "    </tr>\n",
              "    <tr>\n",
              "      <th>Utah Jazz</th>\n",
              "      <td>Chris Johnson</td>\n",
              "      <td>23.0</td>\n",
              "      <td>SF</td>\n",
              "      <td>26.0</td>\n",
              "      <td>6-6</td>\n",
              "      <td>206.0</td>\n",
              "      <td>Dayton</td>\n",
              "      <td>981348.0</td>\n",
              "    </tr>\n",
              "    <tr>\n",
              "      <th>Utah Jazz</th>\n",
              "      <td>Trey Lyles</td>\n",
              "      <td>41.0</td>\n",
              "      <td>PF</td>\n",
              "      <td>20.0</td>\n",
              "      <td>6-10</td>\n",
              "      <td>234.0</td>\n",
              "      <td>Kentucky</td>\n",
              "      <td>2239800.0</td>\n",
              "    </tr>\n",
              "    <tr>\n",
              "      <th>Utah Jazz</th>\n",
              "      <td>Shelvin Mack</td>\n",
              "      <td>8.0</td>\n",
              "      <td>PG</td>\n",
              "      <td>26.0</td>\n",
              "      <td>6-3</td>\n",
              "      <td>203.0</td>\n",
              "      <td>Butler</td>\n",
              "      <td>2433333.0</td>\n",
              "    </tr>\n",
              "    <tr>\n",
              "      <th>Utah Jazz</th>\n",
              "      <td>Raul Neto</td>\n",
              "      <td>25.0</td>\n",
              "      <td>PG</td>\n",
              "      <td>24.0</td>\n",
              "      <td>6-1</td>\n",
              "      <td>179.0</td>\n",
              "      <td>NaN</td>\n",
              "      <td>900000.0</td>\n",
              "    </tr>\n",
              "    <tr>\n",
              "      <th>Utah Jazz</th>\n",
              "      <td>Tibor Pleiss</td>\n",
              "      <td>21.0</td>\n",
              "      <td>C</td>\n",
              "      <td>26.0</td>\n",
              "      <td>7-3</td>\n",
              "      <td>256.0</td>\n",
              "      <td>NaN</td>\n",
              "      <td>2900000.0</td>\n",
              "    </tr>\n",
              "    <tr>\n",
              "      <th>Utah Jazz</th>\n",
              "      <td>Jeff Withey</td>\n",
              "      <td>24.0</td>\n",
              "      <td>C</td>\n",
              "      <td>26.0</td>\n",
              "      <td>7-0</td>\n",
              "      <td>231.0</td>\n",
              "      <td>Kansas</td>\n",
              "      <td>947276.0</td>\n",
              "    </tr>\n",
              "  </tbody>\n",
              "</table>\n",
              "</div>"
            ],
            "text/plain": [
              "                     Name  Number Position   Age Height  Weight       College  \\\n",
              "Team                                                                            \n",
              "Utah Jazz   Trevor Booker    33.0       PF  28.0    6-8   228.0       Clemson   \n",
              "Utah Jazz      Trey Burke     3.0       PG  23.0    6-1   191.0      Michigan   \n",
              "Utah Jazz      Alec Burks    10.0       SG  24.0    6-6   214.0      Colorado   \n",
              "Utah Jazz      Dante Exum    11.0       PG  20.0    6-6   190.0           NaN   \n",
              "Utah Jazz  Derrick Favors    15.0       PF  24.0   6-10   265.0  Georgia Tech   \n",
              "Utah Jazz     Rudy Gobert    27.0        C  23.0    7-1   245.0           NaN   \n",
              "Utah Jazz  Gordon Hayward    20.0       SF  26.0    6-8   226.0        Butler   \n",
              "Utah Jazz     Rodney Hood     5.0       SG  23.0    6-8   206.0          Duke   \n",
              "Utah Jazz      Joe Ingles     2.0       SF  28.0    6-8   226.0           NaN   \n",
              "Utah Jazz   Chris Johnson    23.0       SF  26.0    6-6   206.0        Dayton   \n",
              "Utah Jazz      Trey Lyles    41.0       PF  20.0   6-10   234.0      Kentucky   \n",
              "Utah Jazz    Shelvin Mack     8.0       PG  26.0    6-3   203.0        Butler   \n",
              "Utah Jazz       Raul Neto    25.0       PG  24.0    6-1   179.0           NaN   \n",
              "Utah Jazz    Tibor Pleiss    21.0        C  26.0    7-3   256.0           NaN   \n",
              "Utah Jazz     Jeff Withey    24.0        C  26.0    7-0   231.0        Kansas   \n",
              "\n",
              "               Salary  \n",
              "Team                   \n",
              "Utah Jazz   4775000.0  \n",
              "Utah Jazz   2658240.0  \n",
              "Utah Jazz   9463484.0  \n",
              "Utah Jazz   3777720.0  \n",
              "Utah Jazz  12000000.0  \n",
              "Utah Jazz   1175880.0  \n",
              "Utah Jazz  15409570.0  \n",
              "Utah Jazz   1348440.0  \n",
              "Utah Jazz   2050000.0  \n",
              "Utah Jazz    981348.0  \n",
              "Utah Jazz   2239800.0  \n",
              "Utah Jazz   2433333.0  \n",
              "Utah Jazz    900000.0  \n",
              "Utah Jazz   2900000.0  \n",
              "Utah Jazz    947276.0  "
            ]
          },
          "metadata": {},
          "execution_count": 75
        }
      ]
    },
    {
      "cell_type": "markdown",
      "source": [
        "## Rows & Columns addition"
      ],
      "metadata": {
        "id": "lNUykpznRM2n"
      }
    },
    {
      "cell_type": "code",
      "source": [
        "hobby = ['Philately', 'Music', 'Magic','Painting', 'Gardening']\n",
        "df['Passion'] = hobby\n",
        "df"
      ],
      "metadata": {
        "colab": {
          "base_uri": "https://localhost:8080/",
          "height": 206
        },
        "id": "iZDmjFMvRSy7",
        "outputId": "c165bd16-0a8a-4257-9eb5-35234529a811"
      },
      "execution_count": null,
      "outputs": [
        {
          "output_type": "execute_result",
          "data": {
            "text/html": [
              "<div>\n",
              "<style scoped>\n",
              "    .dataframe tbody tr th:only-of-type {\n",
              "        vertical-align: middle;\n",
              "    }\n",
              "\n",
              "    .dataframe tbody tr th {\n",
              "        vertical-align: top;\n",
              "    }\n",
              "\n",
              "    .dataframe thead th {\n",
              "        text-align: right;\n",
              "    }\n",
              "</style>\n",
              "<table border=\"1\" class=\"dataframe\">\n",
              "  <thead>\n",
              "    <tr style=\"text-align: right;\">\n",
              "      <th></th>\n",
              "      <th>Name</th>\n",
              "      <th>Age</th>\n",
              "      <th>Address</th>\n",
              "      <th>Qualification</th>\n",
              "      <th>Passion</th>\n",
              "    </tr>\n",
              "  </thead>\n",
              "  <tbody>\n",
              "    <tr>\n",
              "      <th>0</th>\n",
              "      <td>Saurav</td>\n",
              "      <td>25</td>\n",
              "      <td>Kolkata</td>\n",
              "      <td>BE</td>\n",
              "      <td>Philately</td>\n",
              "    </tr>\n",
              "    <tr>\n",
              "      <th>1</th>\n",
              "      <td>Gaurav</td>\n",
              "      <td>26</td>\n",
              "      <td>Goa</td>\n",
              "      <td>ME</td>\n",
              "      <td>Music</td>\n",
              "    </tr>\n",
              "    <tr>\n",
              "      <th>2</th>\n",
              "      <td>Sanchayan</td>\n",
              "      <td>31</td>\n",
              "      <td>Pune</td>\n",
              "      <td>BStat</td>\n",
              "      <td>Magic</td>\n",
              "    </tr>\n",
              "    <tr>\n",
              "      <th>3</th>\n",
              "      <td>Sudipta</td>\n",
              "      <td>28</td>\n",
              "      <td>Pune</td>\n",
              "      <td>BE</td>\n",
              "      <td>Painting</td>\n",
              "    </tr>\n",
              "    <tr>\n",
              "      <th>4</th>\n",
              "      <td>Ankan</td>\n",
              "      <td>39</td>\n",
              "      <td>Kolkata</td>\n",
              "      <td>MSc</td>\n",
              "      <td>Gardening</td>\n",
              "    </tr>\n",
              "  </tbody>\n",
              "</table>\n",
              "</div>"
            ],
            "text/plain": [
              "        Name  Age  Address Qualification    Passion\n",
              "0     Saurav   25  Kolkata            BE  Philately\n",
              "1     Gaurav   26      Goa            ME      Music\n",
              "2  Sanchayan   31     Pune         BStat      Magic\n",
              "3    Sudipta   28     Pune            BE   Painting\n",
              "4      Ankan   39  Kolkata           MSc  Gardening"
            ]
          },
          "metadata": {},
          "execution_count": 51
        }
      ]
    },
    {
      "cell_type": "code",
      "source": [
        "new_record = pd.DataFrame({'Name':'Soumik', 'Age' : 29, 'Address' : 'Pune', 'Qualification' : 'MStat'}, index=[0])\n",
        "new_record"
      ],
      "metadata": {
        "colab": {
          "base_uri": "https://localhost:8080/",
          "height": 81
        },
        "id": "EpxRoRpxTbjH",
        "outputId": "81485eda-9181-40cd-da34-0b8a90d9af53"
      },
      "execution_count": null,
      "outputs": [
        {
          "output_type": "execute_result",
          "data": {
            "text/html": [
              "<div>\n",
              "<style scoped>\n",
              "    .dataframe tbody tr th:only-of-type {\n",
              "        vertical-align: middle;\n",
              "    }\n",
              "\n",
              "    .dataframe tbody tr th {\n",
              "        vertical-align: top;\n",
              "    }\n",
              "\n",
              "    .dataframe thead th {\n",
              "        text-align: right;\n",
              "    }\n",
              "</style>\n",
              "<table border=\"1\" class=\"dataframe\">\n",
              "  <thead>\n",
              "    <tr style=\"text-align: right;\">\n",
              "      <th></th>\n",
              "      <th>Name</th>\n",
              "      <th>Age</th>\n",
              "      <th>Address</th>\n",
              "      <th>Qualification</th>\n",
              "    </tr>\n",
              "  </thead>\n",
              "  <tbody>\n",
              "    <tr>\n",
              "      <th>0</th>\n",
              "      <td>Soumik</td>\n",
              "      <td>29</td>\n",
              "      <td>Pune</td>\n",
              "      <td>MStat</td>\n",
              "    </tr>\n",
              "  </tbody>\n",
              "</table>\n",
              "</div>"
            ],
            "text/plain": [
              "     Name  Age Address Qualification\n",
              "0  Soumik   29    Pune         MStat"
            ]
          },
          "metadata": {},
          "execution_count": 62
        }
      ]
    },
    {
      "cell_type": "code",
      "source": [
        "pd.concat([df,new_record])"
      ],
      "metadata": {
        "colab": {
          "base_uri": "https://localhost:8080/",
          "height": 238
        },
        "id": "_H_JVXLWUBeg",
        "outputId": "78acd023-7e24-448b-b4f0-da41a7a0f6df"
      },
      "execution_count": null,
      "outputs": [
        {
          "output_type": "execute_result",
          "data": {
            "text/html": [
              "<div>\n",
              "<style scoped>\n",
              "    .dataframe tbody tr th:only-of-type {\n",
              "        vertical-align: middle;\n",
              "    }\n",
              "\n",
              "    .dataframe tbody tr th {\n",
              "        vertical-align: top;\n",
              "    }\n",
              "\n",
              "    .dataframe thead th {\n",
              "        text-align: right;\n",
              "    }\n",
              "</style>\n",
              "<table border=\"1\" class=\"dataframe\">\n",
              "  <thead>\n",
              "    <tr style=\"text-align: right;\">\n",
              "      <th></th>\n",
              "      <th>Name</th>\n",
              "      <th>Age</th>\n",
              "      <th>Address</th>\n",
              "      <th>Qualification</th>\n",
              "    </tr>\n",
              "  </thead>\n",
              "  <tbody>\n",
              "    <tr>\n",
              "      <th>0</th>\n",
              "      <td>Saurav</td>\n",
              "      <td>25</td>\n",
              "      <td>Kolkata</td>\n",
              "      <td>BE</td>\n",
              "    </tr>\n",
              "    <tr>\n",
              "      <th>1</th>\n",
              "      <td>Gaurav</td>\n",
              "      <td>26</td>\n",
              "      <td>Goa</td>\n",
              "      <td>ME</td>\n",
              "    </tr>\n",
              "    <tr>\n",
              "      <th>2</th>\n",
              "      <td>Sanchayan</td>\n",
              "      <td>31</td>\n",
              "      <td>Pune</td>\n",
              "      <td>BStat</td>\n",
              "    </tr>\n",
              "    <tr>\n",
              "      <th>3</th>\n",
              "      <td>Sudipta</td>\n",
              "      <td>28</td>\n",
              "      <td>Pune</td>\n",
              "      <td>BE</td>\n",
              "    </tr>\n",
              "    <tr>\n",
              "      <th>4</th>\n",
              "      <td>Ankan</td>\n",
              "      <td>39</td>\n",
              "      <td>Kolkata</td>\n",
              "      <td>MSc</td>\n",
              "    </tr>\n",
              "    <tr>\n",
              "      <th>0</th>\n",
              "      <td>Soumik</td>\n",
              "      <td>29</td>\n",
              "      <td>Pune</td>\n",
              "      <td>MStat</td>\n",
              "    </tr>\n",
              "  </tbody>\n",
              "</table>\n",
              "</div>"
            ],
            "text/plain": [
              "        Name  Age  Address Qualification\n",
              "0     Saurav   25  Kolkata            BE\n",
              "1     Gaurav   26      Goa            ME\n",
              "2  Sanchayan   31     Pune         BStat\n",
              "3    Sudipta   28     Pune            BE\n",
              "4      Ankan   39  Kolkata           MSc\n",
              "0     Soumik   29     Pune         MStat"
            ]
          },
          "metadata": {},
          "execution_count": 64
        }
      ]
    },
    {
      "cell_type": "markdown",
      "source": [
        "## Deleting rows and columns"
      ],
      "metadata": {
        "id": "imQZkepFR6DH"
      }
    },
    {
      "cell_type": "code",
      "source": [
        "df.drop(['Passion', 'Age'], axis = 1, inplace=True)"
      ],
      "metadata": {
        "id": "UfiuU8mcR-Vf"
      },
      "execution_count": null,
      "outputs": []
    },
    {
      "cell_type": "code",
      "source": [
        "df2.drop([\"Jae Crowder\"], inplace=True)"
      ],
      "metadata": {
        "id": "mPBxaevOSJfY"
      },
      "execution_count": null,
      "outputs": []
    },
    {
      "cell_type": "code",
      "source": [
        "df2"
      ],
      "metadata": {
        "colab": {
          "base_uri": "https://localhost:8080/",
          "height": 455
        },
        "id": "QD-ed8S_UwI1",
        "outputId": "212e837e-d147-498f-cc1f-c1549ffd4351"
      },
      "execution_count": null,
      "outputs": [
        {
          "output_type": "execute_result",
          "data": {
            "text/html": [
              "<div>\n",
              "<style scoped>\n",
              "    .dataframe tbody tr th:only-of-type {\n",
              "        vertical-align: middle;\n",
              "    }\n",
              "\n",
              "    .dataframe tbody tr th {\n",
              "        vertical-align: top;\n",
              "    }\n",
              "\n",
              "    .dataframe thead th {\n",
              "        text-align: right;\n",
              "    }\n",
              "</style>\n",
              "<table border=\"1\" class=\"dataframe\">\n",
              "  <thead>\n",
              "    <tr style=\"text-align: right;\">\n",
              "      <th></th>\n",
              "      <th>Team</th>\n",
              "      <th>Number</th>\n",
              "      <th>Position</th>\n",
              "      <th>Age</th>\n",
              "      <th>Height</th>\n",
              "      <th>Weight</th>\n",
              "      <th>College</th>\n",
              "      <th>Salary</th>\n",
              "    </tr>\n",
              "    <tr>\n",
              "      <th>Name</th>\n",
              "      <th></th>\n",
              "      <th></th>\n",
              "      <th></th>\n",
              "      <th></th>\n",
              "      <th></th>\n",
              "      <th></th>\n",
              "      <th></th>\n",
              "      <th></th>\n",
              "    </tr>\n",
              "  </thead>\n",
              "  <tbody>\n",
              "    <tr>\n",
              "      <th>Avery Bradley</th>\n",
              "      <td>Boston Celtics</td>\n",
              "      <td>0.0</td>\n",
              "      <td>PG</td>\n",
              "      <td>25.0</td>\n",
              "      <td>6-2</td>\n",
              "      <td>180.0</td>\n",
              "      <td>Texas</td>\n",
              "      <td>7730337.0</td>\n",
              "    </tr>\n",
              "    <tr>\n",
              "      <th>John Holland</th>\n",
              "      <td>Boston Celtics</td>\n",
              "      <td>30.0</td>\n",
              "      <td>SG</td>\n",
              "      <td>27.0</td>\n",
              "      <td>6-5</td>\n",
              "      <td>205.0</td>\n",
              "      <td>Boston University</td>\n",
              "      <td>NaN</td>\n",
              "    </tr>\n",
              "    <tr>\n",
              "      <th>R.J. Hunter</th>\n",
              "      <td>Boston Celtics</td>\n",
              "      <td>28.0</td>\n",
              "      <td>SG</td>\n",
              "      <td>22.0</td>\n",
              "      <td>6-5</td>\n",
              "      <td>185.0</td>\n",
              "      <td>Georgia State</td>\n",
              "      <td>1148640.0</td>\n",
              "    </tr>\n",
              "    <tr>\n",
              "      <th>Jonas Jerebko</th>\n",
              "      <td>Boston Celtics</td>\n",
              "      <td>8.0</td>\n",
              "      <td>PF</td>\n",
              "      <td>29.0</td>\n",
              "      <td>6-10</td>\n",
              "      <td>231.0</td>\n",
              "      <td>NaN</td>\n",
              "      <td>5000000.0</td>\n",
              "    </tr>\n",
              "    <tr>\n",
              "      <th>Amir Johnson</th>\n",
              "      <td>Boston Celtics</td>\n",
              "      <td>90.0</td>\n",
              "      <td>PF</td>\n",
              "      <td>29.0</td>\n",
              "      <td>6-9</td>\n",
              "      <td>240.0</td>\n",
              "      <td>NaN</td>\n",
              "      <td>12000000.0</td>\n",
              "    </tr>\n",
              "    <tr>\n",
              "      <th>...</th>\n",
              "      <td>...</td>\n",
              "      <td>...</td>\n",
              "      <td>...</td>\n",
              "      <td>...</td>\n",
              "      <td>...</td>\n",
              "      <td>...</td>\n",
              "      <td>...</td>\n",
              "      <td>...</td>\n",
              "    </tr>\n",
              "    <tr>\n",
              "      <th>Shelvin Mack</th>\n",
              "      <td>Utah Jazz</td>\n",
              "      <td>8.0</td>\n",
              "      <td>PG</td>\n",
              "      <td>26.0</td>\n",
              "      <td>6-3</td>\n",
              "      <td>203.0</td>\n",
              "      <td>Butler</td>\n",
              "      <td>2433333.0</td>\n",
              "    </tr>\n",
              "    <tr>\n",
              "      <th>Raul Neto</th>\n",
              "      <td>Utah Jazz</td>\n",
              "      <td>25.0</td>\n",
              "      <td>PG</td>\n",
              "      <td>24.0</td>\n",
              "      <td>6-1</td>\n",
              "      <td>179.0</td>\n",
              "      <td>NaN</td>\n",
              "      <td>900000.0</td>\n",
              "    </tr>\n",
              "    <tr>\n",
              "      <th>Tibor Pleiss</th>\n",
              "      <td>Utah Jazz</td>\n",
              "      <td>21.0</td>\n",
              "      <td>C</td>\n",
              "      <td>26.0</td>\n",
              "      <td>7-3</td>\n",
              "      <td>256.0</td>\n",
              "      <td>NaN</td>\n",
              "      <td>2900000.0</td>\n",
              "    </tr>\n",
              "    <tr>\n",
              "      <th>Jeff Withey</th>\n",
              "      <td>Utah Jazz</td>\n",
              "      <td>24.0</td>\n",
              "      <td>C</td>\n",
              "      <td>26.0</td>\n",
              "      <td>7-0</td>\n",
              "      <td>231.0</td>\n",
              "      <td>Kansas</td>\n",
              "      <td>947276.0</td>\n",
              "    </tr>\n",
              "    <tr>\n",
              "      <th>NaN</th>\n",
              "      <td>NaN</td>\n",
              "      <td>NaN</td>\n",
              "      <td>NaN</td>\n",
              "      <td>NaN</td>\n",
              "      <td>NaN</td>\n",
              "      <td>NaN</td>\n",
              "      <td>NaN</td>\n",
              "      <td>NaN</td>\n",
              "    </tr>\n",
              "  </tbody>\n",
              "</table>\n",
              "<p>457 rows × 8 columns</p>\n",
              "</div>"
            ],
            "text/plain": [
              "                         Team  Number Position   Age Height  Weight  \\\n",
              "Name                                                                  \n",
              "Avery Bradley  Boston Celtics     0.0       PG  25.0    6-2   180.0   \n",
              "John Holland   Boston Celtics    30.0       SG  27.0    6-5   205.0   \n",
              "R.J. Hunter    Boston Celtics    28.0       SG  22.0    6-5   185.0   \n",
              "Jonas Jerebko  Boston Celtics     8.0       PF  29.0   6-10   231.0   \n",
              "Amir Johnson   Boston Celtics    90.0       PF  29.0    6-9   240.0   \n",
              "...                       ...     ...      ...   ...    ...     ...   \n",
              "Shelvin Mack        Utah Jazz     8.0       PG  26.0    6-3   203.0   \n",
              "Raul Neto           Utah Jazz    25.0       PG  24.0    6-1   179.0   \n",
              "Tibor Pleiss        Utah Jazz    21.0        C  26.0    7-3   256.0   \n",
              "Jeff Withey         Utah Jazz    24.0        C  26.0    7-0   231.0   \n",
              "NaN                       NaN     NaN      NaN   NaN    NaN     NaN   \n",
              "\n",
              "                         College      Salary  \n",
              "Name                                          \n",
              "Avery Bradley              Texas   7730337.0  \n",
              "John Holland   Boston University         NaN  \n",
              "R.J. Hunter        Georgia State   1148640.0  \n",
              "Jonas Jerebko                NaN   5000000.0  \n",
              "Amir Johnson                 NaN  12000000.0  \n",
              "...                          ...         ...  \n",
              "Shelvin Mack              Butler   2433333.0  \n",
              "Raul Neto                    NaN    900000.0  \n",
              "Tibor Pleiss                 NaN   2900000.0  \n",
              "Jeff Withey               Kansas    947276.0  \n",
              "NaN                          NaN         NaN  \n",
              "\n",
              "[457 rows x 8 columns]"
            ]
          },
          "metadata": {},
          "execution_count": 71
        }
      ]
    },
    {
      "cell_type": "markdown",
      "source": [
        "# Filtering"
      ],
      "metadata": {
        "id": "yLi9BOEdcdOu"
      }
    },
    {
      "cell_type": "code",
      "source": [
        "data = {\n",
        "    'Name' : ['Saurav', 'Gaurav', 'Sanchayan', 'Sudipta', 'Ankan'],\n",
        "    'Age' : [25, 26, 31, 28, 39],\n",
        "    'Address' : ['Kolkata', 'Goa', 'Pune', 'Pune', 'Kolkata'],\n",
        "    'Qualification' : ['BE', 'ME', 'BStat', 'BE','MSc']\n",
        "}\n",
        "\n",
        "df = pd.DataFrame(data)\n",
        "df"
      ],
      "metadata": {
        "colab": {
          "base_uri": "https://localhost:8080/",
          "height": 206
        },
        "id": "s7RYVcKDc0bX",
        "outputId": "b124a1af-0687-401b-be38-5cf0a3fd1cf9"
      },
      "execution_count": null,
      "outputs": [
        {
          "output_type": "execute_result",
          "data": {
            "text/html": [
              "<div>\n",
              "<style scoped>\n",
              "    .dataframe tbody tr th:only-of-type {\n",
              "        vertical-align: middle;\n",
              "    }\n",
              "\n",
              "    .dataframe tbody tr th {\n",
              "        vertical-align: top;\n",
              "    }\n",
              "\n",
              "    .dataframe thead th {\n",
              "        text-align: right;\n",
              "    }\n",
              "</style>\n",
              "<table border=\"1\" class=\"dataframe\">\n",
              "  <thead>\n",
              "    <tr style=\"text-align: right;\">\n",
              "      <th></th>\n",
              "      <th>Name</th>\n",
              "      <th>Age</th>\n",
              "      <th>Address</th>\n",
              "      <th>Qualification</th>\n",
              "    </tr>\n",
              "  </thead>\n",
              "  <tbody>\n",
              "    <tr>\n",
              "      <th>0</th>\n",
              "      <td>Saurav</td>\n",
              "      <td>25</td>\n",
              "      <td>Kolkata</td>\n",
              "      <td>BE</td>\n",
              "    </tr>\n",
              "    <tr>\n",
              "      <th>1</th>\n",
              "      <td>Gaurav</td>\n",
              "      <td>26</td>\n",
              "      <td>Goa</td>\n",
              "      <td>ME</td>\n",
              "    </tr>\n",
              "    <tr>\n",
              "      <th>2</th>\n",
              "      <td>Sanchayan</td>\n",
              "      <td>31</td>\n",
              "      <td>Pune</td>\n",
              "      <td>BStat</td>\n",
              "    </tr>\n",
              "    <tr>\n",
              "      <th>3</th>\n",
              "      <td>Sudipta</td>\n",
              "      <td>28</td>\n",
              "      <td>Pune</td>\n",
              "      <td>BE</td>\n",
              "    </tr>\n",
              "    <tr>\n",
              "      <th>4</th>\n",
              "      <td>Ankan</td>\n",
              "      <td>39</td>\n",
              "      <td>Kolkata</td>\n",
              "      <td>MSc</td>\n",
              "    </tr>\n",
              "  </tbody>\n",
              "</table>\n",
              "</div>"
            ],
            "text/plain": [
              "        Name  Age  Address Qualification\n",
              "0     Saurav   25  Kolkata            BE\n",
              "1     Gaurav   26      Goa            ME\n",
              "2  Sanchayan   31     Pune         BStat\n",
              "3    Sudipta   28     Pune            BE\n",
              "4      Ankan   39  Kolkata           MSc"
            ]
          },
          "metadata": {},
          "execution_count": 118
        }
      ]
    },
    {
      "cell_type": "code",
      "source": [
        "df['Qualification']=='BE'"
      ],
      "metadata": {
        "colab": {
          "base_uri": "https://localhost:8080/"
        },
        "id": "iR5MT33oc9Kq",
        "outputId": "59876091-c19d-4ff4-84ab-61be9940e728"
      },
      "execution_count": null,
      "outputs": [
        {
          "output_type": "execute_result",
          "data": {
            "text/plain": [
              "0     True\n",
              "1    False\n",
              "2    False\n",
              "3     True\n",
              "4    False\n",
              "Name: Qualification, dtype: bool"
            ]
          },
          "metadata": {},
          "execution_count": 119
        }
      ]
    },
    {
      "cell_type": "code",
      "source": [
        "df[df['Qualification']=='BE']"
      ],
      "metadata": {
        "colab": {
          "base_uri": "https://localhost:8080/",
          "height": 112
        },
        "id": "2gq2IrwtdMHj",
        "outputId": "ddd25f5e-be67-45d9-b113-8c5a6ea5f03a"
      },
      "execution_count": null,
      "outputs": [
        {
          "output_type": "execute_result",
          "data": {
            "text/html": [
              "<div>\n",
              "<style scoped>\n",
              "    .dataframe tbody tr th:only-of-type {\n",
              "        vertical-align: middle;\n",
              "    }\n",
              "\n",
              "    .dataframe tbody tr th {\n",
              "        vertical-align: top;\n",
              "    }\n",
              "\n",
              "    .dataframe thead th {\n",
              "        text-align: right;\n",
              "    }\n",
              "</style>\n",
              "<table border=\"1\" class=\"dataframe\">\n",
              "  <thead>\n",
              "    <tr style=\"text-align: right;\">\n",
              "      <th></th>\n",
              "      <th>Name</th>\n",
              "      <th>Age</th>\n",
              "      <th>Address</th>\n",
              "      <th>Qualification</th>\n",
              "    </tr>\n",
              "  </thead>\n",
              "  <tbody>\n",
              "    <tr>\n",
              "      <th>0</th>\n",
              "      <td>Saurav</td>\n",
              "      <td>25</td>\n",
              "      <td>Kolkata</td>\n",
              "      <td>BE</td>\n",
              "    </tr>\n",
              "    <tr>\n",
              "      <th>3</th>\n",
              "      <td>Sudipta</td>\n",
              "      <td>28</td>\n",
              "      <td>Pune</td>\n",
              "      <td>BE</td>\n",
              "    </tr>\n",
              "  </tbody>\n",
              "</table>\n",
              "</div>"
            ],
            "text/plain": [
              "      Name  Age  Address Qualification\n",
              "0   Saurav   25  Kolkata            BE\n",
              "3  Sudipta   28     Pune            BE"
            ]
          },
          "metadata": {},
          "execution_count": 120
        }
      ]
    },
    {
      "cell_type": "code",
      "source": [
        "df[df['Age']<30]"
      ],
      "metadata": {
        "colab": {
          "base_uri": "https://localhost:8080/",
          "height": 143
        },
        "id": "KMFC_NzGdT6E",
        "outputId": "48cd672d-2c28-49fd-c710-a5386b4a9cc0"
      },
      "execution_count": null,
      "outputs": [
        {
          "output_type": "execute_result",
          "data": {
            "text/html": [
              "<div>\n",
              "<style scoped>\n",
              "    .dataframe tbody tr th:only-of-type {\n",
              "        vertical-align: middle;\n",
              "    }\n",
              "\n",
              "    .dataframe tbody tr th {\n",
              "        vertical-align: top;\n",
              "    }\n",
              "\n",
              "    .dataframe thead th {\n",
              "        text-align: right;\n",
              "    }\n",
              "</style>\n",
              "<table border=\"1\" class=\"dataframe\">\n",
              "  <thead>\n",
              "    <tr style=\"text-align: right;\">\n",
              "      <th></th>\n",
              "      <th>Name</th>\n",
              "      <th>Age</th>\n",
              "      <th>Address</th>\n",
              "      <th>Qualification</th>\n",
              "    </tr>\n",
              "  </thead>\n",
              "  <tbody>\n",
              "    <tr>\n",
              "      <th>0</th>\n",
              "      <td>Saurav</td>\n",
              "      <td>25</td>\n",
              "      <td>Kolkata</td>\n",
              "      <td>BE</td>\n",
              "    </tr>\n",
              "    <tr>\n",
              "      <th>1</th>\n",
              "      <td>Gaurav</td>\n",
              "      <td>26</td>\n",
              "      <td>Goa</td>\n",
              "      <td>ME</td>\n",
              "    </tr>\n",
              "    <tr>\n",
              "      <th>3</th>\n",
              "      <td>Sudipta</td>\n",
              "      <td>28</td>\n",
              "      <td>Pune</td>\n",
              "      <td>BE</td>\n",
              "    </tr>\n",
              "  </tbody>\n",
              "</table>\n",
              "</div>"
            ],
            "text/plain": [
              "      Name  Age  Address Qualification\n",
              "0   Saurav   25  Kolkata            BE\n",
              "1   Gaurav   26      Goa            ME\n",
              "3  Sudipta   28     Pune            BE"
            ]
          },
          "metadata": {},
          "execution_count": 121
        }
      ]
    },
    {
      "cell_type": "markdown",
      "source": [
        "## Grouping\n"
      ],
      "metadata": {
        "id": "FHDgmXkudeqd"
      }
    },
    {
      "cell_type": "code",
      "source": [
        "'''\n",
        "Dept wise total salary\n",
        "\n",
        "select department,designation, sum(salary)\n",
        "from department_table\n",
        "where salary > 50000\n",
        "group by department,designation\n",
        "having department in ('Physics', 'Chemistry')\n",
        "order by department, designation;\n",
        "\n",
        "Raw data >> Filter(where) >> Aggt (group by) >> Filter (having)\n",
        "'''\n",
        "grp = df.groupby('Address')\n",
        "print(df)\n",
        "print(df.groupby('Address').groups)\n",
        "\n",
        "for name, group in grp:\n",
        "  print(name)\n",
        "  print(group)\n",
        "  print()"
      ],
      "metadata": {
        "colab": {
          "base_uri": "https://localhost:8080/"
        },
        "id": "3BES9XVwd3GH",
        "outputId": "1b3d7b10-8b6e-48fc-d6ef-d59b8bfc0b72"
      },
      "execution_count": null,
      "outputs": [
        {
          "output_type": "stream",
          "name": "stdout",
          "text": [
            "        Name  Age  Address Qualification\n",
            "0     Saurav   25  Kolkata            BE\n",
            "1     Gaurav   26      Goa            ME\n",
            "2  Sanchayan   31     Pune         BStat\n",
            "3    Sudipta   28     Pune            BE\n",
            "4      Ankan   39  Kolkata           MSc\n",
            "{'Goa': [1], 'Kolkata': [0, 4], 'Pune': [2, 3]}\n",
            "Goa\n",
            "     Name  Age Address Qualification\n",
            "1  Gaurav   26     Goa            ME\n",
            "\n",
            "Kolkata\n",
            "     Name  Age  Address Qualification\n",
            "0  Saurav   25  Kolkata            BE\n",
            "4   Ankan   39  Kolkata           MSc\n",
            "\n",
            "Pune\n",
            "        Name  Age Address Qualification\n",
            "2  Sanchayan   31    Pune         BStat\n",
            "3    Sudipta   28    Pune            BE\n",
            "\n"
          ]
        }
      ]
    },
    {
      "cell_type": "code",
      "source": [
        "\n",
        "print(df)\n",
        "print(df.groupby(['Address','Qualification']).groups)"
      ],
      "metadata": {
        "colab": {
          "base_uri": "https://localhost:8080/"
        },
        "id": "qkfh-DrHfkti",
        "outputId": "09868633-0126-42b0-ec66-4daa18f5a94f"
      },
      "execution_count": null,
      "outputs": [
        {
          "output_type": "stream",
          "name": "stdout",
          "text": [
            "        Name  Age  Address Qualification\n",
            "0     Saurav   25  Kolkata            BE\n",
            "1     Gaurav   26      Goa            ME\n",
            "2  Sanchayan   31     Pune         BStat\n",
            "3    Sudipta   28     Pune            BE\n",
            "4      Ankan   39  Kolkata           MSc\n",
            "{('Goa', 'ME'): [1], ('Kolkata', 'BE'): [0], ('Kolkata', 'MSc'): [4], ('Pune', 'BE'): [3], ('Pune', 'BStat'): [2]}\n"
          ]
        }
      ]
    },
    {
      "cell_type": "code",
      "source": [
        "grp = df.groupby('Address')\n",
        "grp.first()"
      ],
      "metadata": {
        "colab": {
          "base_uri": "https://localhost:8080/",
          "height": 174
        },
        "id": "M-m6Yd8sfFdL",
        "outputId": "42200897-e0ec-4fda-c558-5e903d944b8b"
      },
      "execution_count": null,
      "outputs": [
        {
          "output_type": "execute_result",
          "data": {
            "text/html": [
              "<div>\n",
              "<style scoped>\n",
              "    .dataframe tbody tr th:only-of-type {\n",
              "        vertical-align: middle;\n",
              "    }\n",
              "\n",
              "    .dataframe tbody tr th {\n",
              "        vertical-align: top;\n",
              "    }\n",
              "\n",
              "    .dataframe thead th {\n",
              "        text-align: right;\n",
              "    }\n",
              "</style>\n",
              "<table border=\"1\" class=\"dataframe\">\n",
              "  <thead>\n",
              "    <tr style=\"text-align: right;\">\n",
              "      <th></th>\n",
              "      <th>Name</th>\n",
              "      <th>Age</th>\n",
              "      <th>Qualification</th>\n",
              "    </tr>\n",
              "    <tr>\n",
              "      <th>Address</th>\n",
              "      <th></th>\n",
              "      <th></th>\n",
              "      <th></th>\n",
              "    </tr>\n",
              "  </thead>\n",
              "  <tbody>\n",
              "    <tr>\n",
              "      <th>Goa</th>\n",
              "      <td>Gaurav</td>\n",
              "      <td>26</td>\n",
              "      <td>ME</td>\n",
              "    </tr>\n",
              "    <tr>\n",
              "      <th>Kolkata</th>\n",
              "      <td>Saurav</td>\n",
              "      <td>25</td>\n",
              "      <td>BE</td>\n",
              "    </tr>\n",
              "    <tr>\n",
              "      <th>Pune</th>\n",
              "      <td>Sanchayan</td>\n",
              "      <td>31</td>\n",
              "      <td>BStat</td>\n",
              "    </tr>\n",
              "  </tbody>\n",
              "</table>\n",
              "</div>"
            ],
            "text/plain": [
              "              Name  Age Qualification\n",
              "Address                              \n",
              "Goa         Gaurav   26            ME\n",
              "Kolkata     Saurav   25            BE\n",
              "Pune     Sanchayan   31         BStat"
            ]
          },
          "metadata": {},
          "execution_count": 124
        }
      ]
    },
    {
      "cell_type": "code",
      "source": [
        "df.groupby(['Address']).sum()"
      ],
      "metadata": {
        "colab": {
          "base_uri": "https://localhost:8080/",
          "height": 174
        },
        "id": "p87EY8syf17m",
        "outputId": "2b730e4a-df57-43bb-f63a-90e265333912"
      },
      "execution_count": null,
      "outputs": [
        {
          "output_type": "execute_result",
          "data": {
            "text/html": [
              "<div>\n",
              "<style scoped>\n",
              "    .dataframe tbody tr th:only-of-type {\n",
              "        vertical-align: middle;\n",
              "    }\n",
              "\n",
              "    .dataframe tbody tr th {\n",
              "        vertical-align: top;\n",
              "    }\n",
              "\n",
              "    .dataframe thead th {\n",
              "        text-align: right;\n",
              "    }\n",
              "</style>\n",
              "<table border=\"1\" class=\"dataframe\">\n",
              "  <thead>\n",
              "    <tr style=\"text-align: right;\">\n",
              "      <th></th>\n",
              "      <th>Age</th>\n",
              "    </tr>\n",
              "    <tr>\n",
              "      <th>Address</th>\n",
              "      <th></th>\n",
              "    </tr>\n",
              "  </thead>\n",
              "  <tbody>\n",
              "    <tr>\n",
              "      <th>Goa</th>\n",
              "      <td>26</td>\n",
              "    </tr>\n",
              "    <tr>\n",
              "      <th>Kolkata</th>\n",
              "      <td>64</td>\n",
              "    </tr>\n",
              "    <tr>\n",
              "      <th>Pune</th>\n",
              "      <td>59</td>\n",
              "    </tr>\n",
              "  </tbody>\n",
              "</table>\n",
              "</div>"
            ],
            "text/plain": [
              "         Age\n",
              "Address     \n",
              "Goa       26\n",
              "Kolkata   64\n",
              "Pune      59"
            ]
          },
          "metadata": {},
          "execution_count": 127
        }
      ]
    },
    {
      "cell_type": "code",
      "source": [
        "df.groupby(['Address'], sort=False).sum()"
      ],
      "metadata": {
        "colab": {
          "base_uri": "https://localhost:8080/",
          "height": 174
        },
        "id": "06Yl5RCLgg6j",
        "outputId": "a2cb4602-f43a-420d-c169-7d7fb7d02ea5"
      },
      "execution_count": null,
      "outputs": [
        {
          "output_type": "execute_result",
          "data": {
            "text/html": [
              "<div>\n",
              "<style scoped>\n",
              "    .dataframe tbody tr th:only-of-type {\n",
              "        vertical-align: middle;\n",
              "    }\n",
              "\n",
              "    .dataframe tbody tr th {\n",
              "        vertical-align: top;\n",
              "    }\n",
              "\n",
              "    .dataframe thead th {\n",
              "        text-align: right;\n",
              "    }\n",
              "</style>\n",
              "<table border=\"1\" class=\"dataframe\">\n",
              "  <thead>\n",
              "    <tr style=\"text-align: right;\">\n",
              "      <th></th>\n",
              "      <th>Age</th>\n",
              "    </tr>\n",
              "    <tr>\n",
              "      <th>Address</th>\n",
              "      <th></th>\n",
              "    </tr>\n",
              "  </thead>\n",
              "  <tbody>\n",
              "    <tr>\n",
              "      <th>Kolkata</th>\n",
              "      <td>64</td>\n",
              "    </tr>\n",
              "    <tr>\n",
              "      <th>Goa</th>\n",
              "      <td>26</td>\n",
              "    </tr>\n",
              "    <tr>\n",
              "      <th>Pune</th>\n",
              "      <td>59</td>\n",
              "    </tr>\n",
              "  </tbody>\n",
              "</table>\n",
              "</div>"
            ],
            "text/plain": [
              "         Age\n",
              "Address     \n",
              "Kolkata   64\n",
              "Goa       26\n",
              "Pune      59"
            ]
          },
          "metadata": {},
          "execution_count": 130
        }
      ]
    },
    {
      "cell_type": "code",
      "source": [
        "df2.groupby(['Team', 'College']).sum()"
      ],
      "metadata": {
        "colab": {
          "base_uri": "https://localhost:8080/",
          "height": 455
        },
        "id": "pcpp7MF6gHta",
        "outputId": "6f9e93f2-e1d4-41fa-d0a4-7baa713eda12"
      },
      "execution_count": null,
      "outputs": [
        {
          "output_type": "execute_result",
          "data": {
            "text/html": [
              "<div>\n",
              "<style scoped>\n",
              "    .dataframe tbody tr th:only-of-type {\n",
              "        vertical-align: middle;\n",
              "    }\n",
              "\n",
              "    .dataframe tbody tr th {\n",
              "        vertical-align: top;\n",
              "    }\n",
              "\n",
              "    .dataframe thead th {\n",
              "        text-align: right;\n",
              "    }\n",
              "</style>\n",
              "<table border=\"1\" class=\"dataframe\">\n",
              "  <thead>\n",
              "    <tr style=\"text-align: right;\">\n",
              "      <th></th>\n",
              "      <th></th>\n",
              "      <th>Number</th>\n",
              "      <th>Age</th>\n",
              "      <th>Weight</th>\n",
              "      <th>Salary</th>\n",
              "    </tr>\n",
              "    <tr>\n",
              "      <th>Team</th>\n",
              "      <th>College</th>\n",
              "      <th></th>\n",
              "      <th></th>\n",
              "      <th></th>\n",
              "      <th></th>\n",
              "    </tr>\n",
              "  </thead>\n",
              "  <tbody>\n",
              "    <tr>\n",
              "      <th rowspan=\"5\" valign=\"top\">Atlanta Hawks</th>\n",
              "      <th>Bucknell</th>\n",
              "      <td>31.0</td>\n",
              "      <td>24.0</td>\n",
              "      <td>240.0</td>\n",
              "      <td>947276.0</td>\n",
              "    </tr>\n",
              "    <tr>\n",
              "      <th>Creighton</th>\n",
              "      <td>26.0</td>\n",
              "      <td>35.0</td>\n",
              "      <td>212.0</td>\n",
              "      <td>5746479.0</td>\n",
              "    </tr>\n",
              "    <tr>\n",
              "      <th>Florida</th>\n",
              "      <td>15.0</td>\n",
              "      <td>30.0</td>\n",
              "      <td>245.0</td>\n",
              "      <td>12000000.0</td>\n",
              "    </tr>\n",
              "    <tr>\n",
              "      <th>Kansas</th>\n",
              "      <td>12.0</td>\n",
              "      <td>35.0</td>\n",
              "      <td>190.0</td>\n",
              "      <td>2854940.0</td>\n",
              "    </tr>\n",
              "    <tr>\n",
              "      <th>Louisiana Tech</th>\n",
              "      <td>4.0</td>\n",
              "      <td>31.0</td>\n",
              "      <td>246.0</td>\n",
              "      <td>18671659.0</td>\n",
              "    </tr>\n",
              "    <tr>\n",
              "      <th>...</th>\n",
              "      <th>...</th>\n",
              "      <td>...</td>\n",
              "      <td>...</td>\n",
              "      <td>...</td>\n",
              "      <td>...</td>\n",
              "    </tr>\n",
              "    <tr>\n",
              "      <th rowspan=\"5\" valign=\"top\">Washington Wizards</th>\n",
              "      <th>LSU</th>\n",
              "      <td>32.0</td>\n",
              "      <td>59.0</td>\n",
              "      <td>400.0</td>\n",
              "      <td>1301202.0</td>\n",
              "    </tr>\n",
              "    <tr>\n",
              "      <th>Michigan State</th>\n",
              "      <td>6.0</td>\n",
              "      <td>33.0</td>\n",
              "      <td>220.0</td>\n",
              "      <td>4000000.0</td>\n",
              "    </tr>\n",
              "    <tr>\n",
              "      <th>Nevada</th>\n",
              "      <td>7.0</td>\n",
              "      <td>30.0</td>\n",
              "      <td>190.0</td>\n",
              "      <td>2170465.0</td>\n",
              "    </tr>\n",
              "    <tr>\n",
              "      <th>North Carolina State</th>\n",
              "      <td>21.0</td>\n",
              "      <td>27.0</td>\n",
              "      <td>242.0</td>\n",
              "      <td>273038.0</td>\n",
              "    </tr>\n",
              "    <tr>\n",
              "      <th>Virginia Tech</th>\n",
              "      <td>8.0</td>\n",
              "      <td>24.0</td>\n",
              "      <td>218.0</td>\n",
              "      <td>561716.0</td>\n",
              "    </tr>\n",
              "  </tbody>\n",
              "</table>\n",
              "<p>336 rows × 4 columns</p>\n",
              "</div>"
            ],
            "text/plain": [
              "                                         Number   Age  Weight      Salary\n",
              "Team               College                                               \n",
              "Atlanta Hawks      Bucknell                31.0  24.0   240.0    947276.0\n",
              "                   Creighton               26.0  35.0   212.0   5746479.0\n",
              "                   Florida                 15.0  30.0   245.0  12000000.0\n",
              "                   Kansas                  12.0  35.0   190.0   2854940.0\n",
              "                   Louisiana Tech           4.0  31.0   246.0  18671659.0\n",
              "...                                         ...   ...     ...         ...\n",
              "Washington Wizards LSU                     32.0  59.0   400.0   1301202.0\n",
              "                   Michigan State           6.0  33.0   220.0   4000000.0\n",
              "                   Nevada                   7.0  30.0   190.0   2170465.0\n",
              "                   North Carolina State    21.0  27.0   242.0    273038.0\n",
              "                   Virginia Tech            8.0  24.0   218.0    561716.0\n",
              "\n",
              "[336 rows x 4 columns]"
            ]
          },
          "metadata": {},
          "execution_count": 129
        }
      ]
    }
  ]
}